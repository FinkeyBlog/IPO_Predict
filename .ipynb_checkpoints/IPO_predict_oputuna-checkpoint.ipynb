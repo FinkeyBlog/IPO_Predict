{
 "cells": [
  {
   "cell_type": "code",
   "execution_count": 57,
   "metadata": {
    "colab": {},
    "colab_type": "code",
    "id": "krUpPuTmJIei"
   },
   "outputs": [],
   "source": [
    "import pandas as pd\n",
    "import numpy as np\n",
    "import scipy\n",
    "import datetime\n",
    "import os\n",
    "import re\n",
    "import sys\n",
    "import matplotlib as mpl\n",
    "import matplotlib.pyplot as plt\n",
    "import japanize_matplotlib\n",
    "%matplotlib inline\n",
    "from sklearn.model_selection import train_test_split\n",
    "from sklearn.preprocessing import StandardScaler\n",
    "from sklearn.preprocessing import MinMaxScaler\n",
    "import lightgbm as lgb\n",
    "from sklearn.model_selection import train_test_split,StratifiedKFold\n",
    "from sklearn import metrics, preprocessing\n",
    "from datetime import datetime, date\n",
    "from collections import defaultdict\n",
    "import optuna\n",
    "import warnings\n",
    "from tqdm import tqdm\n",
    "if not sys.warnoptions:\n",
    "    warnings.simplefilter(\"ignore\") "
   ]
  },
  {
   "cell_type": "code",
   "execution_count": 4,
   "metadata": {
    "colab": {},
    "colab_type": "code",
    "id": "dHpW_B7dJNms"
   },
   "outputs": [
    {
     "name": "stderr",
     "output_type": "stream",
     "text": [
      "100%|██████████████████████████████████████████████████████████████████████████████████| 19/19 [00:07<00:00,  6.23it/s]\n"
     ]
    }
   ],
   "source": [
    "#96ut.comからIPOデータを取得(2001年から2019年、1794件)\n",
    "ipo_urls = ['https://96ut.com/ipo/list.php?year={}'.format(str(i)) for i in range(2001, 2020)]\n",
    "df_ipo = pd.DataFrame(columns = [\"code\",\"銘柄名\",\"主幹\",\"上場\",\"市場\",\"想定(仮条件)\",\"公募\",\"吸収金額\",\"評価\",\"初値\",\"(騰落率)損益\",\"現在値(差分)\"])\n",
    "for urls in tqdm(ipo_urls):\n",
    "    df_ipo = df_ipo.append(pd.read_html(urls))"
   ]
  },
  {
   "cell_type": "code",
   "execution_count": 5,
   "metadata": {
    "colab": {
     "base_uri": "https://localhost:8080/",
     "height": 235
    },
    "colab_type": "code",
    "id": "XngV5UDZJRxa",
    "outputId": "70c4cdc4-1f30-4949-d6d0-7a01ebf29157"
   },
   "outputs": [
    {
     "data": {
      "text/html": [
       "<div>\n",
       "<style scoped>\n",
       "    .dataframe tbody tr th:only-of-type {\n",
       "        vertical-align: middle;\n",
       "    }\n",
       "\n",
       "    .dataframe tbody tr th {\n",
       "        vertical-align: top;\n",
       "    }\n",
       "\n",
       "    .dataframe thead th {\n",
       "        text-align: right;\n",
       "    }\n",
       "</style>\n",
       "<table border=\"1\" class=\"dataframe\">\n",
       "  <thead>\n",
       "    <tr style=\"text-align: right;\">\n",
       "      <th></th>\n",
       "      <th>銘柄名</th>\n",
       "      <th>主幹</th>\n",
       "      <th>上場</th>\n",
       "      <th>市場</th>\n",
       "      <th>想定(仮条件)</th>\n",
       "      <th>公募</th>\n",
       "      <th>吸収金額</th>\n",
       "      <th>評価</th>\n",
       "      <th>初値</th>\n",
       "      <th>(騰落率)損益</th>\n",
       "      <th>現在値(差分)</th>\n",
       "    </tr>\n",
       "    <tr>\n",
       "      <th>code</th>\n",
       "      <th></th>\n",
       "      <th></th>\n",
       "      <th></th>\n",
       "      <th></th>\n",
       "      <th></th>\n",
       "      <th></th>\n",
       "      <th></th>\n",
       "      <th></th>\n",
       "      <th></th>\n",
       "      <th></th>\n",
       "      <th></th>\n",
       "    </tr>\n",
       "  </thead>\n",
       "  <tbody>\n",
       "    <tr>\n",
       "      <th>4334</th>\n",
       "      <td>ユークス</td>\n",
       "      <td>日興</td>\n",
       "      <td>12/21</td>\n",
       "      <td>NJS</td>\n",
       "      <td>-()</td>\n",
       "      <td>880</td>\n",
       "      <td>8.80億</td>\n",
       "      <td>-()</td>\n",
       "      <td>950</td>\n",
       "      <td>(+8.0%) +70,000円</td>\n",
       "      <td>315 分割 2倍 (-320)</td>\n",
       "    </tr>\n",
       "    <tr>\n",
       "      <th>8902</th>\n",
       "      <td>パシフィックホールディングス</td>\n",
       "      <td>野村</td>\n",
       "      <td>12/21</td>\n",
       "      <td>JQ</td>\n",
       "      <td>-()</td>\n",
       "      <td>250000</td>\n",
       "      <td>5.12億</td>\n",
       "      <td>-()</td>\n",
       "      <td>650000</td>\n",
       "      <td>(+160.0%) +400,000円</td>\n",
       "      <td>95 (-649,905)</td>\n",
       "    </tr>\n",
       "    <tr>\n",
       "      <th>6738</th>\n",
       "      <td>東研</td>\n",
       "      <td>みずほ</td>\n",
       "      <td>12/21</td>\n",
       "      <td>JQ</td>\n",
       "      <td>-()</td>\n",
       "      <td>600</td>\n",
       "      <td>5.10億</td>\n",
       "      <td>-()</td>\n",
       "      <td>650</td>\n",
       "      <td>(+8.3%) +50,000円</td>\n",
       "      <td>-</td>\n",
       "    </tr>\n",
       "    <tr>\n",
       "      <th>9447</th>\n",
       "      <td>丸紅テレコム</td>\n",
       "      <td>日興</td>\n",
       "      <td>12/20</td>\n",
       "      <td>東2</td>\n",
       "      <td>-()</td>\n",
       "      <td>93000</td>\n",
       "      <td>19.5億</td>\n",
       "      <td>-()</td>\n",
       "      <td>66500</td>\n",
       "      <td>(-28.5%) -26,500円</td>\n",
       "      <td>-</td>\n",
       "    </tr>\n",
       "    <tr>\n",
       "      <th>4335</th>\n",
       "      <td>アイ・ピー・エス</td>\n",
       "      <td>三菱</td>\n",
       "      <td>12/20</td>\n",
       "      <td>JQ</td>\n",
       "      <td>-()</td>\n",
       "      <td>360000</td>\n",
       "      <td>2.16億</td>\n",
       "      <td>-()</td>\n",
       "      <td>1350000</td>\n",
       "      <td>(+275.0%) +990,000円</td>\n",
       "      <td>591 分割 500倍 (-1,054,500)</td>\n",
       "    </tr>\n",
       "  </tbody>\n",
       "</table>\n",
       "</div>"
      ],
      "text/plain": [
       "                 銘柄名   主幹     上場   市場 想定(仮条件)      公募   吸収金額   評価       初値  \\\n",
       "code                                                                         \n",
       "4334            ユークス   日興  12/21  NJS     -()     880  8.80億  -()      950   \n",
       "8902  パシフィックホールディングス   野村  12/21   JQ     -()  250000  5.12億  -()   650000   \n",
       "6738              東研  みずほ  12/21   JQ     -()     600  5.10億  -()      650   \n",
       "9447          丸紅テレコム   日興  12/20   東2     -()   93000  19.5億  -()    66500   \n",
       "4335        アイ・ピー・エス   三菱  12/20   JQ     -()  360000  2.16億  -()  1350000   \n",
       "\n",
       "                  (騰落率)損益                   現在値(差分)  \n",
       "code                                                 \n",
       "4334     (+8.0%) +70,000円          315 分割 2倍 (-320)  \n",
       "8902  (+160.0%) +400,000円             95 (-649,905)  \n",
       "6738     (+8.3%) +50,000円                         -  \n",
       "9447    (-28.5%) -26,500円                         -  \n",
       "4335  (+275.0%) +990,000円  591 分割 500倍 (-1,054,500)  "
      ]
     },
     "execution_count": 5,
     "metadata": {},
     "output_type": "execute_result"
    }
   ],
   "source": [
    "#indexを銘柄コードに\n",
    "df_ipo = df_ipo.set_index('code')\n",
    "#確認\n",
    "df_ipo.head()"
   ]
  },
  {
   "cell_type": "code",
   "execution_count": 6,
   "metadata": {
    "colab": {
     "base_uri": "https://localhost:8080/",
     "height": 1071
    },
    "colab_type": "code",
    "id": "S_Fo_B4uJU1t",
    "outputId": "5c7902f6-ef0d-41c7-e685-2c628ad60c4a"
   },
   "outputs": [],
   "source": [
    "#幹事\n",
    "#lead = df_ipo['主幹'].value_counts()\n",
    "#print(lead)"
   ]
  },
  {
   "cell_type": "code",
   "execution_count": 7,
   "metadata": {
    "colab": {
     "base_uri": "https://localhost:8080/",
     "height": 204
    },
    "colab_type": "code",
    "id": "qZ3Ye3UDJWxd",
    "outputId": "11344f77-5d70-4ce4-eab9-7aedca2ff9ff"
   },
   "outputs": [],
   "source": [
    "#主幹事が多いほど期待が大きい⇒主幹事数のカラム追加\n",
    "#print(df_ipo.query('主幹 == \"野村 三菱 大和 みずほ 日興 岡三 東海東京\"'))"
   ]
  },
  {
   "cell_type": "code",
   "execution_count": 8,
   "metadata": {
    "colab": {
     "base_uri": "https://localhost:8080/",
     "height": 238
    },
    "colab_type": "code",
    "id": "Eym2kW7JJYct",
    "outputId": "db923e6d-fd07-479b-edac-00c47e820339"
   },
   "outputs": [],
   "source": [
    "#上場日\n",
    "#listed_month = df_ipo['上場'].str[:2].value_counts()\n",
    "#print(listed_month)"
   ]
  },
  {
   "cell_type": "code",
   "execution_count": 9,
   "metadata": {
    "colab": {
     "base_uri": "https://localhost:8080/",
     "height": 286
    },
    "colab_type": "code",
    "id": "F4WT9JnfJaEd",
    "outputId": "1c75be02-4cfe-4ae3-d810-44bfb4b7345b"
   },
   "outputs": [],
   "source": [
    "#plt.plot(listed_month.sort_index())"
   ]
  },
  {
   "cell_type": "code",
   "execution_count": 10,
   "metadata": {
    "colab": {
     "base_uri": "https://localhost:8080/",
     "height": 391
    },
    "colab_type": "code",
    "id": "pehQoMfoJcFs",
    "outputId": "51c617f0-d588-407e-b260-d4140f90d3e8"
   },
   "outputs": [],
   "source": [
    "#市場⇒東１以下はまとめていいかな\n",
    "#market = df_ipo['市場'].value_counts()\n",
    "#print(market)"
   ]
  },
  {
   "cell_type": "code",
   "execution_count": 11,
   "metadata": {
    "colab": {
     "base_uri": "https://localhost:8080/",
     "height": 1071
    },
    "colab_type": "code",
    "id": "8Ko_9nXnJdoL",
    "outputId": "8b996add-2852-42f9-b228-d3189ff2f5d7"
   },
   "outputs": [],
   "source": [
    "#想定(仮条件)⇒要加工\n",
    "#tentatively = df_ipo['想定(仮条件)'].value_counts()\n",
    "#print(tentatively)"
   ]
  },
  {
   "cell_type": "code",
   "execution_count": 12,
   "metadata": {
    "colab": {
     "base_uri": "https://localhost:8080/",
     "height": 1071
    },
    "colab_type": "code",
    "id": "Fwf4D1SLJe6B",
    "outputId": "d4fb27f4-28cf-4628-dc95-c923b47992b8"
   },
   "outputs": [],
   "source": [
    "#公募\n",
    "#public = df_ipo['公募'].value_counts()\n",
    "#print(public)"
   ]
  },
  {
   "cell_type": "code",
   "execution_count": 13,
   "metadata": {
    "colab": {
     "base_uri": "https://localhost:8080/",
     "height": 1071
    },
    "colab_type": "code",
    "id": "ge3WqzmbJgMQ",
    "outputId": "7683c82a-4a09-4e5f-de3c-61c7f69269da"
   },
   "outputs": [],
   "source": [
    "#吸収金額\n",
    "#absorption = df_ipo['吸収金額'].str.strip('億').value_counts()\n",
    "#print(absorption)"
   ]
  },
  {
   "cell_type": "code",
   "execution_count": 14,
   "metadata": {
    "colab": {
     "base_uri": "https://localhost:8080/",
     "height": 221
    },
    "colab_type": "code",
    "id": "V3nw2xGPJiAB",
    "outputId": "5d179918-4faa-4ae6-c27d-983f0f6fc1e8"
   },
   "outputs": [],
   "source": [
    "#評価\n",
    "#evaluation = df_ipo['評価'].value_counts()\n",
    "#print(evaluation)"
   ]
  },
  {
   "cell_type": "code",
   "execution_count": 15,
   "metadata": {
    "colab": {
     "base_uri": "https://localhost:8080/",
     "height": 1071
    },
    "colab_type": "code",
    "id": "aalfxyafJjag",
    "outputId": "2158b77d-beda-4d75-d174-abfb2ea7f27a"
   },
   "outputs": [],
   "source": [
    "#初値⇒-になっているものは除く\n",
    "#opening = df_ipo['初値'].value_counts()\n",
    "#print(opening)"
   ]
  },
  {
   "cell_type": "code",
   "execution_count": 16,
   "metadata": {
    "colab": {
     "base_uri": "https://localhost:8080/",
     "height": 1071
    },
    "colab_type": "code",
    "id": "k-Y5UcE5Jkvf",
    "outputId": "6ac17998-adc2-424e-caf6-0a0f4dbed98a"
   },
   "outputs": [],
   "source": [
    "#損益⇒加工めんどいし初値を公募価格で割ればいいか\n",
    "#pl = df_ipo['(騰落率)損益'].value_counts()\n",
    "#print(pl)"
   ]
  },
  {
   "cell_type": "code",
   "execution_count": 17,
   "metadata": {
    "colab": {},
    "colab_type": "code",
    "id": "S6XF5v4GJmgP"
   },
   "outputs": [],
   "source": [
    "#データ加工\n",
    "#'(騰落率)損益', '現在値(差分)'を削除\n",
    "dataset = df_ipo.drop(columns=['(騰落率)損益', '現在値(差分)','銘柄名'])"
   ]
  },
  {
   "cell_type": "code",
   "execution_count": 18,
   "metadata": {
    "colab": {},
    "colab_type": "code",
    "id": "UEu6XRoEJyHv"
   },
   "outputs": [],
   "source": [
    "#初値が-になっているものを削除\n",
    "dataset = dataset[dataset[\"初値\"] != \"-\"]"
   ]
  },
  {
   "cell_type": "code",
   "execution_count": 19,
   "metadata": {
    "colab": {},
    "colab_type": "code",
    "id": "F1_sRTqDJzdC"
   },
   "outputs": [],
   "source": [
    "#主幹事数のカラムを追加\n",
    "def count_lead_secretary(x):\n",
    "    y = int(str(x).count(\" \"))+1\n",
    "    return y"
   ]
  },
  {
   "cell_type": "code",
   "execution_count": 21,
   "metadata": {
    "colab": {},
    "colab_type": "code",
    "id": "uppStimMJ1ci"
   },
   "outputs": [],
   "source": [
    "#主幹事数のカラムを追加\n",
    "dataset[\"主幹事数\"] = dataset['主幹'].apply(count_lead_secretary)\n",
    "dataset= dataset.drop(\"主幹\",axis=1)"
   ]
  },
  {
   "cell_type": "code",
   "execution_count": 22,
   "metadata": {
    "colab": {},
    "colab_type": "code",
    "id": "ICnjfuAiJ4VP"
   },
   "outputs": [],
   "source": [
    "#上場月カラム追加\n",
    "dataset[\"上場月\"] = dataset['上場'].str[:2]\n",
    "dataset = dataset.drop(\"上場\",axis=1)"
   ]
  },
  {
   "cell_type": "code",
   "execution_count": 23,
   "metadata": {
    "colab": {},
    "colab_type": "code",
    "id": "xkUMWUfhJ5_B"
   },
   "outputs": [],
   "source": [
    "#市場をまとめる\n",
    "def func_cate(x):\n",
    "    if x == \"東M\":\n",
    "        return x\n",
    "    elif x == \"JQ\":\n",
    "        return x\n",
    "    elif x == \"東2\":\n",
    "        return x\n",
    "    elif x == \"JQS\":\n",
    "        return x\n",
    "    elif x == \"東1\":\n",
    "        return x\n",
    "    else:\n",
    "        return 'その他'\n",
    "\n",
    "dataset['市場'] =dataset['市場'].apply(func_cate)"
   ]
  },
  {
   "cell_type": "code",
   "execution_count": 24,
   "metadata": {
    "colab": {},
    "colab_type": "code",
    "id": "Nwpx_useJ9Hm"
   },
   "outputs": [],
   "source": [
    "#仮条件を抽出\n",
    "dataset = pd.concat([dataset, dataset['想定(仮条件)'].apply(lambda st: st[st.find(\"(\")+1:st.find(\")\")]).str.split('-', expand=True)], axis=1).drop('想定(仮条件)', axis=1)"
   ]
  },
  {
   "cell_type": "code",
   "execution_count": 25,
   "metadata": {
    "colab": {},
    "colab_type": "code",
    "id": "Cng-VtZiJ-9C"
   },
   "outputs": [],
   "source": [
    "dataset.rename(columns={0: '仮条件下限', 1: '仮条件上限'}, inplace=True)\n",
    "dataset=dataset.dropna()"
   ]
  },
  {
   "cell_type": "code",
   "execution_count": 26,
   "metadata": {
    "colab": {},
    "colab_type": "code",
    "id": "9ZbpWFeOKAhF"
   },
   "outputs": [],
   "source": [
    "dataset[\"仮条件下限\"] = dataset[\"仮条件下限\"].str.replace('k', '000')\n",
    "dataset[\"仮条件下限\"] = dataset[\"仮条件下限\"].apply(lambda x: int(x.replace(\",\", \"\")) if type(x) is str else int(x))\n",
    "dataset[\"仮条件上限\"] = dataset[\"仮条件上限\"].str.replace('k', '000')\n",
    "dataset[\"仮条件上限\"] = dataset[\"仮条件上限\"].apply(lambda x: int(x.replace(\",\", \"\")) if type(x) is str else int(x))"
   ]
  },
  {
   "cell_type": "code",
   "execution_count": 27,
   "metadata": {
    "colab": {},
    "colab_type": "code",
    "id": "ce234amDKCOk"
   },
   "outputs": [],
   "source": [
    "dataset[\"仮条件幅\"] = dataset[\"仮条件上限\"] - dataset[\"仮条件下限\"]"
   ]
  },
  {
   "cell_type": "code",
   "execution_count": 28,
   "metadata": {
    "colab": {},
    "colab_type": "code",
    "id": "O9q3sYAnKD_1"
   },
   "outputs": [],
   "source": [
    "#公募をintに\n",
    "dataset['公募'] = dataset['公募'].astype(int)"
   ]
  },
  {
   "cell_type": "code",
   "execution_count": 29,
   "metadata": {
    "colab": {},
    "colab_type": "code",
    "id": "ADBSfQSoKFQU"
   },
   "outputs": [],
   "source": [
    "#吸収金額をfloatに\n",
    "dataset['吸収金額'] = dataset['吸収金額'].str.strip('億').astype(float)"
   ]
  },
  {
   "cell_type": "code",
   "execution_count": 30,
   "metadata": {
    "colab": {},
    "colab_type": "code",
    "id": "36APYpzAKG3X"
   },
   "outputs": [],
   "source": [
    "#初値をintに\n",
    "dataset[\"初値\"] = dataset[\"初値\"].astype(int)"
   ]
  },
  {
   "cell_type": "code",
   "execution_count": 31,
   "metadata": {
    "colab": {},
    "colab_type": "code",
    "id": "YykjFidzKIKE"
   },
   "outputs": [],
   "source": [
    "#上場市場評価をone hot encoding\n",
    "#dataset = pd.get_dummies(dataset, drop_first=True,columns=[\"上場月\",\"市場\",\"評価\"])\n",
    "#カテゴリに指定\n",
    "cate_cols = [\"上場月\",\"市場\",\"評価\"]"
   ]
  },
  {
   "cell_type": "code",
   "execution_count": 32,
   "metadata": {},
   "outputs": [
    {
     "data": {
      "text/html": [
       "<div>\n",
       "<style scoped>\n",
       "    .dataframe tbody tr th:only-of-type {\n",
       "        vertical-align: middle;\n",
       "    }\n",
       "\n",
       "    .dataframe tbody tr th {\n",
       "        vertical-align: top;\n",
       "    }\n",
       "\n",
       "    .dataframe thead th {\n",
       "        text-align: right;\n",
       "    }\n",
       "</style>\n",
       "<table border=\"1\" class=\"dataframe\">\n",
       "  <thead>\n",
       "    <tr style=\"text-align: right;\">\n",
       "      <th></th>\n",
       "      <th>市場</th>\n",
       "      <th>公募</th>\n",
       "      <th>吸収金額</th>\n",
       "      <th>評価</th>\n",
       "      <th>初値</th>\n",
       "      <th>主幹事数</th>\n",
       "      <th>上場月</th>\n",
       "      <th>仮条件下限</th>\n",
       "      <th>仮条件上限</th>\n",
       "      <th>仮条件幅</th>\n",
       "    </tr>\n",
       "    <tr>\n",
       "      <th>code</th>\n",
       "      <th></th>\n",
       "      <th></th>\n",
       "      <th></th>\n",
       "      <th></th>\n",
       "      <th></th>\n",
       "      <th></th>\n",
       "      <th></th>\n",
       "      <th></th>\n",
       "      <th></th>\n",
       "      <th></th>\n",
       "    </tr>\n",
       "  </thead>\n",
       "  <tbody>\n",
       "    <tr>\n",
       "      <th>8952</th>\n",
       "      <td>2</td>\n",
       "      <td>525000</td>\n",
       "      <td>840.0</td>\n",
       "      <td>0</td>\n",
       "      <td>535000</td>\n",
       "      <td>1</td>\n",
       "      <td>8</td>\n",
       "      <td>475000</td>\n",
       "      <td>525000</td>\n",
       "      <td>50000</td>\n",
       "    </tr>\n",
       "    <tr>\n",
       "      <th>8951</th>\n",
       "      <td>2</td>\n",
       "      <td>625000</td>\n",
       "      <td>625.0</td>\n",
       "      <td>0</td>\n",
       "      <td>625000</td>\n",
       "      <td>1</td>\n",
       "      <td>8</td>\n",
       "      <td>550000</td>\n",
       "      <td>625000</td>\n",
       "      <td>75000</td>\n",
       "    </tr>\n",
       "    <tr>\n",
       "      <th>2347</th>\n",
       "      <td>5</td>\n",
       "      <td>170000</td>\n",
       "      <td>5.1</td>\n",
       "      <td>0</td>\n",
       "      <td>170000</td>\n",
       "      <td>1</td>\n",
       "      <td>11</td>\n",
       "      <td>140000</td>\n",
       "      <td>170000</td>\n",
       "      <td>30000</td>\n",
       "    </tr>\n",
       "    <tr>\n",
       "      <th>2756</th>\n",
       "      <td>0</td>\n",
       "      <td>400</td>\n",
       "      <td>3.2</td>\n",
       "      <td>0</td>\n",
       "      <td>450</td>\n",
       "      <td>1</td>\n",
       "      <td>11</td>\n",
       "      <td>400</td>\n",
       "      <td>500</td>\n",
       "      <td>100</td>\n",
       "    </tr>\n",
       "    <tr>\n",
       "      <th>8910</th>\n",
       "      <td>0</td>\n",
       "      <td>130000</td>\n",
       "      <td>2.8</td>\n",
       "      <td>0</td>\n",
       "      <td>138000</td>\n",
       "      <td>1</td>\n",
       "      <td>11</td>\n",
       "      <td>120000</td>\n",
       "      <td>150000</td>\n",
       "      <td>30000</td>\n",
       "    </tr>\n",
       "  </tbody>\n",
       "</table>\n",
       "</div>"
      ],
      "text/plain": [
       "     市場      公募   吸収金額 評価      初値  主幹事数 上場月   仮条件下限   仮条件上限   仮条件幅\n",
       "code                                                              \n",
       "8952  2  525000  840.0  0  535000     1   8  475000  525000  50000\n",
       "8951  2  625000  625.0  0  625000     1   8  550000  625000  75000\n",
       "2347  5  170000    5.1  0  170000     1  11  140000  170000  30000\n",
       "2756  0     400    3.2  0     450     1  11     400     500    100\n",
       "8910  0  130000    2.8  0  138000     1  11  120000  150000  30000"
      ]
     },
     "execution_count": 32,
     "metadata": {},
     "output_type": "execute_result"
    }
   ],
   "source": [
    "#カテゴリに変換\n",
    "for column in cate_cols:\n",
    "    le = preprocessing.LabelEncoder()\n",
    "    le.fit(dataset[column])\n",
    "    dataset[column] = le.transform(dataset[column])\n",
    "    dataset[column] = dataset[column].astype('category')\n",
    "    \n",
    "dataset.head()"
   ]
  },
  {
   "cell_type": "code",
   "execution_count": 33,
   "metadata": {
    "colab": {},
    "colab_type": "code",
    "id": "qfrCmQfPKJnE"
   },
   "outputs": [],
   "source": [
    "#危険シグナルラベルを作る\n",
    "def kiken_label(x):\n",
    "    if  x > 0:\n",
    "        return 0\n",
    "    else:\n",
    "        return 1\n",
    "\n",
    "dataset[\"危険シグナル\"] = dataset[\"初値\"] - dataset[\"公募\"]\n",
    "dataset[\"危険シグナル\"] = dataset[\"危険シグナル\"].apply(kiken_label)\n",
    "dataset = dataset.drop(columns=['初値'])"
   ]
  },
  {
   "cell_type": "code",
   "execution_count": 34,
   "metadata": {},
   "outputs": [],
   "source": [
    "#特徴量追加\n",
    "dataset[\"公募-仮上限\"] = dataset['公募'] - dataset[\"仮条件上限\"]\n",
    "dataset[\"株数\"] = dataset['吸収金額'] / dataset[\"公募\"] * 100000000"
   ]
  },
  {
   "cell_type": "code",
   "execution_count": 39,
   "metadata": {},
   "outputs": [
    {
     "data": {
      "text/plain": [
       "0.1827262044653349"
      ]
     },
     "execution_count": 39,
     "metadata": {},
     "output_type": "execute_result"
    }
   ],
   "source": [
    "# 18%はけ危険銘柄\n",
    "sum(dataset[\"危険シグナル\"])/len(dataset)"
   ]
  },
  {
   "cell_type": "code",
   "execution_count": 35,
   "metadata": {
    "colab": {},
    "colab_type": "code",
    "id": "iaFvjpYdKLPo"
   },
   "outputs": [],
   "source": [
    "#target\n",
    "\n",
    "train = dataset[:1200]\n",
    "test = dataset[1200:]"
   ]
  },
  {
   "cell_type": "code",
   "execution_count": 36,
   "metadata": {},
   "outputs": [
    {
     "data": {
      "text/html": [
       "<div>\n",
       "<style scoped>\n",
       "    .dataframe tbody tr th:only-of-type {\n",
       "        vertical-align: middle;\n",
       "    }\n",
       "\n",
       "    .dataframe tbody tr th {\n",
       "        vertical-align: top;\n",
       "    }\n",
       "\n",
       "    .dataframe thead th {\n",
       "        text-align: right;\n",
       "    }\n",
       "</style>\n",
       "<table border=\"1\" class=\"dataframe\">\n",
       "  <thead>\n",
       "    <tr style=\"text-align: right;\">\n",
       "      <th></th>\n",
       "      <th>公募</th>\n",
       "      <th>吸収金額</th>\n",
       "      <th>主幹事数</th>\n",
       "      <th>仮条件下限</th>\n",
       "      <th>仮条件上限</th>\n",
       "      <th>仮条件幅</th>\n",
       "      <th>危険シグナル</th>\n",
       "      <th>公募-仮上限</th>\n",
       "      <th>株数</th>\n",
       "    </tr>\n",
       "  </thead>\n",
       "  <tbody>\n",
       "    <tr>\n",
       "      <th>count</th>\n",
       "      <td>1.200000e+03</td>\n",
       "      <td>1200.000000</td>\n",
       "      <td>1200.000000</td>\n",
       "      <td>1.200000e+03</td>\n",
       "      <td>1.200000e+03</td>\n",
       "      <td>1200.000000</td>\n",
       "      <td>1200.000000</td>\n",
       "      <td>1200.00000</td>\n",
       "      <td>1.200000e+03</td>\n",
       "    </tr>\n",
       "    <tr>\n",
       "      <th>mean</th>\n",
       "      <td>1.863843e+05</td>\n",
       "      <td>89.404800</td>\n",
       "      <td>1.026667</td>\n",
       "      <td>1.630668e+05</td>\n",
       "      <td>1.872616e+05</td>\n",
       "      <td>24194.741667</td>\n",
       "      <td>0.190833</td>\n",
       "      <td>-877.25000</td>\n",
       "      <td>2.685885e+06</td>\n",
       "    </tr>\n",
       "    <tr>\n",
       "      <th>std</th>\n",
       "      <td>2.865237e+05</td>\n",
       "      <td>444.272784</td>\n",
       "      <td>0.214462</td>\n",
       "      <td>2.492726e+05</td>\n",
       "      <td>2.873476e+05</td>\n",
       "      <td>43916.824933</td>\n",
       "      <td>0.393122</td>\n",
       "      <td>12259.32181</td>\n",
       "      <td>2.232220e+07</td>\n",
       "    </tr>\n",
       "    <tr>\n",
       "      <th>min</th>\n",
       "      <td>9.000000e+01</td>\n",
       "      <td>0.560000</td>\n",
       "      <td>1.000000</td>\n",
       "      <td>9.000000e+01</td>\n",
       "      <td>0.000000e+00</td>\n",
       "      <td>-240000.000000</td>\n",
       "      <td>0.000000</td>\n",
       "      <td>-150000.00000</td>\n",
       "      <td>6.000000e+02</td>\n",
       "    </tr>\n",
       "    <tr>\n",
       "      <th>25%</th>\n",
       "      <td>1.457500e+03</td>\n",
       "      <td>6.000000</td>\n",
       "      <td>1.000000</td>\n",
       "      <td>1.300000e+03</td>\n",
       "      <td>1.450000e+03</td>\n",
       "      <td>150.000000</td>\n",
       "      <td>0.000000</td>\n",
       "      <td>0.00000</td>\n",
       "      <td>3.500000e+03</td>\n",
       "    </tr>\n",
       "    <tr>\n",
       "      <th>50%</th>\n",
       "      <td>3.900000e+04</td>\n",
       "      <td>11.850000</td>\n",
       "      <td>1.000000</td>\n",
       "      <td>3.300000e+04</td>\n",
       "      <td>3.550000e+04</td>\n",
       "      <td>3000.000000</td>\n",
       "      <td>0.000000</td>\n",
       "      <td>0.00000</td>\n",
       "      <td>1.314011e+05</td>\n",
       "    </tr>\n",
       "    <tr>\n",
       "      <th>75%</th>\n",
       "      <td>2.925000e+05</td>\n",
       "      <td>28.400000</td>\n",
       "      <td>1.000000</td>\n",
       "      <td>2.500000e+05</td>\n",
       "      <td>3.000000e+05</td>\n",
       "      <td>35000.000000</td>\n",
       "      <td>0.000000</td>\n",
       "      <td>0.00000</td>\n",
       "      <td>1.001269e+06</td>\n",
       "    </tr>\n",
       "    <tr>\n",
       "      <th>max</th>\n",
       "      <td>3.300000e+06</td>\n",
       "      <td>10088.000000</td>\n",
       "      <td>5.000000</td>\n",
       "      <td>2.900000e+06</td>\n",
       "      <td>3.300000e+06</td>\n",
       "      <td>500000.000000</td>\n",
       "      <td>1.000000</td>\n",
       "      <td>280000.00000</td>\n",
       "      <td>6.664912e+08</td>\n",
       "    </tr>\n",
       "  </tbody>\n",
       "</table>\n",
       "</div>"
      ],
      "text/plain": [
       "                 公募          吸収金額         主幹事数         仮条件下限         仮条件上限  \\\n",
       "count  1.200000e+03   1200.000000  1200.000000  1.200000e+03  1.200000e+03   \n",
       "mean   1.863843e+05     89.404800     1.026667  1.630668e+05  1.872616e+05   \n",
       "std    2.865237e+05    444.272784     0.214462  2.492726e+05  2.873476e+05   \n",
       "min    9.000000e+01      0.560000     1.000000  9.000000e+01  0.000000e+00   \n",
       "25%    1.457500e+03      6.000000     1.000000  1.300000e+03  1.450000e+03   \n",
       "50%    3.900000e+04     11.850000     1.000000  3.300000e+04  3.550000e+04   \n",
       "75%    2.925000e+05     28.400000     1.000000  2.500000e+05  3.000000e+05   \n",
       "max    3.300000e+06  10088.000000     5.000000  2.900000e+06  3.300000e+06   \n",
       "\n",
       "                仮条件幅       危険シグナル        公募-仮上限            株数  \n",
       "count    1200.000000  1200.000000    1200.00000  1.200000e+03  \n",
       "mean    24194.741667     0.190833    -877.25000  2.685885e+06  \n",
       "std     43916.824933     0.393122   12259.32181  2.232220e+07  \n",
       "min   -240000.000000     0.000000 -150000.00000  6.000000e+02  \n",
       "25%       150.000000     0.000000       0.00000  3.500000e+03  \n",
       "50%      3000.000000     0.000000       0.00000  1.314011e+05  \n",
       "75%     35000.000000     0.000000       0.00000  1.001269e+06  \n",
       "max    500000.000000     1.000000  280000.00000  6.664912e+08  "
      ]
     },
     "execution_count": 36,
     "metadata": {},
     "output_type": "execute_result"
    }
   ],
   "source": [
    "train.describe()"
   ]
  },
  {
   "cell_type": "code",
   "execution_count": 37,
   "metadata": {},
   "outputs": [
    {
     "data": {
      "text/html": [
       "<div>\n",
       "<style scoped>\n",
       "    .dataframe tbody tr th:only-of-type {\n",
       "        vertical-align: middle;\n",
       "    }\n",
       "\n",
       "    .dataframe tbody tr th {\n",
       "        vertical-align: top;\n",
       "    }\n",
       "\n",
       "    .dataframe thead th {\n",
       "        text-align: right;\n",
       "    }\n",
       "</style>\n",
       "<table border=\"1\" class=\"dataframe\">\n",
       "  <thead>\n",
       "    <tr style=\"text-align: right;\">\n",
       "      <th></th>\n",
       "      <th>公募</th>\n",
       "      <th>吸収金額</th>\n",
       "      <th>主幹事数</th>\n",
       "      <th>仮条件下限</th>\n",
       "      <th>仮条件上限</th>\n",
       "      <th>仮条件幅</th>\n",
       "      <th>危険シグナル</th>\n",
       "      <th>公募-仮上限</th>\n",
       "      <th>株数</th>\n",
       "    </tr>\n",
       "  </thead>\n",
       "  <tbody>\n",
       "    <tr>\n",
       "      <th>count</th>\n",
       "      <td>502.000000</td>\n",
       "      <td>502.000000</td>\n",
       "      <td>502.000000</td>\n",
       "      <td>502.000000</td>\n",
       "      <td>502.000000</td>\n",
       "      <td>502.000000</td>\n",
       "      <td>502.000000</td>\n",
       "      <td>502.000000</td>\n",
       "      <td>5.020000e+02</td>\n",
       "    </tr>\n",
       "    <tr>\n",
       "      <th>mean</th>\n",
       "      <td>9503.332669</td>\n",
       "      <td>162.520299</td>\n",
       "      <td>1.075697</td>\n",
       "      <td>9095.247012</td>\n",
       "      <td>9583.601594</td>\n",
       "      <td>488.354582</td>\n",
       "      <td>0.163347</td>\n",
       "      <td>-80.268924</td>\n",
       "      <td>9.127526e+06</td>\n",
       "    </tr>\n",
       "    <tr>\n",
       "      <th>std</th>\n",
       "      <td>32697.759167</td>\n",
       "      <td>1276.689121</td>\n",
       "      <td>0.549221</td>\n",
       "      <td>31465.574616</td>\n",
       "      <td>32958.727000</td>\n",
       "      <td>1779.745769</td>\n",
       "      <td>0.370050</td>\n",
       "      <td>656.874728</td>\n",
       "      <td>8.570098e+07</td>\n",
       "    </tr>\n",
       "    <tr>\n",
       "      <th>min</th>\n",
       "      <td>185.000000</td>\n",
       "      <td>0.810000</td>\n",
       "      <td>1.000000</td>\n",
       "      <td>175.000000</td>\n",
       "      <td>185.000000</td>\n",
       "      <td>0.000000</td>\n",
       "      <td>0.000000</td>\n",
       "      <td>-10000.000000</td>\n",
       "      <td>4.118280e+04</td>\n",
       "    </tr>\n",
       "    <tr>\n",
       "      <th>25%</th>\n",
       "      <td>1320.000000</td>\n",
       "      <td>7.627500</td>\n",
       "      <td>1.000000</td>\n",
       "      <td>1220.000000</td>\n",
       "      <td>1340.000000</td>\n",
       "      <td>80.000000</td>\n",
       "      <td>0.000000</td>\n",
       "      <td>0.000000</td>\n",
       "      <td>3.669271e+05</td>\n",
       "    </tr>\n",
       "    <tr>\n",
       "      <th>50%</th>\n",
       "      <td>1870.000000</td>\n",
       "      <td>13.750000</td>\n",
       "      <td>1.000000</td>\n",
       "      <td>1700.000000</td>\n",
       "      <td>1870.000000</td>\n",
       "      <td>140.000000</td>\n",
       "      <td>0.000000</td>\n",
       "      <td>0.000000</td>\n",
       "      <td>6.750912e+05</td>\n",
       "    </tr>\n",
       "    <tr>\n",
       "      <th>75%</th>\n",
       "      <td>2700.000000</td>\n",
       "      <td>41.450000</td>\n",
       "      <td>1.000000</td>\n",
       "      <td>2550.000000</td>\n",
       "      <td>2700.000000</td>\n",
       "      <td>200.000000</td>\n",
       "      <td>0.000000</td>\n",
       "      <td>0.000000</td>\n",
       "      <td>1.749321e+06</td>\n",
       "    </tr>\n",
       "    <tr>\n",
       "      <th>max</th>\n",
       "      <td>270000.000000</td>\n",
       "      <td>26460.000000</td>\n",
       "      <td>7.000000</td>\n",
       "      <td>250000.000000</td>\n",
       "      <td>270000.000000</td>\n",
       "      <td>20000.000000</td>\n",
       "      <td>1.000000</td>\n",
       "      <td>0.000000</td>\n",
       "      <td>1.764000e+09</td>\n",
       "    </tr>\n",
       "  </tbody>\n",
       "</table>\n",
       "</div>"
      ],
      "text/plain": [
       "                  公募          吸収金額        主幹事数          仮条件下限          仮条件上限  \\\n",
       "count     502.000000    502.000000  502.000000     502.000000     502.000000   \n",
       "mean     9503.332669    162.520299    1.075697    9095.247012    9583.601594   \n",
       "std     32697.759167   1276.689121    0.549221   31465.574616   32958.727000   \n",
       "min       185.000000      0.810000    1.000000     175.000000     185.000000   \n",
       "25%      1320.000000      7.627500    1.000000    1220.000000    1340.000000   \n",
       "50%      1870.000000     13.750000    1.000000    1700.000000    1870.000000   \n",
       "75%      2700.000000     41.450000    1.000000    2550.000000    2700.000000   \n",
       "max    270000.000000  26460.000000    7.000000  250000.000000  270000.000000   \n",
       "\n",
       "               仮条件幅      危険シグナル        公募-仮上限            株数  \n",
       "count    502.000000  502.000000    502.000000  5.020000e+02  \n",
       "mean     488.354582    0.163347    -80.268924  9.127526e+06  \n",
       "std     1779.745769    0.370050    656.874728  8.570098e+07  \n",
       "min        0.000000    0.000000 -10000.000000  4.118280e+04  \n",
       "25%       80.000000    0.000000      0.000000  3.669271e+05  \n",
       "50%      140.000000    0.000000      0.000000  6.750912e+05  \n",
       "75%      200.000000    0.000000      0.000000  1.749321e+06  \n",
       "max    20000.000000    1.000000      0.000000  1.764000e+09  "
      ]
     },
     "execution_count": 37,
     "metadata": {},
     "output_type": "execute_result"
    }
   ],
   "source": [
    "test.describe()"
   ]
  },
  {
   "cell_type": "code",
   "execution_count": 40,
   "metadata": {
    "colab": {},
    "colab_type": "code",
    "id": "qzHTwuxzKR13"
   },
   "outputs": [],
   "source": [
    "df_train_x = train.drop([\"危険シグナル\"], axis=1)\n",
    "df_train_y = train[\"危険シグナル\"]\n",
    "df_test_x = test.drop([\"危険シグナル\"], axis=1)\n",
    "df_test_y = test[\"危険シグナル\"]\n",
    "\n",
    "# 説明変数リスト取得\n",
    "train_columns = list(df_train_x.columns)\n",
    "\n",
    "# 目的変数の比率を基に重みを作成\n",
    "# total_0_record = train[\"危険シグナル\"].value_counts()[0]\n",
    "# total_1_record = train[\"危険シグナル\"].value_counts()[1]\n",
    "# obj_weight  = total_0_record / total_1_record * 0.2"
   ]
  },
  {
   "cell_type": "code",
   "execution_count": 43,
   "metadata": {
    "colab": {},
    "colab_type": "code",
    "id": "SATCM71XKTRH"
   },
   "outputs": [],
   "source": [
    "# パラメータの履歴保存\n",
    "def objectives(trial):\n",
    "    skf = StratifiedKFold(\n",
    "        n_splits=3, # Number of folds. Must be at least 2.\n",
    "        shuffle=True # Whether to shuffle each stratification of the data before splitting into batches.\n",
    "    )\n",
    "\n",
    "    boost_rounds = []\n",
    "    score = []\n",
    "\n",
    "    for train_index, test_index in skf.split(df_train_x, df_train_y):\n",
    "        _train_x, _test_x, _train_y, _test_y = df_train_x.iloc[train_index], df_train_x.iloc[test_index], df_train_y.iloc[train_index], df_train_y.iloc[test_index]\n",
    "\n",
    "        train_xd = lgb.Dataset(_train_x, label=_train_y, feature_name=train_columns, categorical_feature=cate_cols)\n",
    "        test_xd = lgb.Dataset(_test_x, label=_test_y, feature_name=train_columns, categorical_feature=cate_cols)\n",
    "\n",
    "        dict_param = {\n",
    "            \"boosting_type\": trial.suggest_categorical(\"boosting\", [\"gbdt\", \"dart\", \"goss\"]),\n",
    "            \"objective\": \"xentropy\",\n",
    "            \"metric\": \"xentropy\",\n",
    "            \"num_leaves\": trial.suggest_int(\"num_leaves\", 5, 80),\n",
    "            \"min_data_in_leaf\": trial.suggest_int(\"min_data_in_leaf\", 5, 300),\n",
    "            \"learning_rate\": trial.suggest_loguniform(\"learning_rate\", 0.01, 0.1),\n",
    "            \"drop_rate\": trial.suggest_loguniform(\"drop_rate\", 0.1, 0.8),\n",
    "            \"feature_fraction\": trial.suggest_uniform(\"feature_fraction\", 0.1, 0.9),\n",
    "            #\"obj_weight\": trial.suggest_uniform(\"obj_weight\", 0.01, 0.05),\n",
    "            \"verbose\" : 0\n",
    "        }\n",
    "        if dict_param[\"boosting_type\"] == \"dart\":\n",
    "            dict_param[\"drop_rate\"] = trial.suggest_loguniform(\"drop_rate\", 1e-8, 1.0)\n",
    "            dict_param[\"skip_drop\"] = trial.suggest_loguniform(\"skip_drop\", 1e-8, 1.0)\n",
    "        if dict_param[\"boosting_type\"] == \"goss\":\n",
    "            dict_param[\"top_rate\"] = trial.suggest_uniform(\"top_rate\", 0.0, 1.0)\n",
    "            dict_param[\"other_rate\"] = trial.suggest_uniform(\"other_rate\", 0.0, 1.0 - dict_param[\"top_rate\"])\n",
    "        \n",
    "        model = lgb.train(\n",
    "        dict_param,\n",
    "        train_xd,\n",
    "        num_boost_round=10000,\n",
    "        valid_sets=test_xd,\n",
    "        early_stopping_rounds=300,\n",
    "        verbose_eval=False\n",
    "        )\n",
    "       \n",
    "        # 精度評価用のスコア計算\n",
    "        pred_train = model.predict(_train_x)\n",
    "        pred_test = model.predict(_test_x)\n",
    "        logloss_train = metrics.log_loss( _train_y, pred_train)\n",
    "        logloss_test = metrics.log_loss(_test_y, pred_test)\n",
    "        f1_train = max([metrics.f1_score(_train_y, preprocessing.binarize(X=pred_train.reshape(1, -1), threshold=(i * 0.01))[0]) for i in range(1, 100)])\n",
    "        f1_test = max([metrics.f1_score(_test_y, preprocessing.binarize(X=pred_test.reshape(1, -1), threshold=(i * 0.01))[0]) for i in range(1, 100)])\n",
    "        boost_round = model.best_iteration\n",
    "        \n",
    "        # スコアの記録\n",
    "        trial.set_user_attr(\"logloss_train\", logloss_train)\n",
    "        trial.set_user_attr(\"logloss_test\", logloss_test)\n",
    "        trial.set_user_attr(\"f1_train\", f1_train)\n",
    "        trial.set_user_attr(\"f1_test\", f1_test)\n",
    "        trial.set_user_attr(\"boost_round\", boost_round)\n",
    "\n",
    "        \n",
    "        print(\"trial_id\", trial.trial_id,  \"logloss_train\", logloss_train, \"logloss_test\", logloss_test, \"boost_round\", boost_round, \"f1_train\", f1_train, \"f1_test\", f1_test)\n",
    "        \n",
    "        return logloss_test"
   ]
  },
  {
   "cell_type": "code",
   "execution_count": 44,
   "metadata": {
    "colab": {
     "base_uri": "https://localhost:8080/",
     "height": 679153
    },
    "colab_type": "code",
    "id": "UOLFqYWDKWoW",
    "outputId": "60efd16e-df5e-4422-e1de-a1662900802c",
    "scrolled": true
   },
   "outputs": [
    {
     "name": "stderr",
     "output_type": "stream",
     "text": [
      "[W 2020-04-25 22:47:17,482] The use of `Trial.trial_id` is deprecated. Please use `Trial.number` instead.\n"
     ]
    },
    {
     "name": "stdout",
     "output_type": "stream",
     "text": [
      "trial_id 0 logloss_train 0.671926534648582 logloss_test 0.6719765581006015 boost_round 4 f1_train 0.31966351209253413 f1_test 0.32217573221757323\n"
     ]
    },
    {
     "name": "stderr",
     "output_type": "stream",
     "text": [
      "[I 2020-04-25 22:47:17,712] Finished trial#0 with value: 0.6719765581006015 with parameters: {'boosting': 'dart', 'num_leaves': 47, 'min_data_in_leaf': 167, 'learning_rate': 0.017676635623848524, 'drop_rate': 0.3279108812988696, 'feature_fraction': 0.5210920222441103, 'skip_drop': 0.3057748200724524}. Best is trial#0 with value: 0.6719765581006015.\n",
      "[W 2020-04-25 22:47:18,328] The use of `Trial.trial_id` is deprecated. Please use `Trial.number` instead.\n"
     ]
    },
    {
     "name": "stdout",
     "output_type": "stream",
     "text": [
      "trial_id 1 logloss_train 0.6863912080242797 logloss_test 0.6864540371290457 boost_round 8 f1_train 0.31966351209253413 f1_test 0.32217573221757323\n"
     ]
    },
    {
     "name": "stderr",
     "output_type": "stream",
     "text": [
      "[I 2020-04-25 22:47:18,547] Finished trial#1 with value: 0.6864540371290457 with parameters: {'boosting': 'dart', 'num_leaves': 52, 'min_data_in_leaf': 261, 'learning_rate': 0.05421782214233825, 'drop_rate': 0.2290435543418601, 'feature_fraction': 0.5590158086194673, 'skip_drop': 2.5086189577297227e-05}. Best is trial#0 with value: 0.6719765581006015.\n",
      "[W 2020-04-25 22:47:19,204] The use of `Trial.trial_id` is deprecated. Please use `Trial.number` instead.\n"
     ]
    },
    {
     "name": "stdout",
     "output_type": "stream",
     "text": [
      "trial_id 2 logloss_train 0.3214507676494238 logloss_test 0.42163711819795724 boost_round 220 f1_train 0.7138263665594855 f1_test 0.46616541353383456\n"
     ]
    },
    {
     "name": "stderr",
     "output_type": "stream",
     "text": [
      "[I 2020-04-25 22:47:19,422] Finished trial#2 with value: 0.42163711819795724 with parameters: {'boosting': 'gbdt', 'num_leaves': 24, 'min_data_in_leaf': 36, 'learning_rate': 0.010778839578051364, 'drop_rate': 0.1349860759309334, 'feature_fraction': 0.4379779226363685}. Best is trial#2 with value: 0.42163711819795724.\n",
      "[W 2020-04-25 22:47:19,885] The use of `Trial.trial_id` is deprecated. Please use `Trial.number` instead.\n"
     ]
    },
    {
     "name": "stdout",
     "output_type": "stream",
     "text": [
      "trial_id 3 logloss_train 0.41150225633897236 logloss_test 0.4488500497490862 boost_round 21 f1_train 0.5056818181818182 f1_test 0.4597701149425288\n"
     ]
    },
    {
     "name": "stderr",
     "output_type": "stream",
     "text": [
      "[I 2020-04-25 22:47:20,107] Finished trial#3 with value: 0.4488500497490862 with parameters: {'boosting': 'gbdt', 'num_leaves': 27, 'min_data_in_leaf': 92, 'learning_rate': 0.08355384421837199, 'drop_rate': 0.48227404851098354, 'feature_fraction': 0.6356045849265552}. Best is trial#2 with value: 0.42163711819795724.\n",
      "[W 2020-04-25 22:47:20,686] The use of `Trial.trial_id` is deprecated. Please use `Trial.number` instead.\n"
     ]
    },
    {
     "name": "stdout",
     "output_type": "stream",
     "text": [
      "trial_id 4 logloss_train 0.40836913994232926 logloss_test 0.44728668392369 boost_round 426 f1_train 0.5036319612590799 f1_test 0.42911877394636017\n"
     ]
    },
    {
     "name": "stderr",
     "output_type": "stream",
     "text": [
      "[I 2020-04-25 22:47:20,910] Finished trial#4 with value: 0.44728668392369 with parameters: {'boosting': 'goss', 'num_leaves': 73, 'min_data_in_leaf': 119, 'learning_rate': 0.01542577695217871, 'drop_rate': 0.1651400949482669, 'feature_fraction': 0.8715723573380755, 'top_rate': 0.1636061853466254, 'other_rate': 0.20450677282383553}. Best is trial#2 with value: 0.42163711819795724.\n",
      "[W 2020-04-25 22:47:22,055] The use of `Trial.trial_id` is deprecated. Please use `Trial.number` instead.\n"
     ]
    },
    {
     "name": "stdout",
     "output_type": "stream",
     "text": [
      "trial_id 5 logloss_train 0.6773113716193935 logloss_test 0.6777380859280722 boost_round 343 f1_train 0.427061310782241 f1_test 0.32727272727272727\n"
     ]
    },
    {
     "name": "stderr",
     "output_type": "stream",
     "text": [
      "[I 2020-04-25 22:47:22,276] Finished trial#5 with value: 0.6777380859280722 with parameters: {'boosting': 'dart', 'num_leaves': 63, 'min_data_in_leaf': 209, 'learning_rate': 0.06032549295791376, 'drop_rate': 0.5607066144529615, 'feature_fraction': 0.16961715067410116, 'skip_drop': 3.4147968495775114e-07}. Best is trial#2 with value: 0.42163711819795724.\n",
      "[W 2020-04-25 22:47:22,901] The use of `Trial.trial_id` is deprecated. Please use `Trial.number` instead.\n"
     ]
    },
    {
     "name": "stdout",
     "output_type": "stream",
     "text": [
      "trial_id 6 logloss_train 0.6880671580938559 logloss_test 0.6881242876031525 boost_round 6 f1_train 0.31966351209253413 f1_test 0.32217573221757323\n"
     ]
    },
    {
     "name": "stderr",
     "output_type": "stream",
     "text": [
      "[I 2020-04-25 22:47:23,117] Finished trial#6 with value: 0.6881242876031525 with parameters: {'boosting': 'dart', 'num_leaves': 45, 'min_data_in_leaf': 269, 'learning_rate': 0.0652944392627167, 'drop_rate': 0.2939950492483282, 'feature_fraction': 0.24893611487832176, 'skip_drop': 0.00902202749798367}. Best is trial#2 with value: 0.42163711819795724.\n",
      "[W 2020-04-25 22:47:23,590] The use of `Trial.trial_id` is deprecated. Please use `Trial.number` instead.\n"
     ]
    },
    {
     "name": "stdout",
     "output_type": "stream",
     "text": [
      "trial_id 7 logloss_train 0.37994000140637757 logloss_test 0.4371632821685259 boost_round 53 f1_train 0.5449591280653951 f1_test 0.44680851063829785\n"
     ]
    },
    {
     "name": "stderr",
     "output_type": "stream",
     "text": [
      "[I 2020-04-25 22:47:23,808] Finished trial#7 with value: 0.4371632821685259 with parameters: {'boosting': 'gbdt', 'num_leaves': 23, 'min_data_in_leaf': 102, 'learning_rate': 0.0788993377329023, 'drop_rate': 0.13563637040726156, 'feature_fraction': 0.8570842201925443}. Best is trial#2 with value: 0.42163711819795724.\n",
      "[W 2020-04-25 22:47:24,340] The use of `Trial.trial_id` is deprecated. Please use `Trial.number` instead.\n"
     ]
    },
    {
     "name": "stdout",
     "output_type": "stream",
     "text": [
      "trial_id 8 logloss_train 0.32335479723858834 logloss_test 0.4355486017880071 boost_round 49 f1_train 0.6563467492260061 f1_test 0.4513274336283186\n"
     ]
    },
    {
     "name": "stderr",
     "output_type": "stream",
     "text": [
      "[I 2020-04-25 22:47:24,556] Finished trial#8 with value: 0.4355486017880071 with parameters: {'boosting': 'goss', 'num_leaves': 50, 'min_data_in_leaf': 51, 'learning_rate': 0.0489939888215877, 'drop_rate': 0.11449199685642827, 'feature_fraction': 0.7408421998241711, 'top_rate': 0.856012132648332, 'other_rate': 0.08881487029853567}. Best is trial#2 with value: 0.42163711819795724.\n",
      "[W 2020-04-25 22:47:25,076] The use of `Trial.trial_id` is deprecated. Please use `Trial.number` instead.\n"
     ]
    },
    {
     "name": "stdout",
     "output_type": "stream",
     "text": [
      "trial_id 9 logloss_train 0.4667333026571065 logloss_test 0.47500440122423115 boost_round 54 f1_train 0.4070796460176991 f1_test 0.39506172839506176\n"
     ]
    },
    {
     "name": "stderr",
     "output_type": "stream",
     "text": [
      "[I 2020-04-25 22:47:25,293] Finished trial#9 with value: 0.47500440122423115 with parameters: {'boosting': 'goss', 'num_leaves': 48, 'min_data_in_leaf': 244, 'learning_rate': 0.020547537062736012, 'drop_rate': 0.12516673981483886, 'feature_fraction': 0.21514591810081446, 'top_rate': 0.24203841135298299, 'other_rate': 0.22994326972690546}. Best is trial#2 with value: 0.42163711819795724.\n",
      "[W 2020-04-25 22:47:25,791] The use of `Trial.trial_id` is deprecated. Please use `Trial.number` instead.\n"
     ]
    },
    {
     "name": "stdout",
     "output_type": "stream",
     "text": [
      "trial_id 10 logloss_train 0.3343469533665333 logloss_test 0.4277800160799466 boost_round 368 f1_train 0.6329113924050632 f1_test 0.4774774774774775\n"
     ]
    },
    {
     "name": "stderr",
     "output_type": "stream",
     "text": [
      "[I 2020-04-25 22:47:26,009] Finished trial#10 with value: 0.4277800160799466 with parameters: {'boosting': 'gbdt', 'num_leaves': 6, 'min_data_in_leaf': 28, 'learning_rate': 0.010122189209708745, 'drop_rate': 0.19656859631122003, 'feature_fraction': 0.3408746317238851}. Best is trial#2 with value: 0.42163711819795724.\n",
      "[W 2020-04-25 22:47:26,494] The use of `Trial.trial_id` is deprecated. Please use `Trial.number` instead.\n"
     ]
    },
    {
     "name": "stdout",
     "output_type": "stream",
     "text": [
      "trial_id 11 logloss_train 0.3354893826111342 logloss_test 0.419735115796498 boost_round 389 f1_train 0.6458333333333334 f1_test 0.4730290456431535\n"
     ]
    },
    {
     "name": "stderr",
     "output_type": "stream",
     "text": [
      "[I 2020-04-25 22:47:26,715] Finished trial#11 with value: 0.419735115796498 with parameters: {'boosting': 'gbdt', 'num_leaves': 5, 'min_data_in_leaf': 19, 'learning_rate': 0.010254754216755575, 'drop_rate': 0.19915053952157583, 'feature_fraction': 0.36178522077433106}. Best is trial#11 with value: 0.419735115796498.\n",
      "[W 2020-04-25 22:47:27,265] The use of `Trial.trial_id` is deprecated. Please use `Trial.number` instead.\n"
     ]
    },
    {
     "name": "stdout",
     "output_type": "stream",
     "text": [
      "trial_id 12 logloss_train 0.296305729374086 logloss_test 0.3906284046860413 boost_round 473 f1_train 0.710843373493976 f1_test 0.5254237288135594\n"
     ]
    },
    {
     "name": "stderr",
     "output_type": "stream",
     "text": [
      "[I 2020-04-25 22:47:27,480] Finished trial#12 with value: 0.3906284046860413 with parameters: {'boosting': 'gbdt', 'num_leaves': 7, 'min_data_in_leaf': 8, 'learning_rate': 0.010849197015009658, 'drop_rate': 0.17671574082421376, 'feature_fraction': 0.3985877079007871}. Best is trial#12 with value: 0.3906284046860413.\n",
      "[W 2020-04-25 22:47:27,946] The use of `Trial.trial_id` is deprecated. Please use `Trial.number` instead.\n"
     ]
    },
    {
     "name": "stdout",
     "output_type": "stream",
     "text": [
      "trial_id 13 logloss_train 0.29205181798778335 logloss_test 0.4054102548353061 boost_round 251 f1_train 0.7054794520547945 f1_test 0.5026178010471204\n"
     ]
    },
    {
     "name": "stderr",
     "output_type": "stream",
     "text": [
      "[I 2020-04-25 22:47:28,168] Finished trial#13 with value: 0.4054102548353061 with parameters: {'boosting': 'gbdt', 'num_leaves': 6, 'min_data_in_leaf': 6, 'learning_rate': 0.027567233499025207, 'drop_rate': 0.22110938887838288, 'feature_fraction': 0.35263821823467956}. Best is trial#12 with value: 0.3906284046860413.\n",
      "[W 2020-04-25 22:47:28,656] The use of `Trial.trial_id` is deprecated. Please use `Trial.number` instead.\n"
     ]
    },
    {
     "name": "stdout",
     "output_type": "stream",
     "text": [
      "trial_id 14 logloss_train 0.2844474049547673 logloss_test 0.42210008162684215 boost_round 104 f1_train 0.7972508591065293 f1_test 0.4700854700854701\n"
     ]
    },
    {
     "name": "stderr",
     "output_type": "stream",
     "text": [
      "[I 2020-04-25 22:47:28,874] Finished trial#14 with value: 0.42210008162684215 with parameters: {'boosting': 'gbdt', 'num_leaves': 13, 'min_data_in_leaf': 5, 'learning_rate': 0.03203181946930469, 'drop_rate': 0.37730098992041805, 'feature_fraction': 0.3605647423977502}. Best is trial#12 with value: 0.3906284046860413.\n",
      "[W 2020-04-25 22:47:29,494] The use of `Trial.trial_id` is deprecated. Please use `Trial.number` instead.\n"
     ]
    },
    {
     "name": "stdout",
     "output_type": "stream",
     "text": [
      "trial_id 15 logloss_train 0.34304121377890623 logloss_test 0.4250168260345845 boost_round 336 f1_train 0.6082474226804124 f1_test 0.44843049327354256\n"
     ]
    },
    {
     "name": "stderr",
     "output_type": "stream",
     "text": [
      "[I 2020-04-25 22:47:29,706] Finished trial#15 with value: 0.4250168260345845 with parameters: {'boosting': 'gbdt', 'num_leaves': 33, 'min_data_in_leaf': 71, 'learning_rate': 0.031363252985688365, 'drop_rate': 0.24754136638036706, 'feature_fraction': 0.1281366182502356}. Best is trial#12 with value: 0.3906284046860413.\n",
      "[W 2020-04-25 22:47:30,180] The use of `Trial.trial_id` is deprecated. Please use `Trial.number` instead.\n"
     ]
    },
    {
     "name": "stdout",
     "output_type": "stream",
     "text": [
      "trial_id 16 logloss_train 0.4087435547011922 logloss_test 0.46484500736441314 boost_round 85 f1_train 0.5133928571428571 f1_test 0.40350877192982454\n"
     ]
    },
    {
     "name": "stderr",
     "output_type": "stream",
     "text": [
      "[I 2020-04-25 22:47:30,400] Finished trial#16 with value: 0.46484500736441314 with parameters: {'boosting': 'gbdt', 'num_leaves': 14, 'min_data_in_leaf': 145, 'learning_rate': 0.027666920460551598, 'drop_rate': 0.18067690549073093, 'feature_fraction': 0.44565763050459223}. Best is trial#12 with value: 0.3906284046860413.\n",
      "[W 2020-04-25 22:47:31,045] The use of `Trial.trial_id` is deprecated. Please use `Trial.number` instead.\n"
     ]
    },
    {
     "name": "stdout",
     "output_type": "stream",
     "text": [
      "trial_id 17 logloss_train 0.3309181406683426 logloss_test 0.4024987511422654 boost_round 354 f1_train 0.6420664206642066 f1_test 0.5116279069767442\n"
     ]
    },
    {
     "name": "stderr",
     "output_type": "stream",
     "text": [
      "[I 2020-04-25 22:47:31,263] Finished trial#17 with value: 0.4024987511422654 with parameters: {'boosting': 'gbdt', 'num_leaves': 15, 'min_data_in_leaf': 63, 'learning_rate': 0.013514563731748383, 'drop_rate': 0.7997895806567431, 'feature_fraction': 0.3015438794803803}. Best is trial#12 with value: 0.3906284046860413.\n",
      "[W 2020-04-25 22:47:31,937] The use of `Trial.trial_id` is deprecated. Please use `Trial.number` instead.\n"
     ]
    },
    {
     "name": "stdout",
     "output_type": "stream",
     "text": [
      "trial_id 18 logloss_train 0.3453448478594063 logloss_test 0.40242963893882616 boost_round 391 f1_train 0.6084142394822006 f1_test 0.5118483412322274\n"
     ]
    },
    {
     "name": "stderr",
     "output_type": "stream",
     "text": [
      "[I 2020-04-25 22:47:32,153] Finished trial#18 with value: 0.40242963893882616 with parameters: {'boosting': 'gbdt', 'num_leaves': 15, 'min_data_in_leaf': 68, 'learning_rate': 0.013650737954210793, 'drop_rate': 0.7697150518997635, 'feature_fraction': 0.2723893711491741}. Best is trial#12 with value: 0.3906284046860413.\n",
      "[W 2020-04-25 22:47:32,655] The use of `Trial.trial_id` is deprecated. Please use `Trial.number` instead.\n"
     ]
    },
    {
     "name": "stdout",
     "output_type": "stream",
     "text": [
      "trial_id 19 logloss_train 0.40653404449714764 logloss_test 0.44794321737886544 boost_round 128 f1_train 0.5152224824355972 f1_test 0.4285714285714286\n"
     ]
    },
    {
     "name": "stderr",
     "output_type": "stream",
     "text": [
      "[I 2020-04-25 22:47:32,872] Finished trial#19 with value: 0.44794321737886544 with parameters: {'boosting': 'gbdt', 'num_leaves': 36, 'min_data_in_leaf': 144, 'learning_rate': 0.021289789109140648, 'drop_rate': 0.10030916797751739, 'feature_fraction': 0.613674559117591}. Best is trial#12 with value: 0.3906284046860413.\n",
      "[W 2020-04-25 22:47:33,411] The use of `Trial.trial_id` is deprecated. Please use `Trial.number` instead.\n"
     ]
    },
    {
     "name": "stdout",
     "output_type": "stream",
     "text": [
      "trial_id 20 logloss_train 0.42096609241046096 logloss_test 0.45259294325059224 boost_round 292 f1_train 0.49172576832151305 f1_test 0.4311926605504587\n"
     ]
    },
    {
     "name": "stderr",
     "output_type": "stream",
     "text": [
      "[I 2020-04-25 22:47:33,630] Finished trial#20 with value: 0.45259294325059224 with parameters: {'boosting': 'goss', 'num_leaves': 19, 'min_data_in_leaf': 180, 'learning_rate': 0.012749260615412606, 'drop_rate': 0.6850954016854686, 'feature_fraction': 0.438459193423668, 'top_rate': 0.673657751790235, 'other_rate': 0.09322161397082597}. Best is trial#12 with value: 0.3906284046860413.\n",
      "[W 2020-04-25 22:47:34,387] The use of `Trial.trial_id` is deprecated. Please use `Trial.number` instead.\n"
     ]
    },
    {
     "name": "stdout",
     "output_type": "stream",
     "text": [
      "trial_id 21 logloss_train 0.3258359651617955 logloss_test 0.39906297143678865 boost_round 575 f1_train 0.6563467492260061 f1_test 0.5279187817258884\n"
     ]
    },
    {
     "name": "stderr",
     "output_type": "stream",
     "text": [
      "[I 2020-04-25 22:47:34,604] Finished trial#21 with value: 0.39906297143678865 with parameters: {'boosting': 'gbdt', 'num_leaves': 12, 'min_data_in_leaf': 69, 'learning_rate': 0.013502863660029476, 'drop_rate': 0.7869713497824287, 'feature_fraction': 0.2620429626881246}. Best is trial#12 with value: 0.3906284046860413.\n",
      "[W 2020-04-25 22:47:35,280] The use of `Trial.trial_id` is deprecated. Please use `Trial.number` instead.\n"
     ]
    },
    {
     "name": "stdout",
     "output_type": "stream",
     "text": [
      "trial_id 22 logloss_train 0.33103870055503126 logloss_test 0.4055440142831954 boost_round 588 f1_train 0.6419098143236074 f1_test 0.5158371040723981\n"
     ]
    },
    {
     "name": "stderr",
     "output_type": "stream",
     "text": [
      "[I 2020-04-25 22:47:35,500] Finished trial#22 with value: 0.4055440142831954 with parameters: {'boosting': 'gbdt', 'num_leaves': 9, 'min_data_in_leaf': 78, 'learning_rate': 0.012999454211056572, 'drop_rate': 0.745267802777871, 'feature_fraction': 0.2615032946067076}. Best is trial#12 with value: 0.3906284046860413.\n",
      "[W 2020-04-25 22:47:36,025] The use of `Trial.trial_id` is deprecated. Please use `Trial.number` instead.\n"
     ]
    },
    {
     "name": "stdout",
     "output_type": "stream",
     "text": [
      "trial_id 23 logloss_train 0.41143907812038144 logloss_test 0.4592103187063286 boost_round 300 f1_train 0.5135802469135803 f1_test 0.41441441441441446\n"
     ]
    },
    {
     "name": "stderr",
     "output_type": "stream",
     "text": [
      "[I 2020-04-25 22:47:36,246] Finished trial#23 with value: 0.4592103187063286 with parameters: {'boosting': 'gbdt', 'num_leaves': 34, 'min_data_in_leaf': 116, 'learning_rate': 0.01786608330082817, 'drop_rate': 0.6119154008300499, 'feature_fraction': 0.17540788982801353}. Best is trial#12 with value: 0.3906284046860413.\n",
      "[W 2020-04-25 22:47:37,080] The use of `Trial.trial_id` is deprecated. Please use `Trial.number` instead.\n"
     ]
    },
    {
     "name": "stdout",
     "output_type": "stream",
     "text": [
      "trial_id 24 logloss_train 0.3157467721562413 logloss_test 0.4100709213561718 boost_round 1148 f1_train 0.67524115755627 f1_test 0.5120772946859904\n"
     ]
    },
    {
     "name": "stderr",
     "output_type": "stream",
     "text": [
      "[I 2020-04-25 22:47:37,298] Finished trial#24 with value: 0.4100709213561718 with parameters: {'boosting': 'gbdt', 'num_leaves': 12, 'min_data_in_leaf': 47, 'learning_rate': 0.011181683005099833, 'drop_rate': 0.4485840490826776, 'feature_fraction': 0.10020297357311778}. Best is trial#12 with value: 0.3906284046860413.\n",
      "[W 2020-04-25 22:47:37,885] The use of `Trial.trial_id` is deprecated. Please use `Trial.number` instead.\n"
     ]
    },
    {
     "name": "stdout",
     "output_type": "stream",
     "text": [
      "trial_id 25 logloss_train 0.42893233689496457 logloss_test 0.4423696817015178 boost_round 665 f1_train 0.47008547008547014 f1_test 0.4444444444444444\n"
     ]
    },
    {
     "name": "stderr",
     "output_type": "stream",
     "text": [
      "[I 2020-04-25 22:47:38,103] Finished trial#25 with value: 0.4423696817015178 with parameters: {'boosting': 'gbdt', 'num_leaves': 19, 'min_data_in_leaf': 300, 'learning_rate': 0.01506651081512339, 'drop_rate': 0.16397937424808917, 'feature_fraction': 0.29262333341317587}. Best is trial#12 with value: 0.3906284046860413.\n",
      "[W 2020-04-25 22:47:38,691] The use of `Trial.trial_id` is deprecated. Please use `Trial.number` instead.\n"
     ]
    },
    {
     "name": "stdout",
     "output_type": "stream",
     "text": [
      "trial_id 26 logloss_train 0.36722284499809577 logloss_test 0.44154564070133206 boost_round 293 f1_train 0.5806451612903225 f1_test 0.443298969072165\n"
     ]
    },
    {
     "name": "stderr",
     "output_type": "stream",
     "text": [
      "[I 2020-04-25 22:47:38,908] Finished trial#26 with value: 0.44154564070133206 with parameters: {'boosting': 'gbdt', 'num_leaves': 29, 'min_data_in_leaf': 84, 'learning_rate': 0.02182509618331072, 'drop_rate': 0.7935320632718236, 'feature_fraction': 0.41106388204118693}. Best is trial#12 with value: 0.3906284046860413.\n",
      "[W 2020-04-25 22:47:39,403] The use of `Trial.trial_id` is deprecated. Please use `Trial.number` instead.\n"
     ]
    },
    {
     "name": "stdout",
     "output_type": "stream",
     "text": [
      "trial_id 27 logloss_train 0.34455022290232035 logloss_test 0.4104176487818242 boost_round 432 f1_train 0.6560509554140128 f1_test 0.48598130841121495\n"
     ]
    },
    {
     "name": "stderr",
     "output_type": "stream",
     "text": [
      "[I 2020-04-25 22:47:39,623] Finished trial#27 with value: 0.4104176487818242 with parameters: {'boosting': 'gbdt', 'num_leaves': 5, 'min_data_in_leaf': 11, 'learning_rate': 0.012293940412712853, 'drop_rate': 0.5617644755229034, 'feature_fraction': 0.2146138518268344}. Best is trial#12 with value: 0.3906284046860413.\n",
      "[W 2020-04-25 22:47:40,246] The use of `Trial.trial_id` is deprecated. Please use `Trial.number` instead.\n"
     ]
    },
    {
     "name": "stdout",
     "output_type": "stream",
     "text": [
      "trial_id 28 logloss_train 0.31426117396663783 logloss_test 0.3843275349081241 boost_round 316 f1_train 0.6666666666666667 f1_test 0.5411764705882353\n"
     ]
    },
    {
     "name": "stderr",
     "output_type": "stream",
     "text": [
      "[I 2020-04-25 22:47:40,465] Finished trial#28 with value: 0.3843275349081241 with parameters: {'boosting': 'gbdt', 'num_leaves': 18, 'min_data_in_leaf': 55, 'learning_rate': 0.015919369799873715, 'drop_rate': 0.4457105033620425, 'feature_fraction': 0.49511720694860273}. Best is trial#28 with value: 0.3843275349081241.\n",
      "[W 2020-04-25 22:47:41,524] The use of `Trial.trial_id` is deprecated. Please use `Trial.number` instead.\n"
     ]
    },
    {
     "name": "stdout",
     "output_type": "stream",
     "text": [
      "trial_id 29 logloss_train 0.6899249437817572 logloss_test 0.6899668052466443 boost_round 3 f1_train 0.31966351209253413 f1_test 0.32217573221757323\n"
     ]
    },
    {
     "name": "stderr",
     "output_type": "stream",
     "text": [
      "[I 2020-04-25 22:47:41,738] Finished trial#29 with value: 0.6899668052466443 with parameters: {'boosting': 'dart', 'num_leaves': 40, 'min_data_in_leaf': 36, 'learning_rate': 0.016012064014044376, 'drop_rate': 0.36142478805920125, 'feature_fraction': 0.4704311262519132, 'skip_drop': 5.241049151078802e-08}. Best is trial#28 with value: 0.3843275349081241.\n",
      "[W 2020-04-25 22:47:42,208] The use of `Trial.trial_id` is deprecated. Please use `Trial.number` instead.\n"
     ]
    },
    {
     "name": "stdout",
     "output_type": "stream",
     "text": [
      "trial_id 30 logloss_train 0.4164168071924177 logloss_test 0.46587572449527065 boost_round 116 f1_train 0.5126903553299492 f1_test 0.4156862745098039\n"
     ]
    },
    {
     "name": "stderr",
     "output_type": "stream",
     "text": [
      "[I 2020-04-25 22:47:42,424] Finished trial#30 with value: 0.46587572449527065 with parameters: {'boosting': 'gbdt', 'num_leaves': 20, 'min_data_in_leaf': 174, 'learning_rate': 0.017634722520208503, 'drop_rate': 0.2810839035631422, 'feature_fraction': 0.5244083690808019}. Best is trial#28 with value: 0.3843275349081241.\n",
      "[W 2020-04-25 22:47:42,952] The use of `Trial.trial_id` is deprecated. Please use `Trial.number` instead.\n"
     ]
    },
    {
     "name": "stdout",
     "output_type": "stream",
     "text": [
      "trial_id 31 logloss_train 0.3249009288934114 logloss_test 0.41629951945532995 boost_round 231 f1_train 0.6267029972752044 f1_test 0.48913043478260865\n"
     ]
    },
    {
     "name": "stderr",
     "output_type": "stream",
     "text": [
      "[I 2020-04-25 22:47:43,171] Finished trial#31 with value: 0.41629951945532995 with parameters: {'boosting': 'gbdt', 'num_leaves': 10, 'min_data_in_leaf': 56, 'learning_rate': 0.01408611774932772, 'drop_rate': 0.4162276379913429, 'feature_fraction': 0.5294375588006911}. Best is trial#28 with value: 0.3843275349081241.\n",
      "[W 2020-04-25 22:47:43,733] The use of `Trial.trial_id` is deprecated. Please use `Trial.number` instead.\n"
     ]
    },
    {
     "name": "stdout",
     "output_type": "stream",
     "text": [
      "trial_id 32 logloss_train 0.3889093891067296 logloss_test 0.45702035200179936 boost_round 340 f1_train 0.5496535796766744 f1_test 0.4140625\n"
     ]
    },
    {
     "name": "stderr",
     "output_type": "stream",
     "text": [
      "[I 2020-04-25 22:47:43,956] Finished trial#32 with value: 0.45702035200179936 with parameters: {'boosting': 'gbdt', 'num_leaves': 17, 'min_data_in_leaf': 108, 'learning_rate': 0.011670682288192645, 'drop_rate': 0.5147775583678617, 'feature_fraction': 0.40396875267242366}. Best is trial#28 with value: 0.3843275349081241.\n",
      "[W 2020-04-25 22:47:44,678] The use of `Trial.trial_id` is deprecated. Please use `Trial.number` instead.\n"
     ]
    },
    {
     "name": "stdout",
     "output_type": "stream",
     "text": [
      "trial_id 33 logloss_train 0.2931292815361513 logloss_test 0.383790624751487 boost_round 303 f1_train 0.760233918128655 f1_test 0.5604395604395604\n"
     ]
    },
    {
     "name": "stderr",
     "output_type": "stream",
     "text": [
      "[I 2020-04-25 22:47:44,897] Finished trial#33 with value: 0.383790624751487 with parameters: {'boosting': 'gbdt', 'num_leaves': 23, 'min_data_in_leaf': 33, 'learning_rate': 0.010052193475399736, 'drop_rate': 0.670019702136573, 'feature_fraction': 0.6041995295187779}. Best is trial#33 with value: 0.383790624751487.\n",
      "[W 2020-04-25 22:47:45,626] The use of `Trial.trial_id` is deprecated. Please use `Trial.number` instead.\n"
     ]
    },
    {
     "name": "stdout",
     "output_type": "stream",
     "text": [
      "trial_id 34 logloss_train 0.31254110100892024 logloss_test 0.3935734451857779 boost_round 211 f1_train 0.7146814404432134 f1_test 0.5106382978723405\n"
     ]
    },
    {
     "name": "stderr",
     "output_type": "stream",
     "text": [
      "[I 2020-04-25 22:47:45,842] Finished trial#34 with value: 0.3935734451857779 with parameters: {'boosting': 'gbdt', 'num_leaves': 26, 'min_data_in_leaf': 30, 'learning_rate': 0.010499322204087709, 'drop_rate': 0.680734737716209, 'feature_fraction': 0.6080042485933446}. Best is trial#33 with value: 0.383790624751487.\n",
      "[W 2020-04-25 22:47:47,543] The use of `Trial.trial_id` is deprecated. Please use `Trial.number` instead.\n"
     ]
    },
    {
     "name": "stdout",
     "output_type": "stream",
     "text": [
      "trial_id 35 logloss_train 0.6914921095828509 logloss_test 0.6915101935093306 boost_round 2 f1_train 0.31966351209253413 f1_test 0.32217573221757323\n"
     ]
    },
    {
     "name": "stderr",
     "output_type": "stream",
     "text": [
      "[I 2020-04-25 22:47:47,762] Finished trial#35 with value: 0.6915101935093306 with parameters: {'boosting': 'dart', 'num_leaves': 27, 'min_data_in_leaf': 27, 'learning_rate': 0.010785349471455352, 'drop_rate': 0.6646865922793849, 'feature_fraction': 0.6007113348575626, 'skip_drop': 0.0005443173609151155}. Best is trial#33 with value: 0.383790624751487.\n",
      "[W 2020-04-25 22:47:48,546] The use of `Trial.trial_id` is deprecated. Please use `Trial.number` instead.\n"
     ]
    },
    {
     "name": "stdout",
     "output_type": "stream",
     "text": [
      "trial_id 36 logloss_train 0.24360341372729324 logloss_test 0.42095327114479597 boost_round 182 f1_train 0.8673139158576052 f1_test 0.4626865671641791\n"
     ]
    },
    {
     "name": "stderr",
     "output_type": "stream",
     "text": [
      "[I 2020-04-25 22:47:48,767] Finished trial#36 with value: 0.42095327114479597 with parameters: {'boosting': 'gbdt', 'num_leaves': 24, 'min_data_in_leaf': 5, 'learning_rate': 0.01025414423636868, 'drop_rate': 0.5046775634169998, 'feature_fraction': 0.6831549513231078}. Best is trial#33 with value: 0.383790624751487.\n",
      "[W 2020-04-25 22:47:49,409] The use of `Trial.trial_id` is deprecated. Please use `Trial.number` instead.\n"
     ]
    },
    {
     "name": "stdout",
     "output_type": "stream",
     "text": [
      "trial_id 37 logloss_train 0.3128492124482535 logloss_test 0.38848104872883427 boost_round 162 f1_train 0.672566371681416 f1_test 0.5473684210526316\n"
     ]
    },
    {
     "name": "stderr",
     "output_type": "stream",
     "text": [
      "[I 2020-04-25 22:47:49,641] Finished trial#37 with value: 0.38848104872883427 with parameters: {'boosting': 'gbdt', 'num_leaves': 29, 'min_data_in_leaf': 40, 'learning_rate': 0.017364117687643378, 'drop_rate': 0.32139777750172, 'feature_fraction': 0.6727750367857083}. Best is trial#33 with value: 0.383790624751487.\n",
      "[W 2020-04-25 22:47:50,345] The use of `Trial.trial_id` is deprecated. Please use `Trial.number` instead.\n"
     ]
    },
    {
     "name": "stdout",
     "output_type": "stream",
     "text": [
      "trial_id 38 logloss_train 0.3000528801203907 logloss_test 0.375828877131944 boost_round 211 f1_train 0.7008547008547009 f1_test 0.5512820512820513\n"
     ]
    },
    {
     "name": "stderr",
     "output_type": "stream",
     "text": [
      "[I 2020-04-25 22:47:50,570] Finished trial#38 with value: 0.375828877131944 with parameters: {'boosting': 'goss', 'num_leaves': 39, 'min_data_in_leaf': 42, 'learning_rate': 0.018249584389935666, 'drop_rate': 0.3159627906866598, 'feature_fraction': 0.776384418611036, 'top_rate': 0.7638214562215458, 'other_rate': 0.20724001674310297}. Best is trial#38 with value: 0.375828877131944.\n",
      "[W 2020-04-25 22:47:51,110] The use of `Trial.trial_id` is deprecated. Please use `Trial.number` instead.\n"
     ]
    },
    {
     "name": "stdout",
     "output_type": "stream",
     "text": [
      "trial_id 39 logloss_train 0.32541405231627796 logloss_test 0.4102724433049448 boost_round 145 f1_train 0.6521739130434783 f1_test 0.5027322404371585\n"
     ]
    },
    {
     "name": "stderr",
     "output_type": "stream",
     "text": [
      "[I 2020-04-25 22:47:51,342] Finished trial#39 with value: 0.4102724433049448 with parameters: {'boosting': 'goss', 'num_leaves': 57, 'min_data_in_leaf': 43, 'learning_rate': 0.024791300133479157, 'drop_rate': 0.29146665979292435, 'feature_fraction': 0.7982982839372011, 'top_rate': 0.10479436050987123, 'other_rate': 0.35227742826329694}. Best is trial#38 with value: 0.375828877131944.\n",
      "[W 2020-04-25 22:47:51,906] The use of `Trial.trial_id` is deprecated. Please use `Trial.number` instead.\n"
     ]
    },
    {
     "name": "stdout",
     "output_type": "stream",
     "text": [
      "trial_id 40 logloss_train 0.37749109631608213 logloss_test 0.4415846810543747 boost_round 215 f1_train 0.5549132947976879 f1_test 0.448\n"
     ]
    },
    {
     "name": "stderr",
     "output_type": "stream",
     "text": [
      "[I 2020-04-25 22:47:52,135] Finished trial#40 with value: 0.4415846810543747 with parameters: {'boosting': 'goss', 'num_leaves': 40, 'min_data_in_leaf': 94, 'learning_rate': 0.018353037791892055, 'drop_rate': 0.3283573117435653, 'feature_fraction': 0.697005048255388, 'top_rate': 0.9185736337354036, 'other_rate': 0.07657121665113135}. Best is trial#38 with value: 0.375828877131944.\n",
      "[W 2020-04-25 22:47:52,626] The use of `Trial.trial_id` is deprecated. Please use `Trial.number` instead.\n"
     ]
    },
    {
     "name": "stdout",
     "output_type": "stream",
     "text": [
      "trial_id 41 logloss_train 0.3739283177592254 logloss_test 0.4138621479170408 boost_round 70 f1_train 0.6019417475728155 f1_test 0.5207100591715976\n"
     ]
    },
    {
     "name": "stderr",
     "output_type": "stream",
     "text": [
      "[I 2020-04-25 22:47:52,853] Finished trial#41 with value: 0.4138621479170408 with parameters: {'boosting': 'goss', 'num_leaves': 31, 'min_data_in_leaf': 42, 'learning_rate': 0.015887887531622864, 'drop_rate': 0.2507436638218802, 'feature_fraction': 0.80134876048193, 'top_rate': 0.06412726893471654, 'other_rate': 0.1759703904220054}. Best is trial#38 with value: 0.375828877131944.\n",
      "[W 2020-04-25 22:47:53,563] The use of `Trial.trial_id` is deprecated. Please use `Trial.number` instead.\n"
     ]
    },
    {
     "name": "stdout",
     "output_type": "stream",
     "text": [
      "trial_id 42 logloss_train 0.2507912014074335 logloss_test 0.40319497476800403 boost_round 75 f1_train 0.8178913738019169 f1_test 0.5020576131687242\n"
     ]
    },
    {
     "name": "stderr",
     "output_type": "stream",
     "text": [
      "[I 2020-04-25 22:47:53,785] Finished trial#42 with value: 0.40319497476800403 with parameters: {'boosting': 'goss', 'num_leaves': 37, 'min_data_in_leaf': 23, 'learning_rate': 0.040888513350475254, 'drop_rate': 0.3921779800711399, 'feature_fraction': 0.6547422641489442, 'top_rate': 0.9545335105124555, 'other_rate': 0.024071160499521887}. Best is trial#38 with value: 0.375828877131944.\n",
      "[W 2020-04-25 22:47:54,375] The use of `Trial.trial_id` is deprecated. Please use `Trial.number` instead.\n"
     ]
    },
    {
     "name": "stdout",
     "output_type": "stream",
     "text": [
      "trial_id 43 logloss_train 0.34065499359294443 logloss_test 0.37317703692771426 boost_round 210 f1_train 0.6067961165048543 f1_test 0.6181818181818182\n"
     ]
    },
    {
     "name": "stderr",
     "output_type": "stream",
     "text": [
      "[I 2020-04-25 22:47:54,604] Finished trial#43 with value: 0.37317703692771426 with parameters: {'boosting': 'goss', 'num_leaves': 45, 'min_data_in_leaf': 55, 'learning_rate': 0.01874205124561507, 'drop_rate': 0.3290504038418666, 'feature_fraction': 0.5671480566457097, 'top_rate': 0.6728271850651276, 'other_rate': 0.1435942049103943}. Best is trial#43 with value: 0.37317703692771426.\n",
      "[W 2020-04-25 22:47:55,203] The use of `Trial.trial_id` is deprecated. Please use `Trial.number` instead.\n"
     ]
    },
    {
     "name": "stdout",
     "output_type": "stream",
     "text": [
      "trial_id 44 logloss_train 0.33124362044949857 logloss_test 0.4121407234821969 boost_round 168 f1_train 0.6370757180156658 f1_test 0.5086705202312138\n"
     ]
    },
    {
     "name": "stderr",
     "output_type": "stream",
     "text": [
      "[I 2020-04-25 22:47:55,427] Finished trial#44 with value: 0.4121407234821969 with parameters: {'boosting': 'goss', 'num_leaves': 43, 'min_data_in_leaf': 56, 'learning_rate': 0.019289903536421397, 'drop_rate': 0.31678996834303125, 'feature_fraction': 0.5728775536728359, 'top_rate': 0.45471037370434364, 'other_rate': 0.5336475050743584}. Best is trial#43 with value: 0.37317703692771426.\n",
      "[W 2020-04-25 22:47:55,936] The use of `Trial.trial_id` is deprecated. Please use `Trial.number` instead.\n"
     ]
    },
    {
     "name": "stdout",
     "output_type": "stream",
     "text": [
      "trial_id 45 logloss_train 0.3921341303691805 logloss_test 0.46610736764967653 boost_round 85 f1_train 0.5470588235294117 f1_test 0.40336134453781514\n"
     ]
    },
    {
     "name": "stderr",
     "output_type": "stream",
     "text": [
      "[I 2020-04-25 22:47:56,162] Finished trial#45 with value: 0.46610736764967653 with parameters: {'boosting': 'goss', 'num_leaves': 52, 'min_data_in_leaf': 88, 'learning_rate': 0.023286084587282423, 'drop_rate': 0.33910737419234, 'feature_fraction': 0.7519155554646808, 'top_rate': 0.5670980489101626, 'other_rate': 0.2994846134142967}. Best is trial#43 with value: 0.37317703692771426.\n",
      "[W 2020-04-25 22:47:56,932] The use of `Trial.trial_id` is deprecated. Please use `Trial.number` instead.\n"
     ]
    },
    {
     "name": "stdout",
     "output_type": "stream",
     "text": [
      "trial_id 46 logloss_train 0.30524235604074956 logloss_test 0.43606294656069694 boost_round 94 f1_train 0.7834394904458598 f1_test 0.44578313253012053\n"
     ]
    },
    {
     "name": "stderr",
     "output_type": "stream",
     "text": [
      "[I 2020-04-25 22:47:57,158] Finished trial#46 with value: 0.43606294656069694 with parameters: {'boosting': 'goss', 'num_leaves': 57, 'min_data_in_leaf': 18, 'learning_rate': 0.01606093411445754, 'drop_rate': 0.442614556191863, 'feature_fraction': 0.5595741715257352, 'top_rate': 0.7244629213860024, 'other_rate': 0.1439327041283971}. Best is trial#43 with value: 0.37317703692771426.\n",
      "[W 2020-04-25 22:47:57,642] The use of `Trial.trial_id` is deprecated. Please use `Trial.number` instead.\n"
     ]
    },
    {
     "name": "stdout",
     "output_type": "stream",
     "text": [
      "trial_id 47 logloss_train 0.41995170104774127 logloss_test 0.4645226112660716 boost_round 61 f1_train 0.5252525252525253 f1_test 0.40677966101694923\n"
     ]
    },
    {
     "name": "stderr",
     "output_type": "stream",
     "text": [
      "[I 2020-04-25 22:47:57,869] Finished trial#47 with value: 0.4645226112660716 with parameters: {'boosting': 'goss', 'num_leaves': 45, 'min_data_in_leaf': 124, 'learning_rate': 0.02533319824451339, 'drop_rate': 0.26669243482900296, 'feature_fraction': 0.4898757416595912, 'top_rate': 0.4039243649720013, 'other_rate': 0.4003496264350628}. Best is trial#43 with value: 0.37317703692771426.\n",
      "[W 2020-04-25 22:47:58,443] The use of `Trial.trial_id` is deprecated. Please use `Trial.number` instead.\n"
     ]
    },
    {
     "name": "stdout",
     "output_type": "stream",
     "text": [
      "trial_id 48 logloss_train 0.3499644972892942 logloss_test 0.41485950773596236 boost_round 93 f1_train 0.6141732283464567 f1_test 0.5465838509316769\n"
     ]
    },
    {
     "name": "stderr",
     "output_type": "stream",
     "text": [
      "[I 2020-04-25 22:47:58,674] Finished trial#48 with value: 0.41485950773596236 with parameters: {'boosting': 'goss', 'num_leaves': 23, 'min_data_in_leaf': 55, 'learning_rate': 0.01980634945187771, 'drop_rate': 0.31490627392792586, 'feature_fraction': 0.8977752570879743, 'top_rate': 0.7613947639199401, 'other_rate': 0.23470353644087955}. Best is trial#43 with value: 0.37317703692771426.\n",
      "[W 2020-04-25 22:47:59,845] The use of `Trial.trial_id` is deprecated. Please use `Trial.number` instead.\n"
     ]
    },
    {
     "name": "stdout",
     "output_type": "stream",
     "text": [
      "trial_id 49 logloss_train 0.6898613116587174 logloss_test 0.6898676321176734 boost_round 3 f1_train 0.31966351209253413 f1_test 0.32217573221757323\n"
     ]
    },
    {
     "name": "stderr",
     "output_type": "stream",
     "text": [
      "[I 2020-04-25 22:48:00,075] Finished trial#49 with value: 0.6898676321176734 with parameters: {'boosting': 'dart', 'num_leaves': 76, 'min_data_in_leaf': 78, 'learning_rate': 0.033707471212775224, 'drop_rate': 0.37624599303277495, 'feature_fraction': 0.703602081959711, 'skip_drop': 0.0002910877127176409}. Best is trial#43 with value: 0.37317703692771426.\n",
      "[W 2020-04-25 22:48:00,710] The use of `Trial.trial_id` is deprecated. Please use `Trial.number` instead.\n"
     ]
    },
    {
     "name": "stdout",
     "output_type": "stream",
     "text": [
      "trial_id 50 logloss_train 0.30898822110590324 logloss_test 0.41665776237529895 boost_round 136 f1_train 0.6953846153846154 f1_test 0.48101265822784806\n"
     ]
    },
    {
     "name": "stderr",
     "output_type": "stream",
     "text": [
      "[I 2020-04-25 22:48:00,939] Finished trial#50 with value: 0.41665776237529895 with parameters: {'boosting': 'goss', 'num_leaves': 29, 'min_data_in_leaf': 38, 'learning_rate': 0.017573736613642314, 'drop_rate': 0.23121940602886495, 'feature_fraction': 0.7431195319105938, 'top_rate': 0.5828455492972205, 'other_rate': 0.2867014291821082}. Best is trial#43 with value: 0.37317703692771426.\n",
      "[W 2020-04-25 22:48:01,879] The use of `Trial.trial_id` is deprecated. Please use `Trial.number` instead.\n"
     ]
    },
    {
     "name": "stdout",
     "output_type": "stream",
     "text": [
      "trial_id 51 logloss_train 0.25426474031026447 logloss_test 0.4181002026249138 boost_round 123 f1_train 0.8656716417910447 f1_test 0.47169811320754723\n"
     ]
    },
    {
     "name": "stderr",
     "output_type": "stream",
     "text": [
      "[I 2020-04-25 22:48:02,104] Finished trial#51 with value: 0.4181002026249138 with parameters: {'boosting': 'gbdt', 'num_leaves': 48, 'min_data_in_leaf': 14, 'learning_rate': 0.014913305630225361, 'drop_rate': 0.3431111615630442, 'feature_fraction': 0.6525095627153954}. Best is trial#43 with value: 0.37317703692771426.\n",
      "[W 2020-04-25 22:48:02,864] The use of `Trial.trial_id` is deprecated. Please use `Trial.number` instead.\n"
     ]
    },
    {
     "name": "stdout",
     "output_type": "stream",
     "text": [
      "trial_id 52 logloss_train 0.3091644725173918 logloss_test 0.40317645770915445 boost_round 238 f1_train 0.7115902964959568 f1_test 0.5263157894736841\n"
     ]
    },
    {
     "name": "stderr",
     "output_type": "stream",
     "text": [
      "[I 2020-04-25 22:48:03,100] Finished trial#52 with value: 0.40317645770915445 with parameters: {'boosting': 'gbdt', 'num_leaves': 38, 'min_data_in_leaf': 33, 'learning_rate': 0.011595818496354033, 'drop_rate': 0.21207513310864204, 'feature_fraction': 0.4988995175635708}. Best is trial#43 with value: 0.37317703692771426.\n",
      "[W 2020-04-25 22:48:03,702] The use of `Trial.trial_id` is deprecated. Please use `Trial.number` instead.\n"
     ]
    },
    {
     "name": "stdout",
     "output_type": "stream",
     "text": [
      "trial_id 53 logloss_train 0.3127794400708601 logloss_test 0.41412725362392017 boost_round 163 f1_train 0.6443298969072165 f1_test 0.5022421524663677\n"
     ]
    },
    {
     "name": "stderr",
     "output_type": "stream",
     "text": [
      "[I 2020-04-25 22:48:03,937] Finished trial#53 with value: 0.41412725362392017 with parameters: {'boosting': 'goss', 'num_leaves': 21, 'min_data_in_leaf': 56, 'learning_rate': 0.02353220322663496, 'drop_rate': 0.4137893850245238, 'feature_fraction': 0.5836656220390346, 'top_rate': 0.8173990724210131, 'other_rate': 0.13408452226941667}. Best is trial#43 with value: 0.37317703692771426.\n",
      "[W 2020-04-25 22:48:04,658] The use of `Trial.trial_id` is deprecated. Please use `Trial.number` instead.\n"
     ]
    },
    {
     "name": "stdout",
     "output_type": "stream",
     "text": [
      "trial_id 54 logloss_train 0.24999065026389572 logloss_test 0.4188505317976149 boost_round 64 f1_train 0.9084967320261438 f1_test 0.5063291139240506\n"
     ]
    },
    {
     "name": "stderr",
     "output_type": "stream",
     "text": [
      "[I 2020-04-25 22:48:04,921] Finished trial#54 with value: 0.4188505317976149 with parameters: {'boosting': 'gbdt', 'num_leaves': 33, 'min_data_in_leaf': 7, 'learning_rate': 0.027399441178059376, 'drop_rate': 0.1467804762206159, 'feature_fraction': 0.5388023042884932}. Best is trial#43 with value: 0.37317703692771426.\n",
      "[W 2020-04-25 22:48:06,051] The use of `Trial.trial_id` is deprecated. Please use `Trial.number` instead.\n"
     ]
    },
    {
     "name": "stdout",
     "output_type": "stream",
     "text": [
      "trial_id 55 logloss_train 0.4011750739195299 logloss_test 0.4306831178714651 boost_round 728 f1_train 0.5059665871121719 f1_test 0.48571428571428565\n"
     ]
    },
    {
     "name": "stderr",
     "output_type": "stream",
     "text": [
      "[I 2020-04-25 22:48:06,382] Finished trial#55 with value: 0.4306831178714651 with parameters: {'boosting': 'gbdt', 'num_leaves': 43, 'min_data_in_leaf': 208, 'learning_rate': 0.016768086301648194, 'drop_rate': 0.2707235916823212, 'feature_fraction': 0.7868804529158564}. Best is trial#43 with value: 0.37317703692771426.\n",
      "[W 2020-04-25 22:48:07,156] The use of `Trial.trial_id` is deprecated. Please use `Trial.number` instead.\n"
     ]
    },
    {
     "name": "stdout",
     "output_type": "stream",
     "text": [
      "trial_id 56 logloss_train 0.3638905909533724 logloss_test 0.432862593376973 boost_round 81 f1_train 0.5930232558139534 f1_test 0.47826086956521735\n"
     ]
    },
    {
     "name": "stderr",
     "output_type": "stream",
     "text": [
      "[I 2020-04-25 22:48:07,378] Finished trial#56 with value: 0.432862593376973 with parameters: {'boosting': 'gbdt', 'num_leaves': 31, 'min_data_in_leaf': 64, 'learning_rate': 0.019949495864329304, 'drop_rate': 0.3090511785982755, 'feature_fraction': 0.6349837624383432}. Best is trial#43 with value: 0.37317703692771426.\n",
      "[W 2020-04-25 22:48:07,936] The use of `Trial.trial_id` is deprecated. Please use `Trial.number` instead.\n"
     ]
    },
    {
     "name": "stdout",
     "output_type": "stream",
     "text": [
      "trial_id 57 logloss_train 0.3133375283981259 logloss_test 0.41756015294505994 boost_round 241 f1_train 0.6875 f1_test 0.48132780082987553\n"
     ]
    },
    {
     "name": "stderr",
     "output_type": "stream",
     "text": [
      "[I 2020-04-25 22:48:08,166] Finished trial#57 with value: 0.41756015294505994 with parameters: {'boosting': 'goss', 'num_leaves': 8, 'min_data_in_leaf': 22, 'learning_rate': 0.014295130974789249, 'drop_rate': 0.2504408768963691, 'feature_fraction': 0.47622477542399133, 'top_rate': 0.6457053142668272, 'other_rate': 0.16231638105887836}. Best is trial#43 with value: 0.37317703692771426.\n",
      "[W 2020-04-25 22:48:08,829] The use of `Trial.trial_id` is deprecated. Please use `Trial.number` instead.\n"
     ]
    },
    {
     "name": "stdout",
     "output_type": "stream",
     "text": [
      "trial_id 58 logloss_train 0.3329274479986205 logloss_test 0.41044552215270247 boost_round 387 f1_train 0.64 f1_test 0.5095541401273885\n"
     ]
    },
    {
     "name": "stderr",
     "output_type": "stream",
     "text": [
      "[I 2020-04-25 22:48:09,049] Finished trial#58 with value: 0.41044552215270247 with parameters: {'boosting': 'gbdt', 'num_leaves': 54, 'min_data_in_leaf': 77, 'learning_rate': 0.012029712799187669, 'drop_rate': 0.4656507990632792, 'feature_fraction': 0.32623605995623056}. Best is trial#43 with value: 0.37317703692771426.\n",
      "[W 2020-04-25 22:48:10,268] The use of `Trial.trial_id` is deprecated. Please use `Trial.number` instead.\n"
     ]
    },
    {
     "name": "stdout",
     "output_type": "stream",
     "text": [
      "trial_id 59 logloss_train 0.6989692163781654 logloss_test 0.6989390262197073 boost_round 4 f1_train 0.31966351209253413 f1_test 0.32217573221757323\n"
     ]
    },
    {
     "name": "stderr",
     "output_type": "stream",
     "text": [
      "[I 2020-04-25 22:48:10,501] Finished trial#59 with value: 0.6989390262197073 with parameters: {'boosting': 'dart', 'num_leaves': 25, 'min_data_in_leaf': 48, 'learning_rate': 0.021166698876382256, 'drop_rate': 0.3558593837583738, 'feature_fraction': 0.3914502064818735, 'skip_drop': 0.06778626755094472}. Best is trial#43 with value: 0.37317703692771426.\n",
      "[W 2020-04-25 22:48:11,038] The use of `Trial.trial_id` is deprecated. Please use `Trial.number` instead.\n"
     ]
    },
    {
     "name": "stdout",
     "output_type": "stream",
     "text": [
      "trial_id 60 logloss_train 0.4005790633580732 logloss_test 0.4511205229671211 boost_round 204 f1_train 0.5286783042394015 f1_test 0.43181818181818177\n"
     ]
    },
    {
     "name": "stderr",
     "output_type": "stream",
     "text": [
      "[I 2020-04-25 22:48:11,267] Finished trial#60 with value: 0.4511205229671211 with parameters: {'boosting': 'gbdt', 'num_leaves': 35, 'min_data_in_leaf': 99, 'learning_rate': 0.012971720165742434, 'drop_rate': 0.11235003000921427, 'feature_fraction': 0.5461364407738524}. Best is trial#43 with value: 0.37317703692771426.\n",
      "[W 2020-04-25 22:48:12,099] The use of `Trial.trial_id` is deprecated. Please use `Trial.number` instead.\n"
     ]
    },
    {
     "name": "stdout",
     "output_type": "stream",
     "text": [
      "trial_id 61 logloss_train 0.26997106643101404 logloss_test 0.39909531187211067 boost_round 293 f1_train 0.7679083094555873 f1_test 0.5029940119760478\n"
     ]
    },
    {
     "name": "stderr",
     "output_type": "stream",
     "text": [
      "[I 2020-04-25 22:48:12,327] Finished trial#61 with value: 0.39909531187211067 with parameters: {'boosting': 'gbdt', 'num_leaves': 26, 'min_data_in_leaf': 30, 'learning_rate': 0.010918029337824734, 'drop_rate': 0.5746048727312414, 'feature_fraction': 0.6119278991260264}. Best is trial#43 with value: 0.37317703692771426.\n",
      "[W 2020-04-25 22:48:12,972] The use of `Trial.trial_id` is deprecated. Please use `Trial.number` instead.\n"
     ]
    },
    {
     "name": "stdout",
     "output_type": "stream",
     "text": [
      "trial_id 62 logloss_train 0.3121390946786299 logloss_test 0.4199024742199002 boost_round 215 f1_train 0.6802721088435374 f1_test 0.4736842105263157\n"
     ]
    },
    {
     "name": "stderr",
     "output_type": "stream",
     "text": [
      "[I 2020-04-25 22:48:13,198] Finished trial#62 with value: 0.4199024742199002 with parameters: {'boosting': 'gbdt', 'num_leaves': 17, 'min_data_in_leaf': 34, 'learning_rate': 0.010005654021014648, 'drop_rate': 0.6569448749452053, 'feature_fraction': 0.6650706988907983}. Best is trial#43 with value: 0.37317703692771426.\n",
      "[W 2020-04-25 22:48:13,855] The use of `Trial.trial_id` is deprecated. Please use `Trial.number` instead.\n"
     ]
    },
    {
     "name": "stdout",
     "output_type": "stream",
     "text": [
      "trial_id 63 logloss_train 0.32510655474448563 logloss_test 0.4303208679790678 boost_round 77 f1_train 0.7319884726224783 f1_test 0.4791666666666667\n"
     ]
    },
    {
     "name": "stderr",
     "output_type": "stream",
     "text": [
      "[I 2020-04-25 22:48:14,080] Finished trial#63 with value: 0.4303208679790678 with parameters: {'boosting': 'gbdt', 'num_leaves': 22, 'min_data_in_leaf': 17, 'learning_rate': 0.014562232161194491, 'drop_rate': 0.6023034622516925, 'feature_fraction': 0.8427922403949732}. Best is trial#43 with value: 0.37317703692771426.\n",
      "[W 2020-04-25 22:48:14,717] The use of `Trial.trial_id` is deprecated. Please use `Trial.number` instead.\n"
     ]
    },
    {
     "name": "stdout",
     "output_type": "stream",
     "text": [
      "trial_id 64 logloss_train 0.3461110839004544 logloss_test 0.42086882360863703 boost_round 186 f1_train 0.6310160427807486 f1_test 0.4647302904564315\n"
     ]
    },
    {
     "name": "stderr",
     "output_type": "stream",
     "text": [
      "[I 2020-04-25 22:48:14,941] Finished trial#64 with value: 0.42086882360863703 with parameters: {'boosting': 'gbdt', 'num_leaves': 28, 'min_data_in_leaf': 48, 'learning_rate': 0.01015389771133926, 'drop_rate': 0.7065405443024275, 'feature_fraction': 0.6252697809428374}. Best is trial#43 with value: 0.37317703692771426.\n",
      "[W 2020-04-25 22:48:15,493] The use of `Trial.trial_id` is deprecated. Please use `Trial.number` instead.\n"
     ]
    },
    {
     "name": "stdout",
     "output_type": "stream",
     "text": [
      "trial_id 65 logloss_train 0.35363923959821875 logloss_test 0.4141497650979495 boost_round 121 f1_train 0.6194690265486725 f1_test 0.4873096446700507\n"
     ]
    },
    {
     "name": "stderr",
     "output_type": "stream",
     "text": [
      "[I 2020-04-25 22:48:15,714] Finished trial#65 with value: 0.4141497650979495 with parameters: {'boosting': 'gbdt', 'num_leaves': 31, 'min_data_in_leaf': 71, 'learning_rate': 0.01691710165896433, 'drop_rate': 0.5333596329853996, 'feature_fraction': 0.725728451375286}. Best is trial#43 with value: 0.37317703692771426.\n",
      "[W 2020-04-25 22:48:16,494] The use of `Trial.trial_id` is deprecated. Please use `Trial.number` instead.\n"
     ]
    },
    {
     "name": "stdout",
     "output_type": "stream",
     "text": [
      "trial_id 66 logloss_train 0.3294633569266248 logloss_test 0.4175332339404706 boost_round 168 f1_train 0.6512968299711817 f1_test 0.48181818181818176\n"
     ]
    },
    {
     "name": "stderr",
     "output_type": "stream",
     "text": [
      "[I 2020-04-25 22:48:16,832] Finished trial#66 with value: 0.4175332339404706 with parameters: {'boosting': 'gbdt', 'num_leaves': 39, 'min_data_in_leaf': 65, 'learning_rate': 0.018664696357218267, 'drop_rate': 0.297452847675385, 'feature_fraction': 0.591385586943449}. Best is trial#43 with value: 0.37317703692771426.\n",
      "[W 2020-04-25 22:48:17,688] The use of `Trial.trial_id` is deprecated. Please use `Trial.number` instead.\n"
     ]
    },
    {
     "name": "stdout",
     "output_type": "stream",
     "text": [
      "trial_id 67 logloss_train 0.26911899190825145 logloss_test 0.41289909269350034 boost_round 203 f1_train 0.8115015974440896 f1_test 0.5031446540880503\n"
     ]
    },
    {
     "name": "stderr",
     "output_type": "stream",
     "text": [
      "[I 2020-04-25 22:48:17,909] Finished trial#67 with value: 0.41289909269350034 with parameters: {'boosting': 'gbdt', 'num_leaves': 16, 'min_data_in_leaf': 6, 'learning_rate': 0.012521167210901497, 'drop_rate': 0.40574656447569796, 'feature_fraction': 0.515017073549779}. Best is trial#43 with value: 0.37317703692771426.\n",
      "[W 2020-04-25 22:48:18,462] The use of `Trial.trial_id` is deprecated. Please use `Trial.number` instead.\n"
     ]
    },
    {
     "name": "stdout",
     "output_type": "stream",
     "text": [
      "trial_id 68 logloss_train 0.303589963514658 logloss_test 0.40635177033554704 boost_round 24 f1_train 0.7253521126760564 f1_test 0.5025125628140703\n"
     ]
    },
    {
     "name": "stderr",
     "output_type": "stream",
     "text": [
      "[I 2020-04-25 22:48:18,682] Finished trial#68 with value: 0.40635177033554704 with parameters: {'boosting': 'gbdt', 'num_leaves': 46, 'min_data_in_leaf': 27, 'learning_rate': 0.099122465147699, 'drop_rate': 0.18855671408932595, 'feature_fraction': 0.4528657970109755}. Best is trial#43 with value: 0.37317703692771426.\n",
      "[W 2020-04-25 22:48:19,378] The use of `Trial.trial_id` is deprecated. Please use `Trial.number` instead.\n"
     ]
    },
    {
     "name": "stdout",
     "output_type": "stream",
     "text": [
      "trial_id 69 logloss_train 0.29348035784159704 logloss_test 0.38408858708808863 boost_round 344 f1_train 0.7383720930232559 f1_test 0.5321100917431193\n"
     ]
    },
    {
     "name": "stderr",
     "output_type": "stream",
     "text": [
      "[I 2020-04-25 22:48:19,594] Finished trial#69 with value: 0.38408858708808863 with parameters: {'boosting': 'gbdt', 'num_leaves': 20, 'min_data_in_leaf': 40, 'learning_rate': 0.010894973005084992, 'drop_rate': 0.16963248500319747, 'feature_fraction': 0.573323248901961}. Best is trial#43 with value: 0.37317703692771426.\n",
      "[W 2020-04-25 22:48:20,109] The use of `Trial.trial_id` is deprecated. Please use `Trial.number` instead.\n"
     ]
    },
    {
     "name": "stdout",
     "output_type": "stream",
     "text": [
      "trial_id 70 logloss_train 0.3311472341037288 logloss_test 0.42967095180924736 boost_round 159 f1_train 0.6708463949843261 f1_test 0.45\n"
     ]
    },
    {
     "name": "stderr",
     "output_type": "stream",
     "text": [
      "[I 2020-04-25 22:48:20,327] Finished trial#70 with value: 0.42967095180924736 with parameters: {'boosting': 'goss', 'num_leaves': 11, 'min_data_in_leaf': 42, 'learning_rate': 0.013518033583997911, 'drop_rate': 0.1651156950728871, 'feature_fraction': 0.5710154718674079, 'top_rate': 0.32233786401443815, 'other_rate': 0.4464150685275263}. Best is trial#43 with value: 0.37317703692771426.\n",
      "[W 2020-04-25 22:48:21,025] The use of `Trial.trial_id` is deprecated. Please use `Trial.number` instead.\n"
     ]
    },
    {
     "name": "stdout",
     "output_type": "stream",
     "text": [
      "trial_id 71 logloss_train 0.2870765837092621 logloss_test 0.39956416121353944 boost_round 284 f1_train 0.7308781869688386 f1_test 0.5251396648044693\n"
     ]
    },
    {
     "name": "stderr",
     "output_type": "stream",
     "text": [
      "[I 2020-04-25 22:48:21,241] Finished trial#71 with value: 0.39956416121353944 with parameters: {'boosting': 'gbdt', 'num_leaves': 19, 'min_data_in_leaf': 36, 'learning_rate': 0.011126805996501194, 'drop_rate': 0.15341524331253245, 'feature_fraction': 0.6046348059445443}. Best is trial#43 with value: 0.37317703692771426.\n",
      "[W 2020-04-25 22:48:21,885] The use of `Trial.trial_id` is deprecated. Please use `Trial.number` instead.\n"
     ]
    },
    {
     "name": "stdout",
     "output_type": "stream",
     "text": [
      "trial_id 72 logloss_train 0.3378100113756917 logloss_test 0.37770139032809347 boost_round 347 f1_train 0.6266318537859008 f1_test 0.5512820512820513\n"
     ]
    },
    {
     "name": "stderr",
     "output_type": "stream",
     "text": [
      "[I 2020-04-25 22:48:22,101] Finished trial#72 with value: 0.37770139032809347 with parameters: {'boosting': 'gbdt', 'num_leaves': 25, 'min_data_in_leaf': 61, 'learning_rate': 0.010492102856530976, 'drop_rate': 0.18083892504357685, 'feature_fraction': 0.6673231198927202}. Best is trial#43 with value: 0.37317703692771426.\n",
      "[W 2020-04-25 22:48:22,705] The use of `Trial.trial_id` is deprecated. Please use `Trial.number` instead.\n"
     ]
    },
    {
     "name": "stdout",
     "output_type": "stream",
     "text": [
      "trial_id 73 logloss_train 0.3218534644276724 logloss_test 0.4206518005083954 boost_round 269 f1_train 0.6287262872628726 f1_test 0.5\n"
     ]
    },
    {
     "name": "stderr",
     "output_type": "stream",
     "text": [
      "[I 2020-04-25 22:48:22,924] Finished trial#73 with value: 0.4206518005083954 with parameters: {'boosting': 'gbdt', 'num_leaves': 24, 'min_data_in_leaf': 60, 'learning_rate': 0.011822102542581607, 'drop_rate': 0.21056610696555936, 'feature_fraction': 0.7731792372466283}. Best is trial#43 with value: 0.37317703692771426.\n",
      "[W 2020-04-25 22:48:23,470] The use of `Trial.trial_id` is deprecated. Please use `Trial.number` instead.\n"
     ]
    },
    {
     "name": "stdout",
     "output_type": "stream",
     "text": [
      "trial_id 74 logloss_train 0.3193487043140731 logloss_test 0.37854294785071724 boost_round 160 f1_train 0.6701570680628273 f1_test 0.5425531914893618\n"
     ]
    },
    {
     "name": "stderr",
     "output_type": "stream",
     "text": [
      "[I 2020-04-25 22:48:23,688] Finished trial#74 with value: 0.37854294785071724 with parameters: {'boosting': 'gbdt', 'num_leaves': 13, 'min_data_in_leaf': 50, 'learning_rate': 0.02184714127516131, 'drop_rate': 0.175184020756637, 'feature_fraction': 0.6779388036342053}. Best is trial#43 with value: 0.37317703692771426.\n",
      "[W 2020-04-25 22:48:24,246] The use of `Trial.trial_id` is deprecated. Please use `Trial.number` instead.\n"
     ]
    },
    {
     "name": "stdout",
     "output_type": "stream",
     "text": [
      "trial_id 75 logloss_train 0.32776192883697197 logloss_test 0.39383604684341006 boost_round 212 f1_train 0.64 f1_test 0.5204081632653061\n"
     ]
    },
    {
     "name": "stderr",
     "output_type": "stream",
     "text": [
      "[I 2020-04-25 22:48:24,464] Finished trial#75 with value: 0.39383604684341006 with parameters: {'boosting': 'gbdt', 'num_leaves': 13, 'min_data_in_leaf': 80, 'learning_rate': 0.021927587607700593, 'drop_rate': 0.14926990096236636, 'feature_fraction': 0.6791016727411745}. Best is trial#43 with value: 0.37317703692771426.\n",
      "[W 2020-04-25 22:48:25,080] The use of `Trial.trial_id` is deprecated. Please use `Trial.number` instead.\n"
     ]
    },
    {
     "name": "stdout",
     "output_type": "stream",
     "text": [
      "trial_id 76 logloss_train 0.29409324853996927 logloss_test 0.40265216182152447 boost_round 244 f1_train 0.6824925816023738 f1_test 0.4931506849315069\n"
     ]
    },
    {
     "name": "stderr",
     "output_type": "stream",
     "text": [
      "[I 2020-04-25 22:48:25,298] Finished trial#76 with value: 0.40265216182152447 with parameters: {'boosting': 'gbdt', 'num_leaves': 19, 'min_data_in_leaf': 51, 'learning_rate': 0.01684070750527104, 'drop_rate': 0.12934916473776914, 'feature_fraction': 0.7158730338006054}. Best is trial#43 with value: 0.37317703692771426.\n",
      "[W 2020-04-25 22:48:25,822] The use of `Trial.trial_id` is deprecated. Please use `Trial.number` instead.\n"
     ]
    },
    {
     "name": "stdout",
     "output_type": "stream",
     "text": [
      "trial_id 77 logloss_train 0.3390669999475787 logloss_test 0.4150194281611653 boost_round 119 f1_train 0.6204819277108434 f1_test 0.47787610619469034\n"
     ]
    },
    {
     "name": "stderr",
     "output_type": "stream",
     "text": [
      "[I 2020-04-25 22:48:26,044] Finished trial#77 with value: 0.4150194281611653 with parameters: {'boosting': 'gbdt', 'num_leaves': 17, 'min_data_in_leaf': 69, 'learning_rate': 0.022453951931122918, 'drop_rate': 0.1767122271239169, 'feature_fraction': 0.8336512653594683}. Best is trial#43 with value: 0.37317703692771426.\n",
      "[W 2020-04-25 22:48:26,638] The use of `Trial.trial_id` is deprecated. Please use `Trial.number` instead.\n"
     ]
    },
    {
     "name": "stdout",
     "output_type": "stream",
     "text": [
      "trial_id 78 logloss_train 0.3194626141367896 logloss_test 0.410143893980775 boost_round 183 f1_train 0.6627565982404692 f1_test 0.5032258064516129\n"
     ]
    },
    {
     "name": "stderr",
     "output_type": "stream",
     "text": [
      "[I 2020-04-25 22:48:26,855] Finished trial#78 with value: 0.410143893980775 with parameters: {'boosting': 'gbdt', 'num_leaves': 41, 'min_data_in_leaf': 48, 'learning_rate': 0.015360760074168523, 'drop_rate': 0.1971541393511276, 'feature_fraction': 0.6390093892232719}. Best is trial#43 with value: 0.37317703692771426.\n",
      "[W 2020-04-25 22:48:27,402] The use of `Trial.trial_id` is deprecated. Please use `Trial.number` instead.\n"
     ]
    },
    {
     "name": "stdout",
     "output_type": "stream",
     "text": [
      "trial_id 79 logloss_train 0.38625132418342195 logloss_test 0.43880848464247946 boost_round 206 f1_train 0.5524861878453038 f1_test 0.4576271186440678\n"
     ]
    },
    {
     "name": "stderr",
     "output_type": "stream",
     "text": [
      "[I 2020-04-25 22:48:27,614] Finished trial#79 with value: 0.43880848464247946 with parameters: {'boosting': 'goss', 'num_leaves': 14, 'min_data_in_leaf': 108, 'learning_rate': 0.020651933453616378, 'drop_rate': 0.22675750386117105, 'feature_fraction': 0.6681634327375854, 'top_rate': 0.9925182205281238, 'other_rate': 0.001219369250550226}. Best is trial#43 with value: 0.37317703692771426.\n",
      "[W 2020-04-25 22:48:28,319] The use of `Trial.trial_id` is deprecated. Please use `Trial.number` instead.\n"
     ]
    },
    {
     "name": "stdout",
     "output_type": "stream",
     "text": [
      "trial_id 80 logloss_train 0.680861274612597 logloss_test 0.6810572962072182 boost_round 8 f1_train 0.42318840579710143 f1_test 0.39644970414201186\n"
     ]
    },
    {
     "name": "stderr",
     "output_type": "stream",
     "text": [
      "[I 2020-04-25 22:48:28,539] Finished trial#80 with value: 0.6810572962072182 with parameters: {'boosting': 'dart', 'num_leaves': 21, 'min_data_in_leaf': 73, 'learning_rate': 0.019294685703310378, 'drop_rate': 0.13966737352124747, 'feature_fraction': 0.6924302053077803, 'skip_drop': 1.8139882413044934e-06}. Best is trial#43 with value: 0.37317703692771426.\n",
      "[W 2020-04-25 22:48:29,028] The use of `Trial.trial_id` is deprecated. Please use `Trial.number` instead.\n"
     ]
    },
    {
     "name": "stdout",
     "output_type": "stream",
     "text": [
      "trial_id 81 logloss_train 0.32621009507657917 logloss_test 0.3836579222631018 boost_round 228 f1_train 0.6495726495726496 f1_test 0.5638297872340425\n"
     ]
    },
    {
     "name": "stderr",
     "output_type": "stream",
     "text": [
      "[I 2020-04-25 22:48:29,248] Finished trial#81 with value: 0.3836579222631018 with parameters: {'boosting': 'gbdt', 'num_leaves': 7, 'min_data_in_leaf': 42, 'learning_rate': 0.018256637103444565, 'drop_rate': 0.17918981087666358, 'feature_fraction': 0.5493730628015947}. Best is trial#43 with value: 0.37317703692771426.\n",
      "[W 2020-04-25 22:48:29,743] The use of `Trial.trial_id` is deprecated. Please use `Trial.number` instead.\n"
     ]
    },
    {
     "name": "stdout",
     "output_type": "stream",
     "text": [
      "trial_id 82 logloss_train 0.3295888909879212 logloss_test 0.3881304248434971 boost_round 242 f1_train 0.6335403726708074 f1_test 0.5294117647058822\n"
     ]
    },
    {
     "name": "stderr",
     "output_type": "stream",
     "text": [
      "[I 2020-04-25 22:48:29,958] Finished trial#82 with value: 0.3881304248434971 with parameters: {'boosting': 'gbdt', 'num_leaves': 7, 'min_data_in_leaf': 41, 'learning_rate': 0.018249445997418404, 'drop_rate': 0.17462521036961115, 'feature_fraction': 0.5107418262950545}. Best is trial#43 with value: 0.37317703692771426.\n",
      "[W 2020-04-25 22:48:30,418] The use of `Trial.trial_id` is deprecated. Please use `Trial.number` instead.\n"
     ]
    },
    {
     "name": "stdout",
     "output_type": "stream",
     "text": [
      "trial_id 83 logloss_train 0.34233163320479504 logloss_test 0.42441971659847655 boost_round 161 f1_train 0.5941644562334217 f1_test 0.49504950495049516\n"
     ]
    },
    {
     "name": "stderr",
     "output_type": "stream",
     "text": [
      "[I 2020-04-25 22:48:30,635] Finished trial#83 with value: 0.42441971659847655 with parameters: {'boosting': 'gbdt', 'num_leaves': 6, 'min_data_in_leaf': 62, 'learning_rate': 0.018585359815134588, 'drop_rate': 0.17137644008832376, 'feature_fraction': 0.5102024623704484}. Best is trial#43 with value: 0.37317703692771426.\n",
      "[W 2020-04-25 22:48:31,139] The use of `Trial.trial_id` is deprecated. Please use `Trial.number` instead.\n"
     ]
    },
    {
     "name": "stdout",
     "output_type": "stream",
     "text": [
      "trial_id 84 logloss_train 0.2919471249755607 logloss_test 0.4010238291789375 boost_round 163 f1_train 0.7228915662650601 f1_test 0.49541284403669733\n"
     ]
    },
    {
     "name": "stderr",
     "output_type": "stream",
     "text": [
      "[I 2020-04-25 22:48:31,358] Finished trial#84 with value: 0.4010238291789375 with parameters: {'boosting': 'gbdt', 'num_leaves': 10, 'min_data_in_leaf': 24, 'learning_rate': 0.024276183625769276, 'drop_rate': 0.189302796460615, 'feature_fraction': 0.552565512783123}. Best is trial#43 with value: 0.37317703692771426.\n",
      "[W 2020-04-25 22:48:31,934] The use of `Trial.trial_id` is deprecated. Please use `Trial.number` instead.\n"
     ]
    },
    {
     "name": "stdout",
     "output_type": "stream",
     "text": [
      "trial_id 85 logloss_train 0.3664046931033731 logloss_test 0.44347924457722315 boost_round 337 f1_train 0.570694087403599 f1_test 0.4489795918367347\n"
     ]
    },
    {
     "name": "stderr",
     "output_type": "stream",
     "text": [
      "[I 2020-04-25 22:48:32,145] Finished trial#85 with value: 0.44347924457722315 with parameters: {'boosting': 'gbdt', 'num_leaves': 8, 'min_data_in_leaf': 86, 'learning_rate': 0.015928347714714165, 'drop_rate': 0.15876997328564338, 'feature_fraction': 0.47223789697385865}. Best is trial#43 with value: 0.37317703692771426.\n",
      "[W 2020-04-25 22:48:32,592] The use of `Trial.trial_id` is deprecated. Please use `Trial.number` instead.\n"
     ]
    },
    {
     "name": "stdout",
     "output_type": "stream",
     "text": [
      "trial_id 86 logloss_train 0.3433332574843941 logloss_test 0.40641873042825905 boost_round 135 f1_train 0.6145833333333333 f1_test 0.4953271028037384\n"
     ]
    },
    {
     "name": "stderr",
     "output_type": "stream",
     "text": [
      "[I 2020-04-25 22:48:32,805] Finished trial#86 with value: 0.40641873042825905 with parameters: {'boosting': 'gbdt', 'num_leaves': 5, 'min_data_in_leaf': 43, 'learning_rate': 0.029033070691991635, 'drop_rate': 0.1857828855844875, 'feature_fraction': 0.5640629059002447}. Best is trial#43 with value: 0.37317703692771426.\n",
      "[W 2020-04-25 22:48:33,369] The use of `Trial.trial_id` is deprecated. Please use `Trial.number` instead.\n"
     ]
    },
    {
     "name": "stdout",
     "output_type": "stream",
     "text": [
      "trial_id 87 logloss_train 0.3298262133789698 logloss_test 0.39514062356520957 boost_round 153 f1_train 0.6468842729970327 f1_test 0.5432098765432098\n"
     ]
    },
    {
     "name": "stderr",
     "output_type": "stream",
     "text": [
      "[I 2020-04-25 22:48:33,591] Finished trial#87 with value: 0.39514062356520957 with parameters: {'boosting': 'gbdt', 'num_leaves': 15, 'min_data_in_leaf': 54, 'learning_rate': 0.020282573824699977, 'drop_rate': 0.17141763983640154, 'feature_fraction': 0.5372831214797371}. Best is trial#43 with value: 0.37317703692771426.\n",
      "[W 2020-04-25 22:48:34,134] The use of `Trial.trial_id` is deprecated. Please use `Trial.number` instead.\n"
     ]
    },
    {
     "name": "stdout",
     "output_type": "stream",
     "text": [
      "trial_id 88 logloss_train 0.3433692548587672 logloss_test 0.41412096873484666 boost_round 158 f1_train 0.6282722513089006 f1_test 0.47567567567567565\n"
     ]
    },
    {
     "name": "stderr",
     "output_type": "stream",
     "text": [
      "[I 2020-04-25 22:48:34,355] Finished trial#88 with value: 0.41412096873484666 with parameters: {'boosting': 'goss', 'num_leaves': 11, 'min_data_in_leaf': 59, 'learning_rate': 0.018630448068038714, 'drop_rate': 0.20935391085543018, 'feature_fraction': 0.5245502937788387, 'top_rate': 0.516983934624312, 'other_rate': 0.2823346147502918}. Best is trial#43 with value: 0.37317703692771426.\n",
      "[W 2020-04-25 22:48:34,917] The use of `Trial.trial_id` is deprecated. Please use `Trial.number` instead.\n"
     ]
    },
    {
     "name": "stdout",
     "output_type": "stream",
     "text": [
      "trial_id 89 logloss_train 0.32990932880276835 logloss_test 0.4181072864260905 boost_round 85 f1_train 0.6811594202898551 f1_test 0.5\n"
     ]
    },
    {
     "name": "stderr",
     "output_type": "stream",
     "text": [
      "[I 2020-04-25 22:48:35,130] Finished trial#89 with value: 0.4181072864260905 with parameters: {'boosting': 'gbdt', 'num_leaves': 69, 'min_data_in_leaf': 36, 'learning_rate': 0.02580266418931039, 'drop_rate': 0.13835638714401371, 'feature_fraction': 0.4196946756451345}. Best is trial#43 with value: 0.37317703692771426.\n",
      "[W 2020-04-25 22:48:35,658] The use of `Trial.trial_id` is deprecated. Please use `Trial.number` instead.\n"
     ]
    },
    {
     "name": "stdout",
     "output_type": "stream",
     "text": [
      "trial_id 90 logloss_train 0.30073444147692013 logloss_test 0.4185223321197404 boost_round 151 f1_train 0.6843853820598007 f1_test 0.4946236559139785\n"
     ]
    },
    {
     "name": "stderr",
     "output_type": "stream",
     "text": [
      "[I 2020-04-25 22:48:35,873] Finished trial#90 with value: 0.4185223321197404 with parameters: {'boosting': 'gbdt', 'num_leaves': 13, 'min_data_in_leaf': 46, 'learning_rate': 0.022543923131514054, 'drop_rate': 0.12264690514964548, 'feature_fraction': 0.579584750929848}. Best is trial#43 with value: 0.37317703692771426.\n",
      "[W 2020-04-25 22:48:36,552] The use of `Trial.trial_id` is deprecated. Please use `Trial.number` instead.\n"
     ]
    },
    {
     "name": "stdout",
     "output_type": "stream",
     "text": [
      "trial_id 91 logloss_train 0.2551973665486499 logloss_test 0.4211947001785824 boost_round 130 f1_train 0.8391167192429022 f1_test 0.4791666666666667\n"
     ]
    },
    {
     "name": "stderr",
     "output_type": "stream",
     "text": [
      "[I 2020-04-25 22:48:36,769] Finished trial#91 with value: 0.4211947001785824 with parameters: {'boosting': 'gbdt', 'num_leaves': 23, 'min_data_in_leaf': 14, 'learning_rate': 0.01740852424051853, 'drop_rate': 0.15925607593079422, 'feature_fraction': 0.6254685797616082}. Best is trial#43 with value: 0.37317703692771426.\n",
      "[W 2020-04-25 22:48:37,420] The use of `Trial.trial_id` is deprecated. Please use `Trial.number` instead.\n"
     ]
    },
    {
     "name": "stdout",
     "output_type": "stream",
     "text": [
      "trial_id 92 logloss_train 0.2953780298973779 logloss_test 0.3890736431414812 boost_round 197 f1_train 0.6987951807228916 f1_test 0.5205479452054795\n"
     ]
    },
    {
     "name": "stderr",
     "output_type": "stream",
     "text": [
      "[I 2020-04-25 22:48:37,640] Finished trial#92 with value: 0.3890736431414812 with parameters: {'boosting': 'gbdt', 'num_leaves': 21, 'min_data_in_leaf': 39, 'learning_rate': 0.016461759274077368, 'drop_rate': 0.2412766543789061, 'feature_fraction': 0.6494432078057408}. Best is trial#43 with value: 0.37317703692771426.\n",
      "[W 2020-04-25 22:48:38,275] The use of `Trial.trial_id` is deprecated. Please use `Trial.number` instead.\n"
     ]
    },
    {
     "name": "stdout",
     "output_type": "stream",
     "text": [
      "trial_id 93 logloss_train 0.2926678787414915 logloss_test 0.4118119578807748 boost_round 154 f1_train 0.7696793002915452 f1_test 0.49655172413793097\n"
     ]
    },
    {
     "name": "stderr",
     "output_type": "stream",
     "text": [
      "[I 2020-04-25 22:48:38,492] Finished trial#93 with value: 0.4118119578807748 with parameters: {'boosting': 'gbdt', 'num_leaves': 50, 'min_data_in_leaf': 32, 'learning_rate': 0.017943780151046102, 'drop_rate': 0.27289008179695373, 'feature_fraction': 0.5984798266585429}. Best is trial#43 with value: 0.37317703692771426.\n",
      "[W 2020-04-25 22:48:39,168] The use of `Trial.trial_id` is deprecated. Please use `Trial.number` instead.\n"
     ]
    },
    {
     "name": "stdout",
     "output_type": "stream",
     "text": [
      "trial_id 94 logloss_train 0.2968793460214091 logloss_test 0.41462416538283897 boost_round 151 f1_train 0.7397260273972605 f1_test 0.48333333333333334\n"
     ]
    },
    {
     "name": "stderr",
     "output_type": "stream",
     "text": [
      "[I 2020-04-25 22:48:39,382] Finished trial#94 with value: 0.41462416538283897 with parameters: {'boosting': 'gbdt', 'num_leaves': 29, 'min_data_in_leaf': 23, 'learning_rate': 0.015103419278184264, 'drop_rate': 0.37278980310591536, 'feature_fraction': 0.4849291186489353}. Best is trial#43 with value: 0.37317703692771426.\n",
      "[W 2020-04-25 22:48:40,017] The use of `Trial.trial_id` is deprecated. Please use `Trial.number` instead.\n"
     ]
    },
    {
     "name": "stdout",
     "output_type": "stream",
     "text": [
      "trial_id 95 logloss_train 0.3193300828844487 logloss_test 0.4070689124896267 boost_round 242 f1_train 0.6647398843930636 f1_test 0.5102040816326531\n"
     ]
    },
    {
     "name": "stderr",
     "output_type": "stream",
     "text": [
      "[I 2020-04-25 22:48:40,233] Finished trial#95 with value: 0.4070689124896267 with parameters: {'boosting': 'goss', 'num_leaves': 18, 'min_data_in_leaf': 53, 'learning_rate': 0.01381267994165001, 'drop_rate': 0.2020909589920117, 'feature_fraction': 0.5485342102154076, 'top_rate': 0.9985863550345626, 'other_rate': 6.226619489606657e-05}. Best is trial#43 with value: 0.37317703692771426.\n",
      "[W 2020-04-25 22:48:40,888] The use of `Trial.trial_id` is deprecated. Please use `Trial.number` instead.\n"
     ]
    },
    {
     "name": "stdout",
     "output_type": "stream",
     "text": [
      "trial_id 96 logloss_train 0.236382297828077 logloss_test 0.38572250224861176 boost_round 237 f1_train 0.8253012048192772 f1_test 0.536842105263158\n"
     ]
    },
    {
     "name": "stderr",
     "output_type": "stream",
     "text": [
      "[I 2020-04-25 22:48:41,104] Finished trial#96 with value: 0.38572250224861176 with parameters: {'boosting': 'gbdt', 'num_leaves': 33, 'min_data_in_leaf': 41, 'learning_rate': 0.034579984906539074, 'drop_rate': 0.3357117800788032, 'feature_fraction': 0.45079819450960185}. Best is trial#43 with value: 0.37317703692771426.\n",
      "[W 2020-04-25 22:48:41,610] The use of `Trial.trial_id` is deprecated. Please use `Trial.number` instead.\n"
     ]
    },
    {
     "name": "stdout",
     "output_type": "stream",
     "text": [
      "trial_id 97 logloss_train 0.34825697965158375 logloss_test 0.40993107624821445 boost_round 75 f1_train 0.609271523178808 f1_test 0.5050505050505051\n"
     ]
    },
    {
     "name": "stderr",
     "output_type": "stream",
     "text": [
      "[I 2020-04-25 22:48:41,827] Finished trial#97 with value: 0.40993107624821445 with parameters: {'boosting': 'gbdt', 'num_leaves': 44, 'min_data_in_leaf': 63, 'learning_rate': 0.03755600153569306, 'drop_rate': 0.17631129376908378, 'feature_fraction': 0.42979085934533856}. Best is trial#43 with value: 0.37317703692771426.\n",
      "[W 2020-04-25 22:48:42,399] The use of `Trial.trial_id` is deprecated. Please use `Trial.number` instead.\n"
     ]
    },
    {
     "name": "stdout",
     "output_type": "stream",
     "text": [
      "trial_id 98 logloss_train 0.3148602419385459 logloss_test 0.4100177741179239 boost_round 48 f1_train 0.7058823529411765 f1_test 0.4976525821596244\n"
     ]
    },
    {
     "name": "stderr",
     "output_type": "stream",
     "text": [
      "[I 2020-04-25 22:48:42,617] Finished trial#98 with value: 0.4100177741179239 with parameters: {'boosting': 'gbdt', 'num_leaves': 36, 'min_data_in_leaf': 28, 'learning_rate': 0.04498693455001086, 'drop_rate': 0.335787186938737, 'feature_fraction': 0.4502795324925667}. Best is trial#43 with value: 0.37317703692771426.\n",
      "[W 2020-04-25 22:48:43,166] The use of `Trial.trial_id` is deprecated. Please use `Trial.number` instead.\n"
     ]
    },
    {
     "name": "stdout",
     "output_type": "stream",
     "text": [
      "trial_id 99 logloss_train 0.32791842917329866 logloss_test 0.4272044748589005 boost_round 69 f1_train 0.6576271186440679 f1_test 0.4722222222222222\n"
     ]
    },
    {
     "name": "stderr",
     "output_type": "stream",
     "text": [
      "[I 2020-04-25 22:48:43,384] Finished trial#99 with value: 0.4272044748589005 with parameters: {'boosting': 'goss', 'num_leaves': 32, 'min_data_in_leaf': 45, 'learning_rate': 0.033139530203603294, 'drop_rate': 0.3040471990228949, 'feature_fraction': 0.5105906998633504, 'top_rate': 0.8397473486518223, 'other_rate': 0.024529880665405554}. Best is trial#43 with value: 0.37317703692771426.\n"
     ]
    }
   ],
   "source": [
    "#学習開始\n",
    "study = optuna.create_study()\n",
    "study.optimize(objectives, n_trials=100)"
   ]
  },
  {
   "cell_type": "code",
   "execution_count": 45,
   "metadata": {
    "colab": {
     "base_uri": "https://localhost:8080/",
     "height": 34
    },
    "colab_type": "code",
    "id": "EdEkQc0XXKFQ",
    "outputId": "ca3c56f9-8e2e-4880-8ac7-f98d6e291ddf"
   },
   "outputs": [
    {
     "name": "stdout",
     "output_type": "stream",
     "text": [
      "{'boosting': 'goss', 'num_leaves': 45, 'min_data_in_leaf': 55, 'learning_rate': 0.01874205124561507, 'drop_rate': 0.3290504038418666, 'feature_fraction': 0.5671480566457097, 'top_rate': 0.6728271850651276, 'other_rate': 0.1435942049103943}\n",
      "--------------------------------\n",
      "FrozenTrial(number=43, value=0.37317703692771426, datetime_start=datetime.datetime(2020, 4, 25, 22, 47, 53, 794600), datetime_complete=datetime.datetime(2020, 4, 25, 22, 47, 54, 603460), params={'boosting': 'goss', 'num_leaves': 45, 'min_data_in_leaf': 55, 'learning_rate': 0.01874205124561507, 'drop_rate': 0.3290504038418666, 'feature_fraction': 0.5671480566457097, 'top_rate': 0.6728271850651276, 'other_rate': 0.1435942049103943}, distributions={'boosting': CategoricalDistribution(choices=('gbdt', 'dart', 'goss')), 'num_leaves': IntUniformDistribution(high=80, low=5, step=1), 'min_data_in_leaf': IntUniformDistribution(high=300, low=5, step=1), 'learning_rate': LogUniformDistribution(high=0.1, low=0.01), 'drop_rate': LogUniformDistribution(high=0.8, low=0.1), 'feature_fraction': UniformDistribution(high=0.9, low=0.1), 'top_rate': UniformDistribution(high=1.0, low=0.0), 'other_rate': UniformDistribution(high=0.3271728149348724, low=0.0)}, user_attrs={'logloss_train': 0.34065499359294443, 'logloss_test': 0.37317703692771426, 'f1_train': 0.6067961165048543, 'f1_test': 0.6181818181818182, 'boost_round': 210}, system_attrs={}, intermediate_values={}, trial_id=43, state=TrialState.COMPLETE)\n"
     ]
    }
   ],
   "source": [
    "print(study.best_params)\n",
    "print('--------------------------------')\n",
    "print(study.best_trial)\n",
    "best_params = study.best_params"
   ]
  },
  {
   "cell_type": "code",
   "execution_count": 47,
   "metadata": {
    "colab": {
     "base_uri": "https://localhost:8080/",
     "height": 504
    },
    "colab_type": "code",
    "id": "xKcutsqMKbyq",
    "outputId": "8e40c444-d300-4c1a-d226-616e2d7ffc41"
   },
   "outputs": [
    {
     "name": "stdout",
     "output_type": "stream",
     "text": [
      "0.8996225319396051\n",
      "    threshold     score\n",
      "31       0.31  0.614525\n",
      "32       0.32  0.605714\n",
      "29       0.29  0.602041\n",
      "30       0.30  0.595745\n",
      "27       0.27  0.595349\n",
      "Max F1 Score: 0.6145251396648045  (Threshold = 0.31)\n",
      "[[378  42]\n",
      " [ 27  55]]\n",
      "Precision: 0.5670103092783505\n",
      "Recall: 0.6707317073170732\n"
     ]
    },
    {
     "data": {
      "text/plain": [
       "Text(0,0.5,'%')"
      ]
     },
     "execution_count": 47,
     "metadata": {},
     "output_type": "execute_result"
    },
    {
     "data": {
      "image/png": "[encoded data removed]",
      "text/plain": [
       "<Figure size 432x288 with 1 Axes>"
      ]
     },
     "metadata": {
      "needs_background": "light"
     },
     "output_type": "display_data"
    }
   ],
   "source": [
    "# 得られた最適パラメータを使ってモデル作成、AUCの表示\n",
    "train_xd = lgb.Dataset(df_train_x, label=df_train_y, feature_name=train_columns, categorical_feature=cate_cols)\n",
    "bst = lgb.train(best_params, train_xd)\n",
    "pred_y = bst.predict(df_test_x)\n",
    "auc_bst = metrics.roc_auc_score(df_test_y, pred_y)\n",
    "print(auc_bst)\n",
    "\n",
    "# 最適なF値の探索と可視化\n",
    "# F値の上位5つくらいを列挙\n",
    "list_threshold_fscore = [[i * 0.01, metrics.f1_score(df_test_y, preprocessing.binarize(X=pred_y.reshape(1, -1), threshold=(i * 0.01))[0],)] for i in range(100)]\n",
    "df_threshold_fscore = pd.DataFrame(list_threshold_fscore, columns=[\"threshold\", \"score\"])\n",
    "df_threshold_fscore_head = df_threshold_fscore.sort_values(by=[\"score\", \"threshold\"], ascending=[False, True]).head()\n",
    "print(df_threshold_fscore_head)\n",
    "max_f1 = df_threshold_fscore_head[\"score\"].values[0]\n",
    "optimal_threshold = df_threshold_fscore_head[\"threshold\"].values[0]\n",
    "print(\"Max F1 Score: \" +  str(max_f1) + \"  (Threshold = \" +  str(optimal_threshold) + \")\")\n",
    "\n",
    "# 混合行列作成\n",
    "pred_y_binary = pred_y.copy()\n",
    "pred_y_binary[pred_y_binary >= optimal_threshold] = 1\n",
    "pred_y_binary[pred_y_binary < optimal_threshold] = 0\n",
    "print(metrics.confusion_matrix(df_test_y, pred_y_binary))\n",
    "\n",
    "# Precisionとか計算\n",
    "print(\"Precision:\", metrics.precision_score(df_test_y, pred_y_binary))\n",
    "print(\"Recall:\", metrics.recall_score(df_test_y, pred_y_binary))\n",
    "\n",
    "# Precisionとかの可視化\n",
    "precision, recall, thresholds = metrics.precision_recall_curve(df_test_y, pred_y)\n",
    "thresholds = np.append(thresholds, max(thresholds))\n",
    "queue_rate = [(pred_y >= threshold).mean() for threshold in thresholds]\n",
    "plt.plot(thresholds, precision, color=\"lightcoral\")\n",
    "plt.plot(thresholds, recall, color=\"skyblue\")\n",
    "plt.plot(thresholds, queue_rate, color=\"lightgreen\")\n",
    "leg = plt.legend(('precision', 'recall', 'queue_rate'), frameon=True)\n",
    "leg.get_frame().set_edgecolor('k')\n",
    "plt.xlabel('threshold')\n",
    "plt.ylabel('%')"
   ]
  },
  {
   "cell_type": "code",
   "execution_count": 48,
   "metadata": {
    "colab": {
     "base_uri": "https://localhost:8080/",
     "height": 363
    },
    "colab_type": "code",
    "id": "npFeoRx0KfK6",
    "outputId": "65c96895-3138-467f-8f13-a4816099ae62"
   },
   "outputs": [
    {
     "data": {
      "image/png": "[encoded data removed]",
      "text/plain": [
       "<Figure size 432x288 with 1 Axes>"
      ]
     },
     "metadata": {
      "needs_background": "light"
     },
     "output_type": "display_data"
    }
   ],
   "source": [
    "from sklearn import metrics as mtr\n",
    "fpr, tpr, thresholds = metrics.roc_curve(df_test_y, pred_y)\n",
    "auc = metrics.auc(fpr, tpr)\n",
    "plt.plot(fpr, tpr, label='ROC curve (area = %.3f)'%auc)\n",
    "plt.legend()\n",
    "plt.title('ROC curve')\n",
    "plt.xlabel('False Positive Rate')\n",
    "plt.ylabel('True Positive Rate')\n",
    "plt.grid(True)"
   ]
  },
  {
   "cell_type": "code",
   "execution_count": 58,
   "metadata": {
    "colab": {
     "base_uri": "https://localhost:8080/",
     "height": 638
    },
    "colab_type": "code",
    "id": "cKO8znBYKhLp",
    "outputId": "026e2aed-d3a7-4236-cd14-ecb24205b251"
   },
   "outputs": [
    {
     "name": "stdout",
     "output_type": "stream",
     "text": [
      "Feature Importances:\n"
     ]
    },
    {
     "data": {
      "image/png": "[encoded data removed]",
      "text/plain": [
       "<Figure size 1296x720 with 1 Axes>"
      ]
     },
     "metadata": {
      "needs_background": "light"
     },
     "output_type": "display_data"
    }
   ],
   "source": [
    "print('Feature Importances:')\n",
    "lgb.plot_importance(bst,figsize=(18,10))\n",
    "display()"
   ]
  },
  {
   "cell_type": "code",
   "execution_count": 59,
   "metadata": {
    "colab": {},
    "colab_type": "code",
    "id": "iL7MfPmbKi54"
   },
   "outputs": [],
   "source": [
    "prediction = df_test_x.copy()\n",
    "prediction[\"危険\"] = pred_y\n",
    "prediction[\"実際\"] = df_test_y"
   ]
  },
  {
   "cell_type": "code",
   "execution_count": 62,
   "metadata": {
    "colab": {
     "base_uri": "https://localhost:8080/",
     "height": 3298
    },
    "colab_type": "code",
    "id": "5tgSuL-9KxuK",
    "outputId": "f03505b2-db47-406b-8566-ea895f080e30"
   },
   "outputs": [
    {
     "name": "stdout",
     "output_type": "stream",
     "text": [
      "     市場      公募   吸収金額 評価  主幹事数 上場月   仮条件下限   仮条件上限   仮条件幅  公募-仮上限  \\\n",
      "code                                                                 \n",
      "3447  4    1150  158.0  8     1   2    1150    1300    150    -150   \n",
      "6197  3    1300  147.0  9     1   5    1270    1400    130    -100   \n",
      "3978  3    1950  532.0  8     2   2    1900    2100    200    -150   \n",
      "6464  3    1550  313.0  9     1  11    1500    1650    150    -100   \n",
      "4189  3    1380  419.0  8     1   9    1330    1670    340    -290   \n",
      "...  ..     ...    ... ..   ...  ..     ...     ...    ...     ...   \n",
      "3471  2  270000  601.0  3     1   7  250000  270000  20000       0   \n",
      "4593  5    1200   83.6  5     1   5    1100    1200    100       0   \n",
      "3191  3    2700  110.0  5     1   3    2450    2700    250       0   \n",
      "3540  1    3300   36.3  9     1  11    3210    3300     90       0   \n",
      "3538  1    1880   11.3  6     1   2    1730    1880    150       0   \n",
      "\n",
      "                株数        危険  実際  \n",
      "code                              \n",
      "3447  1.373913e+07  0.660967   1  \n",
      "6197  1.130769e+07  0.628025   1  \n",
      "3978  2.728205e+07  0.619197   1  \n",
      "6464  2.019355e+07  0.617277   0  \n",
      "4189  3.036232e+07  0.614305   1  \n",
      "...            ...       ...  ..  \n",
      "3471  2.225926e+05  0.322797   0  \n",
      "4593  6.966667e+06  0.318925   0  \n",
      "3191  4.074074e+06  0.316547   1  \n",
      "3540  1.100000e+06  0.311968   0  \n",
      "3538  6.010638e+05  0.311438   1  \n",
      "\n",
      "[97 rows x 13 columns]\n"
     ]
    }
   ],
   "source": [
    "print(prediction.query('危険 >= 0.31').sort_values(\"危険\",ascending=False))"
   ]
  },
  {
   "cell_type": "code",
   "execution_count": 61,
   "metadata": {
    "colab": {},
    "colab_type": "code",
    "id": "ksM2Rhc1K8qR"
   },
   "outputs": [
    {
     "data": {
      "text/plain": [
       "<matplotlib.axes._subplots.AxesSubplot at 0x29565869eb8>"
      ]
     },
     "execution_count": 61,
     "metadata": {},
     "output_type": "execute_result"
    },
    {
     "data": {
      "image/png": "[encoded data removed]",
      "text/plain": [
       "<Figure size 432x288 with 1 Axes>"
      ]
     },
     "metadata": {
      "needs_background": "light"
     },
     "output_type": "display_data"
    }
   ],
   "source": [
    "# 予測値の分布\n",
    "prediction[\"危険\"].hist(bins =10)"
   ]
  }
 ],
 "metadata": {
  "colab": {
   "name": "IPO_predict_oputuna",
   "provenance": [],
   "version": "0.3.2"
  },
  "kernelspec": {
   "display_name": "Python 3",
   "language": "python",
   "name": "python3"
  },
  "language_info": {
   "codemirror_mode": {
    "name": "ipython",
    "version": 3
   },
   "file_extension": ".py",
   "mimetype": "text/x-python",
   "name": "python",
   "nbconvert_exporter": "python",
   "pygments_lexer": "ipython3",
   "version": "3.6.4"
  }
 },
 "nbformat": 4,
 "nbformat_minor": 1
}
