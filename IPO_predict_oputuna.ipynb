{
 "cells": [
  {
   "cell_type": "code",
   "execution_count": 1,
   "metadata": {
    "colab": {},
    "colab_type": "code",
    "id": "krUpPuTmJIei"
   },
   "outputs": [],
   "source": [
    "import pandas as pd\n",
    "import numpy as np\n",
    "import scipy\n",
    "import datetime\n",
    "import os\n",
    "import re\n",
    "import sys\n",
    "import matplotlib as mpl\n",
    "import matplotlib.pyplot as plt\n",
    "import japanize_matplotlib\n",
    "%matplotlib inline\n",
    "from sklearn.model_selection import train_test_split\n",
    "from sklearn.preprocessing import StandardScaler\n",
    "from sklearn.preprocessing import MinMaxScaler\n",
    "import lightgbm as lgb\n",
    "from sklearn.model_selection import train_test_split,StratifiedKFold\n",
    "from sklearn import metrics, preprocessing\n",
    "from datetime import datetime, date\n",
    "from collections import defaultdict\n",
    "import optuna\n",
    "import warnings\n",
    "from tqdm import tqdm\n",
    "if not sys.warnoptions:\n",
    "    warnings.simplefilter(\"ignore\") "
   ]
  },
  {
   "cell_type": "code",
   "execution_count": 2,
   "metadata": {
    "colab": {},
    "colab_type": "code",
    "id": "dHpW_B7dJNms"
   },
   "outputs": [
    {
     "name": "stderr",
     "output_type": "stream",
     "text": [
      "100%|██████████████████████████████████████████████████████████████████████████████████| 19/19 [00:04<00:00,  4.45it/s]\n"
     ]
    }
   ],
   "source": [
    "#96ut.comからIPOデータを取得(2001年から2019年、1794件)\n",
    "ipo_urls = ['https://96ut.com/ipo/list.php?year={}'.format(str(i)) for i in range(2001, 2020)]\n",
    "df_ipo = pd.DataFrame(columns = [\"code\",\"銘柄名\",\"主幹\",\"上場\",\"市場\",\"想定(仮条件)\",\"公募\",\"吸収金額\",\"評価\",\"初値\",\"(騰落率)損益\",\"現在値(差分)\"])\n",
    "for urls in tqdm(ipo_urls):\n",
    "    df_ipo = df_ipo.append(pd.read_html(urls))"
   ]
  },
  {
   "cell_type": "code",
   "execution_count": 3,
   "metadata": {
    "colab": {
     "base_uri": "https://localhost:8080/",
     "height": 235
    },
    "colab_type": "code",
    "id": "XngV5UDZJRxa",
    "outputId": "70c4cdc4-1f30-4949-d6d0-7a01ebf29157"
   },
   "outputs": [
    {
     "data": {
      "text/html": [
       "<div>\n",
       "<style scoped>\n",
       "    .dataframe tbody tr th:only-of-type {\n",
       "        vertical-align: middle;\n",
       "    }\n",
       "\n",
       "    .dataframe tbody tr th {\n",
       "        vertical-align: top;\n",
       "    }\n",
       "\n",
       "    .dataframe thead th {\n",
       "        text-align: right;\n",
       "    }\n",
       "</style>\n",
       "<table border=\"1\" class=\"dataframe\">\n",
       "  <thead>\n",
       "    <tr style=\"text-align: right;\">\n",
       "      <th></th>\n",
       "      <th>銘柄名</th>\n",
       "      <th>主幹</th>\n",
       "      <th>上場</th>\n",
       "      <th>市場</th>\n",
       "      <th>想定(仮条件)</th>\n",
       "      <th>公募</th>\n",
       "      <th>吸収金額</th>\n",
       "      <th>評価</th>\n",
       "      <th>初値</th>\n",
       "      <th>(騰落率)損益</th>\n",
       "      <th>現在値(差分)</th>\n",
       "    </tr>\n",
       "    <tr>\n",
       "      <th>code</th>\n",
       "      <th></th>\n",
       "      <th></th>\n",
       "      <th></th>\n",
       "      <th></th>\n",
       "      <th></th>\n",
       "      <th></th>\n",
       "      <th></th>\n",
       "      <th></th>\n",
       "      <th></th>\n",
       "      <th></th>\n",
       "      <th></th>\n",
       "    </tr>\n",
       "  </thead>\n",
       "  <tbody>\n",
       "    <tr>\n",
       "      <th>4334</th>\n",
       "      <td>ユークス</td>\n",
       "      <td>日興</td>\n",
       "      <td>12/21</td>\n",
       "      <td>NJS</td>\n",
       "      <td>-()</td>\n",
       "      <td>880</td>\n",
       "      <td>8.80億</td>\n",
       "      <td>-()</td>\n",
       "      <td>950</td>\n",
       "      <td>(+8.0%) +70,000円</td>\n",
       "      <td>315 分割 2倍 (-320)</td>\n",
       "    </tr>\n",
       "    <tr>\n",
       "      <th>8902</th>\n",
       "      <td>パシフィックホールディングス</td>\n",
       "      <td>野村</td>\n",
       "      <td>12/21</td>\n",
       "      <td>JQ</td>\n",
       "      <td>-()</td>\n",
       "      <td>250000</td>\n",
       "      <td>5.12億</td>\n",
       "      <td>-()</td>\n",
       "      <td>650000</td>\n",
       "      <td>(+160.0%) +400,000円</td>\n",
       "      <td>95 (-649,905)</td>\n",
       "    </tr>\n",
       "    <tr>\n",
       "      <th>6738</th>\n",
       "      <td>東研</td>\n",
       "      <td>みずほ</td>\n",
       "      <td>12/21</td>\n",
       "      <td>JQ</td>\n",
       "      <td>-()</td>\n",
       "      <td>600</td>\n",
       "      <td>5.10億</td>\n",
       "      <td>-()</td>\n",
       "      <td>650</td>\n",
       "      <td>(+8.3%) +50,000円</td>\n",
       "      <td>-</td>\n",
       "    </tr>\n",
       "    <tr>\n",
       "      <th>9447</th>\n",
       "      <td>丸紅テレコム</td>\n",
       "      <td>日興</td>\n",
       "      <td>12/20</td>\n",
       "      <td>東2</td>\n",
       "      <td>-()</td>\n",
       "      <td>93000</td>\n",
       "      <td>19.5億</td>\n",
       "      <td>-()</td>\n",
       "      <td>66500</td>\n",
       "      <td>(-28.5%) -26,500円</td>\n",
       "      <td>-</td>\n",
       "    </tr>\n",
       "    <tr>\n",
       "      <th>4335</th>\n",
       "      <td>アイ・ピー・エス</td>\n",
       "      <td>三菱</td>\n",
       "      <td>12/20</td>\n",
       "      <td>JQ</td>\n",
       "      <td>-()</td>\n",
       "      <td>360000</td>\n",
       "      <td>2.16億</td>\n",
       "      <td>-()</td>\n",
       "      <td>1350000</td>\n",
       "      <td>(+275.0%) +990,000円</td>\n",
       "      <td>591 分割 500倍 (-1,054,500)</td>\n",
       "    </tr>\n",
       "  </tbody>\n",
       "</table>\n",
       "</div>"
      ],
      "text/plain": [
       "                 銘柄名   主幹     上場   市場 想定(仮条件)      公募   吸収金額   評価       初値  \\\n",
       "code                                                                         \n",
       "4334            ユークス   日興  12/21  NJS     -()     880  8.80億  -()      950   \n",
       "8902  パシフィックホールディングス   野村  12/21   JQ     -()  250000  5.12億  -()   650000   \n",
       "6738              東研  みずほ  12/21   JQ     -()     600  5.10億  -()      650   \n",
       "9447          丸紅テレコム   日興  12/20   東2     -()   93000  19.5億  -()    66500   \n",
       "4335        アイ・ピー・エス   三菱  12/20   JQ     -()  360000  2.16億  -()  1350000   \n",
       "\n",
       "                  (騰落率)損益                   現在値(差分)  \n",
       "code                                                 \n",
       "4334     (+8.0%) +70,000円          315 分割 2倍 (-320)  \n",
       "8902  (+160.0%) +400,000円             95 (-649,905)  \n",
       "6738     (+8.3%) +50,000円                         -  \n",
       "9447    (-28.5%) -26,500円                         -  \n",
       "4335  (+275.0%) +990,000円  591 分割 500倍 (-1,054,500)  "
      ]
     },
     "execution_count": 3,
     "metadata": {},
     "output_type": "execute_result"
    }
   ],
   "source": [
    "#indexを銘柄コードに\n",
    "df_ipo = df_ipo.set_index('code')\n",
    "#確認\n",
    "df_ipo.head()"
   ]
  },
  {
   "cell_type": "code",
   "execution_count": 4,
   "metadata": {
    "colab": {
     "base_uri": "https://localhost:8080/",
     "height": 1071
    },
    "colab_type": "code",
    "id": "S_Fo_B4uJU1t",
    "outputId": "5c7902f6-ef0d-41c7-e685-2c628ad60c4a"
   },
   "outputs": [],
   "source": [
    "#幹事\n",
    "#lead = df_ipo['主幹'].value_counts()\n",
    "#print(lead)"
   ]
  },
  {
   "cell_type": "code",
   "execution_count": 5,
   "metadata": {
    "colab": {
     "base_uri": "https://localhost:8080/",
     "height": 204
    },
    "colab_type": "code",
    "id": "qZ3Ye3UDJWxd",
    "outputId": "11344f77-5d70-4ce4-eab9-7aedca2ff9ff"
   },
   "outputs": [],
   "source": [
    "#主幹事が多いほど期待が大きい⇒主幹事数のカラム追加\n",
    "#print(df_ipo.query('主幹 == \"野村 三菱 大和 みずほ 日興 岡三 東海東京\"'))"
   ]
  },
  {
   "cell_type": "code",
   "execution_count": 6,
   "metadata": {
    "colab": {
     "base_uri": "https://localhost:8080/",
     "height": 238
    },
    "colab_type": "code",
    "id": "Eym2kW7JJYct",
    "outputId": "db923e6d-fd07-479b-edac-00c47e820339"
   },
   "outputs": [],
   "source": [
    "#上場日\n",
    "#listed_month = df_ipo['上場'].str[:2].value_counts()\n",
    "#print(listed_month)"
   ]
  },
  {
   "cell_type": "code",
   "execution_count": 7,
   "metadata": {
    "colab": {
     "base_uri": "https://localhost:8080/",
     "height": 286
    },
    "colab_type": "code",
    "id": "F4WT9JnfJaEd",
    "outputId": "1c75be02-4cfe-4ae3-d810-44bfb4b7345b"
   },
   "outputs": [],
   "source": [
    "#plt.plot(listed_month.sort_index())"
   ]
  },
  {
   "cell_type": "code",
   "execution_count": 8,
   "metadata": {
    "colab": {
     "base_uri": "https://localhost:8080/",
     "height": 391
    },
    "colab_type": "code",
    "id": "pehQoMfoJcFs",
    "outputId": "51c617f0-d588-407e-b260-d4140f90d3e8"
   },
   "outputs": [],
   "source": [
    "#市場⇒東１以下はまとめていいかな\n",
    "#market = df_ipo['市場'].value_counts()\n",
    "#print(market)"
   ]
  },
  {
   "cell_type": "code",
   "execution_count": 9,
   "metadata": {
    "colab": {
     "base_uri": "https://localhost:8080/",
     "height": 1071
    },
    "colab_type": "code",
    "id": "8Ko_9nXnJdoL",
    "outputId": "8b996add-2852-42f9-b228-d3189ff2f5d7"
   },
   "outputs": [],
   "source": [
    "#想定(仮条件)⇒要加工\n",
    "#tentatively = df_ipo['想定(仮条件)'].value_counts()\n",
    "#print(tentatively)"
   ]
  },
  {
   "cell_type": "code",
   "execution_count": 10,
   "metadata": {
    "colab": {
     "base_uri": "https://localhost:8080/",
     "height": 1071
    },
    "colab_type": "code",
    "id": "Fwf4D1SLJe6B",
    "outputId": "d4fb27f4-28cf-4628-dc95-c923b47992b8"
   },
   "outputs": [],
   "source": [
    "#公募\n",
    "#public = df_ipo['公募'].value_counts()\n",
    "#print(public)"
   ]
  },
  {
   "cell_type": "code",
   "execution_count": 11,
   "metadata": {
    "colab": {
     "base_uri": "https://localhost:8080/",
     "height": 1071
    },
    "colab_type": "code",
    "id": "ge3WqzmbJgMQ",
    "outputId": "7683c82a-4a09-4e5f-de3c-61c7f69269da"
   },
   "outputs": [],
   "source": [
    "#吸収金額\n",
    "#absorption = df_ipo['吸収金額'].str.strip('億').value_counts()\n",
    "#print(absorption)"
   ]
  },
  {
   "cell_type": "code",
   "execution_count": 12,
   "metadata": {
    "colab": {
     "base_uri": "https://localhost:8080/",
     "height": 221
    },
    "colab_type": "code",
    "id": "V3nw2xGPJiAB",
    "outputId": "5d179918-4faa-4ae6-c27d-983f0f6fc1e8"
   },
   "outputs": [],
   "source": [
    "#評価\n",
    "#evaluation = df_ipo['評価'].value_counts()\n",
    "#print(evaluation)"
   ]
  },
  {
   "cell_type": "code",
   "execution_count": 13,
   "metadata": {
    "colab": {
     "base_uri": "https://localhost:8080/",
     "height": 1071
    },
    "colab_type": "code",
    "id": "aalfxyafJjag",
    "outputId": "2158b77d-beda-4d75-d174-abfb2ea7f27a"
   },
   "outputs": [],
   "source": [
    "#初値⇒-になっているものは除く\n",
    "#opening = df_ipo['初値'].value_counts()\n",
    "#print(opening)"
   ]
  },
  {
   "cell_type": "code",
   "execution_count": 14,
   "metadata": {
    "colab": {
     "base_uri": "https://localhost:8080/",
     "height": 1071
    },
    "colab_type": "code",
    "id": "k-Y5UcE5Jkvf",
    "outputId": "6ac17998-adc2-424e-caf6-0a0f4dbed98a"
   },
   "outputs": [],
   "source": [
    "#損益⇒加工めんどいし初値を公募価格で割ればいいか\n",
    "#pl = df_ipo['(騰落率)損益'].value_counts()\n",
    "#print(pl)"
   ]
  },
  {
   "cell_type": "code",
   "execution_count": 15,
   "metadata": {
    "colab": {},
    "colab_type": "code",
    "id": "S6XF5v4GJmgP"
   },
   "outputs": [],
   "source": [
    "#データ加工\n",
    "#'(騰落率)損益', '現在値(差分)'を削除\n",
    "dataset = df_ipo.drop(columns=['(騰落率)損益', '現在値(差分)','銘柄名'])"
   ]
  },
  {
   "cell_type": "code",
   "execution_count": 16,
   "metadata": {
    "colab": {},
    "colab_type": "code",
    "id": "UEu6XRoEJyHv"
   },
   "outputs": [],
   "source": [
    "#初値が-になっているものを削除\n",
    "dataset = dataset[dataset[\"初値\"] != \"-\"]"
   ]
  },
  {
   "cell_type": "code",
   "execution_count": 17,
   "metadata": {
    "colab": {},
    "colab_type": "code",
    "id": "F1_sRTqDJzdC"
   },
   "outputs": [],
   "source": [
    "#主幹事数のカラムを追加\n",
    "def count_lead_secretary(x):\n",
    "    y = int(str(x).count(\" \"))+1\n",
    "    return y"
   ]
  },
  {
   "cell_type": "code",
   "execution_count": 18,
   "metadata": {
    "colab": {},
    "colab_type": "code",
    "id": "uppStimMJ1ci"
   },
   "outputs": [],
   "source": [
    "#主幹事数のカラムを追加\n",
    "dataset[\"主幹事数\"] = dataset['主幹'].apply(count_lead_secretary)\n",
    "dataset= dataset.drop(\"主幹\",axis=1)"
   ]
  },
  {
   "cell_type": "code",
   "execution_count": 19,
   "metadata": {
    "colab": {},
    "colab_type": "code",
    "id": "ICnjfuAiJ4VP"
   },
   "outputs": [],
   "source": [
    "#上場月カラム追加\n",
    "dataset[\"上場月\"] = dataset['上場'].str[:2]\n",
    "dataset = dataset.drop(\"上場\",axis=1)"
   ]
  },
  {
   "cell_type": "code",
   "execution_count": 20,
   "metadata": {
    "colab": {},
    "colab_type": "code",
    "id": "xkUMWUfhJ5_B"
   },
   "outputs": [],
   "source": [
    "#市場をまとめる\n",
    "def func_cate(x):\n",
    "    if x == \"東M\":\n",
    "        return x\n",
    "    elif x == \"JQ\":\n",
    "        return x\n",
    "    elif x == \"東2\":\n",
    "        return x\n",
    "    elif x == \"JQS\":\n",
    "        return x\n",
    "    elif x == \"東1\":\n",
    "        return x\n",
    "    else:\n",
    "        return 'その他'\n",
    "\n",
    "dataset['市場'] =dataset['市場'].apply(func_cate)"
   ]
  },
  {
   "cell_type": "code",
   "execution_count": 21,
   "metadata": {
    "colab": {},
    "colab_type": "code",
    "id": "Nwpx_useJ9Hm"
   },
   "outputs": [],
   "source": [
    "#仮条件を抽出\n",
    "dataset = pd.concat([dataset, dataset['想定(仮条件)'].apply(lambda st: st[st.find(\"(\")+1:st.find(\")\")]).str.split('-', expand=True)], axis=1).drop('想定(仮条件)', axis=1)"
   ]
  },
  {
   "cell_type": "code",
   "execution_count": 22,
   "metadata": {
    "colab": {},
    "colab_type": "code",
    "id": "Cng-VtZiJ-9C"
   },
   "outputs": [],
   "source": [
    "dataset.rename(columns={0: '仮条件下限', 1: '仮条件上限'}, inplace=True)\n",
    "dataset=dataset.dropna()"
   ]
  },
  {
   "cell_type": "code",
   "execution_count": 23,
   "metadata": {
    "colab": {},
    "colab_type": "code",
    "id": "9ZbpWFeOKAhF"
   },
   "outputs": [],
   "source": [
    "dataset[\"仮条件下限\"] = dataset[\"仮条件下限\"].str.replace('k', '000')\n",
    "dataset[\"仮条件下限\"] = dataset[\"仮条件下限\"].apply(lambda x: int(x.replace(\",\", \"\")) if type(x) is str else int(x))\n",
    "dataset[\"仮条件上限\"] = dataset[\"仮条件上限\"].str.replace('k', '000')\n",
    "dataset[\"仮条件上限\"] = dataset[\"仮条件上限\"].apply(lambda x: int(x.replace(\",\", \"\")) if type(x) is str else int(x))"
   ]
  },
  {
   "cell_type": "code",
   "execution_count": 24,
   "metadata": {
    "colab": {},
    "colab_type": "code",
    "id": "ce234amDKCOk"
   },
   "outputs": [],
   "source": [
    "dataset[\"仮条件幅\"] = dataset[\"仮条件上限\"] - dataset[\"仮条件下限\"]"
   ]
  },
  {
   "cell_type": "code",
   "execution_count": 25,
   "metadata": {
    "colab": {},
    "colab_type": "code",
    "id": "O9q3sYAnKD_1"
   },
   "outputs": [],
   "source": [
    "#公募をintに\n",
    "dataset['公募'] = dataset['公募'].astype(int)"
   ]
  },
  {
   "cell_type": "code",
   "execution_count": 26,
   "metadata": {
    "colab": {},
    "colab_type": "code",
    "id": "ADBSfQSoKFQU"
   },
   "outputs": [],
   "source": [
    "#吸収金額をfloatに\n",
    "dataset['吸収金額'] = dataset['吸収金額'].str.strip('億').astype(float)"
   ]
  },
  {
   "cell_type": "code",
   "execution_count": 27,
   "metadata": {
    "colab": {},
    "colab_type": "code",
    "id": "36APYpzAKG3X"
   },
   "outputs": [],
   "source": [
    "#初値をintに\n",
    "dataset[\"初値\"] = dataset[\"初値\"].astype(int)"
   ]
  },
  {
   "cell_type": "code",
   "execution_count": 28,
   "metadata": {
    "colab": {},
    "colab_type": "code",
    "id": "YykjFidzKIKE"
   },
   "outputs": [],
   "source": [
    "#上場市場評価をone hot encoding\n",
    "#dataset = pd.get_dummies(dataset, drop_first=True,columns=[\"上場月\",\"市場\",\"評価\"])\n",
    "#カテゴリに指定\n",
    "cate_cols = [\"上場月\",\"市場\",\"評価\"]"
   ]
  },
  {
   "cell_type": "code",
   "execution_count": 29,
   "metadata": {},
   "outputs": [
    {
     "data": {
      "text/html": [
       "<div>\n",
       "<style scoped>\n",
       "    .dataframe tbody tr th:only-of-type {\n",
       "        vertical-align: middle;\n",
       "    }\n",
       "\n",
       "    .dataframe tbody tr th {\n",
       "        vertical-align: top;\n",
       "    }\n",
       "\n",
       "    .dataframe thead th {\n",
       "        text-align: right;\n",
       "    }\n",
       "</style>\n",
       "<table border=\"1\" class=\"dataframe\">\n",
       "  <thead>\n",
       "    <tr style=\"text-align: right;\">\n",
       "      <th></th>\n",
       "      <th>市場</th>\n",
       "      <th>公募</th>\n",
       "      <th>吸収金額</th>\n",
       "      <th>評価</th>\n",
       "      <th>初値</th>\n",
       "      <th>主幹事数</th>\n",
       "      <th>上場月</th>\n",
       "      <th>仮条件下限</th>\n",
       "      <th>仮条件上限</th>\n",
       "      <th>仮条件幅</th>\n",
       "    </tr>\n",
       "    <tr>\n",
       "      <th>code</th>\n",
       "      <th></th>\n",
       "      <th></th>\n",
       "      <th></th>\n",
       "      <th></th>\n",
       "      <th></th>\n",
       "      <th></th>\n",
       "      <th></th>\n",
       "      <th></th>\n",
       "      <th></th>\n",
       "      <th></th>\n",
       "    </tr>\n",
       "  </thead>\n",
       "  <tbody>\n",
       "    <tr>\n",
       "      <th>8952</th>\n",
       "      <td>2</td>\n",
       "      <td>525000</td>\n",
       "      <td>840.0</td>\n",
       "      <td>0</td>\n",
       "      <td>535000</td>\n",
       "      <td>1</td>\n",
       "      <td>8</td>\n",
       "      <td>475000</td>\n",
       "      <td>525000</td>\n",
       "      <td>50000</td>\n",
       "    </tr>\n",
       "    <tr>\n",
       "      <th>8951</th>\n",
       "      <td>2</td>\n",
       "      <td>625000</td>\n",
       "      <td>625.0</td>\n",
       "      <td>0</td>\n",
       "      <td>625000</td>\n",
       "      <td>1</td>\n",
       "      <td>8</td>\n",
       "      <td>550000</td>\n",
       "      <td>625000</td>\n",
       "      <td>75000</td>\n",
       "    </tr>\n",
       "    <tr>\n",
       "      <th>2347</th>\n",
       "      <td>5</td>\n",
       "      <td>170000</td>\n",
       "      <td>5.1</td>\n",
       "      <td>0</td>\n",
       "      <td>170000</td>\n",
       "      <td>1</td>\n",
       "      <td>11</td>\n",
       "      <td>140000</td>\n",
       "      <td>170000</td>\n",
       "      <td>30000</td>\n",
       "    </tr>\n",
       "    <tr>\n",
       "      <th>2756</th>\n",
       "      <td>0</td>\n",
       "      <td>400</td>\n",
       "      <td>3.2</td>\n",
       "      <td>0</td>\n",
       "      <td>450</td>\n",
       "      <td>1</td>\n",
       "      <td>11</td>\n",
       "      <td>400</td>\n",
       "      <td>500</td>\n",
       "      <td>100</td>\n",
       "    </tr>\n",
       "    <tr>\n",
       "      <th>8910</th>\n",
       "      <td>0</td>\n",
       "      <td>130000</td>\n",
       "      <td>2.8</td>\n",
       "      <td>0</td>\n",
       "      <td>138000</td>\n",
       "      <td>1</td>\n",
       "      <td>11</td>\n",
       "      <td>120000</td>\n",
       "      <td>150000</td>\n",
       "      <td>30000</td>\n",
       "    </tr>\n",
       "  </tbody>\n",
       "</table>\n",
       "</div>"
      ],
      "text/plain": [
       "     市場      公募   吸収金額 評価      初値  主幹事数 上場月   仮条件下限   仮条件上限   仮条件幅\n",
       "code                                                              \n",
       "8952  2  525000  840.0  0  535000     1   8  475000  525000  50000\n",
       "8951  2  625000  625.0  0  625000     1   8  550000  625000  75000\n",
       "2347  5  170000    5.1  0  170000     1  11  140000  170000  30000\n",
       "2756  0     400    3.2  0     450     1  11     400     500    100\n",
       "8910  0  130000    2.8  0  138000     1  11  120000  150000  30000"
      ]
     },
     "execution_count": 29,
     "metadata": {},
     "output_type": "execute_result"
    }
   ],
   "source": [
    "#カテゴリに変換\n",
    "for column in cate_cols:\n",
    "    le = preprocessing.LabelEncoder()\n",
    "    le.fit(dataset[column])\n",
    "    dataset[column] = le.transform(dataset[column])\n",
    "    dataset[column] = dataset[column].astype('category')\n",
    "    \n",
    "dataset.head()"
   ]
  },
  {
   "cell_type": "code",
   "execution_count": 30,
   "metadata": {
    "colab": {},
    "colab_type": "code",
    "id": "qfrCmQfPKJnE"
   },
   "outputs": [],
   "source": [
    "#危険シグナルラベルを作る\n",
    "def kiken_label(x):\n",
    "    if  x > 0:\n",
    "        return 0\n",
    "    else:\n",
    "        return 1\n",
    "\n",
    "dataset[\"危険シグナル\"] = dataset[\"初値\"] - dataset[\"公募\"]\n",
    "dataset[\"危険シグナル\"] = dataset[\"危険シグナル\"].apply(kiken_label)\n",
    "dataset = dataset.drop(columns=['初値'])"
   ]
  },
  {
   "cell_type": "code",
   "execution_count": 31,
   "metadata": {},
   "outputs": [],
   "source": [
    "#特徴量追加\n",
    "dataset[\"公募-仮上限\"] = dataset['公募'] - dataset[\"仮条件上限\"]\n",
    "dataset[\"株数\"] = dataset['吸収金額'] / dataset[\"公募\"] * 100000000"
   ]
  },
  {
   "cell_type": "code",
   "execution_count": 32,
   "metadata": {},
   "outputs": [
    {
     "data": {
      "text/plain": [
       "0.1827262044653349"
      ]
     },
     "execution_count": 32,
     "metadata": {},
     "output_type": "execute_result"
    }
   ],
   "source": [
    "# 18%はけ危険銘柄\n",
    "sum(dataset[\"危険シグナル\"])/len(dataset)"
   ]
  },
  {
   "cell_type": "code",
   "execution_count": 33,
   "metadata": {
    "colab": {},
    "colab_type": "code",
    "id": "iaFvjpYdKLPo"
   },
   "outputs": [],
   "source": [
    "#target\n",
    "\n",
    "train = dataset[:1200]\n",
    "test = dataset[1200:]"
   ]
  },
  {
   "cell_type": "code",
   "execution_count": 34,
   "metadata": {},
   "outputs": [
    {
     "data": {
      "text/html": [
       "<div>\n",
       "<style scoped>\n",
       "    .dataframe tbody tr th:only-of-type {\n",
       "        vertical-align: middle;\n",
       "    }\n",
       "\n",
       "    .dataframe tbody tr th {\n",
       "        vertical-align: top;\n",
       "    }\n",
       "\n",
       "    .dataframe thead th {\n",
       "        text-align: right;\n",
       "    }\n",
       "</style>\n",
       "<table border=\"1\" class=\"dataframe\">\n",
       "  <thead>\n",
       "    <tr style=\"text-align: right;\">\n",
       "      <th></th>\n",
       "      <th>公募</th>\n",
       "      <th>吸収金額</th>\n",
       "      <th>主幹事数</th>\n",
       "      <th>仮条件下限</th>\n",
       "      <th>仮条件上限</th>\n",
       "      <th>仮条件幅</th>\n",
       "      <th>危険シグナル</th>\n",
       "      <th>公募-仮上限</th>\n",
       "      <th>株数</th>\n",
       "    </tr>\n",
       "  </thead>\n",
       "  <tbody>\n",
       "    <tr>\n",
       "      <th>count</th>\n",
       "      <td>1.200000e+03</td>\n",
       "      <td>1200.000000</td>\n",
       "      <td>1200.000000</td>\n",
       "      <td>1.200000e+03</td>\n",
       "      <td>1.200000e+03</td>\n",
       "      <td>1200.000000</td>\n",
       "      <td>1200.000000</td>\n",
       "      <td>1200.00000</td>\n",
       "      <td>1.200000e+03</td>\n",
       "    </tr>\n",
       "    <tr>\n",
       "      <th>mean</th>\n",
       "      <td>1.863843e+05</td>\n",
       "      <td>89.404800</td>\n",
       "      <td>1.026667</td>\n",
       "      <td>1.630668e+05</td>\n",
       "      <td>1.872616e+05</td>\n",
       "      <td>24194.741667</td>\n",
       "      <td>0.190833</td>\n",
       "      <td>-877.25000</td>\n",
       "      <td>2.685885e+06</td>\n",
       "    </tr>\n",
       "    <tr>\n",
       "      <th>std</th>\n",
       "      <td>2.865237e+05</td>\n",
       "      <td>444.272784</td>\n",
       "      <td>0.214462</td>\n",
       "      <td>2.492726e+05</td>\n",
       "      <td>2.873476e+05</td>\n",
       "      <td>43916.824933</td>\n",
       "      <td>0.393122</td>\n",
       "      <td>12259.32181</td>\n",
       "      <td>2.232220e+07</td>\n",
       "    </tr>\n",
       "    <tr>\n",
       "      <th>min</th>\n",
       "      <td>9.000000e+01</td>\n",
       "      <td>0.560000</td>\n",
       "      <td>1.000000</td>\n",
       "      <td>9.000000e+01</td>\n",
       "      <td>0.000000e+00</td>\n",
       "      <td>-240000.000000</td>\n",
       "      <td>0.000000</td>\n",
       "      <td>-150000.00000</td>\n",
       "      <td>6.000000e+02</td>\n",
       "    </tr>\n",
       "    <tr>\n",
       "      <th>25%</th>\n",
       "      <td>1.457500e+03</td>\n",
       "      <td>6.000000</td>\n",
       "      <td>1.000000</td>\n",
       "      <td>1.300000e+03</td>\n",
       "      <td>1.450000e+03</td>\n",
       "      <td>150.000000</td>\n",
       "      <td>0.000000</td>\n",
       "      <td>0.00000</td>\n",
       "      <td>3.500000e+03</td>\n",
       "    </tr>\n",
       "    <tr>\n",
       "      <th>50%</th>\n",
       "      <td>3.900000e+04</td>\n",
       "      <td>11.850000</td>\n",
       "      <td>1.000000</td>\n",
       "      <td>3.300000e+04</td>\n",
       "      <td>3.550000e+04</td>\n",
       "      <td>3000.000000</td>\n",
       "      <td>0.000000</td>\n",
       "      <td>0.00000</td>\n",
       "      <td>1.314011e+05</td>\n",
       "    </tr>\n",
       "    <tr>\n",
       "      <th>75%</th>\n",
       "      <td>2.925000e+05</td>\n",
       "      <td>28.400000</td>\n",
       "      <td>1.000000</td>\n",
       "      <td>2.500000e+05</td>\n",
       "      <td>3.000000e+05</td>\n",
       "      <td>35000.000000</td>\n",
       "      <td>0.000000</td>\n",
       "      <td>0.00000</td>\n",
       "      <td>1.001269e+06</td>\n",
       "    </tr>\n",
       "    <tr>\n",
       "      <th>max</th>\n",
       "      <td>3.300000e+06</td>\n",
       "      <td>10088.000000</td>\n",
       "      <td>5.000000</td>\n",
       "      <td>2.900000e+06</td>\n",
       "      <td>3.300000e+06</td>\n",
       "      <td>500000.000000</td>\n",
       "      <td>1.000000</td>\n",
       "      <td>280000.00000</td>\n",
       "      <td>6.664912e+08</td>\n",
       "    </tr>\n",
       "  </tbody>\n",
       "</table>\n",
       "</div>"
      ],
      "text/plain": [
       "                 公募          吸収金額         主幹事数         仮条件下限         仮条件上限  \\\n",
       "count  1.200000e+03   1200.000000  1200.000000  1.200000e+03  1.200000e+03   \n",
       "mean   1.863843e+05     89.404800     1.026667  1.630668e+05  1.872616e+05   \n",
       "std    2.865237e+05    444.272784     0.214462  2.492726e+05  2.873476e+05   \n",
       "min    9.000000e+01      0.560000     1.000000  9.000000e+01  0.000000e+00   \n",
       "25%    1.457500e+03      6.000000     1.000000  1.300000e+03  1.450000e+03   \n",
       "50%    3.900000e+04     11.850000     1.000000  3.300000e+04  3.550000e+04   \n",
       "75%    2.925000e+05     28.400000     1.000000  2.500000e+05  3.000000e+05   \n",
       "max    3.300000e+06  10088.000000     5.000000  2.900000e+06  3.300000e+06   \n",
       "\n",
       "                仮条件幅       危険シグナル        公募-仮上限            株数  \n",
       "count    1200.000000  1200.000000    1200.00000  1.200000e+03  \n",
       "mean    24194.741667     0.190833    -877.25000  2.685885e+06  \n",
       "std     43916.824933     0.393122   12259.32181  2.232220e+07  \n",
       "min   -240000.000000     0.000000 -150000.00000  6.000000e+02  \n",
       "25%       150.000000     0.000000       0.00000  3.500000e+03  \n",
       "50%      3000.000000     0.000000       0.00000  1.314011e+05  \n",
       "75%     35000.000000     0.000000       0.00000  1.001269e+06  \n",
       "max    500000.000000     1.000000  280000.00000  6.664912e+08  "
      ]
     },
     "execution_count": 34,
     "metadata": {},
     "output_type": "execute_result"
    }
   ],
   "source": [
    "train.describe()"
   ]
  },
  {
   "cell_type": "code",
   "execution_count": 35,
   "metadata": {},
   "outputs": [
    {
     "data": {
      "text/html": [
       "<div>\n",
       "<style scoped>\n",
       "    .dataframe tbody tr th:only-of-type {\n",
       "        vertical-align: middle;\n",
       "    }\n",
       "\n",
       "    .dataframe tbody tr th {\n",
       "        vertical-align: top;\n",
       "    }\n",
       "\n",
       "    .dataframe thead th {\n",
       "        text-align: right;\n",
       "    }\n",
       "</style>\n",
       "<table border=\"1\" class=\"dataframe\">\n",
       "  <thead>\n",
       "    <tr style=\"text-align: right;\">\n",
       "      <th></th>\n",
       "      <th>公募</th>\n",
       "      <th>吸収金額</th>\n",
       "      <th>主幹事数</th>\n",
       "      <th>仮条件下限</th>\n",
       "      <th>仮条件上限</th>\n",
       "      <th>仮条件幅</th>\n",
       "      <th>危険シグナル</th>\n",
       "      <th>公募-仮上限</th>\n",
       "      <th>株数</th>\n",
       "    </tr>\n",
       "  </thead>\n",
       "  <tbody>\n",
       "    <tr>\n",
       "      <th>count</th>\n",
       "      <td>502.000000</td>\n",
       "      <td>502.000000</td>\n",
       "      <td>502.000000</td>\n",
       "      <td>502.000000</td>\n",
       "      <td>502.000000</td>\n",
       "      <td>502.000000</td>\n",
       "      <td>502.000000</td>\n",
       "      <td>502.000000</td>\n",
       "      <td>5.020000e+02</td>\n",
       "    </tr>\n",
       "    <tr>\n",
       "      <th>mean</th>\n",
       "      <td>9503.332669</td>\n",
       "      <td>162.520299</td>\n",
       "      <td>1.075697</td>\n",
       "      <td>9095.247012</td>\n",
       "      <td>9583.601594</td>\n",
       "      <td>488.354582</td>\n",
       "      <td>0.163347</td>\n",
       "      <td>-80.268924</td>\n",
       "      <td>9.127526e+06</td>\n",
       "    </tr>\n",
       "    <tr>\n",
       "      <th>std</th>\n",
       "      <td>32697.759167</td>\n",
       "      <td>1276.689121</td>\n",
       "      <td>0.549221</td>\n",
       "      <td>31465.574616</td>\n",
       "      <td>32958.727000</td>\n",
       "      <td>1779.745769</td>\n",
       "      <td>0.370050</td>\n",
       "      <td>656.874728</td>\n",
       "      <td>8.570098e+07</td>\n",
       "    </tr>\n",
       "    <tr>\n",
       "      <th>min</th>\n",
       "      <td>185.000000</td>\n",
       "      <td>0.810000</td>\n",
       "      <td>1.000000</td>\n",
       "      <td>175.000000</td>\n",
       "      <td>185.000000</td>\n",
       "      <td>0.000000</td>\n",
       "      <td>0.000000</td>\n",
       "      <td>-10000.000000</td>\n",
       "      <td>4.118280e+04</td>\n",
       "    </tr>\n",
       "    <tr>\n",
       "      <th>25%</th>\n",
       "      <td>1320.000000</td>\n",
       "      <td>7.627500</td>\n",
       "      <td>1.000000</td>\n",
       "      <td>1220.000000</td>\n",
       "      <td>1340.000000</td>\n",
       "      <td>80.000000</td>\n",
       "      <td>0.000000</td>\n",
       "      <td>0.000000</td>\n",
       "      <td>3.669271e+05</td>\n",
       "    </tr>\n",
       "    <tr>\n",
       "      <th>50%</th>\n",
       "      <td>1870.000000</td>\n",
       "      <td>13.750000</td>\n",
       "      <td>1.000000</td>\n",
       "      <td>1700.000000</td>\n",
       "      <td>1870.000000</td>\n",
       "      <td>140.000000</td>\n",
       "      <td>0.000000</td>\n",
       "      <td>0.000000</td>\n",
       "      <td>6.750912e+05</td>\n",
       "    </tr>\n",
       "    <tr>\n",
       "      <th>75%</th>\n",
       "      <td>2700.000000</td>\n",
       "      <td>41.450000</td>\n",
       "      <td>1.000000</td>\n",
       "      <td>2550.000000</td>\n",
       "      <td>2700.000000</td>\n",
       "      <td>200.000000</td>\n",
       "      <td>0.000000</td>\n",
       "      <td>0.000000</td>\n",
       "      <td>1.749321e+06</td>\n",
       "    </tr>\n",
       "    <tr>\n",
       "      <th>max</th>\n",
       "      <td>270000.000000</td>\n",
       "      <td>26460.000000</td>\n",
       "      <td>7.000000</td>\n",
       "      <td>250000.000000</td>\n",
       "      <td>270000.000000</td>\n",
       "      <td>20000.000000</td>\n",
       "      <td>1.000000</td>\n",
       "      <td>0.000000</td>\n",
       "      <td>1.764000e+09</td>\n",
       "    </tr>\n",
       "  </tbody>\n",
       "</table>\n",
       "</div>"
      ],
      "text/plain": [
       "                  公募          吸収金額        主幹事数          仮条件下限          仮条件上限  \\\n",
       "count     502.000000    502.000000  502.000000     502.000000     502.000000   \n",
       "mean     9503.332669    162.520299    1.075697    9095.247012    9583.601594   \n",
       "std     32697.759167   1276.689121    0.549221   31465.574616   32958.727000   \n",
       "min       185.000000      0.810000    1.000000     175.000000     185.000000   \n",
       "25%      1320.000000      7.627500    1.000000    1220.000000    1340.000000   \n",
       "50%      1870.000000     13.750000    1.000000    1700.000000    1870.000000   \n",
       "75%      2700.000000     41.450000    1.000000    2550.000000    2700.000000   \n",
       "max    270000.000000  26460.000000    7.000000  250000.000000  270000.000000   \n",
       "\n",
       "               仮条件幅      危険シグナル        公募-仮上限            株数  \n",
       "count    502.000000  502.000000    502.000000  5.020000e+02  \n",
       "mean     488.354582    0.163347    -80.268924  9.127526e+06  \n",
       "std     1779.745769    0.370050    656.874728  8.570098e+07  \n",
       "min        0.000000    0.000000 -10000.000000  4.118280e+04  \n",
       "25%       80.000000    0.000000      0.000000  3.669271e+05  \n",
       "50%      140.000000    0.000000      0.000000  6.750912e+05  \n",
       "75%      200.000000    0.000000      0.000000  1.749321e+06  \n",
       "max    20000.000000    1.000000      0.000000  1.764000e+09  "
      ]
     },
     "execution_count": 35,
     "metadata": {},
     "output_type": "execute_result"
    }
   ],
   "source": [
    "test.describe()"
   ]
  },
  {
   "cell_type": "code",
   "execution_count": 36,
   "metadata": {
    "colab": {},
    "colab_type": "code",
    "id": "qzHTwuxzKR13"
   },
   "outputs": [],
   "source": [
    "df_train_x = train.drop([\"危険シグナル\"], axis=1)\n",
    "df_train_y = train[\"危険シグナル\"]\n",
    "df_test_x = test.drop([\"危険シグナル\"], axis=1)\n",
    "df_test_y = test[\"危険シグナル\"]\n",
    "\n",
    "# 説明変数リスト取得\n",
    "train_columns = list(df_train_x.columns)\n",
    "\n",
    "# 目的変数の比率を基に重みを作成\n",
    "# total_0_record = train[\"危険シグナル\"].value_counts()[0]\n",
    "# total_1_record = train[\"危険シグナル\"].value_counts()[1]\n",
    "# obj_weight  = total_0_record / total_1_record * 0.2"
   ]
  },
  {
   "cell_type": "code",
   "execution_count": 37,
   "metadata": {
    "colab": {},
    "colab_type": "code",
    "id": "SATCM71XKTRH"
   },
   "outputs": [],
   "source": [
    "# パラメータの履歴保存\n",
    "LR = 0.05 # learning rate\n",
    "\n",
    "def objectives(trial):\n",
    "    skf = StratifiedKFold(\n",
    "        n_splits=3, # Number of folds. Must be at least 2.\n",
    "        shuffle=True # Whether to shuffle each stratification of the data before splitting into batches.\n",
    "    )\n",
    "\n",
    "    boost_rounds = []\n",
    "    score = []\n",
    "\n",
    "    for train_index, test_index in skf.split(df_train_x, df_train_y):\n",
    "        _train_x, _test_x, _train_y, _test_y = df_train_x.iloc[train_index], df_train_x.iloc[test_index], df_train_y.iloc[train_index], df_train_y.iloc[test_index]\n",
    "\n",
    "        train_xd = lgb.Dataset(_train_x, label=_train_y, feature_name=train_columns, categorical_feature=cate_cols)\n",
    "        test_xd = lgb.Dataset(_test_x, label=_test_y, feature_name=train_columns, categorical_feature=cate_cols)\n",
    "\n",
    "        dict_param = {\n",
    "            \"boosting_type\": trial.suggest_categorical(\"boosting\", [\"gbdt\", \"dart\", \"goss\"]),\n",
    "            \"objective\": \"xentropy\",\n",
    "            \"metric\": \"xentropy\",\n",
    "            \"num_leaves\": trial.suggest_int(\"num_leaves\", 5, 80),\n",
    "            \"min_data_in_leaf\": trial.suggest_int(\"min_data_in_leaf\", 5, 300),\n",
    "            \"learning_rate\": LR,\n",
    "            \"drop_rate\": trial.suggest_loguniform(\"drop_rate\", 0.1, 0.8),\n",
    "            \"feature_fraction\": trial.suggest_uniform(\"feature_fraction\", 0.1, 0.9),\n",
    "            #\"obj_weight\": trial.suggest_uniform(\"obj_weight\", 0.01, 0.05),\n",
    "            \"verbose\" : 0\n",
    "        }\n",
    "        if dict_param[\"boosting_type\"] == \"dart\":\n",
    "            dict_param[\"drop_rate\"] = trial.suggest_loguniform(\"drop_rate\", 1e-8, 1.0)\n",
    "            dict_param[\"skip_drop\"] = trial.suggest_loguniform(\"skip_drop\", 1e-8, 1.0)\n",
    "        if dict_param[\"boosting_type\"] == \"goss\":\n",
    "            dict_param[\"top_rate\"] = trial.suggest_uniform(\"top_rate\", 0.0, 1.0)\n",
    "            dict_param[\"other_rate\"] = trial.suggest_uniform(\"other_rate\", 0.0, 1.0 - dict_param[\"top_rate\"])\n",
    "        \n",
    "        model = lgb.train(\n",
    "        dict_param,\n",
    "        train_xd,\n",
    "        num_boost_round=10000,\n",
    "        valid_sets=test_xd,\n",
    "        early_stopping_rounds=300,\n",
    "        verbose_eval=False\n",
    "        )\n",
    "       \n",
    "        # 精度評価用のスコア計算\n",
    "        pred_train = model.predict(_train_x)\n",
    "        pred_test = model.predict(_test_x)\n",
    "        logloss_train = metrics.log_loss( _train_y, pred_train)\n",
    "        logloss_test = metrics.log_loss(_test_y, pred_test)\n",
    "        f1_train = max([metrics.f1_score(_train_y, preprocessing.binarize(X=pred_train.reshape(1, -1), threshold=(i * 0.01))[0]) for i in range(1, 100)])\n",
    "        f1_test = max([metrics.f1_score(_test_y, preprocessing.binarize(X=pred_test.reshape(1, -1), threshold=(i * 0.01))[0]) for i in range(1, 100)])\n",
    "        boost_round = model.best_iteration\n",
    "        \n",
    "        # スコアの記録\n",
    "        trial.set_user_attr(\"logloss_train\", logloss_train)\n",
    "        trial.set_user_attr(\"logloss_test\", logloss_test)\n",
    "        trial.set_user_attr(\"f1_train\", f1_train)\n",
    "        trial.set_user_attr(\"f1_test\", f1_test)\n",
    "        trial.set_user_attr(\"boost_round\", boost_round)\n",
    "\n",
    "        \n",
    "        print(\"trial_id\", trial.trial_id,  \"logloss_train\", logloss_train, \"logloss_test\", logloss_test, \"boost_round\", boost_round, \"f1_train\", f1_train, \"f1_test\", f1_test)\n",
    "        \n",
    "        return logloss_test"
   ]
  },
  {
   "cell_type": "code",
   "execution_count": 38,
   "metadata": {
    "colab": {
     "base_uri": "https://localhost:8080/",
     "height": 679153
    },
    "colab_type": "code",
    "id": "UOLFqYWDKWoW",
    "outputId": "60efd16e-df5e-4422-e1de-a1662900802c",
    "scrolled": true
   },
   "outputs": [
    {
     "name": "stderr",
     "output_type": "stream",
     "text": [
      "[W 2020-04-26 10:56:07,067] The use of `Trial.trial_id` is deprecated. Please use `Trial.number` instead.\n"
     ]
    },
    {
     "name": "stdout",
     "output_type": "stream",
     "text": [
      "trial_id 0 logloss_train 0.3384758206064062 logloss_test 0.40772757745729465 boost_round 81 f1_train 0.6468842729970326 f1_test 0.5172413793103449\n"
     ]
    },
    {
     "name": "stderr",
     "output_type": "stream",
     "text": [
      "[I 2020-04-26 10:56:07,140] Finished trial#0 with value: 0.40772757745729465 with parameters: {'boosting': 'goss', 'num_leaves': 24, 'min_data_in_leaf': 44, 'drop_rate': 0.5323981420318846, 'feature_fraction': 0.4007236411171031, 'top_rate': 0.35824497219167883, 'other_rate': 0.09707786830721091}. Best is trial#0 with value: 0.40772757745729465.\n",
      "[W 2020-04-26 10:56:33,602] The use of `Trial.trial_id` is deprecated. Please use `Trial.number` instead.\n"
     ]
    },
    {
     "name": "stdout",
     "output_type": "stream",
     "text": [
      "trial_id 1 logloss_train 0.07893947009348459 logloss_test 0.5530936008352705 boost_round 0 f1_train 0.9967426710097721 f1_test 0.4525547445255474\n"
     ]
    },
    {
     "name": "stderr",
     "output_type": "stream",
     "text": [
      "[I 2020-04-26 10:56:33,687] Finished trial#1 with value: 0.5530936008352705 with parameters: {'boosting': 'dart', 'num_leaves': 72, 'min_data_in_leaf': 60, 'drop_rate': 0.11474485073277661, 'feature_fraction': 0.61332498052422, 'skip_drop': 0.17311786622538203}. Best is trial#0 with value: 0.40772757745729465.\n",
      "[W 2020-04-26 10:56:34,150] The use of `Trial.trial_id` is deprecated. Please use `Trial.number` instead.\n"
     ]
    },
    {
     "name": "stdout",
     "output_type": "stream",
     "text": [
      "trial_id 2 logloss_train 0.4322807897598626 logloss_test 0.44481105922790204 boost_round 83 f1_train 0.49438202247191004 f1_test 0.43373493975903615\n"
     ]
    },
    {
     "name": "stderr",
     "output_type": "stream",
     "text": [
      "[I 2020-04-26 10:56:34,227] Finished trial#2 with value: 0.44481105922790204 with parameters: {'boosting': 'goss', 'num_leaves': 31, 'min_data_in_leaf': 281, 'drop_rate': 0.4515104929669559, 'feature_fraction': 0.8432693117427799, 'top_rate': 0.795692878005333, 'other_rate': 0.15520319022114412}. Best is trial#0 with value: 0.40772757745729465.\n",
      "[W 2020-04-26 10:56:48,987] The use of `Trial.trial_id` is deprecated. Please use `Trial.number` instead.\n"
     ]
    },
    {
     "name": "stdout",
     "output_type": "stream",
     "text": [
      "trial_id 3 logloss_train 0.41608780607759527 logloss_test 0.4564525072734601 boost_round 0 f1_train 0.504950495049505 f1_test 0.4146341463414634\n"
     ]
    },
    {
     "name": "stderr",
     "output_type": "stream",
     "text": [
      "[I 2020-04-26 10:56:49,069] Finished trial#3 with value: 0.4564525072734601 with parameters: {'boosting': 'dart', 'num_leaves': 61, 'min_data_in_leaf': 241, 'drop_rate': 0.22210299849101378, 'feature_fraction': 0.8517477457708177, 'skip_drop': 0.0036244354841306952}. Best is trial#0 with value: 0.40772757745729465.\n",
      "[W 2020-04-26 10:56:49,876] The use of `Trial.trial_id` is deprecated. Please use `Trial.number` instead.\n"
     ]
    },
    {
     "name": "stdout",
     "output_type": "stream",
     "text": [
      "trial_id 4 logloss_train 0.4004536740757386 logloss_test 0.4321449716833349 boost_round 981 f1_train 0.5191256830601093 f1_test 0.46153846153846156\n"
     ]
    },
    {
     "name": "stderr",
     "output_type": "stream",
     "text": [
      "[I 2020-04-26 10:56:49,957] Finished trial#4 with value: 0.4321449716833349 with parameters: {'boosting': 'goss', 'num_leaves': 69, 'min_data_in_leaf': 227, 'drop_rate': 0.3091120724771114, 'feature_fraction': 0.4175064073089976, 'top_rate': 0.15687649487497313, 'other_rate': 0.748500403897543}. Best is trial#0 with value: 0.40772757745729465.\n",
      "[W 2020-04-26 10:56:50,463] The use of `Trial.trial_id` is deprecated. Please use `Trial.number` instead.\n"
     ]
    },
    {
     "name": "stdout",
     "output_type": "stream",
     "text": [
      "trial_id 5 logloss_train 0.40298266423387313 logloss_test 0.4290317772294132 boost_round 125 f1_train 0.5074626865671641 f1_test 0.4952380952380952\n"
     ]
    },
    {
     "name": "stderr",
     "output_type": "stream",
     "text": [
      "[I 2020-04-26 10:56:50,544] Finished trial#5 with value: 0.4290317772294132 with parameters: {'boosting': 'goss', 'num_leaves': 32, 'min_data_in_leaf': 112, 'drop_rate': 0.3146608075375462, 'feature_fraction': 0.5261162021256828, 'top_rate': 0.2151672196752088, 'other_rate': 0.47180520193922054}. Best is trial#0 with value: 0.40772757745729465.\n",
      "[W 2020-04-26 10:56:50,971] The use of `Trial.trial_id` is deprecated. Please use `Trial.number` instead.\n"
     ]
    },
    {
     "name": "stdout",
     "output_type": "stream",
     "text": [
      "trial_id 6 logloss_train 0.31165218219111246 logloss_test 0.39529731724569117 boost_round 64 f1_train 0.6666666666666667 f1_test 0.47761194029850745\n"
     ]
    },
    {
     "name": "stderr",
     "output_type": "stream",
     "text": [
      "[I 2020-04-26 10:56:51,043] Finished trial#6 with value: 0.39529731724569117 with parameters: {'boosting': 'gbdt', 'num_leaves': 8, 'min_data_in_leaf': 14, 'drop_rate': 0.22124913573985291, 'feature_fraction': 0.8167118406882604}. Best is trial#6 with value: 0.39529731724569117.\n",
      "[W 2020-04-26 10:56:51,540] The use of `Trial.trial_id` is deprecated. Please use `Trial.number` instead.\n"
     ]
    },
    {
     "name": "stdout",
     "output_type": "stream",
     "text": [
      "trial_id 7 logloss_train 0.3478235877855368 logloss_test 0.4221804443071895 boost_round 106 f1_train 0.5896656534954406 f1_test 0.5027322404371586\n"
     ]
    },
    {
     "name": "stderr",
     "output_type": "stream",
     "text": [
      "[I 2020-04-26 10:56:51,610] Finished trial#7 with value: 0.4221804443071895 with parameters: {'boosting': 'gbdt', 'num_leaves': 40, 'min_data_in_leaf': 85, 'drop_rate': 0.4182558067998737, 'feature_fraction': 0.24224090937553688}. Best is trial#6 with value: 0.39529731724569117.\n",
      "[W 2020-04-26 10:56:52,115] The use of `Trial.trial_id` is deprecated. Please use `Trial.number` instead.\n"
     ]
    },
    {
     "name": "stdout",
     "output_type": "stream",
     "text": [
      "trial_id 8 logloss_train 0.3501051414236233 logloss_test 0.4155297801841884 boost_round 55 f1_train 0.6140350877192983 f1_test 0.5092592592592593\n"
     ]
    },
    {
     "name": "stderr",
     "output_type": "stream",
     "text": [
      "[I 2020-04-26 10:56:52,188] Finished trial#8 with value: 0.4155297801841884 with parameters: {'boosting': 'gbdt', 'num_leaves': 40, 'min_data_in_leaf': 59, 'drop_rate': 0.28532687805735146, 'feature_fraction': 0.3267171876540339}. Best is trial#6 with value: 0.39529731724569117.\n",
      "[W 2020-04-26 10:56:52,671] The use of `Trial.trial_id` is deprecated. Please use `Trial.number` instead.\n"
     ]
    },
    {
     "name": "stdout",
     "output_type": "stream",
     "text": [
      "trial_id 9 logloss_train 0.4104180458274047 logloss_test 0.4494017972650376 boost_round 100 f1_train 0.4923076923076923 f1_test 0.42361111111111105\n"
     ]
    },
    {
     "name": "stderr",
     "output_type": "stream",
     "text": [
      "[I 2020-04-26 10:56:52,744] Finished trial#9 with value: 0.4494017972650376 with parameters: {'boosting': 'goss', 'num_leaves': 28, 'min_data_in_leaf': 181, 'drop_rate': 0.7326508868924871, 'feature_fraction': 0.7707158907111359, 'top_rate': 0.09863719674109972, 'other_rate': 0.8082447607550046}. Best is trial#6 with value: 0.39529731724569117.\n",
      "[W 2020-04-26 10:56:53,163] The use of `Trial.trial_id` is deprecated. Please use `Trial.number` instead.\n"
     ]
    },
    {
     "name": "stdout",
     "output_type": "stream",
     "text": [
      "trial_id 10 logloss_train 0.32800072820809717 logloss_test 0.39315240758215864 boost_round 85 f1_train 0.6377708978328174 f1_test 0.5100671140939598\n"
     ]
    },
    {
     "name": "stderr",
     "output_type": "stream",
     "text": [
      "[I 2020-04-26 10:56:53,235] Finished trial#10 with value: 0.39315240758215864 with parameters: {'boosting': 'gbdt', 'num_leaves': 5, 'min_data_in_leaf': 10, 'drop_rate': 0.14930793776897064, 'feature_fraction': 0.6942030385049631}. Best is trial#10 with value: 0.39315240758215864.\n",
      "[W 2020-04-26 10:56:53,643] The use of `Trial.trial_id` is deprecated. Please use `Trial.number` instead.\n"
     ]
    },
    {
     "name": "stdout",
     "output_type": "stream",
     "text": [
      "trial_id 11 logloss_train 0.3348491967911631 logloss_test 0.41621806708353853 boost_round 51 f1_train 0.6576271186440678 f1_test 0.4948453608247423\n"
     ]
    },
    {
     "name": "stderr",
     "output_type": "stream",
     "text": [
      "[I 2020-04-26 10:56:53,714] Finished trial#11 with value: 0.41621806708353853 with parameters: {'boosting': 'gbdt', 'num_leaves': 6, 'min_data_in_leaf': 11, 'drop_rate': 0.15529930792352034, 'feature_fraction': 0.6853871612352724}. Best is trial#10 with value: 0.39315240758215864.\n",
      "[W 2020-04-26 10:56:54,115] The use of `Trial.trial_id` is deprecated. Please use `Trial.number` instead.\n"
     ]
    },
    {
     "name": "stdout",
     "output_type": "stream",
     "text": [
      "trial_id 12 logloss_train 0.34442169571545717 logloss_test 0.42131573191129335 boost_round 50 f1_train 0.63125 f1_test 0.4883720930232558\n"
     ]
    },
    {
     "name": "stderr",
     "output_type": "stream",
     "text": [
      "[I 2020-04-26 10:56:54,187] Finished trial#12 with value: 0.42131573191129335 with parameters: {'boosting': 'gbdt', 'num_leaves': 5, 'min_data_in_leaf': 8, 'drop_rate': 0.17583747742634825, 'feature_fraction': 0.6990515586372532}. Best is trial#10 with value: 0.39315240758215864.\n",
      "[W 2020-04-26 10:56:54,677] The use of `Trial.trial_id` is deprecated. Please use `Trial.number` instead.\n"
     ]
    },
    {
     "name": "stdout",
     "output_type": "stream",
     "text": [
      "trial_id 13 logloss_train 0.41156391995164454 logloss_test 0.4303986401426343 boost_round 60 f1_train 0.5382716049382716 f1_test 0.4657534246575342\n"
     ]
    },
    {
     "name": "stderr",
     "output_type": "stream",
     "text": [
      "[I 2020-04-26 10:56:54,750] Finished trial#13 with value: 0.4303986401426343 with parameters: {'boosting': 'gbdt', 'num_leaves': 14, 'min_data_in_leaf': 135, 'drop_rate': 0.10239844067203768, 'feature_fraction': 0.8882273363395522}. Best is trial#10 with value: 0.39315240758215864.\n",
      "[W 2020-04-26 10:56:55,255] The use of `Trial.trial_id` is deprecated. Please use `Trial.number` instead.\n"
     ]
    },
    {
     "name": "stdout",
     "output_type": "stream",
     "text": [
      "trial_id 14 logloss_train 0.2714398603268332 logloss_test 0.39170712697541327 boost_round 45 f1_train 0.8187919463087248 f1_test 0.5270270270270271\n"
     ]
    },
    {
     "name": "stderr",
     "output_type": "stream",
     "text": [
      "[I 2020-04-26 10:56:55,330] Finished trial#14 with value: 0.39170712697541327 with parameters: {'boosting': 'gbdt', 'num_leaves': 17, 'min_data_in_leaf': 5, 'drop_rate': 0.13908112359294206, 'feature_fraction': 0.5884374728354355}. Best is trial#14 with value: 0.39170712697541327.\n",
      "[W 2020-04-26 10:56:55,831] The use of `Trial.trial_id` is deprecated. Please use `Trial.number` instead.\n"
     ]
    },
    {
     "name": "stdout",
     "output_type": "stream",
     "text": [
      "trial_id 15 logloss_train 0.2592088514130701 logloss_test 0.39473271014946726 boost_round 50 f1_train 0.8 f1_test 0.5301204819277109\n"
     ]
    },
    {
     "name": "stderr",
     "output_type": "stream",
     "text": [
      "[I 2020-04-26 10:56:55,914] Finished trial#15 with value: 0.39473271014946726 with parameters: {'boosting': 'gbdt', 'num_leaves': 18, 'min_data_in_leaf': 7, 'drop_rate': 0.13454921622082192, 'feature_fraction': 0.5700394664123749}. Best is trial#14 with value: 0.39170712697541327.\n",
      "[W 2020-04-26 10:56:56,414] The use of `Trial.trial_id` is deprecated. Please use `Trial.number` instead.\n"
     ]
    },
    {
     "name": "stdout",
     "output_type": "stream",
     "text": [
      "trial_id 16 logloss_train 0.38268868978112053 logloss_test 0.4471704713743547 boost_round 80 f1_train 0.5569620253164558 f1_test 0.42400000000000004\n"
     ]
    },
    {
     "name": "stderr",
     "output_type": "stream",
     "text": [
      "[I 2020-04-26 10:56:56,487] Finished trial#16 with value: 0.4471704713743547 with parameters: {'boosting': 'gbdt', 'num_leaves': 55, 'min_data_in_leaf': 101, 'drop_rate': 0.10042797078311819, 'feature_fraction': 0.6620957494011606}. Best is trial#14 with value: 0.39170712697541327.\n",
      "[W 2020-04-26 10:57:12,940] The use of `Trial.trial_id` is deprecated. Please use `Trial.number` instead.\n"
     ]
    },
    {
     "name": "stdout",
     "output_type": "stream",
     "text": [
      "trial_id 17 logloss_train 0.6281731972865332 logloss_test 0.6419527168945174 boost_round 0 f1_train 0.5310173697270472 f1_test 0.4085106382978723\n"
     ]
    },
    {
     "name": "stderr",
     "output_type": "stream",
     "text": [
      "[I 2020-04-26 10:57:13,023] Finished trial#17 with value: 0.6419527168945174 with parameters: {'boosting': 'dart', 'num_leaves': 14, 'min_data_in_leaf': 163, 'drop_rate': 0.1928804013683258, 'feature_fraction': 0.11770746565979034, 'skip_drop': 9.051387865843735e-06}. Best is trial#14 with value: 0.39170712697541327.\n",
      "[W 2020-04-26 10:57:13,584] The use of `Trial.trial_id` is deprecated. Please use `Trial.number` instead.\n"
     ]
    },
    {
     "name": "stdout",
     "output_type": "stream",
     "text": [
      "trial_id 18 logloss_train 0.340530031406734 logloss_test 0.4147725897294262 boost_round 40 f1_train 0.6815286624203822 f1_test 0.47777777777777775\n"
     ]
    },
    {
     "name": "stderr",
     "output_type": "stream",
     "text": [
      "[I 2020-04-26 10:57:13,657] Finished trial#18 with value: 0.4147725897294262 with parameters: {'boosting': 'gbdt', 'num_leaves': 19, 'min_data_in_leaf': 39, 'drop_rate': 0.13224003935169637, 'feature_fraction': 0.46010720267812616}. Best is trial#14 with value: 0.39170712697541327.\n",
      "[W 2020-04-26 10:57:14,063] The use of `Trial.trial_id` is deprecated. Please use `Trial.number` instead.\n"
     ]
    },
    {
     "name": "stdout",
     "output_type": "stream",
     "text": [
      "trial_id 19 logloss_train 0.35412904321514516 logloss_test 0.38830743774754295 boost_round 76 f1_train 0.5766423357664233 f1_test 0.5263157894736842\n"
     ]
    },
    {
     "name": "stderr",
     "output_type": "stream",
     "text": [
      "[I 2020-04-26 10:57:14,141] Finished trial#19 with value: 0.38830743774754295 with parameters: {'boosting': 'gbdt', 'num_leaves': 5, 'min_data_in_leaf': 76, 'drop_rate': 0.14559390839247535, 'feature_fraction': 0.748786618185628}. Best is trial#19 with value: 0.38830743774754295.\n",
      "[W 2020-04-26 10:57:14,642] The use of `Trial.trial_id` is deprecated. Please use `Trial.number` instead.\n"
     ]
    },
    {
     "name": "stdout",
     "output_type": "stream",
     "text": [
      "trial_id 20 logloss_train 0.35831727562311677 logloss_test 0.38597857439619504 boost_round 57 f1_train 0.5743243243243243 f1_test 0.5529411764705883\n"
     ]
    },
    {
     "name": "stderr",
     "output_type": "stream",
     "text": [
      "[I 2020-04-26 10:57:14,716] Finished trial#20 with value: 0.38597857439619504 with parameters: {'boosting': 'gbdt', 'num_leaves': 46, 'min_data_in_leaf': 78, 'drop_rate': 0.2294381231380594, 'feature_fraction': 0.7497041185766298}. Best is trial#20 with value: 0.38597857439619504.\n",
      "[W 2020-04-26 10:57:15,235] The use of `Trial.trial_id` is deprecated. Please use `Trial.number` instead.\n"
     ]
    },
    {
     "name": "stdout",
     "output_type": "stream",
     "text": [
      "trial_id 21 logloss_train 0.3834728401296279 logloss_test 0.4446005050301298 boost_round 57 f1_train 0.5746478873239437 f1_test 0.44715447154471544\n"
     ]
    },
    {
     "name": "stderr",
     "output_type": "stream",
     "text": [
      "[I 2020-04-26 10:57:15,308] Finished trial#21 with value: 0.4446005050301298 with parameters: {'boosting': 'gbdt', 'num_leaves': 50, 'min_data_in_leaf': 85, 'drop_rate': 0.2206933617089874, 'feature_fraction': 0.7587809954004504}. Best is trial#20 with value: 0.38597857439619504.\n",
      "[W 2020-04-26 10:57:15,785] The use of `Trial.trial_id` is deprecated. Please use `Trial.number` instead.\n"
     ]
    },
    {
     "name": "stdout",
     "output_type": "stream",
     "text": [
      "trial_id 22 logloss_train 0.4104417091363574 logloss_test 0.43931886833438955 boost_round 59 f1_train 0.5034324942791762 f1_test 0.43478260869565216\n"
     ]
    },
    {
     "name": "stderr",
     "output_type": "stream",
     "text": [
      "[I 2020-04-26 10:57:15,859] Finished trial#22 with value: 0.43931886833438955 with parameters: {'boosting': 'gbdt', 'num_leaves': 51, 'min_data_in_leaf': 134, 'drop_rate': 0.18592598994763473, 'feature_fraction': 0.6045788362214923}. Best is trial#20 with value: 0.38597857439619504.\n",
      "[W 2020-04-26 10:57:16,426] The use of `Trial.trial_id` is deprecated. Please use `Trial.number` instead.\n"
     ]
    },
    {
     "name": "stdout",
     "output_type": "stream",
     "text": [
      "trial_id 23 logloss_train 0.29867120065547614 logloss_test 0.3972594219595485 boost_round 62 f1_train 0.7071240105540897 f1_test 0.4807692307692307\n"
     ]
    },
    {
     "name": "stderr",
     "output_type": "stream",
     "text": [
      "[I 2020-04-26 10:57:16,500] Finished trial#23 with value: 0.3972594219595485 with parameters: {'boosting': 'gbdt', 'num_leaves': 45, 'min_data_in_leaf': 39, 'drop_rate': 0.11825656249098102, 'feature_fraction': 0.7639703700396416}. Best is trial#20 with value: 0.38597857439619504.\n",
      "[W 2020-04-26 10:57:17,062] The use of `Trial.trial_id` is deprecated. Please use `Trial.number` instead.\n"
     ]
    },
    {
     "name": "stdout",
     "output_type": "stream",
     "text": [
      "trial_id 24 logloss_train 0.3250059952932722 logloss_test 0.390961876649802 boost_round 118 f1_train 0.6426426426426427 f1_test 0.5168539325842696\n"
     ]
    },
    {
     "name": "stderr",
     "output_type": "stream",
     "text": [
      "[I 2020-04-26 10:57:17,146] Finished trial#24 with value: 0.390961876649802 with parameters: {'boosting': 'gbdt', 'num_leaves': 59, 'min_data_in_leaf': 75, 'drop_rate': 0.2525419801831716, 'feature_fraction': 0.5351304081952714}. Best is trial#20 with value: 0.38597857439619504.\n",
      "[W 2020-04-26 10:57:17,661] The use of `Trial.trial_id` is deprecated. Please use `Trial.number` instead.\n"
     ]
    },
    {
     "name": "stdout",
     "output_type": "stream",
     "text": [
      "trial_id 25 logloss_train 0.370850117685723 logloss_test 0.43742678422965026 boost_round 75 f1_train 0.5813953488372093 f1_test 0.4502617801047121\n"
     ]
    },
    {
     "name": "stderr",
     "output_type": "stream",
     "text": [
      "[I 2020-04-26 10:57:17,733] Finished trial#25 with value: 0.43742678422965026 with parameters: {'boosting': 'gbdt', 'num_leaves': 63, 'min_data_in_leaf': 78, 'drop_rate': 0.25629139173868726, 'feature_fraction': 0.8897932405215084}. Best is trial#20 with value: 0.38597857439619504.\n",
      "[W 2020-04-26 10:57:37,708] The use of `Trial.trial_id` is deprecated. Please use `Trial.number` instead.\n"
     ]
    },
    {
     "name": "stdout",
     "output_type": "stream",
     "text": [
      "trial_id 26 logloss_train 0.3911611365610858 logloss_test 0.43458141748351425 boost_round 0 f1_train 0.5416666666666666 f1_test 0.45283018867924524\n"
     ]
    },
    {
     "name": "stderr",
     "output_type": "stream",
     "text": [
      "[I 2020-04-26 10:57:37,793] Finished trial#26 with value: 0.43458141748351425 with parameters: {'boosting': 'dart', 'num_leaves': 58, 'min_data_in_leaf': 116, 'drop_rate': 0.3592373325853453, 'feature_fraction': 0.4797331920494545, 'skip_drop': 1.084753965883262e-08}. Best is trial#20 with value: 0.38597857439619504.\n",
      "[W 2020-04-26 10:57:38,320] The use of `Trial.trial_id` is deprecated. Please use `Trial.number` instead.\n"
     ]
    },
    {
     "name": "stdout",
     "output_type": "stream",
     "text": [
      "trial_id 27 logloss_train 0.3448443224868061 logloss_test 0.40930540045545816 boost_round 55 f1_train 0.6232876712328768 f1_test 0.4799999999999999\n"
     ]
    },
    {
     "name": "stderr",
     "output_type": "stream",
     "text": [
      "[I 2020-04-26 10:57:38,397] Finished trial#27 with value: 0.40930540045545816 with parameters: {'boosting': 'gbdt', 'num_leaves': 76, 'min_data_in_leaf': 66, 'drop_rate': 0.2551908628667734, 'feature_fraction': 0.5359889146477113}. Best is trial#20 with value: 0.38597857439619504.\n",
      "[W 2020-04-26 10:57:38,897] The use of `Trial.trial_id` is deprecated. Please use `Trial.number` instead.\n"
     ]
    },
    {
     "name": "stdout",
     "output_type": "stream",
     "text": [
      "trial_id 28 logloss_train 0.4090652460572654 logloss_test 0.4359682416441999 boost_round 165 f1_train 0.5138539042821159 f1_test 0.4315352697095436\n"
     ]
    },
    {
     "name": "stderr",
     "output_type": "stream",
     "text": [
      "[I 2020-04-26 10:57:38,970] Finished trial#28 with value: 0.4359682416441999 with parameters: {'boosting': 'gbdt', 'num_leaves': 47, 'min_data_in_leaf': 177, 'drop_rate': 0.1702436877545421, 'feature_fraction': 0.32063478526607647}. Best is trial#20 with value: 0.38597857439619504.\n",
      "[W 2020-04-26 10:57:39,552] The use of `Trial.trial_id` is deprecated. Please use `Trial.number` instead.\n"
     ]
    },
    {
     "name": "stdout",
     "output_type": "stream",
     "text": [
      "trial_id 29 logloss_train 0.29340518890562334 logloss_test 0.40507464607189275 boost_round 57 f1_train 0.7311178247734139 f1_test 0.5\n"
     ]
    },
    {
     "name": "stderr",
     "output_type": "stream",
     "text": [
      "[I 2020-04-26 10:57:39,623] Finished trial#29 with value: 0.40507464607189275 with parameters: {'boosting': 'gbdt', 'num_leaves': 80, 'min_data_in_leaf': 35, 'drop_rate': 0.3534549817994419, 'feature_fraction': 0.6341664930682473}. Best is trial#20 with value: 0.38597857439619504.\n",
      "[W 2020-04-26 10:57:40,110] The use of `Trial.trial_id` is deprecated. Please use `Trial.number` instead.\n"
     ]
    },
    {
     "name": "stdout",
     "output_type": "stream",
     "text": [
      "trial_id 30 logloss_train 0.4020617016094769 logloss_test 0.4522905331753897 boost_round 40 f1_train 0.526595744680851 f1_test 0.4176706827309238\n"
     ]
    },
    {
     "name": "stderr",
     "output_type": "stream",
     "text": [
      "[I 2020-04-26 10:57:40,184] Finished trial#30 with value: 0.4522905331753897 with parameters: {'boosting': 'gbdt', 'num_leaves': 67, 'min_data_in_leaf': 100, 'drop_rate': 0.5476856389180723, 'feature_fraction': 0.7338761198315845}. Best is trial#20 with value: 0.38597857439619504.\n",
      "[W 2020-04-26 10:57:40,717] The use of `Trial.trial_id` is deprecated. Please use `Trial.number` instead.\n"
     ]
    },
    {
     "name": "stdout",
     "output_type": "stream",
     "text": [
      "trial_id 31 logloss_train 0.3292781496909699 logloss_test 0.4023346676015393 boost_round 56 f1_train 0.6583072100313478 f1_test 0.5157232704402516\n"
     ]
    },
    {
     "name": "stderr",
     "output_type": "stream",
     "text": [
      "[I 2020-04-26 10:57:40,790] Finished trial#31 with value: 0.4023346676015393 with parameters: {'boosting': 'gbdt', 'num_leaves': 38, 'min_data_in_leaf': 51, 'drop_rate': 0.20154632146083146, 'feature_fraction': 0.5735084184742001}. Best is trial#20 with value: 0.38597857439619504.\n",
      "[W 2020-04-26 10:57:41,422] The use of `Trial.trial_id` is deprecated. Please use `Trial.number` instead.\n"
     ]
    },
    {
     "name": "stdout",
     "output_type": "stream",
     "text": [
      "trial_id 32 logloss_train 0.2705987505469848 logloss_test 0.4110212757500279 boost_round 53 f1_train 0.7567567567567567 f1_test 0.5\n"
     ]
    },
    {
     "name": "stderr",
     "output_type": "stream",
     "text": [
      "[I 2020-04-26 10:57:41,498] Finished trial#32 with value: 0.4110212757500279 with parameters: {'boosting': 'gbdt', 'num_leaves': 54, 'min_data_in_leaf': 26, 'drop_rate': 0.14247526753352832, 'feature_fraction': 0.6335434030325979}. Best is trial#20 with value: 0.38597857439619504.\n",
      "[W 2020-04-26 10:57:42,001] The use of `Trial.trial_id` is deprecated. Please use `Trial.number` instead.\n"
     ]
    },
    {
     "name": "stdout",
     "output_type": "stream",
     "text": [
      "trial_id 33 logloss_train 0.3966814923139765 logloss_test 0.4520368726008175 boost_round 66 f1_train 0.5257731958762886 f1_test 0.423841059602649\n"
     ]
    },
    {
     "name": "stderr",
     "output_type": "stream",
     "text": [
      "[I 2020-04-26 10:57:42,081] Finished trial#33 with value: 0.4520368726008175 with parameters: {'boosting': 'gbdt', 'num_leaves': 34, 'min_data_in_leaf': 132, 'drop_rate': 0.11631549112299976, 'feature_fraction': 0.813064705145609}. Best is trial#20 with value: 0.38597857439619504.\n",
      "[W 2020-04-26 10:58:05,815] The use of `Trial.trial_id` is deprecated. Please use `Trial.number` instead.\n"
     ]
    },
    {
     "name": "stdout",
     "output_type": "stream",
     "text": [
      "trial_id 34 logloss_train 0.30296189654222877 logloss_test 0.40659090665889563 boost_round 0 f1_train 0.6943620178041543 f1_test 0.5142857142857142\n"
     ]
    },
    {
     "name": "stderr",
     "output_type": "stream",
     "text": [
      "[I 2020-04-26 10:58:05,902] Finished trial#34 with value: 0.40659090665889563 with parameters: {'boosting': 'dart', 'num_leaves': 24, 'min_data_in_leaf': 70, 'drop_rate': 0.2510271122137346, 'feature_fraction': 0.5809813348099683, 'skip_drop': 2.7028722962946548e-05}. Best is trial#20 with value: 0.38597857439619504.\n",
      "[W 2020-04-26 10:58:06,425] The use of `Trial.trial_id` is deprecated. Please use `Trial.number` instead.\n"
     ]
    },
    {
     "name": "stdout",
     "output_type": "stream",
     "text": [
      "trial_id 35 logloss_train 0.37855335177730626 logloss_test 0.44182824502367835 boost_round 110 f1_train 0.5489260143198091 f1_test 0.4556962025316456\n"
     ]
    },
    {
     "name": "stderr",
     "output_type": "stream",
     "text": [
      "[I 2020-04-26 10:58:06,497] Finished trial#35 with value: 0.44182824502367835 with parameters: {'boosting': 'goss', 'num_leaves': 63, 'min_data_in_leaf': 95, 'drop_rate': 0.16488581398137547, 'feature_fraction': 0.4086671244163582, 'top_rate': 0.9634063521357128, 'other_rate': 0.022114596823576055}. Best is trial#20 with value: 0.38597857439619504.\n",
      "[W 2020-04-26 10:58:07,020] The use of `Trial.trial_id` is deprecated. Please use `Trial.number` instead.\n"
     ]
    },
    {
     "name": "stdout",
     "output_type": "stream",
     "text": [
      "trial_id 36 logloss_train 0.33438600456582585 logloss_test 0.4102626627486697 boost_round 60 f1_train 0.6136986301369863 f1_test 0.49142857142857144\n"
     ]
    },
    {
     "name": "stderr",
     "output_type": "stream",
     "text": [
      "[I 2020-04-26 10:58:07,096] Finished trial#36 with value: 0.4102626627486697 with parameters: {'boosting': 'gbdt', 'num_leaves': 45, 'min_data_in_leaf': 58, 'drop_rate': 0.12167966369687667, 'feature_fraction': 0.5065207911002708}. Best is trial#20 with value: 0.38597857439619504.\n",
      "[W 2020-04-26 10:58:07,567] The use of `Trial.trial_id` is deprecated. Please use `Trial.number` instead.\n"
     ]
    },
    {
     "name": "stdout",
     "output_type": "stream",
     "text": [
      "trial_id 37 logloss_train 0.40894955571058167 logloss_test 0.46336362071888565 boost_round 38 f1_train 0.5263157894736842 f1_test 0.3983050847457627\n"
     ]
    },
    {
     "name": "stderr",
     "output_type": "stream",
     "text": [
      "[I 2020-04-26 10:58:07,643] Finished trial#37 with value: 0.46336362071888565 with parameters: {'boosting': 'gbdt', 'num_leaves': 12, 'min_data_in_leaf': 117, 'drop_rate': 0.20439270007803767, 'feature_fraction': 0.4550675358568897}. Best is trial#20 with value: 0.38597857439619504.\n",
      "[W 2020-04-26 10:58:08,097] The use of `Trial.trial_id` is deprecated. Please use `Trial.number` instead.\n"
     ]
    },
    {
     "name": "stdout",
     "output_type": "stream",
     "text": [
      "trial_id 38 logloss_train 0.4273704017587625 logloss_test 0.45257867052421313 boost_round 42 f1_train 0.49867374005305043 f1_test 0.4405286343612335\n"
     ]
    },
    {
     "name": "stderr",
     "output_type": "stream",
     "text": [
      "[I 2020-04-26 10:58:08,171] Finished trial#38 with value: 0.45257867052421313 with parameters: {'boosting': 'goss', 'num_leaves': 69, 'min_data_in_leaf': 201, 'drop_rate': 0.237272309643664, 'feature_fraction': 0.8032783908837191, 'top_rate': 0.32006770463362677, 'other_rate': 0.6148293925159817}. Best is trial#20 with value: 0.38597857439619504.\n",
      "[W 2020-04-26 10:58:42,959] The use of `Trial.trial_id` is deprecated. Please use `Trial.number` instead.\n"
     ]
    },
    {
     "name": "stdout",
     "output_type": "stream",
     "text": [
      "trial_id 39 logloss_train 0.1604034861529068 logloss_test 0.445673020913123 boost_round 0 f1_train 0.9617834394904458 f1_test 0.47169811320754723\n"
     ]
    },
    {
     "name": "stderr",
     "output_type": "stream",
     "text": [
      "[I 2020-04-26 10:58:43,045] Finished trial#39 with value: 0.445673020913123 with parameters: {'boosting': 'dart', 'num_leaves': 59, 'min_data_in_leaf': 24, 'drop_rate': 0.29780729827284735, 'feature_fraction': 0.7211519942145638, 'skip_drop': 4.93347400159673e-06}. Best is trial#20 with value: 0.38597857439619504.\n",
      "[W 2020-04-26 10:58:43,501] The use of `Trial.trial_id` is deprecated. Please use `Trial.number` instead.\n"
     ]
    },
    {
     "name": "stdout",
     "output_type": "stream",
     "text": [
      "trial_id 40 logloss_train 0.42445442391170557 logloss_test 0.47191804486308014 boost_round 23 f1_train 0.5209302325581394 f1_test 0.3652173913043478\n"
     ]
    },
    {
     "name": "stderr",
     "output_type": "stream",
     "text": [
      "[I 2020-04-26 10:58:43,576] Finished trial#40 with value: 0.47191804486308014 with parameters: {'boosting': 'gbdt', 'num_leaves': 25, 'min_data_in_leaf': 149, 'drop_rate': 0.3314851145547817, 'feature_fraction': 0.8445434506627161}. Best is trial#20 with value: 0.38597857439619504.\n",
      "[W 2020-04-26 10:58:43,985] The use of `Trial.trial_id` is deprecated. Please use `Trial.number` instead.\n"
     ]
    },
    {
     "name": "stdout",
     "output_type": "stream",
     "text": [
      "trial_id 41 logloss_train 0.3422889947037694 logloss_test 0.4042304124278439 boost_round 79 f1_train 0.6132596685082872 f1_test 0.5025125628140704\n"
     ]
    },
    {
     "name": "stderr",
     "output_type": "stream",
     "text": [
      "[I 2020-04-26 10:58:44,059] Finished trial#41 with value: 0.4042304124278439 with parameters: {'boosting': 'gbdt', 'num_leaves': 5, 'min_data_in_leaf': 49, 'drop_rate': 0.1474265839294007, 'feature_fraction': 0.6664686090998208}. Best is trial#20 with value: 0.38597857439619504.\n",
      "[W 2020-04-26 10:58:44,517] The use of `Trial.trial_id` is deprecated. Please use `Trial.number` instead.\n"
     ]
    },
    {
     "name": "stdout",
     "output_type": "stream",
     "text": [
      "trial_id 42 logloss_train 0.3100942674265869 logloss_test 0.39097509620907417 boost_round 57 f1_train 0.6779661016949152 f1_test 0.509090909090909\n"
     ]
    },
    {
     "name": "stderr",
     "output_type": "stream",
     "text": [
      "[I 2020-04-26 10:58:44,589] Finished trial#42 with value: 0.39097509620907417 with parameters: {'boosting': 'gbdt', 'num_leaves': 11, 'min_data_in_leaf': 26, 'drop_rate': 0.1527954891292198, 'feature_fraction': 0.7150117616017356}. Best is trial#20 with value: 0.38597857439619504.\n",
      "[W 2020-04-26 10:58:45,029] The use of `Trial.trial_id` is deprecated. Please use `Trial.number` instead.\n"
     ]
    },
    {
     "name": "stdout",
     "output_type": "stream",
     "text": [
      "trial_id 43 logloss_train 0.32203896103358626 logloss_test 0.4071768741725056 boost_round 62 f1_train 0.6666666666666667 f1_test 0.47200000000000003\n"
     ]
    },
    {
     "name": "stderr",
     "output_type": "stream",
     "text": [
      "[I 2020-04-26 10:58:45,105] Finished trial#43 with value: 0.4071768741725056 with parameters: {'boosting': 'gbdt', 'num_leaves': 9, 'min_data_in_leaf': 29, 'drop_rate': 0.13147735872492763, 'feature_fraction': 0.5378190392345374}. Best is trial#20 with value: 0.38597857439619504.\n",
      "[W 2020-04-26 10:58:45,608] The use of `Trial.trial_id` is deprecated. Please use `Trial.number` instead.\n"
     ]
    },
    {
     "name": "stdout",
     "output_type": "stream",
     "text": [
      "trial_id 44 logloss_train 0.3488475867767879 logloss_test 0.41900745898956243 boost_round 48 f1_train 0.6005509641873279 f1_test 0.4748858447488585\n"
     ]
    },
    {
     "name": "stderr",
     "output_type": "stream",
     "text": [
      "[I 2020-04-26 10:58:45,681] Finished trial#44 with value: 0.41900745898956243 with parameters: {'boosting': 'gbdt', 'num_leaves': 18, 'min_data_in_leaf': 75, 'drop_rate': 0.10473751304292755, 'feature_fraction': 0.7349065514401286}. Best is trial#20 with value: 0.38597857439619504.\n",
      "[W 2020-04-26 10:58:46,145] The use of `Trial.trial_id` is deprecated. Please use `Trial.number` instead.\n"
     ]
    },
    {
     "name": "stdout",
     "output_type": "stream",
     "text": [
      "trial_id 45 logloss_train 0.2962710070346091 logloss_test 0.406329949094652 boost_round 62 f1_train 0.7079646017699115 f1_test 0.47674418604651164\n"
     ]
    },
    {
     "name": "stderr",
     "output_type": "stream",
     "text": [
      "[I 2020-04-26 10:58:46,220] Finished trial#45 with value: 0.406329949094652 with parameters: {'boosting': 'gbdt', 'num_leaves': 11, 'min_data_in_leaf': 19, 'drop_rate': 0.16046627409602868, 'feature_fraction': 0.7869106900140933}. Best is trial#20 with value: 0.38597857439619504.\n",
      "[W 2020-04-26 10:58:46,748] The use of `Trial.trial_id` is deprecated. Please use `Trial.number` instead.\n"
     ]
    },
    {
     "name": "stdout",
     "output_type": "stream",
     "text": [
      "trial_id 46 logloss_train 0.3363564107743238 logloss_test 0.419381205279017 boost_round 47 f1_train 0.6424242424242425 f1_test 0.459016393442623\n"
     ]
    },
    {
     "name": "stderr",
     "output_type": "stream",
     "text": [
      "[I 2020-04-26 10:58:46,824] Finished trial#46 with value: 0.419381205279017 with parameters: {'boosting': 'gbdt', 'num_leaves': 35, 'min_data_in_leaf': 56, 'drop_rate': 0.21924806870063634, 'feature_fraction': 0.6278214508929356}. Best is trial#20 with value: 0.38597857439619504.\n",
      "[W 2020-04-26 10:58:47,284] The use of `Trial.trial_id` is deprecated. Please use `Trial.number` instead.\n"
     ]
    },
    {
     "name": "stdout",
     "output_type": "stream",
     "text": [
      "trial_id 47 logloss_train 0.46502055607982046 logloss_test 0.458020470678108 boost_round 19 f1_train 0.4121863799283154 f1_test 0.48484848484848486\n"
     ]
    },
    {
     "name": "stderr",
     "output_type": "stream",
     "text": [
      "[I 2020-04-26 10:58:47,359] Finished trial#47 with value: 0.458020470678108 with parameters: {'boosting': 'goss', 'num_leaves': 22, 'min_data_in_leaf': 298, 'drop_rate': 0.276215208314626, 'feature_fraction': 0.8660696546811162, 'top_rate': 0.10256634543070542, 'other_rate': 0.07818372381011715}. Best is trial#20 with value: 0.38597857439619504.\n",
      "[W 2020-04-26 10:58:47,844] The use of `Trial.trial_id` is deprecated. Please use `Trial.number` instead.\n"
     ]
    },
    {
     "name": "stdout",
     "output_type": "stream",
     "text": [
      "trial_id 48 logloss_train 0.39877810227189614 logloss_test 0.459948614206475 boost_round 53 f1_train 0.5330188679245284 f1_test 0.40983606557377045\n"
     ]
    },
    {
     "name": "stderr",
     "output_type": "stream",
     "text": [
      "[I 2020-04-26 10:58:47,917] Finished trial#48 with value: 0.459948614206475 with parameters: {'boosting': 'gbdt', 'num_leaves': 29, 'min_data_in_leaf': 92, 'drop_rate': 0.18174781083487723, 'feature_fraction': 0.3656569360183893}. Best is trial#20 with value: 0.38597857439619504.\n",
      "[W 2020-04-26 10:58:48,425] The use of `Trial.trial_id` is deprecated. Please use `Trial.number` instead.\n"
     ]
    },
    {
     "name": "stdout",
     "output_type": "stream",
     "text": [
      "trial_id 49 logloss_train 0.4214556912497018 logloss_test 0.43221884769827495 boost_round 150 f1_train 0.4923076923076923 f1_test 0.4573643410852713\n"
     ]
    },
    {
     "name": "stderr",
     "output_type": "stream",
     "text": [
      "[I 2020-04-26 10:58:48,497] Finished trial#49 with value: 0.43221884769827495 with parameters: {'boosting': 'gbdt', 'num_leaves': 41, 'min_data_in_leaf': 252, 'drop_rate': 0.4264131020551413, 'feature_fraction': 0.6718200036419459}. Best is trial#20 with value: 0.38597857439619504.\n",
      "[W 2020-04-26 10:58:49,005] The use of `Trial.trial_id` is deprecated. Please use `Trial.number` instead.\n"
     ]
    },
    {
     "name": "stdout",
     "output_type": "stream",
     "text": [
      "trial_id 50 logloss_train 0.38375137882933186 logloss_test 0.4312299188420268 boost_round 105 f1_train 0.5459317585301837 f1_test 0.45045045045045046\n"
     ]
    },
    {
     "name": "stderr",
     "output_type": "stream",
     "text": [
      "[I 2020-04-26 10:58:49,085] Finished trial#50 with value: 0.4312299188420268 with parameters: {'boosting': 'gbdt', 'num_leaves': 9, 'min_data_in_leaf': 111, 'drop_rate': 0.15403687767486143, 'feature_fraction': 0.7107404331661289}. Best is trial#20 with value: 0.38597857439619504.\n",
      "[W 2020-04-26 10:58:49,597] The use of `Trial.trial_id` is deprecated. Please use `Trial.number` instead.\n"
     ]
    },
    {
     "name": "stdout",
     "output_type": "stream",
     "text": [
      "trial_id 51 logloss_train 0.2626715607209276 logloss_test 0.40181687135884153 boost_round 57 f1_train 0.8096676737160121 f1_test 0.489795918367347\n"
     ]
    },
    {
     "name": "stderr",
     "output_type": "stream",
     "text": [
      "[I 2020-04-26 10:58:49,677] Finished trial#51 with value: 0.40181687135884153 with parameters: {'boosting': 'gbdt', 'num_leaves': 15, 'min_data_in_leaf': 7, 'drop_rate': 0.14109285365518287, 'feature_fraction': 0.6884836420363523}. Best is trial#20 with value: 0.38597857439619504.\n",
      "[W 2020-04-26 10:58:50,117] The use of `Trial.trial_id` is deprecated. Please use `Trial.number` instead.\n"
     ]
    },
    {
     "name": "stdout",
     "output_type": "stream",
     "text": [
      "trial_id 52 logloss_train 0.32915816564470474 logloss_test 0.3806020911836784 boost_round 97 f1_train 0.6395348837209304 f1_test 0.5476190476190477\n"
     ]
    },
    {
     "name": "stderr",
     "output_type": "stream",
     "text": [
      "[I 2020-04-26 10:58:50,190] Finished trial#52 with value: 0.3806020911836784 with parameters: {'boosting': 'gbdt', 'num_leaves': 5, 'min_data_in_leaf': 14, 'drop_rate': 0.12658857800829604, 'feature_fraction': 0.5999277951312816}. Best is trial#52 with value: 0.3806020911836784.\n",
      "[W 2020-04-26 10:58:50,632] The use of `Trial.trial_id` is deprecated. Please use `Trial.number` instead.\n"
     ]
    },
    {
     "name": "stdout",
     "output_type": "stream",
     "text": [
      "trial_id 53 logloss_train 0.3340777392418787 logloss_test 0.4166016201580659 boost_round 62 f1_train 0.6447761194029851 f1_test 0.4693877551020408\n"
     ]
    },
    {
     "name": "stderr",
     "output_type": "stream",
     "text": [
      "[I 2020-04-26 10:58:50,707] Finished trial#53 with value: 0.4166016201580659 with parameters: {'boosting': 'gbdt', 'num_leaves': 7, 'min_data_in_leaf': 49, 'drop_rate': 0.12507305956858022, 'feature_fraction': 0.5932189820586369}. Best is trial#52 with value: 0.3806020911836784.\n",
      "[W 2020-04-26 10:58:51,202] The use of `Trial.trial_id` is deprecated. Please use `Trial.number` instead.\n"
     ]
    },
    {
     "name": "stdout",
     "output_type": "stream",
     "text": [
      "trial_id 54 logloss_train 0.27246375470782824 logloss_test 0.4137086087749532 boost_round 78 f1_train 0.7770700636942675 f1_test 0.49565217391304356\n"
     ]
    },
    {
     "name": "stderr",
     "output_type": "stream",
     "text": [
      "[I 2020-04-26 10:58:51,278] Finished trial#54 with value: 0.4137086087749532 with parameters: {'boosting': 'gbdt', 'num_leaves': 12, 'min_data_in_leaf': 17, 'drop_rate': 0.1072357384407421, 'feature_fraction': 0.5437205317456894}. Best is trial#52 with value: 0.3806020911836784.\n",
      "[W 2020-04-26 10:58:51,800] The use of `Trial.trial_id` is deprecated. Please use `Trial.number` instead.\n"
     ]
    },
    {
     "name": "stdout",
     "output_type": "stream",
     "text": [
      "trial_id 55 logloss_train 0.2965993317879407 logloss_test 0.39440577407356825 boost_round 62 f1_train 0.7421383647798743 f1_test 0.5096153846153846\n"
     ]
    },
    {
     "name": "stderr",
     "output_type": "stream",
     "text": [
      "[I 2020-04-26 10:58:51,870] Finished trial#55 with value: 0.39440577407356825 with parameters: {'boosting': 'gbdt', 'num_leaves': 17, 'min_data_in_leaf': 36, 'drop_rate': 0.11270667538450489, 'feature_fraction': 0.652400683034893}. Best is trial#52 with value: 0.3806020911836784.\n",
      "[W 2020-04-26 10:58:52,274] The use of `Trial.trial_id` is deprecated. Please use `Trial.number` instead.\n"
     ]
    },
    {
     "name": "stdout",
     "output_type": "stream",
     "text": [
      "trial_id 56 logloss_train 0.3661450657390878 logloss_test 0.3842904500063779 boost_round 70 f1_train 0.5695364238410596 f1_test 0.5270270270270271\n"
     ]
    },
    {
     "name": "stderr",
     "output_type": "stream",
     "text": [
      "[I 2020-04-26 10:58:52,349] Finished trial#56 with value: 0.3842904500063779 with parameters: {'boosting': 'gbdt', 'num_leaves': 5, 'min_data_in_leaf': 80, 'drop_rate': 0.1750140066814438, 'feature_fraction': 0.5000795903882478}. Best is trial#52 with value: 0.3806020911836784.\n",
      "[W 2020-04-26 10:58:52,879] The use of `Trial.trial_id` is deprecated. Please use `Trial.number` instead.\n"
     ]
    },
    {
     "name": "stdout",
     "output_type": "stream",
     "text": [
      "trial_id 57 logloss_train 0.38698728849820996 logloss_test 0.4348869068501904 boost_round 68 f1_train 0.5588235294117647 f1_test 0.4340425531914894\n"
     ]
    },
    {
     "name": "stderr",
     "output_type": "stream",
     "text": [
      "[I 2020-04-26 10:58:52,957] Finished trial#57 with value: 0.4348869068501904 with parameters: {'boosting': 'gbdt', 'num_leaves': 50, 'min_data_in_leaf': 85, 'drop_rate': 0.17494255295346628, 'feature_fraction': 0.5018367062424235}. Best is trial#52 with value: 0.3806020911836784.\n",
      "[W 2020-04-26 10:58:53,375] The use of `Trial.trial_id` is deprecated. Please use `Trial.number` instead.\n"
     ]
    },
    {
     "name": "stdout",
     "output_type": "stream",
     "text": [
      "trial_id 58 logloss_train 0.34075678859739666 logloss_test 0.3895027460293919 boost_round 102 f1_train 0.5840707964601771 f1_test 0.5668449197860963\n"
     ]
    },
    {
     "name": "stderr",
     "output_type": "stream",
     "text": [
      "[I 2020-04-26 10:58:53,450] Finished trial#58 with value: 0.3895027460293919 with parameters: {'boosting': 'gbdt', 'num_leaves': 5, 'min_data_in_leaf': 62, 'drop_rate': 0.21300305132402794, 'feature_fraction': 0.47213731271577725}. Best is trial#52 with value: 0.3806020911836784.\n",
      "[W 2020-04-26 10:59:08,943] The use of `Trial.trial_id` is deprecated. Please use `Trial.number` instead.\n"
     ]
    },
    {
     "name": "stdout",
     "output_type": "stream",
     "text": [
      "trial_id 59 logloss_train 0.35643382282599034 logloss_test 0.3697159771405083 boost_round 0 f1_train 0.5828877005347594 f1_test 0.5657894736842105\n"
     ]
    },
    {
     "name": "stderr",
     "output_type": "stream",
     "text": [
      "[I 2020-04-26 10:59:09,030] Finished trial#59 with value: 0.3697159771405083 with parameters: {'boosting': 'dart', 'num_leaves': 5, 'min_data_in_leaf': 65, 'drop_rate': 0.21033778118076424, 'feature_fraction': 0.4472708900869428, 'skip_drop': 3.235022798956927e-07}. Best is trial#59 with value: 0.3697159771405083.\n",
      "[W 2020-04-26 10:59:27,005] The use of `Trial.trial_id` is deprecated. Please use `Trial.number` instead.\n"
     ]
    },
    {
     "name": "stdout",
     "output_type": "stream",
     "text": [
      "trial_id 60 logloss_train 0.332447452440254 logloss_test 0.41167305009060656 boost_round 0 f1_train 0.6285714285714287 f1_test 0.5\n"
     ]
    },
    {
     "name": "stderr",
     "output_type": "stream",
     "text": [
      "[I 2020-04-26 10:59:27,084] Finished trial#60 with value: 0.41167305009060656 with parameters: {'boosting': 'dart', 'num_leaves': 6, 'min_data_in_leaf': 65, 'drop_rate': 0.20533852354538706, 'feature_fraction': 0.3740045129377985, 'skip_drop': 9.003913999145535e-08}. Best is trial#59 with value: 0.3697159771405083.\n",
      "[W 2020-04-26 10:59:32,785] The use of `Trial.trial_id` is deprecated. Please use `Trial.number` instead.\n"
     ]
    },
    {
     "name": "stdout",
     "output_type": "stream",
     "text": [
      "trial_id 61 logloss_train 0.03803714271014698 logloss_test 0.7244728491157537 boost_round 0 f1_train 1.0 f1_test 0.4444444444444445\n"
     ]
    },
    {
     "name": "stderr",
     "output_type": "stream",
     "text": [
      "[I 2020-04-26 10:59:32,872] Finished trial#61 with value: 0.7244728491157537 with parameters: {'boosting': 'dart', 'num_leaves': 5, 'min_data_in_leaf': 82, 'drop_rate': 0.2433988930105175, 'feature_fraction': 0.4318805401189717, 'skip_drop': 0.7942711204420886}. Best is trial#59 with value: 0.3697159771405083.\n",
      "[W 2020-04-26 10:59:58,172] The use of `Trial.trial_id` is deprecated. Please use `Trial.number` instead.\n"
     ]
    },
    {
     "name": "stdout",
     "output_type": "stream",
     "text": [
      "trial_id 62 logloss_train 0.37083056381326635 logloss_test 0.4467934586375179 boost_round 0 f1_train 0.5655526992287918 f1_test 0.4657534246575342\n"
     ]
    },
    {
     "name": "stderr",
     "output_type": "stream",
     "text": [
      "[I 2020-04-26 10:59:58,253] Finished trial#62 with value: 0.4467934586375179 with parameters: {'boosting': 'dart', 'num_leaves': 8, 'min_data_in_leaf': 104, 'drop_rate': 0.27514573387945357, 'feature_fraction': 0.4729580870801453, 'skip_drop': 1.2912482582478518e-08}. Best is trial#59 with value: 0.3697159771405083.\n",
      "[W 2020-04-26 11:00:14,649] The use of `Trial.trial_id` is deprecated. Please use `Trial.number` instead.\n"
     ]
    },
    {
     "name": "stdout",
     "output_type": "stream",
     "text": [
      "trial_id 63 logloss_train 0.33156066753897984 logloss_test 0.42255434233196043 boost_round 0 f1_train 0.6540880503144655 f1_test 0.4792626728110599\n"
     ]
    },
    {
     "name": "stderr",
     "output_type": "stream",
     "text": [
      "[I 2020-04-26 11:00:14,733] Finished trial#63 with value: 0.42255434233196043 with parameters: {'boosting': 'dart', 'num_leaves': 5, 'min_data_in_leaf': 65, 'drop_rate': 0.22681875581491254, 'feature_fraction': 0.45121693418593845, 'skip_drop': 4.1123343970366933e-07}. Best is trial#59 with value: 0.3697159771405083.\n",
      "[W 2020-04-26 11:00:38,171] The use of `Trial.trial_id` is deprecated. Please use `Trial.number` instead.\n"
     ]
    },
    {
     "name": "stdout",
     "output_type": "stream",
     "text": [
      "trial_id 64 logloss_train 0.3241964475500492 logloss_test 0.42699437528333517 boost_round 0 f1_train 0.688427299703264 f1_test 0.46706586826347307\n"
     ]
    },
    {
     "name": "stderr",
     "output_type": "stream",
     "text": [
      "[I 2020-04-26 11:00:38,253] Finished trial#64 with value: 0.42699437528333517 with parameters: {'boosting': 'dart', 'num_leaves': 54, 'min_data_in_leaf': 74, 'drop_rate': 0.19936826552904205, 'feature_fraction': 0.3793485549483485, 'skip_drop': 0.00036118109564128604}. Best is trial#59 with value: 0.3697159771405083.\n",
      "[W 2020-04-26 11:00:38,734] The use of `Trial.trial_id` is deprecated. Please use `Trial.number` instead.\n"
     ]
    },
    {
     "name": "stdout",
     "output_type": "stream",
     "text": [
      "trial_id 65 logloss_train 0.4077382868704288 logloss_test 0.45790495141461546 boost_round 33 f1_train 0.5336658354114714 f1_test 0.4134078212290503\n"
     ]
    },
    {
     "name": "stderr",
     "output_type": "stream",
     "text": [
      "[I 2020-04-26 11:00:38,815] Finished trial#65 with value: 0.45790495141461546 with parameters: {'boosting': 'gbdt', 'num_leaves': 14, 'min_data_in_leaf': 94, 'drop_rate': 0.18649151813424905, 'feature_fraction': 0.5158150766294021}. Best is trial#59 with value: 0.3697159771405083.\n",
      "[W 2020-04-26 11:00:39,256] The use of `Trial.trial_id` is deprecated. Please use `Trial.number` instead.\n"
     ]
    },
    {
     "name": "stdout",
     "output_type": "stream",
     "text": [
      "trial_id 66 logloss_train 0.3264369163250094 logloss_test 0.4064192395778907 boost_round 57 f1_train 0.6603174603174603 f1_test 0.4837209302325582\n"
     ]
    },
    {
     "name": "stderr",
     "output_type": "stream",
     "text": [
      "[I 2020-04-26 11:00:39,331] Finished trial#66 with value: 0.4064192395778907 with parameters: {'boosting': 'gbdt', 'num_leaves': 9, 'min_data_in_leaf': 42, 'drop_rate': 0.1723856226096285, 'feature_fraction': 0.5582699333901158}. Best is trial#59 with value: 0.3697159771405083.\n",
      "[W 2020-04-26 11:00:39,802] The use of `Trial.trial_id` is deprecated. Please use `Trial.number` instead.\n"
     ]
    },
    {
     "name": "stdout",
     "output_type": "stream",
     "text": [
      "trial_id 67 logloss_train 0.4283362360927338 logloss_test 0.45880305342008626 boost_round 34 f1_train 0.5164835164835165 f1_test 0.4166666666666667\n"
     ]
    },
    {
     "name": "stderr",
     "output_type": "stream",
     "text": [
      "[I 2020-04-26 11:00:39,881] Finished trial#67 with value: 0.45880305342008626 with parameters: {'boosting': 'gbdt', 'num_leaves': 73, 'min_data_in_leaf': 121, 'drop_rate': 0.2182588678292754, 'feature_fraction': 0.3018009184879705}. Best is trial#59 with value: 0.3697159771405083.\n",
      "[W 2020-04-26 11:01:03,410] The use of `Trial.trial_id` is deprecated. Please use `Trial.number` instead.\n"
     ]
    },
    {
     "name": "stdout",
     "output_type": "stream",
     "text": [
      "trial_id 68 logloss_train 0.3144352007771339 logloss_test 0.42804247577699656 boost_round 0 f1_train 0.6601307189542484 f1_test 0.4495412844036697\n"
     ]
    },
    {
     "name": "stderr",
     "output_type": "stream",
     "text": [
      "[I 2020-04-26 11:01:03,490] Finished trial#68 with value: 0.42804247577699656 with parameters: {'boosting': 'dart', 'num_leaves': 65, 'min_data_in_leaf': 85, 'drop_rate': 0.26890745567491303, 'feature_fraction': 0.4269220143038238, 'skip_drop': 1.4344672639625975e-05}. Best is trial#59 with value: 0.3697159771405083.\n",
      "[W 2020-04-26 11:01:04,014] The use of `Trial.trial_id` is deprecated. Please use `Trial.number` instead.\n"
     ]
    },
    {
     "name": "stdout",
     "output_type": "stream",
     "text": [
      "trial_id 69 logloss_train 0.34614686112335297 logloss_test 0.4035561560224632 boost_round 61 f1_train 0.6082191780821917 f1_test 0.49792531120331956\n"
     ]
    },
    {
     "name": "stderr",
     "output_type": "stream",
     "text": [
      "[I 2020-04-26 11:01:04,088] Finished trial#69 with value: 0.4035561560224632 with parameters: {'boosting': 'goss', 'num_leaves': 57, 'min_data_in_leaf': 60, 'drop_rate': 0.23363291723344407, 'feature_fraction': 0.49022207427664466, 'top_rate': 0.5311749572015482, 'other_rate': 0.2501116381973173}. Best is trial#59 with value: 0.3697159771405083.\n",
      "[W 2020-04-26 11:01:04,602] The use of `Trial.trial_id` is deprecated. Please use `Trial.number` instead.\n"
     ]
    },
    {
     "name": "stdout",
     "output_type": "stream",
     "text": [
      "trial_id 70 logloss_train 0.35130341982985164 logloss_test 0.40683958318293906 boost_round 61 f1_train 0.5994694960212202 f1_test 0.5028571428571428\n"
     ]
    },
    {
     "name": "stderr",
     "output_type": "stream",
     "text": [
      "[I 2020-04-26 11:01:04,673] Finished trial#70 with value: 0.40683958318293906 with parameters: {'boosting': 'gbdt', 'num_leaves': 47, 'min_data_in_leaf': 73, 'drop_rate': 0.21272209989557256, 'feature_fraction': 0.44248240607993206}. Best is trial#59 with value: 0.3697159771405083.\n",
      "[W 2020-04-26 11:01:05,140] The use of `Trial.trial_id` is deprecated. Please use `Trial.number` instead.\n"
     ]
    },
    {
     "name": "stdout",
     "output_type": "stream",
     "text": [
      "trial_id 71 logloss_train 0.3191794831269235 logloss_test 0.42520697235544974 boost_round 46 f1_train 0.6951219512195123 f1_test 0.46391752577319584\n"
     ]
    },
    {
     "name": "stderr",
     "output_type": "stream",
     "text": [
      "[I 2020-04-26 11:01:05,217] Finished trial#71 with value: 0.42520697235544974 with parameters: {'boosting': 'gbdt', 'num_leaves': 12, 'min_data_in_leaf': 42, 'drop_rate': 0.16149688266951026, 'feature_fraction': 0.7663869684545006}. Best is trial#59 with value: 0.3697159771405083.\n",
      "[W 2020-04-26 11:01:05,722] The use of `Trial.trial_id` is deprecated. Please use `Trial.number` instead.\n"
     ]
    },
    {
     "name": "stdout",
     "output_type": "stream",
     "text": [
      "trial_id 72 logloss_train 0.40440281984370047 logloss_test 0.44501210634612876 boost_round 48 f1_train 0.5202020202020202 f1_test 0.4406779661016949\n"
     ]
    },
    {
     "name": "stderr",
     "output_type": "stream",
     "text": [
      "[I 2020-04-26 11:01:05,797] Finished trial#72 with value: 0.44501210634612876 with parameters: {'boosting': 'gbdt', 'num_leaves': 10, 'min_data_in_leaf': 108, 'drop_rate': 0.1510513889565085, 'feature_fraction': 0.7391770079114536}. Best is trial#59 with value: 0.3697159771405083.\n",
      "[W 2020-04-26 11:01:06,240] The use of `Trial.trial_id` is deprecated. Please use `Trial.number` instead.\n"
     ]
    },
    {
     "name": "stdout",
     "output_type": "stream",
     "text": [
      "trial_id 73 logloss_train 0.3129539239937074 logloss_test 0.40000199271621684 boost_round 112 f1_train 0.6628895184135977 f1_test 0.5252525252525253\n"
     ]
    },
    {
     "name": "stderr",
     "output_type": "stream",
     "text": [
      "[I 2020-04-26 11:01:06,314] Finished trial#73 with value: 0.40000199271621684 with parameters: {'boosting': 'gbdt', 'num_leaves': 7, 'min_data_in_leaf': 33, 'drop_rate': 0.19063676168841112, 'feature_fraction': 0.3982413003937435}. Best is trial#59 with value: 0.3697159771405083.\n",
      "[W 2020-04-26 11:01:06,723] The use of `Trial.trial_id` is deprecated. Please use `Trial.number` instead.\n"
     ]
    },
    {
     "name": "stdout",
     "output_type": "stream",
     "text": [
      "trial_id 74 logloss_train 0.33961887256208223 logloss_test 0.40980393671413323 boost_round 76 f1_train 0.6212534059945504 f1_test 0.5022421524663676\n"
     ]
    },
    {
     "name": "stderr",
     "output_type": "stream",
     "text": [
      "[I 2020-04-26 11:01:06,797] Finished trial#74 with value: 0.40980393671413323 with parameters: {'boosting': 'gbdt', 'num_leaves': 5, 'min_data_in_leaf': 53, 'drop_rate': 0.1293783453039288, 'feature_fraction': 0.6066162214458101}. Best is trial#59 with value: 0.3697159771405083.\n",
      "[W 2020-04-26 11:01:07,302] The use of `Trial.trial_id` is deprecated. Please use `Trial.number` instead.\n"
     ]
    },
    {
     "name": "stdout",
     "output_type": "stream",
     "text": [
      "trial_id 75 logloss_train 0.38943776198468105 logloss_test 0.4287780474756723 boost_round 73 f1_train 0.5396825396825397 f1_test 0.4694835680751174\n"
     ]
    },
    {
     "name": "stderr",
     "output_type": "stream",
     "text": [
      "[I 2020-04-26 11:01:07,376] Finished trial#75 with value: 0.4287780474756723 with parameters: {'boosting': 'gbdt', 'num_leaves': 21, 'min_data_in_leaf': 93, 'drop_rate': 0.258443606824549, 'feature_fraction': 0.5611552605211423}. Best is trial#59 with value: 0.3697159771405083.\n",
      "[W 2020-04-26 11:01:07,817] The use of `Trial.trial_id` is deprecated. Please use `Trial.number` instead.\n"
     ]
    },
    {
     "name": "stdout",
     "output_type": "stream",
     "text": [
      "trial_id 76 logloss_train 0.31159760367052536 logloss_test 0.389474256702115 boost_round 135 f1_train 0.6645768025078369 f1_test 0.510948905109489\n"
     ]
    },
    {
     "name": "stderr",
     "output_type": "stream",
     "text": [
      "[I 2020-04-26 11:01:07,893] Finished trial#76 with value: 0.389474256702115 with parameters: {'boosting': 'gbdt', 'num_leaves': 7, 'min_data_in_leaf': 66, 'drop_rate': 0.17908620501065464, 'feature_fraction': 0.4851525436651949}. Best is trial#59 with value: 0.3697159771405083.\n",
      "[W 2020-04-26 11:01:08,397] The use of `Trial.trial_id` is deprecated. Please use `Trial.number` instead.\n"
     ]
    },
    {
     "name": "stdout",
     "output_type": "stream",
     "text": [
      "trial_id 77 logloss_train 0.3979889730649277 logloss_test 0.436109785431437 boost_round 92 f1_train 0.5225653206650831 f1_test 0.4918032786885246\n"
     ]
    },
    {
     "name": "stderr",
     "output_type": "stream",
     "text": [
      "[I 2020-04-26 11:01:08,472] Finished trial#77 with value: 0.436109785431437 with parameters: {'boosting': 'gbdt', 'num_leaves': 15, 'min_data_in_leaf': 123, 'drop_rate': 0.2974848500141494, 'feature_fraction': 0.479732684998118}. Best is trial#59 with value: 0.3697159771405083.\n",
      "[W 2020-04-26 11:01:09,021] The use of `Trial.trial_id` is deprecated. Please use `Trial.number` instead.\n"
     ]
    },
    {
     "name": "stdout",
     "output_type": "stream",
     "text": [
      "trial_id 78 logloss_train 0.3466826416265926 logloss_test 0.38786791667296283 boost_round 69 f1_train 0.6161616161616162 f1_test 0.5714285714285715\n"
     ]
    },
    {
     "name": "stderr",
     "output_type": "stream",
     "text": [
      "[I 2020-04-26 11:01:09,094] Finished trial#78 with value: 0.38786791667296283 with parameters: {'boosting': 'gbdt', 'num_leaves': 52, 'min_data_in_leaf': 70, 'drop_rate': 0.17847533268879728, 'feature_fraction': 0.517482618880906}. Best is trial#59 with value: 0.3697159771405083.\n",
      "[W 2020-04-26 11:01:09,666] The use of `Trial.trial_id` is deprecated. Please use `Trial.number` instead.\n"
     ]
    },
    {
     "name": "stdout",
     "output_type": "stream",
     "text": [
      "trial_id 79 logloss_train 0.3138663482242553 logloss_test 0.406260849655343 boost_round 88 f1_train 0.6628571428571428 f1_test 0.49411764705882355\n"
     ]
    },
    {
     "name": "stderr",
     "output_type": "stream",
     "text": [
      "[I 2020-04-26 11:01:09,743] Finished trial#79 with value: 0.406260849655343 with parameters: {'boosting': 'gbdt', 'num_leaves': 52, 'min_data_in_leaf': 61, 'drop_rate': 0.1671126303311278, 'feature_fraction': 0.5247513540957925}. Best is trial#59 with value: 0.3697159771405083.\n",
      "[W 2020-04-26 11:01:10,299] The use of `Trial.trial_id` is deprecated. Please use `Trial.number` instead.\n"
     ]
    },
    {
     "name": "stdout",
     "output_type": "stream",
     "text": [
      "trial_id 80 logloss_train 0.3230448539219899 logloss_test 0.3929762714472359 boost_round 125 f1_train 0.6371681415929203 f1_test 0.5202312138728323\n"
     ]
    },
    {
     "name": "stderr",
     "output_type": "stream",
     "text": [
      "[I 2020-04-26 11:01:10,370] Finished trial#80 with value: 0.3929762714472359 with parameters: {'boosting': 'gbdt', 'num_leaves': 44, 'min_data_in_leaf': 78, 'drop_rate': 0.1781072771695176, 'feature_fraction': 0.46649632486624165}. Best is trial#59 with value: 0.3697159771405083.\n",
      "[W 2020-04-26 11:01:10,894] The use of `Trial.trial_id` is deprecated. Please use `Trial.number` instead.\n"
     ]
    },
    {
     "name": "stdout",
     "output_type": "stream",
     "text": [
      "trial_id 81 logloss_train 0.34360387831294603 logloss_test 0.3894279313199515 boost_round 99 f1_train 0.5916230366492147 f1_test 0.5340909090909091\n"
     ]
    },
    {
     "name": "stderr",
     "output_type": "stream",
     "text": [
      "[I 2020-04-26 11:01:10,971] Finished trial#81 with value: 0.3894279313199515 with parameters: {'boosting': 'gbdt', 'num_leaves': 60, 'min_data_in_leaf': 88, 'drop_rate': 0.20769739229780257, 'feature_fraction': 0.5174660791960277}. Best is trial#59 with value: 0.3697159771405083.\n",
      "[W 2020-04-26 11:01:11,519] The use of `Trial.trial_id` is deprecated. Please use `Trial.number` instead.\n"
     ]
    },
    {
     "name": "stdout",
     "output_type": "stream",
     "text": [
      "trial_id 82 logloss_train 0.3443143144770238 logloss_test 0.39084539711288857 boost_round 69 f1_train 0.5981308411214953 f1_test 0.5410628019323672\n"
     ]
    },
    {
     "name": "stderr",
     "output_type": "stream",
     "text": [
      "[I 2020-04-26 11:01:11,600] Finished trial#82 with value: 0.39084539711288857 with parameters: {'boosting': 'gbdt', 'num_leaves': 48, 'min_data_in_leaf': 68, 'drop_rate': 0.1945008598097052, 'feature_fraction': 0.5037465980206279}. Best is trial#59 with value: 0.3697159771405083.\n",
      "[W 2020-04-26 11:01:12,144] The use of `Trial.trial_id` is deprecated. Please use `Trial.number` instead.\n"
     ]
    },
    {
     "name": "stdout",
     "output_type": "stream",
     "text": [
      "trial_id 83 logloss_train 0.37644543114991275 logloss_test 0.4428362779674414 boost_round 24 f1_train 0.622356495468278 f1_test 0.43373493975903615\n"
     ]
    },
    {
     "name": "stderr",
     "output_type": "stream",
     "text": [
      "[I 2020-04-26 11:01:12,216] Finished trial#83 with value: 0.4428362779674414 with parameters: {'boosting': 'gbdt', 'num_leaves': 62, 'min_data_in_leaf': 47, 'drop_rate': 0.20744849993024858, 'feature_fraction': 0.4015653811894737}. Best is trial#59 with value: 0.3697159771405083.\n",
      "[W 2020-04-26 11:01:12,734] The use of `Trial.trial_id` is deprecated. Please use `Trial.number` instead.\n"
     ]
    },
    {
     "name": "stdout",
     "output_type": "stream",
     "text": [
      "trial_id 84 logloss_train 0.38601278890405516 logloss_test 0.44231552264278823 boost_round 82 f1_train 0.5528089887640449 f1_test 0.44239631336405527\n"
     ]
    },
    {
     "name": "stderr",
     "output_type": "stream",
     "text": [
      "[I 2020-04-26 11:01:12,805] Finished trial#84 with value: 0.44231552264278823 with parameters: {'boosting': 'gbdt', 'num_leaves': 56, 'min_data_in_leaf': 89, 'drop_rate': 0.18633686245059783, 'feature_fraction': 0.3443053291138567}. Best is trial#59 with value: 0.3697159771405083.\n",
      "[W 2020-04-26 11:01:13,298] The use of `Trial.trial_id` is deprecated. Please use `Trial.number` instead.\n"
     ]
    },
    {
     "name": "stdout",
     "output_type": "stream",
     "text": [
      "trial_id 85 logloss_train 0.4094690361416305 logloss_test 0.43918265655593736 boost_round 48 f1_train 0.5198237885462555 f1_test 0.4495412844036697\n"
     ]
    },
    {
     "name": "stderr",
     "output_type": "stream",
     "text": [
      "[I 2020-04-26 11:01:13,379] Finished trial#85 with value: 0.43918265655593736 with parameters: {'boosting': 'gbdt', 'num_leaves': 52, 'min_data_in_leaf': 99, 'drop_rate': 0.1602130223610093, 'feature_fraction': 0.5166684699520538}. Best is trial#59 with value: 0.3697159771405083.\n",
      "[W 2020-04-26 11:01:13,913] The use of `Trial.trial_id` is deprecated. Please use `Trial.number` instead.\n"
     ]
    },
    {
     "name": "stdout",
     "output_type": "stream",
     "text": [
      "trial_id 86 logloss_train 0.3506727622072916 logloss_test 0.40819941617387373 boost_round 64 f1_train 0.5989583333333334 f1_test 0.4976958525345621\n"
     ]
    },
    {
     "name": "stderr",
     "output_type": "stream",
     "text": [
      "[I 2020-04-26 11:01:13,993] Finished trial#86 with value: 0.40819941617387373 with parameters: {'boosting': 'gbdt', 'num_leaves': 60, 'min_data_in_leaf': 80, 'drop_rate': 0.1377213287074849, 'feature_fraction': 0.4852969111571308}. Best is trial#59 with value: 0.3697159771405083.\n",
      "[W 2020-04-26 11:01:14,539] The use of `Trial.trial_id` is deprecated. Please use `Trial.number` instead.\n"
     ]
    },
    {
     "name": "stdout",
     "output_type": "stream",
     "text": [
      "trial_id 87 logloss_train 0.3485162372352724 logloss_test 0.41879381885197786 boost_round 46 f1_train 0.6338461538461538 f1_test 0.48148148148148145\n"
     ]
    },
    {
     "name": "stderr",
     "output_type": "stream",
     "text": [
      "[I 2020-04-26 11:01:14,614] Finished trial#87 with value: 0.41879381885197786 with parameters: {'boosting': 'gbdt', 'num_leaves': 42, 'min_data_in_leaf': 55, 'drop_rate': 0.14718092481858003, 'feature_fraction': 0.4170604966315642}. Best is trial#59 with value: 0.3697159771405083.\n",
      "[W 2020-04-26 11:01:15,156] The use of `Trial.trial_id` is deprecated. Please use `Trial.number` instead.\n"
     ]
    },
    {
     "name": "stdout",
     "output_type": "stream",
     "text": [
      "trial_id 88 logloss_train 0.3199439930320429 logloss_test 0.40823018347610757 boost_round 89 f1_train 0.6601941747572816 f1_test 0.4776119402985074\n"
     ]
    },
    {
     "name": "stderr",
     "output_type": "stream",
     "text": [
      "[I 2020-04-26 11:01:15,233] Finished trial#88 with value: 0.40823018347610757 with parameters: {'boosting': 'goss', 'num_leaves': 48, 'min_data_in_leaf': 69, 'drop_rate': 0.2275043028928523, 'feature_fraction': 0.5616537056384782, 'top_rate': 0.9193774494155543, 'other_rate': 0.07195695619178068}. Best is trial#59 with value: 0.3697159771405083.\n",
      "[W 2020-04-26 11:01:15,738] The use of `Trial.trial_id` is deprecated. Please use `Trial.number` instead.\n"
     ]
    },
    {
     "name": "stdout",
     "output_type": "stream",
     "text": [
      "trial_id 89 logloss_train 0.400657808780351 logloss_test 0.4383098435280614 boost_round 112 f1_train 0.5138539042821159 f1_test 0.45299145299145305\n"
     ]
    },
    {
     "name": "stderr",
     "output_type": "stream",
     "text": [
      "[I 2020-04-26 11:01:15,812] Finished trial#89 with value: 0.4383098435280614 with parameters: {'boosting': 'gbdt', 'num_leaves': 7, 'min_data_in_leaf': 144, 'drop_rate': 0.2137047973706725, 'feature_fraction': 0.46517540046630346}. Best is trial#59 with value: 0.3697159771405083.\n",
      "[W 2020-04-26 11:01:36,412] The use of `Trial.trial_id` is deprecated. Please use `Trial.number` instead.\n"
     ]
    },
    {
     "name": "stdout",
     "output_type": "stream",
     "text": [
      "trial_id 90 logloss_train 0.3826919192259545 logloss_test 0.4531389360149005 boost_round 0 f1_train 0.5897435897435898 f1_test 0.4601769911504426\n"
     ]
    },
    {
     "name": "stderr",
     "output_type": "stream",
     "text": [
      "[I 2020-04-26 11:01:36,489] Finished trial#90 with value: 0.4531389360149005 with parameters: {'boosting': 'dart', 'num_leaves': 54, 'min_data_in_leaf': 104, 'drop_rate': 0.1806421843957923, 'feature_fraction': 0.43885938240348443, 'skip_drop': 0.000577522669413477}. Best is trial#59 with value: 0.3697159771405083.\n",
      "[W 2020-04-26 11:01:37,017] The use of `Trial.trial_id` is deprecated. Please use `Trial.number` instead.\n"
     ]
    },
    {
     "name": "stdout",
     "output_type": "stream",
     "text": [
      "trial_id 91 logloss_train 0.3298473532814101 logloss_test 0.42377246711395444 boost_round 65 f1_train 0.6296296296296297 f1_test 0.46511627906976744\n"
     ]
    },
    {
     "name": "stderr",
     "output_type": "stream",
     "text": [
      "[I 2020-04-26 11:01:37,084] Finished trial#91 with value: 0.42377246711395444 with parameters: {'boosting': 'gbdt', 'num_leaves': 48, 'min_data_in_leaf': 66, 'drop_rate': 0.19183685063810652, 'feature_fraction': 0.5009384263817134}. Best is trial#59 with value: 0.3697159771405083.\n",
      "[W 2020-04-26 11:01:37,595] The use of `Trial.trial_id` is deprecated. Please use `Trial.number` instead.\n"
     ]
    },
    {
     "name": "stdout",
     "output_type": "stream",
     "text": [
      "trial_id 92 logloss_train 0.344377040812479 logloss_test 0.4124493369635898 boost_round 64 f1_train 0.6026666666666668 f1_test 0.4776119402985074\n"
     ]
    },
    {
     "name": "stderr",
     "output_type": "stream",
     "text": [
      "[I 2020-04-26 11:01:37,672] Finished trial#92 with value: 0.4124493369635898 with parameters: {'boosting': 'gbdt', 'num_leaves': 39, 'min_data_in_leaf': 88, 'drop_rate': 0.1963234701922914, 'feature_fraction': 0.541853166430134}. Best is trial#59 with value: 0.3697159771405083.\n",
      "[W 2020-04-26 11:01:38,178] The use of `Trial.trial_id` is deprecated. Please use `Trial.number` instead.\n"
     ]
    },
    {
     "name": "stdout",
     "output_type": "stream",
     "text": [
      "trial_id 93 logloss_train 0.3576972391408006 logloss_test 0.4272295295296217 boost_round 40 f1_train 0.6084656084656084 f1_test 0.45098039215686275\n"
     ]
    },
    {
     "name": "stderr",
     "output_type": "stream",
     "text": [
      "[I 2020-04-26 11:01:38,256] Finished trial#93 with value: 0.4272295295296217 with parameters: {'boosting': 'gbdt', 'num_leaves': 45, 'min_data_in_leaf': 72, 'drop_rate': 0.24032993779248935, 'feature_fraction': 0.5796140401039575}. Best is trial#59 with value: 0.3697159771405083.\n",
      "[W 2020-04-26 11:01:38,800] The use of `Trial.trial_id` is deprecated. Please use `Trial.number` instead.\n"
     ]
    },
    {
     "name": "stdout",
     "output_type": "stream",
     "text": [
      "trial_id 94 logloss_train 0.32468265582710926 logloss_test 0.39986729487937717 boost_round 67 f1_train 0.6479750778816199 f1_test 0.48913043478260865\n"
     ]
    },
    {
     "name": "stderr",
     "output_type": "stream",
     "text": [
      "[I 2020-04-26 11:01:38,874] Finished trial#94 with value: 0.39986729487937717 with parameters: {'boosting': 'gbdt', 'num_leaves': 37, 'min_data_in_leaf': 59, 'drop_rate': 0.17013911074333554, 'feature_fraction': 0.5028113728076977}. Best is trial#59 with value: 0.3697159771405083.\n",
      "[W 2020-04-26 11:01:39,424] The use of `Trial.trial_id` is deprecated. Please use `Trial.number` instead.\n"
     ]
    },
    {
     "name": "stdout",
     "output_type": "stream",
     "text": [
      "trial_id 95 logloss_train 0.34180430891741936 logloss_test 0.43863187783366697 boost_round 128 f1_train 0.6622516556291391 f1_test 0.4216216216216217\n"
     ]
    },
    {
     "name": "stderr",
     "output_type": "stream",
     "text": [
      "[I 2020-04-26 11:01:39,501] Finished trial#95 with value: 0.43863187783366697 with parameters: {'boosting': 'gbdt', 'num_leaves': 50, 'min_data_in_leaf': 49, 'drop_rate': 0.20346008303178573, 'feature_fraction': 0.1498489436878001}. Best is trial#59 with value: 0.3697159771405083.\n",
      "[W 2020-04-26 11:01:40,033] The use of `Trial.trial_id` is deprecated. Please use `Trial.number` instead.\n"
     ]
    },
    {
     "name": "stdout",
     "output_type": "stream",
     "text": [
      "trial_id 96 logloss_train 0.3448036309371244 logloss_test 0.38981288734448055 boost_round 76 f1_train 0.5876543209876544 f1_test 0.5287356321839081\n"
     ]
    },
    {
     "name": "stderr",
     "output_type": "stream",
     "text": [
      "[I 2020-04-26 11:01:40,104] Finished trial#96 with value: 0.38981288734448055 with parameters: {'boosting': 'gbdt', 'num_leaves': 43, 'min_data_in_leaf': 80, 'drop_rate': 0.19608075326666283, 'feature_fraction': 0.5276612533917129}. Best is trial#59 with value: 0.3697159771405083.\n",
      "[W 2020-04-26 11:01:40,646] The use of `Trial.trial_id` is deprecated. Please use `Trial.number` instead.\n"
     ]
    },
    {
     "name": "stdout",
     "output_type": "stream",
     "text": [
      "trial_id 97 logloss_train 0.3476890498239236 logloss_test 0.4071413854074507 boost_round 61 f1_train 0.6 f1_test 0.4999999999999999\n"
     ]
    },
    {
     "name": "stderr",
     "output_type": "stream",
     "text": [
      "[I 2020-04-26 11:01:40,717] Finished trial#97 with value: 0.4071413854074507 with parameters: {'boosting': 'gbdt', 'num_leaves': 44, 'min_data_in_leaf': 80, 'drop_rate': 0.7706498137991743, 'feature_fraction': 0.6231942578644365}. Best is trial#59 with value: 0.3697159771405083.\n",
      "[W 2020-04-26 11:01:41,220] The use of `Trial.trial_id` is deprecated. Please use `Trial.number` instead.\n"
     ]
    },
    {
     "name": "stdout",
     "output_type": "stream",
     "text": [
      "trial_id 98 logloss_train 0.3993963092264903 logloss_test 0.4395864771219153 boost_round 50 f1_train 0.535796766743649 f1_test 0.42396313364055305\n"
     ]
    },
    {
     "name": "stderr",
     "output_type": "stream",
     "text": [
      "[I 2020-04-26 11:01:41,295] Finished trial#98 with value: 0.4395864771219153 with parameters: {'boosting': 'gbdt', 'num_leaves': 40, 'min_data_in_leaf': 98, 'drop_rate': 0.22755746719110861, 'feature_fraction': 0.7901924404699863}. Best is trial#59 with value: 0.3697159771405083.\n",
      "[W 2020-04-26 11:01:41,833] The use of `Trial.trial_id` is deprecated. Please use `Trial.number` instead.\n"
     ]
    },
    {
     "name": "stdout",
     "output_type": "stream",
     "text": [
      "trial_id 99 logloss_train 0.3677570644531105 logloss_test 0.43183812676656497 boost_round 129 f1_train 0.5505882352941176 f1_test 0.4632352941176471\n"
     ]
    },
    {
     "name": "stderr",
     "output_type": "stream",
     "text": [
      "[I 2020-04-26 11:01:41,911] Finished trial#99 with value: 0.43183812676656497 with parameters: {'boosting': 'gbdt', 'num_leaves': 8, 'min_data_in_leaf': 89, 'drop_rate': 0.17857020943045848, 'feature_fraction': 0.5248361655729377}. Best is trial#59 with value: 0.3697159771405083.\n"
     ]
    }
   ],
   "source": [
    "#学習開始\n",
    "study = optuna.create_study()\n",
    "study.optimize(objectives, n_trials=100)"
   ]
  },
  {
   "cell_type": "code",
   "execution_count": 39,
   "metadata": {
    "colab": {
     "base_uri": "https://localhost:8080/",
     "height": 34
    },
    "colab_type": "code",
    "id": "EdEkQc0XXKFQ",
    "outputId": "ca3c56f9-8e2e-4880-8ac7-f98d6e291ddf"
   },
   "outputs": [
    {
     "name": "stdout",
     "output_type": "stream",
     "text": [
      "{'boosting': 'dart', 'num_leaves': 5, 'min_data_in_leaf': 65, 'drop_rate': 0.21033778118076424, 'feature_fraction': 0.4472708900869428, 'skip_drop': 3.235022798956927e-07}\n",
      "--------------------------------\n",
      "FrozenTrial(number=59, value=0.3697159771405083, datetime_start=datetime.datetime(2020, 4, 26, 10, 58, 53, 459991), datetime_complete=datetime.datetime(2020, 4, 26, 10, 59, 9, 29324), params={'boosting': 'dart', 'num_leaves': 5, 'min_data_in_leaf': 65, 'drop_rate': 0.21033778118076424, 'feature_fraction': 0.4472708900869428, 'skip_drop': 3.235022798956927e-07}, distributions={'boosting': CategoricalDistribution(choices=('gbdt', 'dart', 'goss')), 'num_leaves': IntUniformDistribution(high=80, low=5, step=1), 'min_data_in_leaf': IntUniformDistribution(high=300, low=5, step=1), 'drop_rate': LogUniformDistribution(high=0.8, low=0.1), 'feature_fraction': UniformDistribution(high=0.9, low=0.1), 'skip_drop': LogUniformDistribution(high=1.0, low=1e-08)}, user_attrs={'logloss_train': 0.35643382282599034, 'logloss_test': 0.3697159771405083, 'f1_train': 0.5828877005347594, 'f1_test': 0.5657894736842105, 'boost_round': 0}, system_attrs={}, intermediate_values={}, trial_id=59, state=TrialState.COMPLETE)\n"
     ]
    }
   ],
   "source": [
    "print(study.best_params)\n",
    "print('--------------------------------')\n",
    "print(study.best_trial)\n",
    "best_params = study.best_params"
   ]
  },
  {
   "cell_type": "code",
   "execution_count": 40,
   "metadata": {
    "colab": {
     "base_uri": "https://localhost:8080/",
     "height": 504
    },
    "colab_type": "code",
    "id": "xKcutsqMKbyq",
    "outputId": "8e40c444-d300-4c1a-d226-616e2d7ffc41"
   },
   "outputs": [
    {
     "name": "stdout",
     "output_type": "stream",
     "text": [
      "0.8897648083623694\n",
      "    threshold     score\n",
      "11       0.11  0.623377\n",
      "9        0.09  0.583732\n",
      "10       0.10  0.576271\n",
      "12       0.12  0.548387\n",
      "8        0.08  0.544715\n",
      "Max F1 Score: 0.6233766233766234  (Threshold = 0.11)\n",
      "[[396  24]\n",
      " [ 34  48]]\n",
      "Precision: 0.6666666666666666\n",
      "Recall: 0.5853658536585366\n"
     ]
    },
    {
     "data": {
      "text/plain": [
       "Text(0,0.5,'%')"
      ]
     },
     "execution_count": 40,
     "metadata": {},
     "output_type": "execute_result"
    },
    {
     "data": {
      "image/png": "[encoded data removed]",
      "text/plain": [
       "<Figure size 432x288 with 1 Axes>"
      ]
     },
     "metadata": {
      "needs_background": "light"
     },
     "output_type": "display_data"
    }
   ],
   "source": [
    "# 得られた最適パラメータを使ってモデル作成、AUCの表示\n",
    "train_xd = lgb.Dataset(df_train_x, label=df_train_y, feature_name=train_columns, categorical_feature=cate_cols)\n",
    "bst = lgb.train(best_params, train_xd)\n",
    "pred_y = bst.predict(df_test_x)\n",
    "auc_bst = metrics.roc_auc_score(df_test_y, pred_y)\n",
    "print(auc_bst)\n",
    "\n",
    "# 最適なF値の探索と可視化\n",
    "# F値の上位5つくらいを列挙\n",
    "list_threshold_fscore = [[i * 0.01, metrics.f1_score(df_test_y, preprocessing.binarize(X=pred_y.reshape(1, -1), threshold=(i * 0.01))[0],)] for i in range(100)]\n",
    "df_threshold_fscore = pd.DataFrame(list_threshold_fscore, columns=[\"threshold\", \"score\"])\n",
    "df_threshold_fscore_head = df_threshold_fscore.sort_values(by=[\"score\", \"threshold\"], ascending=[False, True]).head()\n",
    "print(df_threshold_fscore_head)\n",
    "max_f1 = df_threshold_fscore_head[\"score\"].values[0]\n",
    "optimal_threshold = df_threshold_fscore_head[\"threshold\"].values[0]\n",
    "print(\"Max F1 Score: \" +  str(max_f1) + \"  (Threshold = \" +  str(optimal_threshold) + \")\")\n",
    "\n",
    "# 混合行列作成\n",
    "pred_y_binary = pred_y.copy()\n",
    "pred_y_binary[pred_y_binary >= optimal_threshold] = 1\n",
    "pred_y_binary[pred_y_binary < optimal_threshold] = 0\n",
    "print(metrics.confusion_matrix(df_test_y, pred_y_binary))\n",
    "\n",
    "# Precisionとか計算\n",
    "print(\"Precision:\", metrics.precision_score(df_test_y, pred_y_binary))\n",
    "print(\"Recall:\", metrics.recall_score(df_test_y, pred_y_binary))\n",
    "\n",
    "# Precisionとかの可視化\n",
    "precision, recall, thresholds = metrics.precision_recall_curve(df_test_y, pred_y)\n",
    "thresholds = np.append(thresholds, max(thresholds))\n",
    "queue_rate = [(pred_y >= threshold).mean() for threshold in thresholds]\n",
    "plt.plot(thresholds, precision, color=\"lightcoral\")\n",
    "plt.plot(thresholds, recall, color=\"skyblue\")\n",
    "plt.plot(thresholds, queue_rate, color=\"lightgreen\")\n",
    "leg = plt.legend(('precision', 'recall', 'queue_rate'), frameon=True)\n",
    "leg.get_frame().set_edgecolor('k')\n",
    "plt.xlabel('threshold')\n",
    "plt.ylabel('%')"
   ]
  },
  {
   "cell_type": "code",
   "execution_count": 41,
   "metadata": {
    "colab": {
     "base_uri": "https://localhost:8080/",
     "height": 363
    },
    "colab_type": "code",
    "id": "npFeoRx0KfK6",
    "outputId": "65c96895-3138-467f-8f13-a4816099ae62"
   },
   "outputs": [
    {
     "data": {
      "image/png": "[encoded data removed]",
      "text/plain": [
       "<Figure size 432x288 with 1 Axes>"
      ]
     },
     "metadata": {
      "needs_background": "light"
     },
     "output_type": "display_data"
    }
   ],
   "source": [
    "from sklearn import metrics as mtr\n",
    "fpr, tpr, thresholds = metrics.roc_curve(df_test_y, pred_y)\n",
    "auc = metrics.auc(fpr, tpr)\n",
    "plt.plot(fpr, tpr, label='ROC curve (area = %.3f)'%auc)\n",
    "plt.legend()\n",
    "plt.title('ROC curve')\n",
    "plt.xlabel('False Positive Rate')\n",
    "plt.ylabel('True Positive Rate')\n",
    "plt.grid(True)"
   ]
  },
  {
   "cell_type": "code",
   "execution_count": 42,
   "metadata": {
    "colab": {
     "base_uri": "https://localhost:8080/",
     "height": 638
    },
    "colab_type": "code",
    "id": "cKO8znBYKhLp",
    "outputId": "026e2aed-d3a7-4236-cd14-ecb24205b251"
   },
   "outputs": [
    {
     "name": "stdout",
     "output_type": "stream",
     "text": [
      "Feature Importances:\n"
     ]
    },
    {
     "data": {
      "image/png": "[encoded data removed]",
      "text/plain": [
       "<Figure size 1296x720 with 1 Axes>"
      ]
     },
     "metadata": {
      "needs_background": "light"
     },
     "output_type": "display_data"
    }
   ],
   "source": [
    "print('Feature Importances:')\n",
    "lgb.plot_importance(bst,figsize=(18,10))\n",
    "display()"
   ]
  },
  {
   "cell_type": "code",
   "execution_count": 43,
   "metadata": {
    "colab": {},
    "colab_type": "code",
    "id": "iL7MfPmbKi54"
   },
   "outputs": [],
   "source": [
    "prediction = df_test_x.copy()\n",
    "prediction[\"危険\"] = pred_y\n",
    "prediction[\"実際\"] = df_test_y"
   ]
  },
  {
   "cell_type": "code",
   "execution_count": 46,
   "metadata": {
    "colab": {
     "base_uri": "https://localhost:8080/",
     "height": 3298
    },
    "colab_type": "code",
    "id": "5tgSuL-9KxuK",
    "outputId": "f03505b2-db47-406b-8566-ea895f080e30"
   },
   "outputs": [
    {
     "name": "stdout",
     "output_type": "stream",
     "text": [
      "     市場      公募   吸収金額 評価  主幹事数 上場月   仮条件下限   仮条件上限   仮条件幅  公募-仮上限  \\\n",
      "code                                                                 \n",
      "3447  4    1150  158.0  8     1   2    1150    1300    150    -150   \n",
      "6197  3    1300  147.0  9     1   5    1270    1400    130    -100   \n",
      "3460  2  190000  165.0  3     1   6  180000  200000  20000  -10000   \n",
      "9260  3    4750  202.0  9     1   8    4500    5250    750    -500   \n",
      "4599  5    1000   96.6  8     1   7    1000    1700    700    -700   \n",
      "...  ..     ...    ... ..   ...  ..     ...     ...    ...     ...   \n",
      "4480  5    1300  205.0  9     1  11    1280    1300     20       0   \n",
      "3543  3    1960  601.0  6     2   5    1780    1960    180       0   \n",
      "4593  5    1200   83.6  5     1   5    1100    1200    100       0   \n",
      "3481  2  260000  535.0  6     1   8  250000  260000  10000       0   \n",
      "4931  5    1470   82.3  3     1   5    1350    1470    120       0   \n",
      "\n",
      "                株数        危険  実際  \n",
      "code                              \n",
      "3447  1.373913e+07  0.198481   1  \n",
      "6197  1.130769e+07  0.195692   1  \n",
      "3460  8.684211e+04  0.193211   1  \n",
      "9260  4.252632e+06  0.190158   1  \n",
      "4599  9.660000e+06  0.186386   1  \n",
      "...            ...       ...  ..  \n",
      "4480  1.576923e+07  0.112201   1  \n",
      "3543  3.066327e+07  0.112075   1  \n",
      "4593  6.966667e+06  0.111966   0  \n",
      "3481  2.057692e+05  0.111904   0  \n",
      "4931  5.598639e+06  0.111627   0  \n",
      "\n",
      "[72 rows x 13 columns]\n"
     ]
    }
   ],
   "source": [
    "print(prediction.query('危険 >= 0.11').sort_values(\"危険\",ascending=False))"
   ]
  },
  {
   "cell_type": "code",
   "execution_count": 47,
   "metadata": {
    "colab": {},
    "colab_type": "code",
    "id": "ksM2Rhc1K8qR"
   },
   "outputs": [
    {
     "data": {
      "text/plain": [
       "<matplotlib.axes._subplots.AxesSubplot at 0x1a448bca2b0>"
      ]
     },
     "execution_count": 47,
     "metadata": {},
     "output_type": "execute_result"
    },
    {
     "data": {
      "image/png": "[encoded data removed]",
      "text/plain": [
       "<Figure size 432x288 with 1 Axes>"
      ]
     },
     "metadata": {
      "needs_background": "light"
     },
     "output_type": "display_data"
    }
   ],
   "source": [
    "# 予測値の分布\n",
    "prediction[\"危険\"].hist(bins =10)"
   ]
  },
  {
   "cell_type": "code",
   "execution_count": 48,
   "metadata": {},
   "outputs": [
    {
     "data": {
      "text/plain": [
       "0.9428571428571428"
      ]
     },
     "execution_count": 48,
     "metadata": {},
     "output_type": "execute_result"
    }
   ],
   "source": [
    "396/420"
   ]
  },
  {
   "cell_type": "code",
   "execution_count": null,
   "metadata": {},
   "outputs": [],
   "source": []
  }
 ],
 "metadata": {
  "colab": {
   "name": "IPO_predict_oputuna",
   "provenance": [],
   "version": "0.3.2"
  },
  "kernelspec": {
   "display_name": "Python 3",
   "language": "python",
   "name": "python3"
  },
  "language_info": {
   "codemirror_mode": {
    "name": "ipython",
    "version": 3
   },
   "file_extension": ".py",
   "mimetype": "text/x-python",
   "name": "python",
   "nbconvert_exporter": "python",
   "pygments_lexer": "ipython3",
   "version": "3.6.4"
  }
 },
 "nbformat": 4,
 "nbformat_minor": 1
}
