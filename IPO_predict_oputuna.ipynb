{
 "cells": [
  {
   "cell_type": "code",
   "execution_count": 237,
   "metadata": {
    "colab": {},
    "colab_type": "code",
    "id": "krUpPuTmJIei"
   },
   "outputs": [],
   "source": [
    "import pandas as pd\n",
    "import numpy as np\n",
    "import scipy\n",
    "import datetime\n",
    "import os\n",
    "import re\n",
    "import sys\n",
    "import matplotlib as mpl\n",
    "import matplotlib.pyplot as plt\n",
    "%matplotlib inline\n",
    "font = {\"family\":\"IPAexGothic\"}\n",
    "mpl.rc('font', **font)\n",
    "from sklearn.model_selection import train_test_split\n",
    "from sklearn.preprocessing import StandardScaler\n",
    "from sklearn.preprocessing import MinMaxScaler\n",
    "import lightgbm as lgb\n",
    "from sklearn.model_selection import train_test_split,StratifiedKFold\n",
    "from sklearn import metrics, preprocessing\n",
    "from datetime import datetime, date\n",
    "from collections import defaultdict\n",
    "import optuna\n",
    "import warnings\n",
    "if not sys.warnoptions:\n",
    "    warnings.simplefilter(\"ignore\") "
   ]
  },
  {
   "cell_type": "code",
   "execution_count": 238,
   "metadata": {
    "colab": {},
    "colab_type": "code",
    "id": "dHpW_B7dJNms"
   },
   "outputs": [],
   "source": [
    "#96ut.comからIPOデータを取得(2001年から2019年、1794件)\n",
    "ipo_urls = ['https://96ut.com/ipo/list.php?year={}'.format(str(i)) for i in range(2001, 2020)]\n",
    "df_ipo = pd.DataFrame(columns = [\"code\",\"銘柄名\",\"主幹\",\"上場\",\"市場\",\"想定(仮条件)\",\"公募\",\"吸収金額\",\"評価\",\"初値\",\"(騰落率)損益\",\"現在値(差分)\"])\n",
    "for urls in ipo_urls:\n",
    "    df_ipo = df_ipo.append(pd.read_html(urls))"
   ]
  },
  {
   "cell_type": "code",
   "execution_count": 239,
   "metadata": {
    "colab": {
     "base_uri": "https://localhost:8080/",
     "height": 235
    },
    "colab_type": "code",
    "id": "XngV5UDZJRxa",
    "outputId": "70c4cdc4-1f30-4949-d6d0-7a01ebf29157"
   },
   "outputs": [
    {
     "data": {
      "text/html": [
       "<div>\n",
       "<style scoped>\n",
       "    .dataframe tbody tr th:only-of-type {\n",
       "        vertical-align: middle;\n",
       "    }\n",
       "\n",
       "    .dataframe tbody tr th {\n",
       "        vertical-align: top;\n",
       "    }\n",
       "\n",
       "    .dataframe thead th {\n",
       "        text-align: right;\n",
       "    }\n",
       "</style>\n",
       "<table border=\"1\" class=\"dataframe\">\n",
       "  <thead>\n",
       "    <tr style=\"text-align: right;\">\n",
       "      <th></th>\n",
       "      <th>銘柄名</th>\n",
       "      <th>主幹</th>\n",
       "      <th>上場</th>\n",
       "      <th>市場</th>\n",
       "      <th>想定(仮条件)</th>\n",
       "      <th>公募</th>\n",
       "      <th>吸収金額</th>\n",
       "      <th>評価</th>\n",
       "      <th>初値</th>\n",
       "      <th>(騰落率)損益</th>\n",
       "      <th>現在値(差分)</th>\n",
       "    </tr>\n",
       "    <tr>\n",
       "      <th>code</th>\n",
       "      <th></th>\n",
       "      <th></th>\n",
       "      <th></th>\n",
       "      <th></th>\n",
       "      <th></th>\n",
       "      <th></th>\n",
       "      <th></th>\n",
       "      <th></th>\n",
       "      <th></th>\n",
       "      <th></th>\n",
       "      <th></th>\n",
       "    </tr>\n",
       "  </thead>\n",
       "  <tbody>\n",
       "    <tr>\n",
       "      <th>4334</th>\n",
       "      <td>ユークス</td>\n",
       "      <td>日興</td>\n",
       "      <td>12/21</td>\n",
       "      <td>NJS</td>\n",
       "      <td>-()</td>\n",
       "      <td>880</td>\n",
       "      <td>8.80億</td>\n",
       "      <td>-()</td>\n",
       "      <td>950</td>\n",
       "      <td>(+8.0%) +70,000円</td>\n",
       "      <td>627 分割 2倍 (+304)</td>\n",
       "    </tr>\n",
       "    <tr>\n",
       "      <th>8902</th>\n",
       "      <td>パシフィックホールディングス</td>\n",
       "      <td>野村</td>\n",
       "      <td>12/21</td>\n",
       "      <td>JQ</td>\n",
       "      <td>-()</td>\n",
       "      <td>250000</td>\n",
       "      <td>5.12億</td>\n",
       "      <td>-()</td>\n",
       "      <td>650000</td>\n",
       "      <td>(+160.0%) +400,000円</td>\n",
       "      <td>95 (-649,905)</td>\n",
       "    </tr>\n",
       "    <tr>\n",
       "      <th>6738</th>\n",
       "      <td>東研</td>\n",
       "      <td>みずほ</td>\n",
       "      <td>12/21</td>\n",
       "      <td>JQ</td>\n",
       "      <td>-()</td>\n",
       "      <td>600</td>\n",
       "      <td>5.10億</td>\n",
       "      <td>-()</td>\n",
       "      <td>650</td>\n",
       "      <td>(+8.3%) +50,000円</td>\n",
       "      <td>-</td>\n",
       "    </tr>\n",
       "    <tr>\n",
       "      <th>9447</th>\n",
       "      <td>丸紅テレコム</td>\n",
       "      <td>日興</td>\n",
       "      <td>12/20</td>\n",
       "      <td>東2</td>\n",
       "      <td>-()</td>\n",
       "      <td>93000</td>\n",
       "      <td>19.5億</td>\n",
       "      <td>-()</td>\n",
       "      <td>66500</td>\n",
       "      <td>(-28.5%) -26,500円</td>\n",
       "      <td>-</td>\n",
       "    </tr>\n",
       "    <tr>\n",
       "      <th>4335</th>\n",
       "      <td>アイ・ピー・エス</td>\n",
       "      <td>三菱</td>\n",
       "      <td>12/20</td>\n",
       "      <td>JQ</td>\n",
       "      <td>-()</td>\n",
       "      <td>360000</td>\n",
       "      <td>2.16億</td>\n",
       "      <td>-()</td>\n",
       "      <td>1350000</td>\n",
       "      <td>(+275.0%) +990,000円</td>\n",
       "      <td>951 分割 500倍 (-874,500)</td>\n",
       "    </tr>\n",
       "  </tbody>\n",
       "</table>\n",
       "</div>"
      ],
      "text/plain": [
       "                 銘柄名   主幹     上場   市場 想定(仮条件)      公募   吸収金額   評価       初値  \\\n",
       "code                                                                         \n",
       "4334            ユークス   日興  12/21  NJS     -()     880  8.80億  -()      950   \n",
       "8902  パシフィックホールディングス   野村  12/21   JQ     -()  250000  5.12億  -()   650000   \n",
       "6738              東研  みずほ  12/21   JQ     -()     600  5.10億  -()      650   \n",
       "9447          丸紅テレコム   日興  12/20   東2     -()   93000  19.5億  -()    66500   \n",
       "4335        アイ・ピー・エス   三菱  12/20   JQ     -()  360000  2.16億  -()  1350000   \n",
       "\n",
       "                  (騰落率)損益                 現在値(差分)  \n",
       "code                                               \n",
       "4334     (+8.0%) +70,000円        627 分割 2倍 (+304)  \n",
       "8902  (+160.0%) +400,000円           95 (-649,905)  \n",
       "6738     (+8.3%) +50,000円                       -  \n",
       "9447    (-28.5%) -26,500円                       -  \n",
       "4335  (+275.0%) +990,000円  951 分割 500倍 (-874,500)  "
      ]
     },
     "execution_count": 239,
     "metadata": {},
     "output_type": "execute_result"
    }
   ],
   "source": [
    "#indexを銘柄コードに\n",
    "df_ipo = df_ipo.set_index('code')\n",
    "#確認\n",
    "df_ipo.head()"
   ]
  },
  {
   "cell_type": "code",
   "execution_count": 240,
   "metadata": {
    "colab": {
     "base_uri": "https://localhost:8080/",
     "height": 1071
    },
    "colab_type": "code",
    "id": "S_Fo_B4uJU1t",
    "outputId": "5c7902f6-ef0d-41c7-e685-2c628ad60c4a"
   },
   "outputs": [],
   "source": [
    "#幹事\n",
    "#lead = df_ipo['主幹'].value_counts()\n",
    "#print(lead)"
   ]
  },
  {
   "cell_type": "code",
   "execution_count": 241,
   "metadata": {
    "colab": {
     "base_uri": "https://localhost:8080/",
     "height": 204
    },
    "colab_type": "code",
    "id": "qZ3Ye3UDJWxd",
    "outputId": "11344f77-5d70-4ce4-eab9-7aedca2ff9ff"
   },
   "outputs": [],
   "source": [
    "#主幹事が多いほど期待が大きい⇒主幹事数のカラム追加\n",
    "#print(df_ipo.query('主幹 == \"野村 三菱 大和 みずほ 日興 岡三 東海東京\"'))"
   ]
  },
  {
   "cell_type": "code",
   "execution_count": 242,
   "metadata": {
    "colab": {
     "base_uri": "https://localhost:8080/",
     "height": 238
    },
    "colab_type": "code",
    "id": "Eym2kW7JJYct",
    "outputId": "db923e6d-fd07-479b-edac-00c47e820339"
   },
   "outputs": [],
   "source": [
    "#上場日\n",
    "#listed_month = df_ipo['上場'].str[:2].value_counts()\n",
    "#print(listed_month)"
   ]
  },
  {
   "cell_type": "code",
   "execution_count": 243,
   "metadata": {
    "colab": {
     "base_uri": "https://localhost:8080/",
     "height": 286
    },
    "colab_type": "code",
    "id": "F4WT9JnfJaEd",
    "outputId": "1c75be02-4cfe-4ae3-d810-44bfb4b7345b"
   },
   "outputs": [],
   "source": [
    "#plt.plot(listed_month.sort_index())"
   ]
  },
  {
   "cell_type": "code",
   "execution_count": 244,
   "metadata": {
    "colab": {
     "base_uri": "https://localhost:8080/",
     "height": 391
    },
    "colab_type": "code",
    "id": "pehQoMfoJcFs",
    "outputId": "51c617f0-d588-407e-b260-d4140f90d3e8"
   },
   "outputs": [],
   "source": [
    "#市場⇒東１以下はまとめていいかな\n",
    "#market = df_ipo['市場'].value_counts()\n",
    "#print(market)"
   ]
  },
  {
   "cell_type": "code",
   "execution_count": 245,
   "metadata": {
    "colab": {
     "base_uri": "https://localhost:8080/",
     "height": 1071
    },
    "colab_type": "code",
    "id": "8Ko_9nXnJdoL",
    "outputId": "8b996add-2852-42f9-b228-d3189ff2f5d7"
   },
   "outputs": [],
   "source": [
    "#想定(仮条件)⇒要加工\n",
    "#tentatively = df_ipo['想定(仮条件)'].value_counts()\n",
    "#print(tentatively)"
   ]
  },
  {
   "cell_type": "code",
   "execution_count": 246,
   "metadata": {
    "colab": {
     "base_uri": "https://localhost:8080/",
     "height": 1071
    },
    "colab_type": "code",
    "id": "Fwf4D1SLJe6B",
    "outputId": "d4fb27f4-28cf-4628-dc95-c923b47992b8"
   },
   "outputs": [],
   "source": [
    "#公募\n",
    "#public = df_ipo['公募'].value_counts()\n",
    "#print(public)"
   ]
  },
  {
   "cell_type": "code",
   "execution_count": 247,
   "metadata": {
    "colab": {
     "base_uri": "https://localhost:8080/",
     "height": 1071
    },
    "colab_type": "code",
    "id": "ge3WqzmbJgMQ",
    "outputId": "7683c82a-4a09-4e5f-de3c-61c7f69269da"
   },
   "outputs": [],
   "source": [
    "#吸収金額\n",
    "#absorption = df_ipo['吸収金額'].str.strip('億').value_counts()\n",
    "#print(absorption)"
   ]
  },
  {
   "cell_type": "code",
   "execution_count": 248,
   "metadata": {
    "colab": {
     "base_uri": "https://localhost:8080/",
     "height": 221
    },
    "colab_type": "code",
    "id": "V3nw2xGPJiAB",
    "outputId": "5d179918-4faa-4ae6-c27d-983f0f6fc1e8"
   },
   "outputs": [],
   "source": [
    "#評価\n",
    "#evaluation = df_ipo['評価'].value_counts()\n",
    "#print(evaluation)"
   ]
  },
  {
   "cell_type": "code",
   "execution_count": 249,
   "metadata": {
    "colab": {
     "base_uri": "https://localhost:8080/",
     "height": 1071
    },
    "colab_type": "code",
    "id": "aalfxyafJjag",
    "outputId": "2158b77d-beda-4d75-d174-abfb2ea7f27a"
   },
   "outputs": [],
   "source": [
    "#初値⇒-になっているものは除く\n",
    "#opening = df_ipo['初値'].value_counts()\n",
    "#print(opening)"
   ]
  },
  {
   "cell_type": "code",
   "execution_count": 250,
   "metadata": {
    "colab": {
     "base_uri": "https://localhost:8080/",
     "height": 1071
    },
    "colab_type": "code",
    "id": "k-Y5UcE5Jkvf",
    "outputId": "6ac17998-adc2-424e-caf6-0a0f4dbed98a"
   },
   "outputs": [],
   "source": [
    "#損益⇒加工めんどいし初値を公募価格で割ればいいか\n",
    "#pl = df_ipo['(騰落率)損益'].value_counts()\n",
    "#print(pl)"
   ]
  },
  {
   "cell_type": "code",
   "execution_count": 251,
   "metadata": {
    "colab": {},
    "colab_type": "code",
    "id": "S6XF5v4GJmgP"
   },
   "outputs": [],
   "source": [
    "#データ加工\n",
    "#'(騰落率)損益', '現在値(差分)'を削除\n",
    "dataset = df_ipo.drop(columns=['(騰落率)損益', '現在値(差分)','銘柄名'])"
   ]
  },
  {
   "cell_type": "code",
   "execution_count": 252,
   "metadata": {
    "colab": {},
    "colab_type": "code",
    "id": "UEu6XRoEJyHv"
   },
   "outputs": [],
   "source": [
    "#初値が-になっているものを削除\n",
    "dataset = dataset[dataset[\"初値\"] != \"-\"]"
   ]
  },
  {
   "cell_type": "code",
   "execution_count": 253,
   "metadata": {
    "colab": {},
    "colab_type": "code",
    "id": "F1_sRTqDJzdC"
   },
   "outputs": [],
   "source": [
    "#主幹事数のカラムを追加\n",
    "def count_syukan(x):\n",
    "    y = int(str(x).count(\" \"))+1\n",
    "    return y"
   ]
  },
  {
   "cell_type": "code",
   "execution_count": 254,
   "metadata": {
    "colab": {},
    "colab_type": "code",
    "id": "uppStimMJ1ci"
   },
   "outputs": [],
   "source": [
    "#主幹事数のカラムを追加\n",
    "dataset[\"主幹事数\"] = dataset['主幹'].apply(count_syukan)\n",
    "dataset= dataset.drop(\"主幹\",axis=1)"
   ]
  },
  {
   "cell_type": "code",
   "execution_count": 255,
   "metadata": {
    "colab": {},
    "colab_type": "code",
    "id": "ICnjfuAiJ4VP"
   },
   "outputs": [],
   "source": [
    "#上場月カラム追加\n",
    "dataset[\"上場月\"] = dataset['上場'].str[:2]\n",
    "dataset = dataset.drop(\"上場\",axis=1)"
   ]
  },
  {
   "cell_type": "code",
   "execution_count": 256,
   "metadata": {
    "colab": {},
    "colab_type": "code",
    "id": "xkUMWUfhJ5_B"
   },
   "outputs": [],
   "source": [
    "#市場をまとめる\n",
    "def func_cate(x):\n",
    "    if x == \"東M\":\n",
    "        return x\n",
    "    elif x == \"JQ\":\n",
    "        return x\n",
    "    elif x == \"東2\":\n",
    "        return x\n",
    "    elif x == \"JQS\":\n",
    "        return x\n",
    "    elif x == \"東1\":\n",
    "        return x\n",
    "    else:\n",
    "        return 'その他'\n",
    "\n",
    "dataset['市場'] =dataset['市場'].apply(func_cate)"
   ]
  },
  {
   "cell_type": "code",
   "execution_count": 258,
   "metadata": {
    "colab": {},
    "colab_type": "code",
    "id": "Nwpx_useJ9Hm"
   },
   "outputs": [],
   "source": [
    "#仮条件を抽出\n",
    "dataset = pd.concat([dataset, dataset['想定(仮条件)'].apply(lambda st: st[st.find(\"(\")+1:st.find(\")\")]).str.split('-', expand=True)], axis=1).drop('想定(仮条件)', axis=1)"
   ]
  },
  {
   "cell_type": "code",
   "execution_count": 259,
   "metadata": {
    "colab": {},
    "colab_type": "code",
    "id": "Cng-VtZiJ-9C"
   },
   "outputs": [],
   "source": [
    "dataset.rename(columns={0: '仮条件下限', 1: '仮条件上限'}, inplace=True)\n",
    "dataset=dataset.dropna()"
   ]
  },
  {
   "cell_type": "code",
   "execution_count": 260,
   "metadata": {
    "colab": {},
    "colab_type": "code",
    "id": "9ZbpWFeOKAhF"
   },
   "outputs": [],
   "source": [
    "dataset[\"仮条件下限\"] = dataset[\"仮条件下限\"].str.replace('k', '000')\n",
    "dataset[\"仮条件下限\"] = dataset[\"仮条件下限\"].apply(lambda x: int(x.replace(\",\", \"\")) if type(x) is str else int(x))\n",
    "dataset[\"仮条件上限\"] = dataset[\"仮条件上限\"].str.replace('k', '000')\n",
    "dataset[\"仮条件上限\"] = dataset[\"仮条件上限\"].apply(lambda x: int(x.replace(\",\", \"\")) if type(x) is str else int(x))"
   ]
  },
  {
   "cell_type": "code",
   "execution_count": 261,
   "metadata": {
    "colab": {},
    "colab_type": "code",
    "id": "ce234amDKCOk"
   },
   "outputs": [],
   "source": [
    "dataset[\"仮条件幅\"] = dataset[\"仮条件上限\"] - dataset[\"仮条件下限\"]"
   ]
  },
  {
   "cell_type": "code",
   "execution_count": 262,
   "metadata": {
    "colab": {},
    "colab_type": "code",
    "id": "O9q3sYAnKD_1"
   },
   "outputs": [],
   "source": [
    "#公募をintに\n",
    "dataset['公募'] = dataset['公募'].astype(int)"
   ]
  },
  {
   "cell_type": "code",
   "execution_count": 263,
   "metadata": {
    "colab": {},
    "colab_type": "code",
    "id": "ADBSfQSoKFQU"
   },
   "outputs": [],
   "source": [
    "#吸収金額をfloatに\n",
    "dataset['吸収金額'] = dataset['吸収金額'].str.strip('億').astype(float)"
   ]
  },
  {
   "cell_type": "code",
   "execution_count": 264,
   "metadata": {
    "colab": {},
    "colab_type": "code",
    "id": "36APYpzAKG3X"
   },
   "outputs": [],
   "source": [
    "#初値をintに\n",
    "dataset[\"初値\"] = dataset[\"初値\"].astype(int)"
   ]
  },
  {
   "cell_type": "code",
   "execution_count": 265,
   "metadata": {
    "colab": {},
    "colab_type": "code",
    "id": "YykjFidzKIKE"
   },
   "outputs": [],
   "source": [
    "#上場市場評価をone hot encoding\n",
    "#dataset = pd.get_dummies(dataset, drop_first=True,columns=[\"上場月\",\"市場\",\"評価\"])\n",
    "#カテゴリに指定\n",
    "cate_cols = [\"上場月\",\"市場\",\"評価\"]"
   ]
  },
  {
   "cell_type": "code",
   "execution_count": 266,
   "metadata": {},
   "outputs": [
    {
     "data": {
      "text/html": [
       "<div>\n",
       "<style scoped>\n",
       "    .dataframe tbody tr th:only-of-type {\n",
       "        vertical-align: middle;\n",
       "    }\n",
       "\n",
       "    .dataframe tbody tr th {\n",
       "        vertical-align: top;\n",
       "    }\n",
       "\n",
       "    .dataframe thead th {\n",
       "        text-align: right;\n",
       "    }\n",
       "</style>\n",
       "<table border=\"1\" class=\"dataframe\">\n",
       "  <thead>\n",
       "    <tr style=\"text-align: right;\">\n",
       "      <th></th>\n",
       "      <th>市場</th>\n",
       "      <th>公募</th>\n",
       "      <th>吸収金額</th>\n",
       "      <th>評価</th>\n",
       "      <th>初値</th>\n",
       "      <th>主幹事数</th>\n",
       "      <th>上場月</th>\n",
       "      <th>仮条件下限</th>\n",
       "      <th>仮条件上限</th>\n",
       "      <th>仮条件幅</th>\n",
       "    </tr>\n",
       "    <tr>\n",
       "      <th>code</th>\n",
       "      <th></th>\n",
       "      <th></th>\n",
       "      <th></th>\n",
       "      <th></th>\n",
       "      <th></th>\n",
       "      <th></th>\n",
       "      <th></th>\n",
       "      <th></th>\n",
       "      <th></th>\n",
       "      <th></th>\n",
       "    </tr>\n",
       "  </thead>\n",
       "  <tbody>\n",
       "    <tr>\n",
       "      <th>8952</th>\n",
       "      <td>2</td>\n",
       "      <td>525000</td>\n",
       "      <td>840.0</td>\n",
       "      <td>0</td>\n",
       "      <td>535000</td>\n",
       "      <td>1</td>\n",
       "      <td>8</td>\n",
       "      <td>475000</td>\n",
       "      <td>525000</td>\n",
       "      <td>50000</td>\n",
       "    </tr>\n",
       "    <tr>\n",
       "      <th>8951</th>\n",
       "      <td>2</td>\n",
       "      <td>625000</td>\n",
       "      <td>625.0</td>\n",
       "      <td>0</td>\n",
       "      <td>625000</td>\n",
       "      <td>1</td>\n",
       "      <td>8</td>\n",
       "      <td>550000</td>\n",
       "      <td>625000</td>\n",
       "      <td>75000</td>\n",
       "    </tr>\n",
       "    <tr>\n",
       "      <th>2347</th>\n",
       "      <td>5</td>\n",
       "      <td>170000</td>\n",
       "      <td>5.1</td>\n",
       "      <td>0</td>\n",
       "      <td>170000</td>\n",
       "      <td>1</td>\n",
       "      <td>11</td>\n",
       "      <td>140000</td>\n",
       "      <td>170000</td>\n",
       "      <td>30000</td>\n",
       "    </tr>\n",
       "    <tr>\n",
       "      <th>2756</th>\n",
       "      <td>0</td>\n",
       "      <td>400</td>\n",
       "      <td>3.2</td>\n",
       "      <td>0</td>\n",
       "      <td>450</td>\n",
       "      <td>1</td>\n",
       "      <td>11</td>\n",
       "      <td>400</td>\n",
       "      <td>500</td>\n",
       "      <td>100</td>\n",
       "    </tr>\n",
       "    <tr>\n",
       "      <th>8910</th>\n",
       "      <td>0</td>\n",
       "      <td>130000</td>\n",
       "      <td>2.8</td>\n",
       "      <td>0</td>\n",
       "      <td>138000</td>\n",
       "      <td>1</td>\n",
       "      <td>11</td>\n",
       "      <td>120000</td>\n",
       "      <td>150000</td>\n",
       "      <td>30000</td>\n",
       "    </tr>\n",
       "  </tbody>\n",
       "</table>\n",
       "</div>"
      ],
      "text/plain": [
       "     市場      公募   吸収金額 評価      初値  主幹事数 上場月   仮条件下限   仮条件上限   仮条件幅\n",
       "code                                                              \n",
       "8952  2  525000  840.0  0  535000     1   8  475000  525000  50000\n",
       "8951  2  625000  625.0  0  625000     1   8  550000  625000  75000\n",
       "2347  5  170000    5.1  0  170000     1  11  140000  170000  30000\n",
       "2756  0     400    3.2  0     450     1  11     400     500    100\n",
       "8910  0  130000    2.8  0  138000     1  11  120000  150000  30000"
      ]
     },
     "execution_count": 266,
     "metadata": {},
     "output_type": "execute_result"
    }
   ],
   "source": [
    "#カテゴリに変換\n",
    "for column in cate_cols:\n",
    "    le = preprocessing.LabelEncoder()\n",
    "    le.fit(dataset[column])\n",
    "    dataset[column] = le.transform(dataset[column])\n",
    "    dataset[column] = dataset[column].astype('category')\n",
    "    \n",
    "dataset.head()"
   ]
  },
  {
   "cell_type": "code",
   "execution_count": 267,
   "metadata": {
    "colab": {},
    "colab_type": "code",
    "id": "qfrCmQfPKJnE"
   },
   "outputs": [],
   "source": [
    "#危険シグナルラベルを作る\n",
    "def kiken_label(x):\n",
    "    if  x > 0:\n",
    "        return 0\n",
    "    else:\n",
    "        return 1\n",
    "\n",
    "dataset[\"危険シグナル\"] = dataset[\"初値\"] - dataset[\"公募\"]\n",
    "dataset[\"危険シグナル\"] = dataset[\"危険シグナル\"].apply(kiken_label)\n",
    "dataset = dataset.drop(columns=['初値'])"
   ]
  },
  {
   "cell_type": "code",
   "execution_count": 268,
   "metadata": {},
   "outputs": [],
   "source": [
    "#特徴量追加\n",
    "dataset[\"公募-仮上限\"] = dataset['公募'] - dataset[\"仮条件上限\"]\n",
    "dataset[\"株数\"] = dataset['吸収金額'] / dataset[\"公募\"] * 100000000"
   ]
  },
  {
   "cell_type": "code",
   "execution_count": 269,
   "metadata": {
    "colab": {},
    "colab_type": "code",
    "id": "iaFvjpYdKLPo"
   },
   "outputs": [],
   "source": [
    "#target\n",
    "\n",
    "train = dataset[:1200]\n",
    "test = dataset[1200:]"
   ]
  },
  {
   "cell_type": "code",
   "execution_count": 270,
   "metadata": {
    "colab": {},
    "colab_type": "code",
    "id": "qzHTwuxzKR13"
   },
   "outputs": [],
   "source": [
    "df_train_x = train.drop([\"危険シグナル\"], axis=1)\n",
    "df_train_y = train[\"危険シグナル\"]\n",
    "df_test_x = test.drop([\"危険シグナル\"], axis=1)\n",
    "df_test_y = test[\"危険シグナル\"]\n",
    "\n",
    "# 説明変数リスト取得\n",
    "train_columns = list(df_train_x.columns)\n",
    "\n",
    "# 目的変数の比率を基に重みを作成\n",
    "total_0_record = train[\"危険シグナル\"].value_counts()[0]\n",
    "total_1_record = train[\"危険シグナル\"].value_counts()[1]\n",
    "obj_weight  = total_0_record / total_1_record * 0.2"
   ]
  },
  {
   "cell_type": "code",
   "execution_count": 271,
   "metadata": {
    "colab": {},
    "colab_type": "code",
    "id": "SATCM71XKTRH"
   },
   "outputs": [],
   "source": [
    "# パラメータの履歴保存\n",
    "def objectives(trial):\n",
    "    skf = StratifiedKFold(\n",
    "        n_splits=3, # Number of folds. Must be at least 2.\n",
    "        shuffle=True # Whether to shuffle each stratification of the data before splitting into batches.\n",
    "    )\n",
    "\n",
    "    boost_rounds = []\n",
    "    score = []\n",
    "\n",
    "    for train_index, test_index in skf.split(df_train_x, df_train_y):\n",
    "        _train_x, _test_x, _train_y, _test_y = df_train_x.iloc[train_index], df_train_x.iloc[test_index], df_train_y.iloc[train_index], df_train_y.iloc[test_index]\n",
    "\n",
    "        train_xd = lgb.Dataset(_train_x, label=_train_y, feature_name=train_columns, categorical_feature=cate_cols, weight=_train_y * obj_weight + 1)\n",
    "        test_xd = lgb.Dataset(_test_x, label=_test_y, feature_name=train_columns, categorical_feature=cate_cols, reference=train_xd, weight=_test_y * obj_weight + 1)\n",
    "\n",
    "        dict_param = {\n",
    "            \"boosting_type\": trial.suggest_categorical(\"boosting\", [\"gbdt\", \"dart\", \"goss\"]),\n",
    "            \"objective\": \"xentropy\",\n",
    "            \"metric\": \"xentropy\",\n",
    "            \"num_leaves\": trial.suggest_int(\"num_leaves\", 5, 80),\n",
    "            \"min_data_in_leaf\": trial.suggest_int(\"min_data_in_leaf\", 5, 300),\n",
    "            \"learning_rate\": trial.suggest_loguniform(\"learning_rate\", 0.01, 0.1),\n",
    "            \"drop_rate\": trial.suggest_loguniform(\"drop_rate\", 0.1, 0.8),\n",
    "            \"feature_fraction\": trial.suggest_uniform(\"feature_fraction\", 0.1, 0.9),\n",
    "            #\"obj_weight\": trial.suggest_uniform(\"obj_weight\", 0.01, 0.05),\n",
    "            \"verbose\" : 0\n",
    "        }\n",
    "        if dict_param[\"boosting_type\"] == \"dart\":\n",
    "            dict_param[\"drop_rate\"] = trial.suggest_loguniform(\"drop_rate\", 1e-8, 1.0)\n",
    "            dict_param[\"skip_drop\"] = trial.suggest_loguniform(\"skip_drop\", 1e-8, 1.0)\n",
    "        if dict_param[\"boosting_type\"] == \"goss\":\n",
    "            dict_param[\"top_rate\"] = trial.suggest_uniform(\"top_rate\", 0.0, 1.0)\n",
    "            dict_param[\"other_rate\"] = trial.suggest_uniform(\"other_rate\", 0.0, 1.0 - dict_param[\"top_rate\"])\n",
    "        \n",
    "        model = lgb.train(\n",
    "        dict_param,\n",
    "        train_xd,\n",
    "        num_boost_round=10000,\n",
    "        valid_sets=test_xd,\n",
    "        early_stopping_rounds=300,\n",
    "        verbose_eval=False\n",
    "        )\n",
    "       \n",
    "        # 精度評価用のスコア計算\n",
    "        pred_train = model.predict(_train_x)\n",
    "        pred_test = model.predict(_test_x)\n",
    "        logloss_train = metrics.log_loss( _train_y, pred_train)\n",
    "        logloss_test = metrics.log_loss(_test_y, pred_test)\n",
    "        f1_train = max([metrics.f1_score(_train_y, preprocessing.binarize(X=pred_train.reshape(1, -1), threshold=(i * 0.01))[0]) for i in range(1, 100)])\n",
    "        f1_test = max([metrics.f1_score(_test_y, preprocessing.binarize(X=pred_test.reshape(1, -1), threshold=(i * 0.01))[0]) for i in range(1, 100)])\n",
    "        boost_round = model.best_iteration\n",
    "        \n",
    "        # スコアの記録\n",
    "        trial.set_user_attr(\"logloss_train\", logloss_train)\n",
    "        trial.set_user_attr(\"logloss_test\", logloss_test)\n",
    "        trial.set_user_attr(\"f1_train\", f1_train)\n",
    "        trial.set_user_attr(\"f1_test\", f1_test)\n",
    "        trial.set_user_attr(\"boost_round\", boost_round)\n",
    "\n",
    "        \n",
    "        print(\"trial_id\", trial.trial_id,  \"logloss_train\", logloss_train, \"logloss_test\", logloss_test, \"boost_round\", boost_round, \"f1_train\", f1_train, \"f1_test\", f1_test)\n",
    "        \n",
    "        return logloss_test"
   ]
  },
  {
   "cell_type": "code",
   "execution_count": 272,
   "metadata": {
    "colab": {
     "base_uri": "https://localhost:8080/",
     "height": 679153
    },
    "colab_type": "code",
    "id": "UOLFqYWDKWoW",
    "outputId": "60efd16e-df5e-4422-e1de-a1662900802c",
    "scrolled": true
   },
   "outputs": [
    {
     "name": "stdout",
     "output_type": "stream",
     "text": [
      "trial_id 0 logloss_train 0.44357055084165226 logloss_test 0.44877607211463977 boost_round 1484 f1_train 0.48910411622276034 f1_test 0.48076923076923084\n"
     ]
    },
    {
     "name": "stderr",
     "output_type": "stream",
     "text": [
      "[I 2019-04-22 10:55:13,094] Finished a trial resulted in value: 0.44877607211463977. Current best value is 0.44877607211463977 with parameters: {'boosting': 'gbdt', 'num_leaves': 28, 'min_data_in_leaf': 181, 'learning_rate': 0.010477248235854756, 'drop_rate': 0.39030552661280327, 'feature_fraction': 0.18095715709870977}.\n"
     ]
    },
    {
     "name": "stdout",
     "output_type": "stream",
     "text": [
      "trial_id 1 logloss_train 0.39399446263302584 logloss_test 0.455945283652373 boost_round 296 f1_train 0.5619834710743802 f1_test 0.4513274336283186\n"
     ]
    },
    {
     "name": "stderr",
     "output_type": "stream",
     "text": [
      "[I 2019-04-22 10:55:13,467] Finished a trial resulted in value: 0.455945283652373. Current best value is 0.44877607211463977 with parameters: {'boosting': 'gbdt', 'num_leaves': 28, 'min_data_in_leaf': 181, 'learning_rate': 0.010477248235854756, 'drop_rate': 0.39030552661280327, 'feature_fraction': 0.18095715709870977}.\n"
     ]
    },
    {
     "name": "stdout",
     "output_type": "stream",
     "text": [
      "trial_id 2 logloss_train 0.4434827944176512 logloss_test 0.46121518384363763 boost_round 403 f1_train 0.49048625792811845 f1_test 0.4663677130044843\n"
     ]
    },
    {
     "name": "stderr",
     "output_type": "stream",
     "text": [
      "[I 2019-04-22 10:55:13,834] Finished a trial resulted in value: 0.46121518384363763. Current best value is 0.44877607211463977 with parameters: {'boosting': 'gbdt', 'num_leaves': 28, 'min_data_in_leaf': 181, 'learning_rate': 0.010477248235854756, 'drop_rate': 0.39030552661280327, 'feature_fraction': 0.18095715709870977}.\n"
     ]
    },
    {
     "name": "stdout",
     "output_type": "stream",
     "text": [
      "trial_id 3 logloss_train 0.31218364487178146 logloss_test 0.4014946409677397 boost_round 366 f1_train 0.7023411371237458 f1_test 0.4941176470588235\n"
     ]
    },
    {
     "name": "stderr",
     "output_type": "stream",
     "text": [
      "[I 2019-04-22 10:55:14,278] Finished a trial resulted in value: 0.4014946409677397. Current best value is 0.4014946409677397 with parameters: {'boosting': 'goss', 'num_leaves': 42, 'min_data_in_leaf': 60, 'learning_rate': 0.030819071514872436, 'drop_rate': 0.5998921527562356, 'feature_fraction': 0.45166351621283274, 'top_rate': 0.5414972207886624, 'other_rate': 0.14468699932116735}.\n"
     ]
    },
    {
     "name": "stdout",
     "output_type": "stream",
     "text": [
      "trial_id 4 logloss_train 0.45169094872729215 logloss_test 0.48158884406777536 boost_round 109 f1_train 0.503562945368171 f1_test 0.4291845493562232\n"
     ]
    },
    {
     "name": "stderr",
     "output_type": "stream",
     "text": [
      "[I 2019-04-22 10:55:14,590] Finished a trial resulted in value: 0.48158884406777536. Current best value is 0.4014946409677397 with parameters: {'boosting': 'goss', 'num_leaves': 42, 'min_data_in_leaf': 60, 'learning_rate': 0.030819071514872436, 'drop_rate': 0.5998921527562356, 'feature_fraction': 0.45166351621283274, 'top_rate': 0.5414972207886624, 'other_rate': 0.14468699932116735}.\n"
     ]
    },
    {
     "name": "stdout",
     "output_type": "stream",
     "text": [
      "trial_id 5 logloss_train 0.44086543241565646 logloss_test 0.47053058732920366 boost_round 1158 f1_train 0.5120350109409191 f1_test 0.45544554455445546\n"
     ]
    },
    {
     "name": "stderr",
     "output_type": "stream",
     "text": [
      "[I 2019-04-22 10:55:15,129] Finished a trial resulted in value: 0.47053058732920366. Current best value is 0.4014946409677397 with parameters: {'boosting': 'goss', 'num_leaves': 42, 'min_data_in_leaf': 60, 'learning_rate': 0.030819071514872436, 'drop_rate': 0.5998921527562356, 'feature_fraction': 0.45166351621283274, 'top_rate': 0.5414972207886624, 'other_rate': 0.14468699932116735}.\n"
     ]
    },
    {
     "name": "stdout",
     "output_type": "stream",
     "text": [
      "trial_id 6 logloss_train 0.34314109576919294 logloss_test 0.4218278516824532 boost_round 117 f1_train 0.6778523489932885 f1_test 0.497816593886463\n"
     ]
    },
    {
     "name": "stderr",
     "output_type": "stream",
     "text": [
      "[I 2019-04-22 10:55:15,550] Finished a trial resulted in value: 0.4218278516824532. Current best value is 0.4014946409677397 with parameters: {'boosting': 'goss', 'num_leaves': 42, 'min_data_in_leaf': 60, 'learning_rate': 0.030819071514872436, 'drop_rate': 0.5998921527562356, 'feature_fraction': 0.45166351621283274, 'top_rate': 0.5414972207886624, 'other_rate': 0.14468699932116735}.\n"
     ]
    },
    {
     "name": "stdout",
     "output_type": "stream",
     "text": [
      "trial_id 7 logloss_train 0.6385466651360545 logloss_test 0.6428466061268573 boost_round 0 f1_train 0.42332613390928725 f1_test 0.45283018867924524\n"
     ]
    },
    {
     "name": "stderr",
     "output_type": "stream",
     "text": [
      "[I 2019-04-22 10:55:27,297] Finished a trial resulted in value: 0.6428466061268573. Current best value is 0.4014946409677397 with parameters: {'boosting': 'goss', 'num_leaves': 42, 'min_data_in_leaf': 60, 'learning_rate': 0.030819071514872436, 'drop_rate': 0.5998921527562356, 'feature_fraction': 0.45166351621283274, 'top_rate': 0.5414972207886624, 'other_rate': 0.14468699932116735}.\n"
     ]
    },
    {
     "name": "stdout",
     "output_type": "stream",
     "text": [
      "trial_id 8 logloss_train 0.42852327445373756 logloss_test 0.4700444569946828 boost_round 643 f1_train 0.515625 f1_test 0.4571428571428572\n"
     ]
    },
    {
     "name": "stderr",
     "output_type": "stream",
     "text": [
      "[I 2019-04-22 10:55:27,746] Finished a trial resulted in value: 0.4700444569946828. Current best value is 0.4014946409677397 with parameters: {'boosting': 'goss', 'num_leaves': 42, 'min_data_in_leaf': 60, 'learning_rate': 0.030819071514872436, 'drop_rate': 0.5998921527562356, 'feature_fraction': 0.45166351621283274, 'top_rate': 0.5414972207886624, 'other_rate': 0.14468699932116735}.\n"
     ]
    },
    {
     "name": "stdout",
     "output_type": "stream",
     "text": [
      "trial_id 9 logloss_train 0.43943103394963445 logloss_test 0.48228773905427097 boost_round 153 f1_train 0.5213032581453634 f1_test 0.40540540540540543\n"
     ]
    },
    {
     "name": "stderr",
     "output_type": "stream",
     "text": [
      "[I 2019-04-22 10:55:28,060] Finished a trial resulted in value: 0.48228773905427097. Current best value is 0.4014946409677397 with parameters: {'boosting': 'goss', 'num_leaves': 42, 'min_data_in_leaf': 60, 'learning_rate': 0.030819071514872436, 'drop_rate': 0.5998921527562356, 'feature_fraction': 0.45166351621283274, 'top_rate': 0.5414972207886624, 'other_rate': 0.14468699932116735}.\n"
     ]
    },
    {
     "name": "stdout",
     "output_type": "stream",
     "text": [
      "trial_id 10 logloss_train 0.3883164147781474 logloss_test 0.5007736700954534 boost_round 0 f1_train 0.5988700564971752 f1_test 0.4155844155844156\n"
     ]
    },
    {
     "name": "stderr",
     "output_type": "stream",
     "text": [
      "[I 2019-04-22 10:55:55,034] Finished a trial resulted in value: 0.5007736700954534. Current best value is 0.4014946409677397 with parameters: {'boosting': 'goss', 'num_leaves': 42, 'min_data_in_leaf': 60, 'learning_rate': 0.030819071514872436, 'drop_rate': 0.5998921527562356, 'feature_fraction': 0.45166351621283274, 'top_rate': 0.5414972207886624, 'other_rate': 0.14468699932116735}.\n"
     ]
    },
    {
     "name": "stdout",
     "output_type": "stream",
     "text": [
      "trial_id 11 logloss_train 0.31852743945827383 logloss_test 0.4632952362715371 boost_round 29 f1_train 0.8695652173913044 f1_test 0.4306220095693779\n"
     ]
    },
    {
     "name": "stderr",
     "output_type": "stream",
     "text": [
      "[I 2019-04-22 10:55:55,506] Finished a trial resulted in value: 0.4632952362715371. Current best value is 0.4014946409677397 with parameters: {'boosting': 'goss', 'num_leaves': 42, 'min_data_in_leaf': 60, 'learning_rate': 0.030819071514872436, 'drop_rate': 0.5998921527562356, 'feature_fraction': 0.45166351621283274, 'top_rate': 0.5414972207886624, 'other_rate': 0.14468699932116735}.\n"
     ]
    },
    {
     "name": "stdout",
     "output_type": "stream",
     "text": [
      "trial_id 12 logloss_train 0.41502619506090693 logloss_test 0.4949547697859453 boost_round 0 f1_train 0.5403899721448469 f1_test 0.43076923076923074\n"
     ]
    },
    {
     "name": "stderr",
     "output_type": "stream",
     "text": [
      "[I 2019-04-22 10:56:22,090] Finished a trial resulted in value: 0.4949547697859453. Current best value is 0.4014946409677397 with parameters: {'boosting': 'goss', 'num_leaves': 42, 'min_data_in_leaf': 60, 'learning_rate': 0.030819071514872436, 'drop_rate': 0.5998921527562356, 'feature_fraction': 0.45166351621283274, 'top_rate': 0.5414972207886624, 'other_rate': 0.14468699932116735}.\n"
     ]
    },
    {
     "name": "stdout",
     "output_type": "stream",
     "text": [
      "trial_id 13 logloss_train 0.3577574736534999 logloss_test 0.432626203732358 boost_round 48 f1_train 0.6413793103448275 f1_test 0.5029940119760478\n"
     ]
    },
    {
     "name": "stderr",
     "output_type": "stream",
     "text": [
      "[I 2019-04-22 10:56:22,423] Finished a trial resulted in value: 0.432626203732358. Current best value is 0.4014946409677397 with parameters: {'boosting': 'goss', 'num_leaves': 42, 'min_data_in_leaf': 60, 'learning_rate': 0.030819071514872436, 'drop_rate': 0.5998921527562356, 'feature_fraction': 0.45166351621283274, 'top_rate': 0.5414972207886624, 'other_rate': 0.14468699932116735}.\n"
     ]
    },
    {
     "name": "stdout",
     "output_type": "stream",
     "text": [
      "trial_id 14 logloss_train 0.4336977906220756 logloss_test 0.471921587396765 boost_round 161 f1_train 0.5263157894736842 f1_test 0.44166666666666665\n"
     ]
    },
    {
     "name": "stderr",
     "output_type": "stream",
     "text": [
      "[I 2019-04-22 10:56:22,809] Finished a trial resulted in value: 0.471921587396765. Current best value is 0.4014946409677397 with parameters: {'boosting': 'goss', 'num_leaves': 42, 'min_data_in_leaf': 60, 'learning_rate': 0.030819071514872436, 'drop_rate': 0.5998921527562356, 'feature_fraction': 0.45166351621283274, 'top_rate': 0.5414972207886624, 'other_rate': 0.14468699932116735}.\n"
     ]
    },
    {
     "name": "stdout",
     "output_type": "stream",
     "text": [
      "trial_id 15 logloss_train 0.3025990544666992 logloss_test 0.4592264193129795 boost_round 27 f1_train 0.9125000000000001 f1_test 0.45\n"
     ]
    },
    {
     "name": "stderr",
     "output_type": "stream",
     "text": [
      "[I 2019-04-22 10:56:23,420] Finished a trial resulted in value: 0.4592264193129795. Current best value is 0.4014946409677397 with parameters: {'boosting': 'goss', 'num_leaves': 42, 'min_data_in_leaf': 60, 'learning_rate': 0.030819071514872436, 'drop_rate': 0.5998921527562356, 'feature_fraction': 0.45166351621283274, 'top_rate': 0.5414972207886624, 'other_rate': 0.14468699932116735}.\n"
     ]
    },
    {
     "name": "stdout",
     "output_type": "stream",
     "text": [
      "trial_id 16 logloss_train 0.3189503341103071 logloss_test 0.4693650603303931 boost_round 0 f1_train 0.8417508417508416 f1_test 0.4519230769230769\n"
     ]
    },
    {
     "name": "stderr",
     "output_type": "stream",
     "text": [
      "[I 2019-04-22 10:57:14,639] Finished a trial resulted in value: 0.4693650603303931. Current best value is 0.4014946409677397 with parameters: {'boosting': 'goss', 'num_leaves': 42, 'min_data_in_leaf': 60, 'learning_rate': 0.030819071514872436, 'drop_rate': 0.5998921527562356, 'feature_fraction': 0.45166351621283274, 'top_rate': 0.5414972207886624, 'other_rate': 0.14468699932116735}.\n"
     ]
    },
    {
     "name": "stdout",
     "output_type": "stream",
     "text": [
      "trial_id 17 logloss_train 0.33934321765976727 logloss_test 0.4344747854007785 boost_round 115 f1_train 0.6346863468634686 f1_test 0.5084745762711864\n"
     ]
    },
    {
     "name": "stderr",
     "output_type": "stream",
     "text": [
      "[I 2019-04-22 10:57:15,006] Finished a trial resulted in value: 0.4344747854007785. Current best value is 0.4014946409677397 with parameters: {'boosting': 'goss', 'num_leaves': 42, 'min_data_in_leaf': 60, 'learning_rate': 0.030819071514872436, 'drop_rate': 0.5998921527562356, 'feature_fraction': 0.45166351621283274, 'top_rate': 0.5414972207886624, 'other_rate': 0.14468699932116735}.\n"
     ]
    },
    {
     "name": "stdout",
     "output_type": "stream",
     "text": [
      "trial_id 18 logloss_train 0.33009436403875875 logloss_test 0.3939885827649386 boost_round 158 f1_train 0.700280112044818 f1_test 0.5820895522388059\n"
     ]
    },
    {
     "name": "stderr",
     "output_type": "stream",
     "text": [
      "[I 2019-04-22 10:57:15,451] Finished a trial resulted in value: 0.3939885827649386. Current best value is 0.3939885827649386 with parameters: {'boosting': 'gbdt', 'num_leaves': 41, 'min_data_in_leaf': 38, 'learning_rate': 0.0213631774504168, 'drop_rate': 0.13260851786082856, 'feature_fraction': 0.5718442504795554}.\n"
     ]
    },
    {
     "name": "stdout",
     "output_type": "stream",
     "text": [
      "trial_id 19 logloss_train 0.3701515700995156 logloss_test 0.43498654184937613 boost_round 259 f1_train 0.6145251396648046 f1_test 0.5082872928176796\n"
     ]
    },
    {
     "name": "stderr",
     "output_type": "stream",
     "text": [
      "[I 2019-04-22 10:57:15,859] Finished a trial resulted in value: 0.43498654184937613. Current best value is 0.3939885827649386 with parameters: {'boosting': 'gbdt', 'num_leaves': 41, 'min_data_in_leaf': 38, 'learning_rate': 0.0213631774504168, 'drop_rate': 0.13260851786082856, 'feature_fraction': 0.5718442504795554}.\n"
     ]
    },
    {
     "name": "stdout",
     "output_type": "stream",
     "text": [
      "trial_id 20 logloss_train 0.3172332468710925 logloss_test 0.4372692156272312 boost_round 76 f1_train 0.7515923566878981 f1_test 0.48837209302325574\n"
     ]
    },
    {
     "name": "stderr",
     "output_type": "stream",
     "text": [
      "[I 2019-04-22 10:57:16,364] Finished a trial resulted in value: 0.4372692156272312. Current best value is 0.3939885827649386 with parameters: {'boosting': 'gbdt', 'num_leaves': 41, 'min_data_in_leaf': 38, 'learning_rate': 0.0213631774504168, 'drop_rate': 0.13260851786082856, 'feature_fraction': 0.5718442504795554}.\n"
     ]
    },
    {
     "name": "stdout",
     "output_type": "stream",
     "text": [
      "trial_id 21 logloss_train 0.3620734816815908 logloss_test 0.4304761158749665 boost_round 57 f1_train 0.622093023255814 f1_test 0.4780487804878049\n"
     ]
    },
    {
     "name": "stderr",
     "output_type": "stream",
     "text": [
      "[I 2019-04-22 10:57:16,767] Finished a trial resulted in value: 0.4304761158749665. Current best value is 0.3939885827649386 with parameters: {'boosting': 'gbdt', 'num_leaves': 41, 'min_data_in_leaf': 38, 'learning_rate': 0.0213631774504168, 'drop_rate': 0.13260851786082856, 'feature_fraction': 0.5718442504795554}.\n"
     ]
    },
    {
     "name": "stdout",
     "output_type": "stream",
     "text": [
      "trial_id 22 logloss_train 0.42398159675472513 logloss_test 0.4660541291121994 boost_round 322 f1_train 0.5162907268170426 f1_test 0.47457627118644063\n"
     ]
    },
    {
     "name": "stderr",
     "output_type": "stream",
     "text": [
      "[I 2019-04-22 10:57:17,163] Finished a trial resulted in value: 0.4660541291121994. Current best value is 0.3939885827649386 with parameters: {'boosting': 'gbdt', 'num_leaves': 41, 'min_data_in_leaf': 38, 'learning_rate': 0.0213631774504168, 'drop_rate': 0.13260851786082856, 'feature_fraction': 0.5718442504795554}.\n"
     ]
    },
    {
     "name": "stdout",
     "output_type": "stream",
     "text": [
      "trial_id 23 logloss_train 0.3988116061309595 logloss_test 0.4591226907952018 boost_round 246 f1_train 0.572192513368984 f1_test 0.4659090909090909\n"
     ]
    },
    {
     "name": "stderr",
     "output_type": "stream",
     "text": [
      "[I 2019-04-22 10:57:17,554] Finished a trial resulted in value: 0.4591226907952018. Current best value is 0.3939885827649386 with parameters: {'boosting': 'gbdt', 'num_leaves': 41, 'min_data_in_leaf': 38, 'learning_rate': 0.0213631774504168, 'drop_rate': 0.13260851786082856, 'feature_fraction': 0.5718442504795554}.\n"
     ]
    },
    {
     "name": "stdout",
     "output_type": "stream",
     "text": [
      "trial_id 24 logloss_train 0.3290941638925716 logloss_test 0.40700164434588904 boost_round 170 f1_train 0.7278287461773699 f1_test 0.524822695035461\n"
     ]
    },
    {
     "name": "stderr",
     "output_type": "stream",
     "text": [
      "[I 2019-04-22 10:57:18,051] Finished a trial resulted in value: 0.40700164434588904. Current best value is 0.3939885827649386 with parameters: {'boosting': 'gbdt', 'num_leaves': 41, 'min_data_in_leaf': 38, 'learning_rate': 0.0213631774504168, 'drop_rate': 0.13260851786082856, 'feature_fraction': 0.5718442504795554}.\n"
     ]
    },
    {
     "name": "stdout",
     "output_type": "stream",
     "text": [
      "trial_id 25 logloss_train 0.4033779965781947 logloss_test 0.46528442944971243 boost_round 498 f1_train 0.5321100917431192 f1_test 0.46721311475409844\n"
     ]
    },
    {
     "name": "stderr",
     "output_type": "stream",
     "text": [
      "[I 2019-04-22 10:57:18,506] Finished a trial resulted in value: 0.46528442944971243. Current best value is 0.3939885827649386 with parameters: {'boosting': 'gbdt', 'num_leaves': 41, 'min_data_in_leaf': 38, 'learning_rate': 0.0213631774504168, 'drop_rate': 0.13260851786082856, 'feature_fraction': 0.5718442504795554}.\n"
     ]
    },
    {
     "name": "stdout",
     "output_type": "stream",
     "text": [
      "trial_id 26 logloss_train 0.40720043157522967 logloss_test 0.45408407828916225 boost_round 0 f1_train 0.6128133704735377 f1_test 0.48704663212435234\n"
     ]
    },
    {
     "name": "stderr",
     "output_type": "stream",
     "text": [
      "[I 2019-04-22 10:58:03,254] Finished a trial resulted in value: 0.45408407828916225. Current best value is 0.3939885827649386 with parameters: {'boosting': 'gbdt', 'num_leaves': 41, 'min_data_in_leaf': 38, 'learning_rate': 0.0213631774504168, 'drop_rate': 0.13260851786082856, 'feature_fraction': 0.5718442504795554}.\n"
     ]
    },
    {
     "name": "stdout",
     "output_type": "stream",
     "text": [
      "trial_id 27 logloss_train 0.4007718339786561 logloss_test 0.4919140181692586 boost_round 223 f1_train 0.5484764542936288 f1_test 0.4172661870503597\n"
     ]
    },
    {
     "name": "stderr",
     "output_type": "stream",
     "text": [
      "[I 2019-04-22 10:58:03,619] Finished a trial resulted in value: 0.4919140181692586. Current best value is 0.3939885827649386 with parameters: {'boosting': 'gbdt', 'num_leaves': 41, 'min_data_in_leaf': 38, 'learning_rate': 0.0213631774504168, 'drop_rate': 0.13260851786082856, 'feature_fraction': 0.5718442504795554}.\n"
     ]
    },
    {
     "name": "stdout",
     "output_type": "stream",
     "text": [
      "trial_id 28 logloss_train 0.3660185797353602 logloss_test 0.44300661440799294 boost_round 235 f1_train 0.6037735849056604 f1_test 0.509090909090909\n"
     ]
    },
    {
     "name": "stderr",
     "output_type": "stream",
     "text": [
      "[I 2019-04-22 10:58:04,066] Finished a trial resulted in value: 0.44300661440799294. Current best value is 0.3939885827649386 with parameters: {'boosting': 'gbdt', 'num_leaves': 41, 'min_data_in_leaf': 38, 'learning_rate': 0.0213631774504168, 'drop_rate': 0.13260851786082856, 'feature_fraction': 0.5718442504795554}.\n"
     ]
    },
    {
     "name": "stdout",
     "output_type": "stream",
     "text": [
      "trial_id 29 logloss_train 0.34275494070796686 logloss_test 0.432244527487134 boost_round 66 f1_train 0.6862170087976539 f1_test 0.4973544973544973\n"
     ]
    },
    {
     "name": "stderr",
     "output_type": "stream",
     "text": [
      "[I 2019-04-22 10:58:04,446] Finished a trial resulted in value: 0.432244527487134. Current best value is 0.3939885827649386 with parameters: {'boosting': 'gbdt', 'num_leaves': 41, 'min_data_in_leaf': 38, 'learning_rate': 0.0213631774504168, 'drop_rate': 0.13260851786082856, 'feature_fraction': 0.5718442504795554}.\n"
     ]
    },
    {
     "name": "stdout",
     "output_type": "stream",
     "text": [
      "trial_id 30 logloss_train 0.4263167643230653 logloss_test 0.4812284931838468 boost_round 268 f1_train 0.5230024213075061 f1_test 0.41509433962264153\n"
     ]
    },
    {
     "name": "stderr",
     "output_type": "stream",
     "text": [
      "[I 2019-04-22 10:58:04,815] Finished a trial resulted in value: 0.4812284931838468. Current best value is 0.3939885827649386 with parameters: {'boosting': 'gbdt', 'num_leaves': 41, 'min_data_in_leaf': 38, 'learning_rate': 0.0213631774504168, 'drop_rate': 0.13260851786082856, 'feature_fraction': 0.5718442504795554}.\n"
     ]
    },
    {
     "name": "stdout",
     "output_type": "stream",
     "text": [
      "trial_id 31 logloss_train 0.3104777259892915 logloss_test 0.40475661505176436 boost_round 0 f1_train 0.7380952380952381 f1_test 0.5444444444444444\n"
     ]
    },
    {
     "name": "stderr",
     "output_type": "stream",
     "text": [
      "[I 2019-04-22 10:58:45,490] Finished a trial resulted in value: 0.40475661505176436. Current best value is 0.3939885827649386 with parameters: {'boosting': 'gbdt', 'num_leaves': 41, 'min_data_in_leaf': 38, 'learning_rate': 0.0213631774504168, 'drop_rate': 0.13260851786082856, 'feature_fraction': 0.5718442504795554}.\n"
     ]
    },
    {
     "name": "stdout",
     "output_type": "stream",
     "text": [
      "trial_id 32 logloss_train 0.42682249488646895 logloss_test 0.46395791267311576 boost_round 1412 f1_train 0.502415458937198 f1_test 0.4734299516908213\n"
     ]
    },
    {
     "name": "stderr",
     "output_type": "stream",
     "text": [
      "[I 2019-04-22 10:58:46,184] Finished a trial resulted in value: 0.46395791267311576. Current best value is 0.3939885827649386 with parameters: {'boosting': 'gbdt', 'num_leaves': 41, 'min_data_in_leaf': 38, 'learning_rate': 0.0213631774504168, 'drop_rate': 0.13260851786082856, 'feature_fraction': 0.5718442504795554}.\n"
     ]
    },
    {
     "name": "stdout",
     "output_type": "stream",
     "text": [
      "trial_id 33 logloss_train 0.44261111863065944 logloss_test 0.43355408923120325 boost_round 310 f1_train 0.48760330578512395 f1_test 0.4953271028037384\n"
     ]
    },
    {
     "name": "stderr",
     "output_type": "stream",
     "text": [
      "[I 2019-04-22 10:58:46,537] Finished a trial resulted in value: 0.43355408923120325. Current best value is 0.3939885827649386 with parameters: {'boosting': 'gbdt', 'num_leaves': 41, 'min_data_in_leaf': 38, 'learning_rate': 0.0213631774504168, 'drop_rate': 0.13260851786082856, 'feature_fraction': 0.5718442504795554}.\n"
     ]
    },
    {
     "name": "stdout",
     "output_type": "stream",
     "text": [
      "trial_id 34 logloss_train 0.4542396704830759 logloss_test 0.4860445667318746 boost_round 836 f1_train 0.4713375796178344 f1_test 0.4083044982698962\n"
     ]
    },
    {
     "name": "stderr",
     "output_type": "stream",
     "text": [
      "[I 2019-04-22 10:58:47,022] Finished a trial resulted in value: 0.4860445667318746. Current best value is 0.3939885827649386 with parameters: {'boosting': 'gbdt', 'num_leaves': 41, 'min_data_in_leaf': 38, 'learning_rate': 0.0213631774504168, 'drop_rate': 0.13260851786082856, 'feature_fraction': 0.5718442504795554}.\n"
     ]
    },
    {
     "name": "stdout",
     "output_type": "stream",
     "text": [
      "trial_id 35 logloss_train 0.4010520669436104 logloss_test 0.44324176322026826 boost_round 205 f1_train 0.5657568238213398 f1_test 0.4830508474576271\n"
     ]
    },
    {
     "name": "stderr",
     "output_type": "stream",
     "text": [
      "[I 2019-04-22 10:58:47,494] Finished a trial resulted in value: 0.44324176322026826. Current best value is 0.3939885827649386 with parameters: {'boosting': 'gbdt', 'num_leaves': 41, 'min_data_in_leaf': 38, 'learning_rate': 0.0213631774504168, 'drop_rate': 0.13260851786082856, 'feature_fraction': 0.5718442504795554}.\n"
     ]
    },
    {
     "name": "stdout",
     "output_type": "stream",
     "text": [
      "trial_id 36 logloss_train 0.4356147137436737 logloss_test 0.47023710970825977 boost_round 66 f1_train 0.5138539042821159 f1_test 0.4077669902912622\n"
     ]
    },
    {
     "name": "stderr",
     "output_type": "stream",
     "text": [
      "[I 2019-04-22 10:58:47,795] Finished a trial resulted in value: 0.47023710970825977. Current best value is 0.3939885827649386 with parameters: {'boosting': 'gbdt', 'num_leaves': 41, 'min_data_in_leaf': 38, 'learning_rate': 0.0213631774504168, 'drop_rate': 0.13260851786082856, 'feature_fraction': 0.5718442504795554}.\n"
     ]
    },
    {
     "name": "stdout",
     "output_type": "stream",
     "text": [
      "trial_id 37 logloss_train 0.3121945120912135 logloss_test 0.44025931462876355 boost_round 418 f1_train 0.7668711656441718 f1_test 0.4390243902439024\n"
     ]
    },
    {
     "name": "stderr",
     "output_type": "stream",
     "text": [
      "[I 2019-04-22 10:58:48,417] Finished a trial resulted in value: 0.44025931462876355. Current best value is 0.3939885827649386 with parameters: {'boosting': 'gbdt', 'num_leaves': 41, 'min_data_in_leaf': 38, 'learning_rate': 0.0213631774504168, 'drop_rate': 0.13260851786082856, 'feature_fraction': 0.5718442504795554}.\n"
     ]
    },
    {
     "name": "stdout",
     "output_type": "stream",
     "text": [
      "trial_id 38 logloss_train 0.0014745717665645116 logloss_test 1.1657982618412002 boost_round 0 f1_train 1.0 f1_test 0.46875\n"
     ]
    },
    {
     "name": "stderr",
     "output_type": "stream",
     "text": [
      "[I 2019-04-22 10:59:10,046] Finished a trial resulted in value: 1.1657982618412002. Current best value is 0.3939885827649386 with parameters: {'boosting': 'gbdt', 'num_leaves': 41, 'min_data_in_leaf': 38, 'learning_rate': 0.0213631774504168, 'drop_rate': 0.13260851786082856, 'feature_fraction': 0.5718442504795554}.\n"
     ]
    },
    {
     "name": "stdout",
     "output_type": "stream",
     "text": [
      "trial_id 39 logloss_train 0.4456723315702596 logloss_test 0.4600120735390903 boost_round 189 f1_train 0.47654784240150094 f1_test 0.4700460829493088\n"
     ]
    },
    {
     "name": "stderr",
     "output_type": "stream",
     "text": [
      "[I 2019-04-22 10:59:10,400] Finished a trial resulted in value: 0.4600120735390903. Current best value is 0.3939885827649386 with parameters: {'boosting': 'gbdt', 'num_leaves': 41, 'min_data_in_leaf': 38, 'learning_rate': 0.0213631774504168, 'drop_rate': 0.13260851786082856, 'feature_fraction': 0.5718442504795554}.\n"
     ]
    },
    {
     "name": "stdout",
     "output_type": "stream",
     "text": [
      "trial_id 40 logloss_train 0.43514935596295046 logloss_test 0.45855426936179366 boost_round 1189 f1_train 0.49885583524027455 f1_test 0.4787234042553192\n"
     ]
    },
    {
     "name": "stderr",
     "output_type": "stream",
     "text": [
      "[I 2019-04-22 10:59:10,911] Finished a trial resulted in value: 0.45855426936179366. Current best value is 0.3939885827649386 with parameters: {'boosting': 'gbdt', 'num_leaves': 41, 'min_data_in_leaf': 38, 'learning_rate': 0.0213631774504168, 'drop_rate': 0.13260851786082856, 'feature_fraction': 0.5718442504795554}.\n"
     ]
    },
    {
     "name": "stdout",
     "output_type": "stream",
     "text": [
      "trial_id 41 logloss_train 0.10112442535182795 logloss_test 0.6382983993025467 boost_round 0 f1_train 0.9869281045751634 f1_test 0.3969465648854962\n"
     ]
    },
    {
     "name": "stderr",
     "output_type": "stream",
     "text": [
      "[I 2019-04-22 10:59:24,773] Finished a trial resulted in value: 0.6382983993025467. Current best value is 0.3939885827649386 with parameters: {'boosting': 'gbdt', 'num_leaves': 41, 'min_data_in_leaf': 38, 'learning_rate': 0.0213631774504168, 'drop_rate': 0.13260851786082856, 'feature_fraction': 0.5718442504795554}.\n"
     ]
    },
    {
     "name": "stdout",
     "output_type": "stream",
     "text": [
      "trial_id 42 logloss_train 0.3244707237625155 logloss_test 0.46019083500974617 boost_round 124 f1_train 0.8686868686868687 f1_test 0.4264705882352941\n"
     ]
    },
    {
     "name": "stderr",
     "output_type": "stream",
     "text": [
      "[I 2019-04-22 10:59:25,244] Finished a trial resulted in value: 0.46019083500974617. Current best value is 0.3939885827649386 with parameters: {'boosting': 'gbdt', 'num_leaves': 41, 'min_data_in_leaf': 38, 'learning_rate': 0.0213631774504168, 'drop_rate': 0.13260851786082856, 'feature_fraction': 0.5718442504795554}.\n"
     ]
    },
    {
     "name": "stdout",
     "output_type": "stream",
     "text": [
      "trial_id 43 logloss_train 0.32669384661729894 logloss_test 0.4397817709429458 boost_round 48 f1_train 0.70625 f1_test 0.4974093264248705\n"
     ]
    },
    {
     "name": "stderr",
     "output_type": "stream",
     "text": [
      "[I 2019-04-22 10:59:25,653] Finished a trial resulted in value: 0.4397817709429458. Current best value is 0.3939885827649386 with parameters: {'boosting': 'gbdt', 'num_leaves': 41, 'min_data_in_leaf': 38, 'learning_rate': 0.0213631774504168, 'drop_rate': 0.13260851786082856, 'feature_fraction': 0.5718442504795554}.\n"
     ]
    },
    {
     "name": "stdout",
     "output_type": "stream",
     "text": [
      "trial_id 44 logloss_train 0.45403754585337686 logloss_test 0.48514011656095635 boost_round 213 f1_train 0.48898678414096913 f1_test 0.4245283018867924\n"
     ]
    },
    {
     "name": "stderr",
     "output_type": "stream",
     "text": [
      "[I 2019-04-22 10:59:25,993] Finished a trial resulted in value: 0.48514011656095635. Current best value is 0.3939885827649386 with parameters: {'boosting': 'gbdt', 'num_leaves': 41, 'min_data_in_leaf': 38, 'learning_rate': 0.0213631774504168, 'drop_rate': 0.13260851786082856, 'feature_fraction': 0.5718442504795554}.\n"
     ]
    },
    {
     "name": "stdout",
     "output_type": "stream",
     "text": [
      "trial_id 45 logloss_train 0.419777060726278 logloss_test 0.47100455581077993 boost_round 204 f1_train 0.532967032967033 f1_test 0.45535714285714285\n"
     ]
    },
    {
     "name": "stderr",
     "output_type": "stream",
     "text": [
      "[I 2019-04-22 10:59:26,354] Finished a trial resulted in value: 0.47100455581077993. Current best value is 0.3939885827649386 with parameters: {'boosting': 'gbdt', 'num_leaves': 41, 'min_data_in_leaf': 38, 'learning_rate': 0.0213631774504168, 'drop_rate': 0.13260851786082856, 'feature_fraction': 0.5718442504795554}.\n"
     ]
    },
    {
     "name": "stdout",
     "output_type": "stream",
     "text": [
      "trial_id 46 logloss_train 0.3908198901678286 logloss_test 0.4670529806353403 boost_round 0 f1_train 0.584795321637427 f1_test 0.4574468085106383\n"
     ]
    },
    {
     "name": "stderr",
     "output_type": "stream",
     "text": [
      "[I 2019-04-22 10:59:50,913] Finished a trial resulted in value: 0.4670529806353403. Current best value is 0.3939885827649386 with parameters: {'boosting': 'gbdt', 'num_leaves': 41, 'min_data_in_leaf': 38, 'learning_rate': 0.0213631774504168, 'drop_rate': 0.13260851786082856, 'feature_fraction': 0.5718442504795554}.\n"
     ]
    },
    {
     "name": "stdout",
     "output_type": "stream",
     "text": [
      "trial_id 47 logloss_train 0.3494931998990862 logloss_test 0.41786000333362255 boost_round 196 f1_train 0.6388888888888888 f1_test 0.4941176470588235\n"
     ]
    },
    {
     "name": "stderr",
     "output_type": "stream",
     "text": [
      "[I 2019-04-22 10:59:51,341] Finished a trial resulted in value: 0.41786000333362255. Current best value is 0.3939885827649386 with parameters: {'boosting': 'gbdt', 'num_leaves': 41, 'min_data_in_leaf': 38, 'learning_rate': 0.0213631774504168, 'drop_rate': 0.13260851786082856, 'feature_fraction': 0.5718442504795554}.\n"
     ]
    },
    {
     "name": "stdout",
     "output_type": "stream",
     "text": [
      "trial_id 48 logloss_train 0.4340346946906569 logloss_test 0.49736967746118477 boost_round 173 f1_train 0.522167487684729 f1_test 0.4251968503937008\n"
     ]
    },
    {
     "name": "stderr",
     "output_type": "stream",
     "text": [
      "[I 2019-04-22 10:59:51,678] Finished a trial resulted in value: 0.49736967746118477. Current best value is 0.3939885827649386 with parameters: {'boosting': 'gbdt', 'num_leaves': 41, 'min_data_in_leaf': 38, 'learning_rate': 0.0213631774504168, 'drop_rate': 0.13260851786082856, 'feature_fraction': 0.5718442504795554}.\n"
     ]
    },
    {
     "name": "stdout",
     "output_type": "stream",
     "text": [
      "trial_id 49 logloss_train 0.4239457800153224 logloss_test 0.47010850930190723 boost_round 328 f1_train 0.5185185185185185 f1_test 0.44961240310077516\n"
     ]
    },
    {
     "name": "stderr",
     "output_type": "stream",
     "text": [
      "[I 2019-04-22 10:59:52,068] Finished a trial resulted in value: 0.47010850930190723. Current best value is 0.3939885827649386 with parameters: {'boosting': 'gbdt', 'num_leaves': 41, 'min_data_in_leaf': 38, 'learning_rate': 0.0213631774504168, 'drop_rate': 0.13260851786082856, 'feature_fraction': 0.5718442504795554}.\n"
     ]
    },
    {
     "name": "stdout",
     "output_type": "stream",
     "text": [
      "trial_id 50 logloss_train 0.434326661611031 logloss_test 0.4747278946894877 boost_round 75 f1_train 0.5068493150684932 f1_test 0.42857142857142855\n"
     ]
    },
    {
     "name": "stderr",
     "output_type": "stream",
     "text": [
      "[I 2019-04-22 10:59:52,434] Finished a trial resulted in value: 0.4747278946894877. Current best value is 0.3939885827649386 with parameters: {'boosting': 'gbdt', 'num_leaves': 41, 'min_data_in_leaf': 38, 'learning_rate': 0.0213631774504168, 'drop_rate': 0.13260851786082856, 'feature_fraction': 0.5718442504795554}.\n"
     ]
    },
    {
     "name": "stdout",
     "output_type": "stream",
     "text": [
      "trial_id 51 logloss_train 0.41295994474871117 logloss_test 0.4780688845195252 boost_round 0 f1_train 0.5346534653465346 f1_test 0.4463519313304721\n"
     ]
    },
    {
     "name": "stderr",
     "output_type": "stream",
     "text": [
      "[I 2019-04-22 11:00:07,568] Finished a trial resulted in value: 0.4780688845195252. Current best value is 0.3939885827649386 with parameters: {'boosting': 'gbdt', 'num_leaves': 41, 'min_data_in_leaf': 38, 'learning_rate': 0.0213631774504168, 'drop_rate': 0.13260851786082856, 'feature_fraction': 0.5718442504795554}.\n"
     ]
    },
    {
     "name": "stdout",
     "output_type": "stream",
     "text": [
      "trial_id 52 logloss_train 0.3799099105722393 logloss_test 0.4958666272279867 boost_round 136 f1_train 0.7147766323024055 f1_test 0.3745819397993311\n"
     ]
    },
    {
     "name": "stderr",
     "output_type": "stream",
     "text": [
      "[I 2019-04-22 11:00:08,002] Finished a trial resulted in value: 0.4958666272279867. Current best value is 0.3939885827649386 with parameters: {'boosting': 'gbdt', 'num_leaves': 41, 'min_data_in_leaf': 38, 'learning_rate': 0.0213631774504168, 'drop_rate': 0.13260851786082856, 'feature_fraction': 0.5718442504795554}.\n"
     ]
    },
    {
     "name": "stdout",
     "output_type": "stream",
     "text": [
      "trial_id 53 logloss_train 0.3267645605799878 logloss_test 0.39425034422202504 boost_round 214 f1_train 0.6946107784431138 f1_test 0.5153374233128833\n"
     ]
    },
    {
     "name": "stderr",
     "output_type": "stream",
     "text": [
      "[I 2019-04-22 11:00:08,445] Finished a trial resulted in value: 0.39425034422202504. Current best value is 0.3939885827649386 with parameters: {'boosting': 'gbdt', 'num_leaves': 41, 'min_data_in_leaf': 38, 'learning_rate': 0.0213631774504168, 'drop_rate': 0.13260851786082856, 'feature_fraction': 0.5718442504795554}.\n"
     ]
    },
    {
     "name": "stdout",
     "output_type": "stream",
     "text": [
      "trial_id 54 logloss_train 0.3552600287400078 logloss_test 0.43309668165714554 boost_round 148 f1_train 0.652054794520548 f1_test 0.4685714285714286\n"
     ]
    },
    {
     "name": "stderr",
     "output_type": "stream",
     "text": [
      "[I 2019-04-22 11:00:08,828] Finished a trial resulted in value: 0.43309668165714554. Current best value is 0.3939885827649386 with parameters: {'boosting': 'gbdt', 'num_leaves': 41, 'min_data_in_leaf': 38, 'learning_rate': 0.0213631774504168, 'drop_rate': 0.13260851786082856, 'feature_fraction': 0.5718442504795554}.\n"
     ]
    },
    {
     "name": "stdout",
     "output_type": "stream",
     "text": [
      "trial_id 55 logloss_train 0.3558112141801971 logloss_test 0.42671877113672896 boost_round 166 f1_train 0.6188679245283019 f1_test 0.4979591836734694\n"
     ]
    },
    {
     "name": "stderr",
     "output_type": "stream",
     "text": [
      "[I 2019-04-22 11:00:09,203] Finished a trial resulted in value: 0.42671877113672896. Current best value is 0.3939885827649386 with parameters: {'boosting': 'gbdt', 'num_leaves': 41, 'min_data_in_leaf': 38, 'learning_rate': 0.0213631774504168, 'drop_rate': 0.13260851786082856, 'feature_fraction': 0.5718442504795554}.\n"
     ]
    },
    {
     "name": "stdout",
     "output_type": "stream",
     "text": [
      "trial_id 56 logloss_train 0.4117581435847259 logloss_test 0.46998612784875676 boost_round 313 f1_train 0.5769230769230769 f1_test 0.44933920704845814\n"
     ]
    },
    {
     "name": "stderr",
     "output_type": "stream",
     "text": [
      "[I 2019-04-22 11:00:09,657] Finished a trial resulted in value: 0.46998612784875676. Current best value is 0.3939885827649386 with parameters: {'boosting': 'gbdt', 'num_leaves': 41, 'min_data_in_leaf': 38, 'learning_rate': 0.0213631774504168, 'drop_rate': 0.13260851786082856, 'feature_fraction': 0.5718442504795554}.\n"
     ]
    },
    {
     "name": "stdout",
     "output_type": "stream",
     "text": [
      "trial_id 57 logloss_train 0.27393808034612116 logloss_test 0.44810576597195617 boost_round 0 f1_train 0.8316831683168318 f1_test 0.5\n"
     ]
    },
    {
     "name": "stderr",
     "output_type": "stream",
     "text": [
      "[I 2019-04-22 11:01:00,058] Finished a trial resulted in value: 0.44810576597195617. Current best value is 0.3939885827649386 with parameters: {'boosting': 'gbdt', 'num_leaves': 41, 'min_data_in_leaf': 38, 'learning_rate': 0.0213631774504168, 'drop_rate': 0.13260851786082856, 'feature_fraction': 0.5718442504795554}.\n"
     ]
    },
    {
     "name": "stdout",
     "output_type": "stream",
     "text": [
      "trial_id 58 logloss_train 0.36208802696034353 logloss_test 0.44864030838919705 boost_round 100 f1_train 0.6229508196721312 f1_test 0.4729064039408867\n"
     ]
    },
    {
     "name": "stderr",
     "output_type": "stream",
     "text": [
      "[I 2019-04-22 11:01:00,494] Finished a trial resulted in value: 0.44864030838919705. Current best value is 0.3939885827649386 with parameters: {'boosting': 'gbdt', 'num_leaves': 41, 'min_data_in_leaf': 38, 'learning_rate': 0.0213631774504168, 'drop_rate': 0.13260851786082856, 'feature_fraction': 0.5718442504795554}.\n"
     ]
    },
    {
     "name": "stdout",
     "output_type": "stream",
     "text": [
      "trial_id 59 logloss_train 0.436418275824522 logloss_test 0.4646276458623945 boost_round 232 f1_train 0.5111111111111111 f1_test 0.4549356223175966\n"
     ]
    },
    {
     "name": "stderr",
     "output_type": "stream",
     "text": [
      "[I 2019-04-22 11:01:00,883] Finished a trial resulted in value: 0.4646276458623945. Current best value is 0.3939885827649386 with parameters: {'boosting': 'gbdt', 'num_leaves': 41, 'min_data_in_leaf': 38, 'learning_rate': 0.0213631774504168, 'drop_rate': 0.13260851786082856, 'feature_fraction': 0.5718442504795554}.\n"
     ]
    },
    {
     "name": "stdout",
     "output_type": "stream",
     "text": [
      "trial_id 60 logloss_train 0.27401119829087267 logloss_test 0.4511299464146739 boost_round 91 f1_train 0.9034267912772586 f1_test 0.4397163120567376\n"
     ]
    },
    {
     "name": "stderr",
     "output_type": "stream",
     "text": [
      "[I 2019-04-22 11:01:01,440] Finished a trial resulted in value: 0.4511299464146739. Current best value is 0.3939885827649386 with parameters: {'boosting': 'gbdt', 'num_leaves': 41, 'min_data_in_leaf': 38, 'learning_rate': 0.0213631774504168, 'drop_rate': 0.13260851786082856, 'feature_fraction': 0.5718442504795554}.\n"
     ]
    },
    {
     "name": "stdout",
     "output_type": "stream",
     "text": [
      "trial_id 61 logloss_train 0.40199694544447234 logloss_test 0.45753883606077306 boost_round 723 f1_train 0.5522788203753352 f1_test 0.4871794871794871\n"
     ]
    },
    {
     "name": "stderr",
     "output_type": "stream",
     "text": [
      "[I 2019-04-22 11:01:01,967] Finished a trial resulted in value: 0.45753883606077306. Current best value is 0.3939885827649386 with parameters: {'boosting': 'gbdt', 'num_leaves': 41, 'min_data_in_leaf': 38, 'learning_rate': 0.0213631774504168, 'drop_rate': 0.13260851786082856, 'feature_fraction': 0.5718442504795554}.\n"
     ]
    },
    {
     "name": "stdout",
     "output_type": "stream",
     "text": [
      "trial_id 62 logloss_train 0.4348554259829578 logloss_test 0.46591029902260367 boost_round 0 f1_train 0.5370843989769821 f1_test 0.49565217391304356\n"
     ]
    },
    {
     "name": "stderr",
     "output_type": "stream",
     "text": [
      "[I 2019-04-22 11:01:30,725] Finished a trial resulted in value: 0.46591029902260367. Current best value is 0.3939885827649386 with parameters: {'boosting': 'gbdt', 'num_leaves': 41, 'min_data_in_leaf': 38, 'learning_rate': 0.0213631774504168, 'drop_rate': 0.13260851786082856, 'feature_fraction': 0.5718442504795554}.\n"
     ]
    },
    {
     "name": "stdout",
     "output_type": "stream",
     "text": [
      "trial_id 63 logloss_train 0.3036949352862753 logloss_test 0.42127292485389484 boost_round 78 f1_train 0.759322033898305 f1_test 0.5197740112994351\n"
     ]
    },
    {
     "name": "stderr",
     "output_type": "stream",
     "text": [
      "[I 2019-04-22 11:01:31,116] Finished a trial resulted in value: 0.42127292485389484. Current best value is 0.3939885827649386 with parameters: {'boosting': 'gbdt', 'num_leaves': 41, 'min_data_in_leaf': 38, 'learning_rate': 0.0213631774504168, 'drop_rate': 0.13260851786082856, 'feature_fraction': 0.5718442504795554}.\n"
     ]
    },
    {
     "name": "stdout",
     "output_type": "stream",
     "text": [
      "trial_id 64 logloss_train 0.3525400892883404 logloss_test 0.39890745608237377 boost_round 433 f1_train 0.6265060240963854 f1_test 0.548076923076923\n"
     ]
    },
    {
     "name": "stderr",
     "output_type": "stream",
     "text": [
      "[I 2019-04-22 11:01:31,650] Finished a trial resulted in value: 0.39890745608237377. Current best value is 0.3939885827649386 with parameters: {'boosting': 'gbdt', 'num_leaves': 41, 'min_data_in_leaf': 38, 'learning_rate': 0.0213631774504168, 'drop_rate': 0.13260851786082856, 'feature_fraction': 0.5718442504795554}.\n"
     ]
    },
    {
     "name": "stdout",
     "output_type": "stream",
     "text": [
      "trial_id 65 logloss_train 0.3735876030185975 logloss_test 0.43954897928585135 boost_round 197 f1_train 0.6060606060606061 f1_test 0.5027932960893855\n"
     ]
    },
    {
     "name": "stderr",
     "output_type": "stream",
     "text": [
      "[I 2019-04-22 11:01:32,051] Finished a trial resulted in value: 0.43954897928585135. Current best value is 0.3939885827649386 with parameters: {'boosting': 'gbdt', 'num_leaves': 41, 'min_data_in_leaf': 38, 'learning_rate': 0.0213631774504168, 'drop_rate': 0.13260851786082856, 'feature_fraction': 0.5718442504795554}.\n"
     ]
    },
    {
     "name": "stdout",
     "output_type": "stream",
     "text": [
      "trial_id 66 logloss_train 0.38657649816249245 logloss_test 0.45369012933457287 boost_round 692 f1_train 0.5813953488372092 f1_test 0.4728682170542636\n"
     ]
    },
    {
     "name": "stderr",
     "output_type": "stream",
     "text": [
      "[I 2019-04-22 11:01:32,616] Finished a trial resulted in value: 0.45369012933457287. Current best value is 0.3939885827649386 with parameters: {'boosting': 'gbdt', 'num_leaves': 41, 'min_data_in_leaf': 38, 'learning_rate': 0.0213631774504168, 'drop_rate': 0.13260851786082856, 'feature_fraction': 0.5718442504795554}.\n"
     ]
    },
    {
     "name": "stdout",
     "output_type": "stream",
     "text": [
      "trial_id 67 logloss_train 0.3880618649836667 logloss_test 0.4534338090642889 boost_round 102 f1_train 0.6225165562913908 f1_test 0.45238095238095244\n"
     ]
    },
    {
     "name": "stderr",
     "output_type": "stream",
     "text": [
      "[I 2019-04-22 11:01:33,005] Finished a trial resulted in value: 0.4534338090642889. Current best value is 0.3939885827649386 with parameters: {'boosting': 'gbdt', 'num_leaves': 41, 'min_data_in_leaf': 38, 'learning_rate': 0.0213631774504168, 'drop_rate': 0.13260851786082856, 'feature_fraction': 0.5718442504795554}.\n"
     ]
    },
    {
     "name": "stdout",
     "output_type": "stream",
     "text": [
      "trial_id 68 logloss_train 0.34823720896471133 logloss_test 0.44486098152909614 boost_round 197 f1_train 0.6822157434402333 f1_test 0.45051194539249156\n"
     ]
    },
    {
     "name": "stderr",
     "output_type": "stream",
     "text": [
      "[I 2019-04-22 11:01:33,479] Finished a trial resulted in value: 0.44486098152909614. Current best value is 0.3939885827649386 with parameters: {'boosting': 'gbdt', 'num_leaves': 41, 'min_data_in_leaf': 38, 'learning_rate': 0.0213631774504168, 'drop_rate': 0.13260851786082856, 'feature_fraction': 0.5718442504795554}.\n"
     ]
    },
    {
     "name": "stdout",
     "output_type": "stream",
     "text": [
      "trial_id 69 logloss_train 0.3078438547304109 logloss_test 0.4256755637072016 boost_round 248 f1_train 0.713864306784661 f1_test 0.5088757396449705\n"
     ]
    },
    {
     "name": "stderr",
     "output_type": "stream",
     "text": [
      "[I 2019-04-22 11:01:33,954] Finished a trial resulted in value: 0.4256755637072016. Current best value is 0.3939885827649386 with parameters: {'boosting': 'gbdt', 'num_leaves': 41, 'min_data_in_leaf': 38, 'learning_rate': 0.0213631774504168, 'drop_rate': 0.13260851786082856, 'feature_fraction': 0.5718442504795554}.\n"
     ]
    },
    {
     "name": "stdout",
     "output_type": "stream",
     "text": [
      "trial_id 70 logloss_train 0.3614729083808521 logloss_test 0.42827643036827096 boost_round 184 f1_train 0.6 f1_test 0.49\n"
     ]
    },
    {
     "name": "stderr",
     "output_type": "stream",
     "text": [
      "[I 2019-04-22 11:01:34,362] Finished a trial resulted in value: 0.42827643036827096. Current best value is 0.3939885827649386 with parameters: {'boosting': 'gbdt', 'num_leaves': 41, 'min_data_in_leaf': 38, 'learning_rate': 0.0213631774504168, 'drop_rate': 0.13260851786082856, 'feature_fraction': 0.5718442504795554}.\n"
     ]
    },
    {
     "name": "stdout",
     "output_type": "stream",
     "text": [
      "trial_id 71 logloss_train 0.3533546277779894 logloss_test 0.4404531048030205 boost_round 75 f1_train 0.6948640483383686 f1_test 0.47715736040609136\n"
     ]
    },
    {
     "name": "stderr",
     "output_type": "stream",
     "text": [
      "[I 2019-04-22 11:01:34,844] Finished a trial resulted in value: 0.4404531048030205. Current best value is 0.3939885827649386 with parameters: {'boosting': 'gbdt', 'num_leaves': 41, 'min_data_in_leaf': 38, 'learning_rate': 0.0213631774504168, 'drop_rate': 0.13260851786082856, 'feature_fraction': 0.5718442504795554}.\n"
     ]
    },
    {
     "name": "stdout",
     "output_type": "stream",
     "text": [
      "trial_id 72 logloss_train 0.33446162454626804 logloss_test 0.41499745912002484 boost_round 263 f1_train 0.6976744186046512 f1_test 0.5370370370370371\n"
     ]
    },
    {
     "name": "stderr",
     "output_type": "stream",
     "text": [
      "[I 2019-04-22 11:01:35,349] Finished a trial resulted in value: 0.41499745912002484. Current best value is 0.3939885827649386 with parameters: {'boosting': 'gbdt', 'num_leaves': 41, 'min_data_in_leaf': 38, 'learning_rate': 0.0213631774504168, 'drop_rate': 0.13260851786082856, 'feature_fraction': 0.5718442504795554}.\n"
     ]
    },
    {
     "name": "stdout",
     "output_type": "stream",
     "text": [
      "trial_id 73 logloss_train 0.3444073880639374 logloss_test 0.39632826815733735 boost_round 356 f1_train 0.6385224274406334 f1_test 0.5359477124183005\n"
     ]
    },
    {
     "name": "stderr",
     "output_type": "stream",
     "text": [
      "[I 2019-04-22 11:01:35,892] Finished a trial resulted in value: 0.39632826815733735. Current best value is 0.3939885827649386 with parameters: {'boosting': 'gbdt', 'num_leaves': 41, 'min_data_in_leaf': 38, 'learning_rate': 0.0213631774504168, 'drop_rate': 0.13260851786082856, 'feature_fraction': 0.5718442504795554}.\n"
     ]
    },
    {
     "name": "stdout",
     "output_type": "stream",
     "text": [
      "trial_id 74 logloss_train 0.3365619887487805 logloss_test 0.41635678839345414 boost_round 253 f1_train 0.6564885496183206 f1_test 0.4964539007092198\n"
     ]
    },
    {
     "name": "stderr",
     "output_type": "stream",
     "text": [
      "[I 2019-04-22 11:01:36,356] Finished a trial resulted in value: 0.41635678839345414. Current best value is 0.3939885827649386 with parameters: {'boosting': 'gbdt', 'num_leaves': 41, 'min_data_in_leaf': 38, 'learning_rate': 0.0213631774504168, 'drop_rate': 0.13260851786082856, 'feature_fraction': 0.5718442504795554}.\n"
     ]
    },
    {
     "name": "stdout",
     "output_type": "stream",
     "text": [
      "trial_id 75 logloss_train 0.27926105090211684 logloss_test 0.40715349872653545 boost_round 62 f1_train 0.8832807570977917 f1_test 0.5540540540540541\n"
     ]
    },
    {
     "name": "stderr",
     "output_type": "stream",
     "text": [
      "[I 2019-04-22 11:01:36,980] Finished a trial resulted in value: 0.40715349872653545. Current best value is 0.3939885827649386 with parameters: {'boosting': 'gbdt', 'num_leaves': 41, 'min_data_in_leaf': 38, 'learning_rate': 0.0213631774504168, 'drop_rate': 0.13260851786082856, 'feature_fraction': 0.5718442504795554}.\n"
     ]
    },
    {
     "name": "stdout",
     "output_type": "stream",
     "text": [
      "trial_id 76 logloss_train 0.40090249844633113 logloss_test 0.45194891365023837 boost_round 536 f1_train 0.5520833333333333 f1_test 0.49193548387096775\n"
     ]
    },
    {
     "name": "stderr",
     "output_type": "stream",
     "text": [
      "[I 2019-04-22 11:01:37,501] Finished a trial resulted in value: 0.45194891365023837. Current best value is 0.3939885827649386 with parameters: {'boosting': 'gbdt', 'num_leaves': 41, 'min_data_in_leaf': 38, 'learning_rate': 0.0213631774504168, 'drop_rate': 0.13260851786082856, 'feature_fraction': 0.5718442504795554}.\n"
     ]
    },
    {
     "name": "stdout",
     "output_type": "stream",
     "text": [
      "trial_id 77 logloss_train 0.3371333434040406 logloss_test 0.43938762048482904 boost_round 163 f1_train 0.7200000000000001 f1_test 0.4812834224598931\n"
     ]
    },
    {
     "name": "stderr",
     "output_type": "stream",
     "text": [
      "[I 2019-04-22 11:01:37,994] Finished a trial resulted in value: 0.43938762048482904. Current best value is 0.3939885827649386 with parameters: {'boosting': 'gbdt', 'num_leaves': 41, 'min_data_in_leaf': 38, 'learning_rate': 0.0213631774504168, 'drop_rate': 0.13260851786082856, 'feature_fraction': 0.5718442504795554}.\n"
     ]
    },
    {
     "name": "stdout",
     "output_type": "stream",
     "text": [
      "trial_id 78 logloss_train 0.40541516156531704 logloss_test 0.5024354916288214 boost_round 0 f1_train 0.5700934579439253 f1_test 0.402555910543131\n"
     ]
    },
    {
     "name": "stderr",
     "output_type": "stream",
     "text": [
      "[I 2019-04-22 11:02:08,856] Finished a trial resulted in value: 0.5024354916288214. Current best value is 0.3939885827649386 with parameters: {'boosting': 'gbdt', 'num_leaves': 41, 'min_data_in_leaf': 38, 'learning_rate': 0.0213631774504168, 'drop_rate': 0.13260851786082856, 'feature_fraction': 0.5718442504795554}.\n"
     ]
    },
    {
     "name": "stdout",
     "output_type": "stream",
     "text": [
      "trial_id 79 logloss_train 0.35576789118357416 logloss_test 0.4231568116964169 boost_round 243 f1_train 0.6148648648648649 f1_test 0.518987341772152\n"
     ]
    },
    {
     "name": "stderr",
     "output_type": "stream",
     "text": [
      "[I 2019-04-22 11:02:09,315] Finished a trial resulted in value: 0.4231568116964169. Current best value is 0.3939885827649386 with parameters: {'boosting': 'gbdt', 'num_leaves': 41, 'min_data_in_leaf': 38, 'learning_rate': 0.0213631774504168, 'drop_rate': 0.13260851786082856, 'feature_fraction': 0.5718442504795554}.\n"
     ]
    },
    {
     "name": "stdout",
     "output_type": "stream",
     "text": [
      "trial_id 80 logloss_train 0.42713552917704367 logloss_test 0.46429722866587037 boost_round 230 f1_train 0.5145888594164456 f1_test 0.45255474452554745\n"
     ]
    },
    {
     "name": "stderr",
     "output_type": "stream",
     "text": [
      "[I 2019-04-22 11:02:09,678] Finished a trial resulted in value: 0.46429722866587037. Current best value is 0.3939885827649386 with parameters: {'boosting': 'gbdt', 'num_leaves': 41, 'min_data_in_leaf': 38, 'learning_rate': 0.0213631774504168, 'drop_rate': 0.13260851786082856, 'feature_fraction': 0.5718442504795554}.\n"
     ]
    },
    {
     "name": "stdout",
     "output_type": "stream",
     "text": [
      "trial_id 81 logloss_train 0.45285770039559065 logloss_test 0.4419493821946099 boost_round 211 f1_train 0.48108108108108105 f1_test 0.5042735042735044\n"
     ]
    },
    {
     "name": "stderr",
     "output_type": "stream",
     "text": [
      "[I 2019-04-22 11:02:10,052] Finished a trial resulted in value: 0.4419493821946099. Current best value is 0.3939885827649386 with parameters: {'boosting': 'gbdt', 'num_leaves': 41, 'min_data_in_leaf': 38, 'learning_rate': 0.0213631774504168, 'drop_rate': 0.13260851786082856, 'feature_fraction': 0.5718442504795554}.\n"
     ]
    },
    {
     "name": "stdout",
     "output_type": "stream",
     "text": [
      "trial_id 82 logloss_train 0.4280933897909611 logloss_test 0.4650157560389842 boost_round 83 f1_train 0.5201072386058981 f1_test 0.4472573839662447\n"
     ]
    },
    {
     "name": "stderr",
     "output_type": "stream",
     "text": [
      "[I 2019-04-22 11:02:10,361] Finished a trial resulted in value: 0.4650157560389842. Current best value is 0.3939885827649386 with parameters: {'boosting': 'gbdt', 'num_leaves': 41, 'min_data_in_leaf': 38, 'learning_rate': 0.0213631774504168, 'drop_rate': 0.13260851786082856, 'feature_fraction': 0.5718442504795554}.\n"
     ]
    },
    {
     "name": "stdout",
     "output_type": "stream",
     "text": [
      "trial_id 83 logloss_train 0.42278214215996834 logloss_test 0.46572682069725324 boost_round 0 f1_train 0.5601851851851852 f1_test 0.4565217391304347\n"
     ]
    },
    {
     "name": "stderr",
     "output_type": "stream",
     "text": [
      "[I 2019-04-22 11:02:38,480] Finished a trial resulted in value: 0.46572682069725324. Current best value is 0.3939885827649386 with parameters: {'boosting': 'gbdt', 'num_leaves': 41, 'min_data_in_leaf': 38, 'learning_rate': 0.0213631774504168, 'drop_rate': 0.13260851786082856, 'feature_fraction': 0.5718442504795554}.\n"
     ]
    },
    {
     "name": "stdout",
     "output_type": "stream",
     "text": [
      "trial_id 84 logloss_train 0.35832031349524185 logloss_test 0.44865603103961343 boost_round 109 f1_train 0.6237113402061856 f1_test 0.4526315789473684\n"
     ]
    },
    {
     "name": "stderr",
     "output_type": "stream",
     "text": [
      "[I 2019-04-22 11:02:38,871] Finished a trial resulted in value: 0.44865603103961343. Current best value is 0.3939885827649386 with parameters: {'boosting': 'gbdt', 'num_leaves': 41, 'min_data_in_leaf': 38, 'learning_rate': 0.0213631774504168, 'drop_rate': 0.13260851786082856, 'feature_fraction': 0.5718442504795554}.\n"
     ]
    },
    {
     "name": "stdout",
     "output_type": "stream",
     "text": [
      "trial_id 85 logloss_train 0.3365944383180974 logloss_test 0.44410395026369387 boost_round 81 f1_train 0.7336956521739131 f1_test 0.4976958525345623\n"
     ]
    },
    {
     "name": "stderr",
     "output_type": "stream",
     "text": [
      "[I 2019-04-22 11:02:39,348] Finished a trial resulted in value: 0.44410395026369387. Current best value is 0.3939885827649386 with parameters: {'boosting': 'gbdt', 'num_leaves': 41, 'min_data_in_leaf': 38, 'learning_rate': 0.0213631774504168, 'drop_rate': 0.13260851786082856, 'feature_fraction': 0.5718442504795554}.\n"
     ]
    },
    {
     "name": "stdout",
     "output_type": "stream",
     "text": [
      "trial_id 86 logloss_train 0.45178359667375784 logloss_test 0.46738368321911505 boost_round 570 f1_train 0.48674698795180715 f1_test 0.4326241134751773\n"
     ]
    },
    {
     "name": "stderr",
     "output_type": "stream",
     "text": [
      "[I 2019-04-22 11:02:39,741] Finished a trial resulted in value: 0.46738368321911505. Current best value is 0.3939885827649386 with parameters: {'boosting': 'gbdt', 'num_leaves': 41, 'min_data_in_leaf': 38, 'learning_rate': 0.0213631774504168, 'drop_rate': 0.13260851786082856, 'feature_fraction': 0.5718442504795554}.\n"
     ]
    },
    {
     "name": "stdout",
     "output_type": "stream",
     "text": [
      "trial_id 87 logloss_train 0.34799598552436367 logloss_test 0.41999622943049436 boost_round 125 f1_train 0.6647230320699707 f1_test 0.5054945054945055\n"
     ]
    },
    {
     "name": "stderr",
     "output_type": "stream",
     "text": [
      "[I 2019-04-22 11:02:40,202] Finished a trial resulted in value: 0.41999622943049436. Current best value is 0.3939885827649386 with parameters: {'boosting': 'gbdt', 'num_leaves': 41, 'min_data_in_leaf': 38, 'learning_rate': 0.0213631774504168, 'drop_rate': 0.13260851786082856, 'feature_fraction': 0.5718442504795554}.\n"
     ]
    },
    {
     "name": "stdout",
     "output_type": "stream",
     "text": [
      "trial_id 88 logloss_train 0.4335484181687375 logloss_test 0.46699201907848276 boost_round 455 f1_train 0.5234567901234567 f1_test 0.4355555555555556\n"
     ]
    },
    {
     "name": "stderr",
     "output_type": "stream",
     "text": [
      "[I 2019-04-22 11:02:40,668] Finished a trial resulted in value: 0.46699201907848276. Current best value is 0.3939885827649386 with parameters: {'boosting': 'gbdt', 'num_leaves': 41, 'min_data_in_leaf': 38, 'learning_rate': 0.0213631774504168, 'drop_rate': 0.13260851786082856, 'feature_fraction': 0.5718442504795554}.\n"
     ]
    },
    {
     "name": "stdout",
     "output_type": "stream",
     "text": [
      "trial_id 89 logloss_train 0.39920615196891124 logloss_test 0.4700936264565141 boost_round 0 f1_train 0.5971830985915493 f1_test 0.44776119402985076\n"
     ]
    },
    {
     "name": "stderr",
     "output_type": "stream",
     "text": [
      "[I 2019-04-22 11:03:09,307] Finished a trial resulted in value: 0.4700936264565141. Current best value is 0.3939885827649386 with parameters: {'boosting': 'gbdt', 'num_leaves': 41, 'min_data_in_leaf': 38, 'learning_rate': 0.0213631774504168, 'drop_rate': 0.13260851786082856, 'feature_fraction': 0.5718442504795554}.\n"
     ]
    },
    {
     "name": "stdout",
     "output_type": "stream",
     "text": [
      "trial_id 90 logloss_train 0.4097086177510957 logloss_test 0.46531995849950064 boost_round 297 f1_train 0.5480225988700566 f1_test 0.4403669724770642\n"
     ]
    },
    {
     "name": "stderr",
     "output_type": "stream",
     "text": [
      "[I 2019-04-22 11:03:09,755] Finished a trial resulted in value: 0.46531995849950064. Current best value is 0.3939885827649386 with parameters: {'boosting': 'gbdt', 'num_leaves': 41, 'min_data_in_leaf': 38, 'learning_rate': 0.0213631774504168, 'drop_rate': 0.13260851786082856, 'feature_fraction': 0.5718442504795554}.\n"
     ]
    },
    {
     "name": "stdout",
     "output_type": "stream",
     "text": [
      "trial_id 91 logloss_train 0.4419076937031249 logloss_test 0.47227206287979373 boost_round 258 f1_train 0.4987405541561713 f1_test 0.4397905759162303\n"
     ]
    },
    {
     "name": "stderr",
     "output_type": "stream",
     "text": [
      "[I 2019-04-22 11:03:10,114] Finished a trial resulted in value: 0.47227206287979373. Current best value is 0.3939885827649386 with parameters: {'boosting': 'gbdt', 'num_leaves': 41, 'min_data_in_leaf': 38, 'learning_rate': 0.0213631774504168, 'drop_rate': 0.13260851786082856, 'feature_fraction': 0.5718442504795554}.\n"
     ]
    },
    {
     "name": "stdout",
     "output_type": "stream",
     "text": [
      "trial_id 92 logloss_train 0.3396763606893673 logloss_test 0.4114137263918895 boost_round 68 f1_train 0.6666666666666666 f1_test 0.5098039215686275\n"
     ]
    },
    {
     "name": "stderr",
     "output_type": "stream",
     "text": [
      "[I 2019-04-22 11:03:10,530] Finished a trial resulted in value: 0.4114137263918895. Current best value is 0.3939885827649386 with parameters: {'boosting': 'gbdt', 'num_leaves': 41, 'min_data_in_leaf': 38, 'learning_rate': 0.0213631774504168, 'drop_rate': 0.13260851786082856, 'feature_fraction': 0.5718442504795554}.\n"
     ]
    },
    {
     "name": "stdout",
     "output_type": "stream",
     "text": [
      "trial_id 93 logloss_train 0.4427191059783743 logloss_test 0.47270120902521384 boost_round 2073 f1_train 0.4833333333333333 f1_test 0.47058823529411764\n"
     ]
    },
    {
     "name": "stderr",
     "output_type": "stream",
     "text": [
      "[I 2019-04-22 11:03:11,220] Finished a trial resulted in value: 0.47270120902521384. Current best value is 0.3939885827649386 with parameters: {'boosting': 'gbdt', 'num_leaves': 41, 'min_data_in_leaf': 38, 'learning_rate': 0.0213631774504168, 'drop_rate': 0.13260851786082856, 'feature_fraction': 0.5718442504795554}.\n"
     ]
    },
    {
     "name": "stdout",
     "output_type": "stream",
     "text": [
      "trial_id 94 logloss_train 0.07366317407211664 logloss_test 0.4925377432946094 boost_round 0 f1_train 1.0 f1_test 0.41836734693877553\n"
     ]
    },
    {
     "name": "stderr",
     "output_type": "stream",
     "text": [
      "[I 2019-04-22 11:04:15,951] Finished a trial resulted in value: 0.4925377432946094. Current best value is 0.3939885827649386 with parameters: {'boosting': 'gbdt', 'num_leaves': 41, 'min_data_in_leaf': 38, 'learning_rate': 0.0213631774504168, 'drop_rate': 0.13260851786082856, 'feature_fraction': 0.5718442504795554}.\n"
     ]
    },
    {
     "name": "stdout",
     "output_type": "stream",
     "text": [
      "trial_id 95 logloss_train 0.372815791849647 logloss_test 0.4215104950229377 boost_round 326 f1_train 0.5892351274787535 f1_test 0.5416666666666666\n"
     ]
    },
    {
     "name": "stderr",
     "output_type": "stream",
     "text": [
      "[I 2019-04-22 11:04:16,393] Finished a trial resulted in value: 0.4215104950229377. Current best value is 0.3939885827649386 with parameters: {'boosting': 'gbdt', 'num_leaves': 41, 'min_data_in_leaf': 38, 'learning_rate': 0.0213631774504168, 'drop_rate': 0.13260851786082856, 'feature_fraction': 0.5718442504795554}.\n"
     ]
    },
    {
     "name": "stdout",
     "output_type": "stream",
     "text": [
      "trial_id 96 logloss_train 0.2866708046104721 logloss_test 0.42461800665628036 boost_round 109 f1_train 0.844984802431611 f1_test 0.4571428571428572\n"
     ]
    },
    {
     "name": "stderr",
     "output_type": "stream",
     "text": [
      "[I 2019-04-22 11:04:16,940] Finished a trial resulted in value: 0.42461800665628036. Current best value is 0.3939885827649386 with parameters: {'boosting': 'gbdt', 'num_leaves': 41, 'min_data_in_leaf': 38, 'learning_rate': 0.0213631774504168, 'drop_rate': 0.13260851786082856, 'feature_fraction': 0.5718442504795554}.\n"
     ]
    },
    {
     "name": "stdout",
     "output_type": "stream",
     "text": [
      "trial_id 97 logloss_train 0.4135645906009051 logloss_test 0.45783002797185546 boost_round 73 f1_train 0.5415676959619952 f1_test 0.4542124542124542\n"
     ]
    },
    {
     "name": "stderr",
     "output_type": "stream",
     "text": [
      "[I 2019-04-22 11:04:17,329] Finished a trial resulted in value: 0.45783002797185546. Current best value is 0.3939885827649386 with parameters: {'boosting': 'gbdt', 'num_leaves': 41, 'min_data_in_leaf': 38, 'learning_rate': 0.0213631774504168, 'drop_rate': 0.13260851786082856, 'feature_fraction': 0.5718442504795554}.\n"
     ]
    },
    {
     "name": "stdout",
     "output_type": "stream",
     "text": [
      "trial_id 98 logloss_train 0.37954730802797654 logloss_test 0.4517151793103278 boost_round 59 f1_train 0.6044226044226044 f1_test 0.4567901234567901\n"
     ]
    },
    {
     "name": "stderr",
     "output_type": "stream",
     "text": [
      "[I 2019-04-22 11:04:17,726] Finished a trial resulted in value: 0.4517151793103278. Current best value is 0.3939885827649386 with parameters: {'boosting': 'gbdt', 'num_leaves': 41, 'min_data_in_leaf': 38, 'learning_rate': 0.0213631774504168, 'drop_rate': 0.13260851786082856, 'feature_fraction': 0.5718442504795554}.\n"
     ]
    },
    {
     "name": "stdout",
     "output_type": "stream",
     "text": [
      "trial_id 99 logloss_train 0.30134190613030637 logloss_test 0.43946559708436533 boost_round 50 f1_train 0.8673139158576052 f1_test 0.4862385321100918\n"
     ]
    },
    {
     "name": "stderr",
     "output_type": "stream",
     "text": [
      "[I 2019-04-22 11:04:18,304] Finished a trial resulted in value: 0.43946559708436533. Current best value is 0.3939885827649386 with parameters: {'boosting': 'gbdt', 'num_leaves': 41, 'min_data_in_leaf': 38, 'learning_rate': 0.0213631774504168, 'drop_rate': 0.13260851786082856, 'feature_fraction': 0.5718442504795554}.\n"
     ]
    }
   ],
   "source": [
    "#学習開始\n",
    "study = optuna.create_study()\n",
    "study.optimize(objectives, n_trials=100)"
   ]
  },
  {
   "cell_type": "code",
   "execution_count": 273,
   "metadata": {
    "colab": {
     "base_uri": "https://localhost:8080/",
     "height": 34
    },
    "colab_type": "code",
    "id": "EdEkQc0XXKFQ",
    "outputId": "ca3c56f9-8e2e-4880-8ac7-f98d6e291ddf"
   },
   "outputs": [
    {
     "name": "stdout",
     "output_type": "stream",
     "text": [
      "{'boosting': 'gbdt', 'num_leaves': 41, 'min_data_in_leaf': 38, 'learning_rate': 0.0213631774504168, 'drop_rate': 0.13260851786082856, 'feature_fraction': 0.5718442504795554}\n",
      "--------------------------------\n",
      "FrozenTrial(trial_id=18, state=<TrialState.COMPLETE: 1>, value=0.3939885827649386, datetime_start=datetime.datetime(2019, 4, 22, 10, 57, 15, 7124), datetime_complete=datetime.datetime(2019, 4, 22, 10, 57, 15, 449124), params={'boosting': 'gbdt', 'num_leaves': 41, 'min_data_in_leaf': 38, 'learning_rate': 0.0213631774504168, 'drop_rate': 0.13260851786082856, 'feature_fraction': 0.5718442504795554}, user_attrs={'logloss_train': 0.33009436403875875, 'logloss_test': 0.3939885827649386, 'f1_train': 0.700280112044818, 'f1_test': 0.5820895522388059, 'boost_round': 158}, system_attrs={}, intermediate_values={}, params_in_internal_repr={'boosting': 0, 'num_leaves': 41, 'min_data_in_leaf': 38, 'learning_rate': 0.0213631774504168, 'drop_rate': 0.13260851786082856, 'feature_fraction': 0.5718442504795554})\n"
     ]
    }
   ],
   "source": [
    "print(study.best_params)\n",
    "print('--------------------------------')\n",
    "print(study.best_trial)\n",
    "best_params = study.best_params"
   ]
  },
  {
   "cell_type": "code",
   "execution_count": 274,
   "metadata": {
    "colab": {
     "base_uri": "https://localhost:8080/",
     "height": 504
    },
    "colab_type": "code",
    "id": "xKcutsqMKbyq",
    "outputId": "8e40c444-d300-4c1a-d226-616e2d7ffc41"
   },
   "outputs": [
    {
     "name": "stdout",
     "output_type": "stream",
     "text": [
      "0.9011071495590167\n",
      "    threshold     score\n",
      "41       0.41  0.618785\n",
      "45       0.45  0.613333\n",
      "48       0.48  0.609929\n",
      "40       0.40  0.609626\n",
      "42       0.42  0.604651\n",
      "Max F1 Score: 0.6187845303867403  (Threshold = 0.41000000000000003)\n",
      "[[313  52]\n",
      " [ 17  56]]\n",
      "Precision: 0.5185185185185185\n",
      "Recall: 0.7671232876712328\n"
     ]
    },
    {
     "data": {
      "text/plain": [
       "Text(0,0.5,'%')"
      ]
     },
     "execution_count": 274,
     "metadata": {},
     "output_type": "execute_result"
    },
    {
     "data": {
      "image/png": "[encoded data removed]",
      "text/plain": [
       "<matplotlib.figure.Figure at 0x1e1bbd30>"
      ]
     },
     "metadata": {
      "needs_background": "light"
     },
     "output_type": "display_data"
    }
   ],
   "source": [
    "# 得られた最適パラメータを使ってモデル作成、AUCの表示\n",
    "train_xd = lgb.Dataset(df_train_x, label=df_train_y, feature_name=train_columns, categorical_feature=cate_cols, weight=df_train_y * obj_weight + 1)\n",
    "bst = lgb.train(best_params, train_xd)\n",
    "pred_y = bst.predict(df_test_x)\n",
    "auc_bst = metrics.roc_auc_score(df_test_y, pred_y)\n",
    "print(auc_bst)\n",
    "\n",
    "# 最適なF値の探索と可視化\n",
    "# F値の上位5つくらいを列挙\n",
    "list_threshold_fscore = [[i * 0.01, metrics.f1_score(df_test_y, preprocessing.binarize(X=pred_y.reshape(1, -1), threshold=(i * 0.01))[0],)] for i in range(100)]\n",
    "df_threshold_fscore = pd.DataFrame(list_threshold_fscore, columns=[\"threshold\", \"score\"])\n",
    "df_threshold_fscore_head = df_threshold_fscore.sort_values(by=[\"score\", \"threshold\"], ascending=[False, True]).head()\n",
    "print(df_threshold_fscore_head)\n",
    "max_f1 = df_threshold_fscore_head[\"score\"].values[0]\n",
    "optimal_threshold = df_threshold_fscore_head[\"threshold\"].values[0]\n",
    "print(\"Max F1 Score: \" +  str(max_f1) + \"  (Threshold = \" +  str(optimal_threshold) + \")\")\n",
    "\n",
    "# 混合行列作成\n",
    "pred_y_binary = pred_y.copy()\n",
    "pred_y_binary[pred_y_binary >= optimal_threshold] = 1\n",
    "pred_y_binary[pred_y_binary < optimal_threshold] = 0\n",
    "print(metrics.confusion_matrix(df_test_y, pred_y_binary))\n",
    "\n",
    "# Precisionとか計算\n",
    "print(\"Precision:\", metrics.precision_score(df_test_y, pred_y_binary))\n",
    "print(\"Recall:\", metrics.recall_score(df_test_y, pred_y_binary))\n",
    "\n",
    "# Precisionとかの可視化\n",
    "precision, recall, thresholds = metrics.precision_recall_curve(df_test_y, pred_y)\n",
    "thresholds = np.append(thresholds, max(thresholds))\n",
    "queue_rate = [(pred_y >= threshold).mean() for threshold in thresholds]\n",
    "plt.plot(thresholds, precision, color=\"lightcoral\")\n",
    "plt.plot(thresholds, recall, color=\"skyblue\")\n",
    "plt.plot(thresholds, queue_rate, color=\"lightgreen\")\n",
    "leg = plt.legend(('precision', 'recall', 'queue_rate'), frameon=True)\n",
    "leg.get_frame().set_edgecolor('k')\n",
    "plt.xlabel('threshold')\n",
    "plt.ylabel('%')"
   ]
  },
  {
   "cell_type": "code",
   "execution_count": 275,
   "metadata": {
    "colab": {
     "base_uri": "https://localhost:8080/",
     "height": 363
    },
    "colab_type": "code",
    "id": "npFeoRx0KfK6",
    "outputId": "65c96895-3138-467f-8f13-a4816099ae62"
   },
   "outputs": [
    {
     "data": {
      "image/png": "[encoded data removed]",
      "text/plain": [
       "<matplotlib.figure.Figure at 0x25fadcc0>"
      ]
     },
     "metadata": {
      "needs_background": "light"
     },
     "output_type": "display_data"
    }
   ],
   "source": [
    "from sklearn import metrics as mtr\n",
    "fpr, tpr, thresholds = metrics.roc_curve(df_test_y, pred_y)\n",
    "auc = metrics.auc(fpr, tpr)\n",
    "plt.plot(fpr, tpr, label='ROC curve (area = %.3f)'%auc)\n",
    "plt.legend()\n",
    "plt.title('ROC curve')\n",
    "plt.xlabel('False Positive Rate')\n",
    "plt.ylabel('True Positive Rate')\n",
    "plt.grid(True)"
   ]
  },
  {
   "cell_type": "code",
   "execution_count": 276,
   "metadata": {
    "colab": {
     "base_uri": "https://localhost:8080/",
     "height": 638
    },
    "colab_type": "code",
    "id": "cKO8znBYKhLp",
    "outputId": "026e2aed-d3a7-4236-cd14-ecb24205b251"
   },
   "outputs": [
    {
     "name": "stdout",
     "output_type": "stream",
     "text": [
      "Feature Importances:\n"
     ]
    },
    {
     "data": {
      "image/png": "[encoded data removed]",
      "text/plain": [
       "<matplotlib.figure.Figure at 0x25f8ac50>"
      ]
     },
     "metadata": {
      "needs_background": "light"
     },
     "output_type": "display_data"
    }
   ],
   "source": [
    "print('Feature Importances:')\n",
    "lgb.plot_importance(bst,figsize=(18,10))\n",
    "display()"
   ]
  },
  {
   "cell_type": "code",
   "execution_count": 277,
   "metadata": {
    "colab": {},
    "colab_type": "code",
    "id": "iL7MfPmbKi54"
   },
   "outputs": [],
   "source": [
    "prediction = df_test_x.copy()\n",
    "prediction[\"危険\"] = pred_y\n",
    "prediction[\"実際\"] = df_test_y"
   ]
  },
  {
   "cell_type": "code",
   "execution_count": 282,
   "metadata": {
    "colab": {
     "base_uri": "https://localhost:8080/",
     "height": 3298
    },
    "colab_type": "code",
    "id": "5tgSuL-9KxuK",
    "outputId": "f03505b2-db47-406b-8566-ea895f080e30"
   },
   "outputs": [
    {
     "name": "stdout",
     "output_type": "stream",
     "text": [
      "     市場      公募     吸収金額  評価  主幹事数 上場月   仮条件下限   仮条件上限   仮条件幅  公募-仮上限  \\\n",
      "code                                                                    \n",
      "7673  4    1540     9.60   5     1   2    1510    1540     30       0   \n",
      "2820  1    1690    20.70   6     1   5    1650    1690     40       0   \n",
      "1451  4     850    14.90   9     1   2     800     850     50       0   \n",
      "3478  2  143000   451.00   6     1   1  133000  143000  10000       0   \n",
      "1438  2    1150     5.29   6     1  10    1000    1150    150       0   \n",
      "3298  2  103000   444.00   3     2   5  100000  103000   3000       0   \n",
      "3296  2  252000   381.00   3     1   3  248000  252000   4000       0   \n",
      "4124  1    1860    11.30   3     1   9    1830    1860     30       0   \n",
      "3688  5    2400   104.00   1     1   6    2200    2400    200       0   \n",
      "6564  2    1300     4.96   3     1  11    1200    1300    100       0   \n",
      "3994  5    1550    45.40   6     1   8    1350    1550    200       0   \n",
      "7047  5    1480    54.30   5     1  11    1420    1480     60       0   \n",
      "3464  1    1400     8.50   3     1  11    1360    1400     40       0   \n",
      "9273  4    2670    11.30   6     1   5    2590    2670     80       0   \n",
      "3493  2  103000   383.00   6     1   8  100000  103000   3000       0   \n",
      "6233  1     405     4.84   6     1   8     395     405     10       0   \n",
      "6171  4    1250    16.20   3     1   7    1200    1250     50       0   \n",
      "6238  3    3200    53.80   6     1  11    3000    3200    200       0   \n",
      "3938  3    3300  1328.00   6     1   6    2900    3300    400       0   \n",
      "3910  1    3500     5.63  10     1   2    3300    3500    200       0   \n",
      "1439  1    1250     7.46   6     1   1    1130    1250    120       0   \n",
      "7809  1    2000    13.80   3     1   8    1980    2000     20       0   \n",
      "3911  5     920    59.20   5     1   2     900     920     20       0   \n",
      "6539  5    2080    38.30   6     1  11    1960    2080    120       0   \n",
      "6544  5     550    18.30   6     1   2     530     550     20       0   \n",
      "3480  4    3200    16.50   6     1   6    3100    3200    100       0   \n",
      "9270  5    3300    56.30   3     1   2    3090    3300    210       0   \n",
      "5699  1    1930    13.80   3     1   7    1760    1930    170       0   \n",
      "6537  5    2300    29.40   3     1  10    2090    2300    210       0   \n",
      "3190  1     520    10.80   1     1   2     470     520     50       0   \n",
      "...  ..     ...      ...  ..   ...  ..     ...     ...    ...     ...   \n",
      "4440  5    2650    12.10   2     1   3    2260    2650    390       0   \n",
      "9272  5    1350     6.42   4     1   3    1270    1350     80       0   \n",
      "6531  5    1700     3.22   4     1   6    1500    1700    200       0   \n",
      "3930  5     800     6.94   2     1   1     700     800    100       0   \n",
      "7049  5    1800     6.83   2     1   1    1640    1800    160       0   \n",
      "3998  5    2040     5.27   4     1  11    1900    2040    140       0   \n",
      "4391  5     900     8.59   2     1   6     800     900    100       0   \n",
      "6577  5    4330     5.42   2     1   3    4130    4330    200       0   \n",
      "6096  5    1170     3.49   1     1   5    1080    1170     90       0   \n",
      "3935  5    1630     4.55   4     1   3    1510    1630    120       0   \n",
      "4381  5    2200     3.79   2     1   3    1950    2200    250       0   \n",
      "3960  5    2040     6.87   2     1   8    1860    2040    180       0   \n",
      "2334  5    1890     5.54   1     1  11    1750    1890    140       0   \n",
      "3137  5     765     8.85   4     1   5     725     765     40       0   \n",
      "3923  5    1080     4.96   2     1  11     920    1080    160       0   \n",
      "7037  5    1920     7.72   4     1  11    1870    1920     50       0   \n",
      "3915  5    1700     3.91   2     1   3    1580    1700    120       0   \n",
      "6184  5    1000     5.75   1     1  11     920    1000     80       0   \n",
      "6045  5    1750     7.42   4     1   3    1630    1750    120       0   \n",
      "4388  5    1000     6.52   2     1   5     900    1000    100       0   \n",
      "3541  5    1050     4.46   1     1   5    1010    1050     40       0   \n",
      "3133  5    1020     7.38   4     1   3     950    1020     70       0   \n",
      "3999  5    2000     6.78   2     1  11    1800    2000    200       0   \n",
      "3985  5    2550     8.46   2     1   3    2400    2550    150       0   \n",
      "4439  5    3290    13.20   4     1   3    3130    3290    160       0   \n",
      "6560  5     680     5.83   1     1  11     630     680     50       0   \n",
      "6192  5     950     5.13   2     1   3     850     950    100       0   \n",
      "4393  5     960     2.54   2     1   6     870     960     90       0   \n",
      "3565  5    2000     9.20   1     1   3    1840    2000    160       0   \n",
      "6574  5     930     8.87   2     1   3     890     930     40       0   \n",
      "\n",
      "                株数        危険  実際  \n",
      "code                              \n",
      "7673  6.233766e+05  0.407725   0  \n",
      "2820  1.224852e+06  0.404506   0  \n",
      "1451  1.752941e+06  0.403486   1  \n",
      "3478  3.153846e+05  0.403014   0  \n",
      "1438  4.600000e+05  0.401681   0  \n",
      "3298  4.310680e+05  0.400709   0  \n",
      "3296  1.511905e+05  0.399854   0  \n",
      "4124  6.075269e+05  0.399748   0  \n",
      "3688  4.333333e+06  0.399480   0  \n",
      "6564  3.815385e+05  0.399021   0  \n",
      "3994  2.929032e+06  0.397711   0  \n",
      "7047  3.668919e+06  0.390546   1  \n",
      "3464  6.071429e+05  0.390214   0  \n",
      "9273  4.232210e+05  0.389215   0  \n",
      "3493  3.718447e+05  0.389124   1  \n",
      "6233  1.195062e+06  0.387540   0  \n",
      "6171  1.296000e+06  0.386469   1  \n",
      "6238  1.681250e+06  0.381873   0  \n",
      "3938  4.024242e+07  0.380512   0  \n",
      "3910  1.608571e+05  0.380352   0  \n",
      "1439  5.968000e+05  0.378581   0  \n",
      "7809  6.900000e+05  0.377756   0  \n",
      "3911  6.434783e+06  0.377345   0  \n",
      "6539  1.841346e+06  0.376753   0  \n",
      "6544  3.327273e+06  0.375948   0  \n",
      "3480  5.156250e+05  0.375648   0  \n",
      "9270  1.706061e+06  0.374390   0  \n",
      "5699  7.150259e+05  0.372320   0  \n",
      "6537  1.278261e+06  0.370361   0  \n",
      "3190  2.076923e+06  0.365747   0  \n",
      "...            ...       ...  ..  \n",
      "4440  4.566038e+05  0.050242   0  \n",
      "9272  4.755556e+05  0.049447   0  \n",
      "6531  1.894118e+05  0.048314   0  \n",
      "3930  8.675000e+05  0.047628   0  \n",
      "7049  3.794444e+05  0.047062   0  \n",
      "3998  2.583333e+05  0.046978   0  \n",
      "4391  9.544444e+05  0.046556   0  \n",
      "6577  1.251732e+05  0.045582   0  \n",
      "6096  2.982906e+05  0.044254   0  \n",
      "3935  2.791411e+05  0.042830   0  \n",
      "4381  1.722727e+05  0.039856   0  \n",
      "3960  3.367647e+05  0.039829   0  \n",
      "2334  2.931217e+05  0.036924   0  \n",
      "3137  1.156863e+06  0.036119   0  \n",
      "3923  4.592593e+05  0.034315   0  \n",
      "7037  4.020833e+05  0.033275   0  \n",
      "3915  2.300000e+05  0.032073   0  \n",
      "6184  5.750000e+05  0.031100   0  \n",
      "6045  4.240000e+05  0.030816   0  \n",
      "4388  6.520000e+05  0.029714   0  \n",
      "3541  4.247619e+05  0.029204   0  \n",
      "3133  7.235294e+05  0.026821   0  \n",
      "3999  3.390000e+05  0.025135   0  \n",
      "3985  3.317647e+05  0.024660   0  \n",
      "4439  4.012158e+05  0.023746   0  \n",
      "6560  8.573529e+05  0.021840   0  \n",
      "6192  5.400000e+05  0.018368   0  \n",
      "4393  2.645833e+05  0.014459   0  \n",
      "3565  4.600000e+05  0.010817   0  \n",
      "6574  9.537634e+05  0.009787   0  \n",
      "\n",
      "[330 rows x 13 columns]\n"
     ]
    }
   ],
   "source": [
    "print(prediction.query('危険 <= 0.41').sort_values(\"危険\",ascending=False))"
   ]
  },
  {
   "cell_type": "code",
   "execution_count": 279,
   "metadata": {
    "colab": {},
    "colab_type": "code",
    "id": "ksM2Rhc1K8qR"
   },
   "outputs": [
    {
     "data": {
      "text/plain": [
       "<matplotlib.axes._subplots.AxesSubplot at 0x25fed978>"
      ]
     },
     "execution_count": 279,
     "metadata": {},
     "output_type": "execute_result"
    },
    {
     "data": {
      "image/png": "[encoded data removed]",
      "text/plain": [
       "<matplotlib.figure.Figure at 0x25f8ada0>"
      ]
     },
     "metadata": {
      "needs_background": "light"
     },
     "output_type": "display_data"
    }
   ],
   "source": [
    "prediction[\"危険\"].hist(bins =10)"
   ]
  },
  {
   "cell_type": "code",
   "execution_count": 281,
   "metadata": {},
   "outputs": [
    {
     "data": {
      "text/plain": [
       "0.9484848484848485"
      ]
     },
     "execution_count": 281,
     "metadata": {},
     "output_type": "execute_result"
    }
   ],
   "source": [
    "313/330"
   ]
  },
  {
   "cell_type": "code",
   "execution_count": null,
   "metadata": {},
   "outputs": [],
   "source": []
  }
 ],
 "metadata": {
  "colab": {
   "name": "IPO_predict_oputuna",
   "provenance": [],
   "version": "0.3.2"
  },
  "kernelspec": {
   "display_name": "Python 3",
   "language": "python",
   "name": "python3"
  },
  "language_info": {
   "codemirror_mode": {
    "name": "ipython",
    "version": 3
   },
   "file_extension": ".py",
   "mimetype": "text/x-python",
   "name": "python",
   "nbconvert_exporter": "python",
   "pygments_lexer": "ipython3",
   "version": "3.6.4"
  }
 },
 "nbformat": 4,
 "nbformat_minor": 1
}
